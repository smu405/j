{
 "cells": [
  {
   "cell_type": "markdown",
   "metadata": {
    "slideshow": {
     "slide_type": "slide"
    }
   },
   "source": [
    "# 5. 제어흐름\n",
    "\n",
    "Last updated 20180521MON1300 20180502WED1130 20180318SUN1743\n",
    "\n",
    "## 5.1 학습내용\n",
    "\n",
    "### 5.1.1 목표\n",
    "\n",
    "* 제어흐름을 다이어그램으로 표현할 수 있다.\n",
    "* 조건을 비교하여 프로그램의 흐름을 선택적으로 실행할 수 있다.\n",
    "* 조건에 따라 명령문을 반복할 수 있다.\n",
    "* 변수의 데이터 타잎을 고려하여 그 값을 비교할 수 있다 ('==' vs equals())\n",
    "* 값을 돌려 주는 함수를 만들 수 있다.\n",
    "* 함수를 만들 수 있다.\n",
    "\n",
    "* 목차\n",
    "    * 5.2 제어 흐름\n",
    "    * 5.3 분기\n",
    "    * 5.4 반복\n",
    "    * 5.5 switch\n",
    "    * 5.6 '==', equals(), compareTo()"
   ]
  },
  {
   "cell_type": "markdown",
   "metadata": {
    "slideshow": {
     "slide_type": "subslide"
    }
   },
   "source": [
    "### 5.1.2 문제\n",
    "\n",
    "* 제어-1 도형 그리기 (반복)\n",
    "* 제어-2 삼각형, 사각형을 조건에 맞추어 그리기 (switch문)\n",
    "* 제어-3 바람개비 도형 그리기 (if문 사용)\n",
    "* 제어-4 온도변환 - 단순 if\n",
    "* 제어-5 성적처리- 다분기\n",
    "    * 거북이에게 학점묻기\n",
    "* 제어-6 가위바위보 - 중첩 if\n",
    "* 제어-7 삼각형 그리기 (StringBuffer)\n",
    "* 제어-8 구구단의 출력 - 중첩 for\n",
    "* 제어-9: 1~100 더하기\n",
    "* 제어-9 BMI\n",
    "* 제어-10 3,5 배수의 합계 (euler-1)\n",
    "* 제어-11 윤년인지 맞추기"
   ]
  },
  {
   "cell_type": "markdown",
   "metadata": {
    "slideshow": {
     "slide_type": "subslide"
    }
   },
   "source": [
    "### 5.1.3 과제\n",
    "\n",
    "* 제어-12: 20세기 100년 동안 매 월 1일이 일요일이 몇 일인지 구하기 (euler-19)\n",
    "* 제어-13: 캘린더 만들기\n",
    "* 제어-14: 숫자 맞추기 게임 (알고리즘)\n",
    "\n",
    "* compareTo()\n",
    "* mini: **dice** or hfj:ch5 dotgame"
   ]
  },
  {
   "cell_type": "markdown",
   "metadata": {
    "slideshow": {
     "slide_type": "slide"
    }
   },
   "source": [
    "## 5.2 제어 흐름\n",
    "\n",
    "### 제어 흐름의 기본은 위에서 아래로\n",
    "\n",
    "제어 흐름은 **'Control Flow'** 또는 'Flow of Control'이다. 프로그래밍에서 작업 실행되는 순서를 제어하는 것이다.\n",
    "* 프로그래밍에서는 앞서 있는 명령문이, 뒤에 있는 것보다 먼저 **순차적 sequential order**으로 실행된다.\n",
    "\n",
    "프로그램은 순차적으로 실행되는 원칙을 위반하는 명령어가 몇 개 있다. **goto**, **break**, **continue** 등이다. 이런 명령어는 프로그램의 흐름을 순차적이지 않게 만든다. 특히 goto 명령어는 아래와 같이 조건에 따라 강제로 프로그램의 특정 줄 또는 명칭으로 보내 프로그램의 순서를 뒤죽박죽 만든다. goto 명령문은 if-then, while로 변경하도록 한다.\n",
    "\n",
    "```\n",
    "IF 조건 THEN GOTO 이름\n",
    "```"
   ]
  },
  {
   "cell_type": "markdown",
   "metadata": {
    "slideshow": {
     "slide_type": "subslide"
    }
   },
   "source": [
    "### 흐름의 제어\n",
    "\n",
    "프로그래밍에서는 **변수의 값에 따라 작업의 흐름을 제어**한다.\n",
    "* 조건에 따라서 **분기**하여 작업이 수행되거나,\n",
    "* 또는 조건에 따라 **반복**하여 작업이 실행되어 주어진 목적을 완수한다.\n",
    "\n",
    "즉, 프로그램은 **순차, 분기, 반복으로 흐름을 제어**한다.\n",
    "\n",
    "구분 | 설명 | 명령문\n",
    "-----|-----|-----\n",
    "순서 | 달리 정해지지 않는한 순서에 따라 작업이 실행되는 것이 **기본형, default mode**이다. | goto, continue, break 등을 제외한 모든 명령문\n",
    "분기 | 변수에 따라 분기하므로 의사결정이라고 한다 | if, switch\n",
    "반복 | 조건에 따라 loop 반복을 한다 | for, while, do-while"
   ]
  },
  {
   "cell_type": "markdown",
   "metadata": {
    "slideshow": {
     "slide_type": "subslide"
    }
   },
   "source": [
    "> 알아두기\n",
    "> **제어흐름의 표현**\n",
    ">\n",
    "> 단순한 문제는 바로 프로그램을 할 수 있지만, 복잡해질수록 그렇지 않다.\n",
    "> **프로그래밍 문법에서 자유롭게** 어떤 절차를, 어떻게 수행해서 작업목적을 완성하는지 그림으로 표현할 수 있다.\n",
    "> 프로그래밍을 하기 전에 제어 흐름을 설계하면, 잘못된 흐름이나 같은 흐름을 반복하는 **오류를 줄일 수** 있다.\n",
    "> **Flow chart**를 사용하여 제어흐름을 나타낼 수 있다.\n",
    "> UML **Activity Diagram 행동다이어그램**을 사용할 수 있다.\n",
    "> Plantuml을 사용하여 다이어그램을 간편하게 그릴 수 있다.\n",
    "> 온라인에는 planttext.com에서 이용할 수 있다.\n",
    "> UML을 사용하므로, 몇 가지 문법을 별도로 학습해야 한다.\n",
    "> 그냥 종이에 펜으로 그려도 된다.\n",
    "> 다이어그램은 제어흐름을 구성하는 (1) 절차, (2) 반복, (3) 분기를 사용한다.\n",
    ">\n",
    "> **절차**\n",
    "> * activity라고 한다.\n",
    "> * 사용하는 문법은 콜론(:)으로 시작해서 세미콜론(;)으로 끝나고, 그 안에 절차를 적어준다.\n",
    "```python\n",
    ":activity;\n",
    "```\n",
    "\n",
    "> **반복**\n",
    "* 시작, 끝, 증감자를 명시해 준다.\n",
    "* repeat와 repeat while(반복하는 조건)로 감싸고, 그 안에 activity를 적어준다.\n",
    "```python\n",
    "repeat\n",
    ":activity;\n",
    "repeat while(조건)\n",
    "```\n",
    ">\n",
    "> **분기**\n",
    "* 실행하려는 조건을 명시해 준다.\n",
    "* 조건명령문으로 감싸고, 그 안에 activity를 적어준다.\n",
    "```python\n",
    "if(조건)\n",
    ":activity;\n",
    "endif\n",
    "```"
   ]
  },
  {
   "cell_type": "markdown",
   "metadata": {
    "slideshow": {
     "slide_type": "slide"
    }
   },
   "source": [
    "## 5.3 분기\n",
    "\n",
    "조건에 따라 분기 choice하여 해당하는 절차를 수행한다.\n",
    "조건문은 참, 거짓 **이분**으로 평가된다. 따라서 **boolean 값**을 가진다.\n"
   ]
  },
  {
   "cell_type": "markdown",
   "metadata": {
    "slideshow": {
     "slide_type": "subslide"
    }
   },
   "source": [
    "### 조건문의 종류\n",
    "\n",
    "분기가 어떻게 되는지에 따라 단순분기, 다분기, 중첩분기로 구분할 수 있다.\n",
    "\n",
    "\n",
    "* **단순분기**: 분기가 2개 이하, if 문이 하나만 쓰인다.\n",
    "\n",
    "```java\n",
    "if 조건:\n",
    "```\n",
    "\n",
    "* **다분기**: 분기가 3개 이상인 경우, if문, else-if문이 쓰인다.\n",
    "\n",
    "```java\n",
    "if 조건:\n",
    "\n",
    "else if 조건:\n",
    "\n",
    "else:\n",
    "```\n",
    "\n",
    "* **중첩분기**: 분기내에 분기가 있는 경우, if문이 중첩된다.\n",
    "\n",
    "```java\n",
    "if 조건:\n",
    "   if 조건:\n",
    "   else:\n",
    "else:\n",
    "```"
   ]
  },
  {
   "cell_type": "code",
   "execution_count": null,
   "metadata": {
    "collapsed": true,
    "slideshow": {
     "slide_type": "subslide"
    }
   },
   "outputs": [],
   "source": [
    "import iplantuml"
   ]
  },
  {
   "cell_type": "code",
   "execution_count": 9,
   "metadata": {
    "collapsed": false
   },
   "outputs": [
    {
     "data": {
      "image/svg+xml": [
       "<svg height=\"194px\" style=\"width:139px;height:194px;\" version=\"1.1\" viewBox=\"0 0 139 194\" width=\"139px\" xmlns=\"http://www.w3.org/2000/svg\" xmlns:xlink=\"http://www.w3.org/1999/xlink\"><defs><filter height=\"300%\" id=\"f1\" width=\"300%\" x=\"-1\" y=\"-1\"><feGaussianBlur result=\"blurOut\" stdDeviation=\"2.0\"/><feColorMatrix in=\"blurOut\" result=\"blurOut2\" type=\"matrix\" values=\"0 0 0 0 0 0 0 0 0 0 0 0 0 0 0 0 0 0 .4 0\"/><feOffset dx=\"4.0\" dy=\"4.0\" in=\"blurOut2\" result=\"blurOut3\"/><feBlend in=\"SourceGraphic\" in2=\"blurOut3\" mode=\"normal\"/></filter></defs><g><ellipse cx=\"87\" cy=\"20\" fill=\"#000000\" filter=\"url(#f1)\" rx=\"10\" ry=\"10\" style=\"stroke: none; stroke-width: 1.0;\"/><polygon fill=\"#FEFECE\" filter=\"url(#f1)\" points=\"61.5,50,112.5,50,124.5,62,112.5,74,61.5,74,49.5,62,61.5,50\" style=\"stroke: #A80036; stroke-width: 1.5;\"/><text fill=\"#000000\" font-family=\"sans-serif\" font-size=\"11\" lengthAdjust=\"spacingAndGlyphs\" textLength=\"51\" x=\"61.5\" y=\"66.0525\">condition</text><rect fill=\"#FEFECE\" filter=\"url(#f1)\" height=\"33.9629\" rx=\"12.5\" ry=\"12.5\" style=\"stroke: #A80036; stroke-width: 1.5;\" width=\"59\" x=\"10\" y=\"84\"/><text fill=\"#000000\" font-family=\"sans-serif\" font-size=\"12\" lengthAdjust=\"spacingAndGlyphs\" textLength=\"39\" x=\"20\" y=\"105.4023\">activity</text><polygon fill=\"#FEFECE\" filter=\"url(#f1)\" points=\"87,123.9629,99,135.9629,87,147.9629,75,135.9629,87,123.9629\" style=\"stroke: #A80036; stroke-width: 1.5;\"/><ellipse cx=\"87\" cy=\"177.9629\" fill=\"none\" filter=\"url(#f1)\" rx=\"10\" ry=\"10\" style=\"stroke: #000000; stroke-width: 1.0;\"/><ellipse cx=\"87.5\" cy=\"178.4629\" fill=\"#000000\" filter=\"url(#f1)\" rx=\"6\" ry=\"6\" style=\"stroke: none; stroke-width: 1.0;\"/><line style=\"stroke: #A80036; stroke-width: 1.5;\" x1=\"49.5\" x2=\"39.5\" y1=\"62\" y2=\"62\"/><line style=\"stroke: #A80036; stroke-width: 1.5;\" x1=\"39.5\" x2=\"39.5\" y1=\"62\" y2=\"84\"/><polygon fill=\"#A80036\" points=\"35.5,74,39.5,84,43.5,74,39.5,78\" style=\"stroke: #A80036; stroke-width: 1.0;\"/><line style=\"stroke: #A80036; stroke-width: 1.5;\" x1=\"124.5\" x2=\"134.5\" y1=\"62\" y2=\"62\"/><polygon fill=\"#A80036\" points=\"130.5,88.9814,134.5,98.9814,138.5,88.9814,134.5,92.9814\" style=\"stroke: #A80036; stroke-width: 1.5;\"/><line style=\"stroke: #A80036; stroke-width: 1.5;\" x1=\"134.5\" x2=\"134.5\" y1=\"62\" y2=\"135.9629\"/><line style=\"stroke: #A80036; stroke-width: 1.5;\" x1=\"134.5\" x2=\"99\" y1=\"135.9629\" y2=\"135.9629\"/><polygon fill=\"#A80036\" points=\"109,131.9629,99,135.9629,109,139.9629,105,135.9629\" style=\"stroke: #A80036; stroke-width: 1.0;\"/><line style=\"stroke: #A80036; stroke-width: 1.5;\" x1=\"39.5\" x2=\"39.5\" y1=\"117.9629\" y2=\"135.9629\"/><line style=\"stroke: #A80036; stroke-width: 1.5;\" x1=\"39.5\" x2=\"75\" y1=\"135.9629\" y2=\"135.9629\"/><polygon fill=\"#A80036\" points=\"65,131.9629,75,135.9629,65,139.9629,69,135.9629\" style=\"stroke: #A80036; stroke-width: 1.0;\"/><line style=\"stroke: #A80036; stroke-width: 1.5;\" x1=\"87\" x2=\"87\" y1=\"30\" y2=\"50\"/><polygon fill=\"#A80036\" points=\"83,40,87,50,91,40,87,44\" style=\"stroke: #A80036; stroke-width: 1.0;\"/><line style=\"stroke: #A80036; stroke-width: 1.5;\" x1=\"87\" x2=\"87\" y1=\"147.9629\" y2=\"167.9629\"/><polygon fill=\"#A80036\" points=\"83,157.9629,87,167.9629,91,157.9629,87,161.9629\" style=\"stroke: #A80036; stroke-width: 1.0;\"/></g></svg>"
      ],
      "text/plain": [
       "<IPython.core.display.SVG object>"
      ]
     },
     "execution_count": 9,
     "metadata": {},
     "output_type": "execute_result"
    }
   ],
   "source": [
    "%%plantuml\n",
    "@startuml\n",
    "start\n",
    "\n",
    "if(condition)\n",
    ":activity;\n",
    "endif\n",
    "\n",
    "stop\n",
    "@enduml"
   ]
  },
  {
   "cell_type": "markdown",
   "metadata": {
    "slideshow": {
     "slide_type": "subslide"
    }
   },
   "source": [
    "### 조건문의 평가는 boolean\n",
    "\n",
    "조건문을 평가하면 그 결과는 boolean, **참 또는 거짓** 값을 가진다.\n",
    "**if 조건에 'false'를 넣으면, else문이 실행**된다.\n",
    "반대로 'true'를 넣으면, if문이 실행된다."
   ]
  },
  {
   "cell_type": "code",
   "execution_count": 1,
   "metadata": {
    "collapsed": false,
    "slideshow": {
     "slide_type": "subslide"
    }
   },
   "outputs": [
    {
     "name": "stdout",
     "output_type": "stream",
     "text": [
      " if (false) {\r\n",
      "     System.out.println(\"printing 'if'...\");\r\n",
      " } else {\r\n",
      "     System.out.println(\"printing 'else'...\");\r\n",
      " }\r\n",
      "printing 'else'...\r\n",
      "\r\n"
     ]
    }
   ],
   "source": [
    "if (false) {\n",
    "    System.out.println(\"printing 'if'...\");\n",
    "} else {\n",
    "    System.out.println(\"printing 'else'...\");\n",
    "}"
   ]
  },
  {
   "cell_type": "markdown",
   "metadata": {
    "slideshow": {
     "slide_type": "subslide"
    }
   },
   "source": [
    "조건문에는 **부등호 연산자**, **비교 연산자**, **논리 연산자**를 사용할 수 있다. **아무리 조건이 복잡하다 하더라도 그 결과는 참, 거짓**이다.\n",
    "\n",
    "구분 | 설명 | 결과\n",
    "-----|-----|-----\n",
    "**비교조건** | 부등호, '>', '<' 등을 이용한 크다 작다의 비교. | 참, 거짓\n",
    "**동일조건** | 비교, '=='을 사용한 같다 다르다의 비교. | 참, 거짓\n",
    "**논리조건** | 논리연산자 AND, OR를 사용한 비교 | 참, 거짓"
   ]
  },
  {
   "cell_type": "markdown",
   "metadata": {
    "slideshow": {
     "slide_type": "subslide"
    }
   },
   "source": [
    "**비교조건**을 만들어 실행해 보자. 비교조건이 실행되면 그 결과는 참, 거짓이 된다.\n",
    "정수 i=1로 값을 넣어 놓고, 비교조건 'i>0'을 실행하면 '참', 출력은 'true'를 출력한다."
   ]
  },
  {
   "cell_type": "code",
   "execution_count": 4,
   "metadata": {
    "collapsed": false
   },
   "outputs": [
    {
     "name": "stdout",
     "output_type": "stream",
     "text": [
      " int i=1;\r\n",
      "|  Added variable i of type int with initial value 1\r\n",
      "\r\n",
      " System.out.println(i>0);\r\n",
      "true\r\n",
      "\r\n"
     ]
    }
   ],
   "source": [
    "int i=1;\n",
    "System.out.println(i>0);"
   ]
  },
  {
   "cell_type": "markdown",
   "metadata": {
    "slideshow": {
     "slide_type": "subslide"
    }
   },
   "source": [
    "**동일조건**으로 출력해 보자. 그 결과는 참, 거짓이다.\n",
    "* 같다 '=='\n",
    "* 다르다 '!='"
   ]
  },
  {
   "cell_type": "code",
   "execution_count": 6,
   "metadata": {
    "collapsed": false
   },
   "outputs": [
    {
     "name": "stdout",
     "output_type": "stream",
     "text": [
      " System.out.println(i==1);\r\n",
      "true\r\n",
      "\r\n",
      " System.out.println(i!=1);\r\n",
      "false\r\n",
      "\r\n"
     ]
    }
   ],
   "source": [
    "System.out.println(i==1);\n",
    "System.out.println(i!=1);"
   ]
  },
  {
   "cell_type": "markdown",
   "metadata": {
    "slideshow": {
     "slide_type": "subslide"
    }
   },
   "source": [
    "**논리조건**을 사용하더라도 그 결과는 참, 거짓이다.\n",
    "* 논리 연산자 logical operator를 사용하여 아무리 복잡한 조건을 표현하더라도 true 또는 false 2가지 결과만 있다.\n",
    "* 복합조건은 논리연산자를 사용하여 표현한다.\n",
    "    * AND 연산자 '&&' \n",
    "    * OR 연산자 '||'"
   ]
  },
  {
   "cell_type": "code",
   "execution_count": 4,
   "metadata": {
    "collapsed": false,
    "slideshow": {
     "slide_type": "subslide"
    }
   },
   "outputs": [
    {
     "name": "stdout",
     "output_type": "stream",
     "text": [
      " true && true\r\n",
      "|  Expression value is: true\r\n",
      "|    assigned to temporary variable $4 of type boolean\r\n",
      "\r\n"
     ]
    }
   ],
   "source": [
    "true && true"
   ]
  },
  {
   "cell_type": "code",
   "execution_count": 1,
   "metadata": {
    "collapsed": false
   },
   "outputs": [
    {
     "name": "stdout",
     "output_type": "stream",
     "text": [
      " true || false\r\n",
      "|  Expression value is: true\r\n",
      "|    assigned to temporary variable $1 of type boolean\r\n",
      "\r\n"
     ]
    }
   ],
   "source": [
    "true || false"
   ]
  },
  {
   "cell_type": "code",
   "execution_count": null,
   "metadata": {
    "collapsed": false
   },
   "outputs": [],
   "source": [
    "if (true || false) {\n",
    "    System.out.println(\"printing 'if'...\");\n",
    "} else {\n",
    "    System.out.println(\"printing 'else'...\");\n",
    "}"
   ]
  },
  {
   "cell_type": "markdown",
   "metadata": {
    "slideshow": {
     "slide_type": "subslide"
    }
   },
   "source": [
    "### ternary condition\n",
    "\n",
    "인자를 3개 받는 조건 명령문이다. 단순 simple if문은 짧게 줄여서 사용할 수 있다. 이를 **ternary conditional operator**라고 한다.\n",
    "\n",
    "연산자 | 설명\n",
    "-----|-----\n",
    "? | 조건\n",
    ": | 좌측은 참일 경우, 우측은 거짓일 경우 값이다.\n",
    "\n",
    "조건이 참이면 10, 아니면 20을 넣는 예를 한 줄로 줄여쓸 수 있다.\n",
    "\n",
    "```java\n",
    "condition? 10:20;\n",
    "```\n"
   ]
  },
  {
   "cell_type": "markdown",
   "metadata": {
    "slideshow": {
     "slide_type": "subslide"
    }
   },
   "source": [
    "절대점수를 기준으로 합격을 판단하는 경우 간편하게 사용할 수 있다."
   ]
  },
  {
   "cell_type": "code",
   "execution_count": 4,
   "metadata": {
    "collapsed": false
   },
   "outputs": [
    {
     "name": "stdout",
     "output_type": "stream",
     "text": [
      " int marks=70;\r\n",
      "|  Modified variable marks of type int with initial value 70\r\n",
      "|    Update overwrote variable marks\r\n",
      "\r\n",
      " boolean pass = (marks>60) ? true:false;\r\n",
      "|  Added variable pass of type boolean with initial value true\r\n",
      "\r\n",
      " System.out.println(\"pass or fail: \" + pass);\r\n",
      "pass or fail: true\r\n",
      "\r\n"
     ]
    }
   ],
   "source": [
    "int marks=70;\n",
    "boolean pass = (marks>60) ? true:false;\n",
    "System.out.println(\"pass or fail: \" + pass);"
   ]
  },
  {
   "cell_type": "markdown",
   "metadata": {
    "slideshow": {
     "slide_type": "subslide"
    }
   },
   "source": [
    "**절대 값**으로 만드는 경우에도 명령문 **한 줄로 쉽게** 적용할 수 있다."
   ]
  },
  {
   "cell_type": "code",
   "execution_count": 6,
   "metadata": {
    "collapsed": false,
    "scrolled": true
   },
   "outputs": [
    {
     "name": "stdout",
     "output_type": "stream",
     "text": [
      " int foo = -10;\r\n",
      "|  Modified variable foo of type int with initial value -10\r\n",
      "|    Update overwrote variable foo\r\n",
      "\r\n",
      " int absFoo = (foo < 0) ? -foo : foo;\r\n",
      "|  Modified variable absFoo of type int with initial value 10\r\n",
      "|    Update overwrote variable absFoo\r\n",
      "\r\n",
      " System.out.println(\"abs of foo = \" + absFoo);\r\n",
      "abs of foo = 10\r\n",
      "\r\n"
     ]
    }
   ],
   "source": [
    "int foo = -10;\n",
    "int absFoo = (foo < 0) ? -foo : foo;\n",
    "System.out.println(\"abs of foo = \" + absFoo);"
   ]
  },
  {
   "cell_type": "markdown",
   "metadata": {
    "slideshow": {
     "slide_type": "slide"
    }
   },
   "source": [
    "## 5.4 반복\n",
    "\n",
    "### 반복문의 구성\n",
    "\n",
    "반복을 사용하려면 **시작조건**, **종료조건**, **증감자**를 이해해야 한다.\n",
    "\n",
    "구분 | 설명\n",
    "-----|-----\n",
    "시작조건 | 반복이 시작하는 조건\n",
    "종료조건 | 반복이 종료하는 조건\n",
    "증감자 | 몇 번 실행하는지 추적하는 계수. 시작조건에서 종료조건까지 추적한다."
   ]
  },
  {
   "cell_type": "markdown",
   "metadata": {
    "slideshow": {
     "slide_type": "subslide"
    }
   },
   "source": [
    "### 반복 명령어\n",
    "\n",
    "반복은 for, while, do-while 문을 사용할 수 있다.\n",
    "\n",
    "명령어 | 설명\n",
    "-----|-----\n",
    "for | 주로 반복 횟수에 따라 반복한다. count controlled loop\n",
    "while, do-while | 조건에 따라 반복한다. condition controlled loop"
   ]
  },
  {
   "cell_type": "markdown",
   "metadata": {
    "slideshow": {
     "slide_type": "subslide"
    }
   },
   "source": [
    "### 구조\n",
    "\n",
    "* 단순 반복, simple loop\n",
    "```java\n",
    "for {\n",
    "}\n",
    "```\n",
    "\n",
    "* 중첩 반복, nested loop\n",
    "```java\n",
    "for {\n",
    "   for {\n",
    "   }\n",
    "}\n",
    "```"
   ]
  },
  {
   "cell_type": "code",
   "execution_count": 7,
   "metadata": {
    "collapsed": false,
    "slideshow": {
     "slide_type": "subslide"
    }
   },
   "outputs": [
    {
     "data": {
      "image/svg+xml": [
       "<svg height=\"235px\" style=\"width:86px;height:235px;\" version=\"1.1\" viewBox=\"0 0 86 235\" width=\"86px\" xmlns=\"http://www.w3.org/2000/svg\" xmlns:xlink=\"http://www.w3.org/1999/xlink\"><defs><filter height=\"300%\" id=\"f1\" width=\"300%\" x=\"-1\" y=\"-1\"><feGaussianBlur result=\"blurOut\" stdDeviation=\"2.0\"/><feColorMatrix in=\"blurOut\" result=\"blurOut2\" type=\"matrix\" values=\"0 0 0 0 0 0 0 0 0 0 0 0 0 0 0 0 0 0 .4 0\"/><feOffset dx=\"4.0\" dy=\"4.0\" in=\"blurOut2\" result=\"blurOut3\"/><feBlend in=\"SourceGraphic\" in2=\"blurOut3\" mode=\"normal\"/></filter></defs><g><ellipse cx=\"39.5\" cy=\"20\" fill=\"#000000\" filter=\"url(#f1)\" rx=\"10\" ry=\"10\" style=\"stroke: none; stroke-width: 1.0;\"/><rect fill=\"#FEFECE\" filter=\"url(#f1)\" height=\"33.9629\" rx=\"12.5\" ry=\"12.5\" style=\"stroke: #A80036; stroke-width: 1.5;\" width=\"59\" x=\"10\" y=\"94\"/><text fill=\"#000000\" font-family=\"sans-serif\" font-size=\"12\" lengthAdjust=\"spacingAndGlyphs\" textLength=\"39\" x=\"20\" y=\"115.4023\">activity</text><polygon fill=\"#FEFECE\" filter=\"url(#f1)\" points=\"39.5,50,51.5,62,39.5,74,27.5,62,39.5,50\" style=\"stroke: #A80036; stroke-width: 1.5;\"/><polygon fill=\"#FEFECE\" filter=\"url(#f1)\" points=\"26.5,164.9814,52.5,164.9814,64.5,176.9814,52.5,188.9814,26.5,188.9814,14.5,176.9814,26.5,164.9814\" style=\"stroke: #A80036; stroke-width: 1.5;\"/><text fill=\"#000000\" font-family=\"sans-serif\" font-size=\"11\" lengthAdjust=\"spacingAndGlyphs\" textLength=\"26\" x=\"26.5\" y=\"181.0339\">i&lt;10</text><ellipse cx=\"39.5\" cy=\"218.9814\" fill=\"none\" filter=\"url(#f1)\" rx=\"10\" ry=\"10\" style=\"stroke: #000000; stroke-width: 1.0;\"/><ellipse cx=\"40\" cy=\"219.4814\" fill=\"#000000\" filter=\"url(#f1)\" rx=\"6\" ry=\"6\" style=\"stroke: none; stroke-width: 1.0;\"/><line style=\"stroke: #A80036; stroke-width: 1.5;\" x1=\"39.5\" x2=\"39.5\" y1=\"74\" y2=\"94\"/><polygon fill=\"#A80036\" points=\"35.5,84,39.5,94,43.5,84,39.5,88\" style=\"stroke: #A80036; stroke-width: 1.0;\"/><line style=\"stroke: #A80036; stroke-width: 1.5;\" x1=\"64.5\" x2=\"81\" y1=\"176.9814\" y2=\"176.9814\"/><polygon fill=\"#A80036\" points=\"77,144.9814,81,134.9814,85,144.9814,81,140.9814\" style=\"stroke: #A80036; stroke-width: 1.5;\"/><line style=\"stroke: #A80036; stroke-width: 1.5;\" x1=\"81\" x2=\"81\" y1=\"62\" y2=\"176.9814\"/><line style=\"stroke: #A80036; stroke-width: 1.5;\" x1=\"81\" x2=\"51.5\" y1=\"62\" y2=\"62\"/><polygon fill=\"#A80036\" points=\"61.5,58,51.5,62,61.5,66,57.5,62\" style=\"stroke: #A80036; stroke-width: 1.0;\"/><line style=\"stroke: #A80036; stroke-width: 1.5;\" x1=\"39.5\" x2=\"39.5\" y1=\"127.9629\" y2=\"164.9814\"/><polygon fill=\"#A80036\" points=\"35.5,154.9814,39.5,164.9814,43.5,154.9814,39.5,158.9814\" style=\"stroke: #A80036; stroke-width: 1.0;\"/><line style=\"stroke: #A80036; stroke-width: 1.5;\" x1=\"39.5\" x2=\"39.5\" y1=\"30\" y2=\"50\"/><polygon fill=\"#A80036\" points=\"35.5,40,39.5,50,43.5,40,39.5,44\" style=\"stroke: #A80036; stroke-width: 1.0;\"/><line style=\"stroke: #A80036; stroke-width: 1.5;\" x1=\"39.5\" x2=\"39.5\" y1=\"188.9814\" y2=\"208.9814\"/><polygon fill=\"#A80036\" points=\"35.5,198.9814,39.5,208.9814,43.5,198.9814,39.5,202.9814\" style=\"stroke: #A80036; stroke-width: 1.0;\"/></g></svg>"
      ],
      "text/plain": [
       "<IPython.core.display.SVG object>"
      ]
     },
     "execution_count": 7,
     "metadata": {},
     "output_type": "execute_result"
    }
   ],
   "source": [
    "%%plantuml\n",
    "@startuml\n",
    "start\n",
    "\n",
    "repeat\n",
    ":activity;\n",
    "repeat while(i<10)\n",
    "\n",
    "stop\n",
    "@enduml"
   ]
  },
  {
   "cell_type": "markdown",
   "metadata": {
    "collapsed": true,
    "slideshow": {
     "slide_type": "subslide"
    }
   },
   "source": [
    "### **counter**를 이용한 반복\n",
    "\n",
    "for문을 사용하여 계수를 추적, 반복해 보자.\n",
    "\n",
    "* for문 안에 들어가는 'int i=0;i<5;i++'은 3개의 명령문을 묶어 나타낸 것이다.\n",
    "    * i는 정수 0,1,2,3,4를 가질 수 있다는 것을 의미한다.\n",
    "    * 0부터 시작해서 하나씩 증가해서 4까지 증가하는 것이다.\n",
    "    * for문의 실행에 필요한 시작, 증감자, 끝 조건을 명시하기 편하다.\n",
    "\n",
    "\n",
    "$$ 0 \\le x<5, x=정수$$\n",
    "\n",
    "* 파이프 구조\n",
    "    * 파이프에 0,1,2,3,4를 순서대로 넣고, 0부터 1개씩 0,1,2,3,4를 꺼내서 사용하는 것으로 이해하면 쉽다.\n",
    "    * 파이프에서 꺼내 사용한 숫자는 다시 넣지 않고 버린다.\n"
   ]
  },
  {
   "cell_type": "code",
   "execution_count": 35,
   "metadata": {
    "collapsed": false
   },
   "outputs": [
    {
     "name": "stdout",
     "output_type": "stream",
     "text": [
      " for(int i=0; i<10; i++)\r\n",
      "     System.out.print(i)\r\n",
      "0123456789\r\n"
     ]
    }
   ],
   "source": [
    "for(int i=0; i<10; i++)\n",
    "    System.out.print(i);"
   ]
  },
  {
   "cell_type": "markdown",
   "metadata": {
    "collapsed": true,
    "slideshow": {
     "slide_type": "subslide"
    }
   },
   "source": [
    "### **sentinnel**을 이용한 반복\n",
    "\n",
    "보초 sentinnel를 세워놓고 그 보초가 입장을 허락할 것인지, 아닌지 비교한다고 생각하면 쉽다.\n",
    "\n",
    "```java\n",
    "while(variable != sentinnel)\n",
    "```\n",
    "\n",
    "* 아래 n이 보초 역할을 하고, 그 보초가 지키는 일정 횟수 동안 반복이 일어난다."
   ]
  },
  {
   "cell_type": "code",
   "execution_count": 37,
   "metadata": {
    "collapsed": false
   },
   "outputs": [
    {
     "name": "stdout",
     "output_type": "stream",
     "text": [
      " int n=5;\r\n",
      "|  Modified variable n of type int with initial value 5\r\n",
      "|    Update overwrote variable n\r\n",
      "\r\n",
      " while (n > 0) {\r\n",
      "     System.out.print(n);\r\n",
      "     n = n - 1;\r\n",
      " }\r\n",
      "54321\r\n"
     ]
    }
   ],
   "source": [
    "int n=5;\n",
    "while (n > 0) {\n",
    "    System.out.print(n);\n",
    "    n = n - 1;\n",
    "}"
   ]
  },
  {
   "cell_type": "markdown",
   "metadata": {
    "collapsed": true,
    "slideshow": {
     "slide_type": "subslide"
    }
   },
   "source": [
    "### **flag**를 이용한 반복\n",
    "\n",
    "* flag가 없으면 화면에서 이벤트를 무한 대기하는 '무한반복'\n",
    "* flag가 참이 될 때까지 무한반복되고, 반복을 마치는 조건이 되면 flag를 뒤집는다.\n",
    "* 파일의 끝 EOF까지 읽는 경우 사용한다."
   ]
  },
  {
   "cell_type": "markdown",
   "metadata": {
    "collapsed": true,
    "slideshow": {
     "slide_type": "subslide"
    }
   },
   "source": [
    "* 무한반복 infinite loop\n",
    "    * 끝내는 경우를 만들어 주지 않으면, 끝낼 수 없는 반복\n",
    "\n",
    "```java\n",
    "done = \"n\"\n",
    "while done == \"n\":\n",
    "        done = input(\"done? (y/n): \")\n",
    "```"
   ]
  },
  {
   "cell_type": "code",
   "execution_count": 1,
   "metadata": {
    "collapsed": false
   },
   "outputs": [
    {
     "name": "stdout",
     "output_type": "stream",
     "text": [
      " int n=5;\r\n",
      "|  Added variable n of type int with initial value 5\r\n",
      "\r\n",
      " boolean done=false;\r\n",
      "|  Added variable done of type boolean with initial value false\r\n",
      "\r\n",
      " while(!done) {\r\n",
      "     System.out.print(n);\r\n",
      "     n=n-1;\r\n",
      "     if(n==0) {\r\n",
      "         done=true;\r\n",
      "     }\r\n",
      " }\r\n",
      "54321\r\n"
     ]
    }
   ],
   "source": [
    "int n=5;\n",
    "boolean done=false;\n",
    "while(!done) {\n",
    "    System.out.print(n);\n",
    "    n=n-1;\n",
    "    if(n==0) {\n",
    "        done=true;\n",
    "    }\n",
    "}"
   ]
  },
  {
   "cell_type": "markdown",
   "metadata": {
    "collapsed": true,
    "slideshow": {
     "slide_type": "subslide"
    }
   },
   "source": [
    "### 반복자를 이용한 for\n",
    "\n",
    "* 시작, 끝, 카운터를 사용하지 않는다.\n",
    "* 객체를 사용하여 반복한다."
   ]
  },
  {
   "cell_type": "code",
   "execution_count": 3,
   "metadata": {
    "collapsed": false
   },
   "outputs": [
    {
     "name": "stdout",
     "output_type": "stream",
     "text": [
      " int[] num={1,2,3,4,5};\r\n",
      "|  Added variable num of type int[] with initial value [I@3c0ecd4b\r\n",
      "\r\n",
      " for(int n:num)\r\n",
      "     System.out.print(n);\r\n",
      "12345\r\n"
     ]
    }
   ],
   "source": [
    "int[] num={1,2,3,4,5};\n",
    "for(int n:num)\n",
    "    System.out.print(n);"
   ]
  },
  {
   "cell_type": "code",
   "execution_count": 2,
   "metadata": {
    "collapsed": false
   },
   "outputs": [
    {
     "name": "stdout",
     "output_type": "stream",
     "text": [
      " String[] cities={\"Seoul\",\"New York\",\"Sydney\"};\r\n",
      "|  Added variable cities of type String[] with initial value [Ljava.lang.String;@f6c48ac\r\n",
      "\r\n",
      " for(String s:cities)\r\n",
      "      System.out.println(s);\r\n",
      "Seoul\r\n",
      "New York\r\n",
      "Sydney\r\n",
      "\r\n"
     ]
    }
   ],
   "source": [
    "String[] cities={\"Seoul\",\"New York\",\"Sydney\"};\n",
    "for(String s:cities)\n",
    "     System.out.println(s);"
   ]
  },
  {
   "cell_type": "markdown",
   "metadata": {
    "slideshow": {
     "slide_type": "slide"
    }
   },
   "source": [
    "## 제어-1: 도형 그리기\n",
    "\n",
    "### 문제\n",
    "\n",
    "삼각형, 사각형, 오각형 등 다각형을 그린다.\n",
    "도형 하나씩 **개별적으로 프로그래밍하면 코드 중복**이 발생한다.\n",
    "중복을 줄이는 함수로 만든다.\n",
    "\n",
    "### 해결\n",
    "\n",
    "도형은 면과 내각에 따라 모양이 결정된다.\n",
    "삼각형은 3면 180도, 사각형은 4면 360도 이런 식이다.\n",
    "**알고리즘 또는 패턴**을 찾으면 **반복**을 사용할 수 있다.\n",
    "도형 하나씩 그릴 경우 발생하는 중복을 줄이기 위해 함수와 반복문을 사용한다."
   ]
  },
  {
   "cell_type": "markdown",
   "metadata": {
    "slideshow": {
     "slide_type": "subslide"
    }
   },
   "source": [
    "### 패턴 찾기\n",
    "\n",
    "도형을 그리는 다이어그램을 작성해보자\n",
    "**패턴**을 찾아본다.\n",
    "먼저 삼각형을 그리는 작업 절차를 다이어그램으로 표현하면 다음과 같다.\n",
    "이 작업절차를 잘 살펴보면 패턴을 발견할 수 있다."
   ]
  },
  {
   "cell_type": "code",
   "execution_count": 14,
   "metadata": {
    "collapsed": false,
    "slideshow": {
     "slide_type": "subslide"
    }
   },
   "outputs": [
    {
     "data": {
      "image/svg+xml": [
       "<svg height=\"400px\" style=\"width:91px;height:400px;\" version=\"1.1\" viewBox=\"0 0 91 400\" width=\"91px\" xmlns=\"http://www.w3.org/2000/svg\" xmlns:xlink=\"http://www.w3.org/1999/xlink\"><defs><filter height=\"300%\" id=\"f1\" width=\"300%\" x=\"-1\" y=\"-1\"><feGaussianBlur result=\"blurOut\" stdDeviation=\"2.0\"/><feColorMatrix in=\"blurOut\" result=\"blurOut2\" type=\"matrix\" values=\"0 0 0 0 0 0 0 0 0 0 0 0 0 0 0 0 0 0 .4 0\"/><feOffset dx=\"4.0\" dy=\"4.0\" in=\"blurOut2\" result=\"blurOut3\"/><feBlend in=\"SourceGraphic\" in2=\"blurOut3\" mode=\"normal\"/></filter></defs><g><ellipse cx=\"47\" cy=\"20\" fill=\"#000000\" filter=\"url(#f1)\" rx=\"10\" ry=\"10\" style=\"stroke: none; stroke-width: 1.0;\"/><rect fill=\"#FEFECE\" filter=\"url(#f1)\" height=\"33.9629\" rx=\"12.5\" ry=\"12.5\" style=\"stroke: #A80036; stroke-width: 1.5;\" width=\"60\" x=\"17\" y=\"50\"/><text fill=\"#000000\" font-family=\"sans-serif\" font-size=\"12\" lengthAdjust=\"spacingAndGlyphs\" textLength=\"40\" x=\"27\" y=\"71.4023\">fd 100</text><rect fill=\"#FEFECE\" filter=\"url(#f1)\" height=\"33.9629\" rx=\"12.5\" ry=\"12.5\" style=\"stroke: #A80036; stroke-width: 1.5;\" width=\"74\" x=\"10\" y=\"103.9629\"/><text fill=\"#000000\" font-family=\"sans-serif\" font-size=\"12\" lengthAdjust=\"spacingAndGlyphs\" textLength=\"54\" x=\"20\" y=\"125.3652\">right 120</text><rect fill=\"#FEFECE\" filter=\"url(#f1)\" height=\"33.9629\" rx=\"12.5\" ry=\"12.5\" style=\"stroke: #A80036; stroke-width: 1.5;\" width=\"60\" x=\"17\" y=\"157.9258\"/><text fill=\"#000000\" font-family=\"sans-serif\" font-size=\"12\" lengthAdjust=\"spacingAndGlyphs\" textLength=\"40\" x=\"27\" y=\"179.3281\">fd 100</text><rect fill=\"#FEFECE\" filter=\"url(#f1)\" height=\"33.9629\" rx=\"12.5\" ry=\"12.5\" style=\"stroke: #A80036; stroke-width: 1.5;\" width=\"74\" x=\"10\" y=\"211.8887\"/><text fill=\"#000000\" font-family=\"sans-serif\" font-size=\"12\" lengthAdjust=\"spacingAndGlyphs\" textLength=\"54\" x=\"20\" y=\"233.291\">right 120</text><rect fill=\"#FEFECE\" filter=\"url(#f1)\" height=\"33.9629\" rx=\"12.5\" ry=\"12.5\" style=\"stroke: #A80036; stroke-width: 1.5;\" width=\"60\" x=\"17\" y=\"265.8516\"/><text fill=\"#000000\" font-family=\"sans-serif\" font-size=\"12\" lengthAdjust=\"spacingAndGlyphs\" textLength=\"40\" x=\"27\" y=\"287.2539\">fd 100</text><rect fill=\"#FEFECE\" filter=\"url(#f1)\" height=\"33.9629\" rx=\"12.5\" ry=\"12.5\" style=\"stroke: #A80036; stroke-width: 1.5;\" width=\"74\" x=\"10\" y=\"319.8145\"/><text fill=\"#000000\" font-family=\"sans-serif\" font-size=\"12\" lengthAdjust=\"spacingAndGlyphs\" textLength=\"54\" x=\"20\" y=\"341.2168\">right 120</text><ellipse cx=\"47\" cy=\"383.7773\" fill=\"none\" filter=\"url(#f1)\" rx=\"10\" ry=\"10\" style=\"stroke: #000000; stroke-width: 1.0;\"/><ellipse cx=\"47.5\" cy=\"384.2773\" fill=\"#000000\" filter=\"url(#f1)\" rx=\"6\" ry=\"6\" style=\"stroke: none; stroke-width: 1.0;\"/><line style=\"stroke: #A80036; stroke-width: 1.5;\" x1=\"47\" x2=\"47\" y1=\"30\" y2=\"50\"/><polygon fill=\"#A80036\" points=\"43,40,47,50,51,40,47,44\" style=\"stroke: #A80036; stroke-width: 1.0;\"/><line style=\"stroke: #A80036; stroke-width: 1.5;\" x1=\"47\" x2=\"47\" y1=\"83.9629\" y2=\"103.9629\"/><polygon fill=\"#A80036\" points=\"43,93.9629,47,103.9629,51,93.9629,47,97.9629\" style=\"stroke: #A80036; stroke-width: 1.0;\"/><line style=\"stroke: #A80036; stroke-width: 1.5;\" x1=\"47\" x2=\"47\" y1=\"137.9258\" y2=\"157.9258\"/><polygon fill=\"#A80036\" points=\"43,147.9258,47,157.9258,51,147.9258,47,151.9258\" style=\"stroke: #A80036; stroke-width: 1.0;\"/><line style=\"stroke: #A80036; stroke-width: 1.5;\" x1=\"47\" x2=\"47\" y1=\"191.8887\" y2=\"211.8887\"/><polygon fill=\"#A80036\" points=\"43,201.8887,47,211.8887,51,201.8887,47,205.8887\" style=\"stroke: #A80036; stroke-width: 1.0;\"/><line style=\"stroke: #A80036; stroke-width: 1.5;\" x1=\"47\" x2=\"47\" y1=\"245.8516\" y2=\"265.8516\"/><polygon fill=\"#A80036\" points=\"43,255.8516,47,265.8516,51,255.8516,47,259.8516\" style=\"stroke: #A80036; stroke-width: 1.0;\"/><line style=\"stroke: #A80036; stroke-width: 1.5;\" x1=\"47\" x2=\"47\" y1=\"299.8145\" y2=\"319.8145\"/><polygon fill=\"#A80036\" points=\"43,309.8145,47,319.8145,51,309.8145,47,313.8145\" style=\"stroke: #A80036; stroke-width: 1.0;\"/><line style=\"stroke: #A80036; stroke-width: 1.5;\" x1=\"47\" x2=\"47\" y1=\"353.7773\" y2=\"373.7773\"/><polygon fill=\"#A80036\" points=\"43,363.7773,47,373.7773,51,363.7773,47,367.7773\" style=\"stroke: #A80036; stroke-width: 1.0;\"/></g></svg>"
      ],
      "text/plain": [
       "<IPython.core.display.SVG object>"
      ]
     },
     "execution_count": 14,
     "metadata": {},
     "output_type": "execute_result"
    }
   ],
   "source": [
    "%%plantuml\n",
    "@startuml\n",
    "start\n",
    "\n",
    ":fd 100;\n",
    ":right 120;\n",
    ":fd 100;\n",
    ":right 120;\n",
    ":fd 100;\n",
    ":right 120;\n",
    "\n",
    "stop\n",
    "@enduml"
   ]
  },
  {
   "cell_type": "markdown",
   "metadata": {
    "slideshow": {
     "slide_type": "subslide"
    }
   },
   "source": [
    "패턴을 찾으면 삼각형 면의 수 3회를 외각만큼 회전해서 그리는 패턴이 있다."
   ]
  },
  {
   "cell_type": "code",
   "execution_count": 15,
   "metadata": {
    "collapsed": false
   },
   "outputs": [
    {
     "data": {
      "image/svg+xml": [
       "<svg height=\"272px\" style=\"width:101px;height:272px;\" version=\"1.1\" viewBox=\"0 0 101 272\" width=\"101px\" xmlns=\"http://www.w3.org/2000/svg\" xmlns:xlink=\"http://www.w3.org/1999/xlink\"><defs><filter height=\"300%\" id=\"f1\" width=\"300%\" x=\"-1\" y=\"-1\"><feGaussianBlur result=\"blurOut\" stdDeviation=\"2.0\"/><feColorMatrix in=\"blurOut\" result=\"blurOut2\" type=\"matrix\" values=\"0 0 0 0 0 0 0 0 0 0 0 0 0 0 0 0 0 0 .4 0\"/><feOffset dx=\"4.0\" dy=\"4.0\" in=\"blurOut2\" result=\"blurOut3\"/><feBlend in=\"SourceGraphic\" in2=\"blurOut3\" mode=\"normal\"/></filter></defs><g><ellipse cx=\"47\" cy=\"20\" fill=\"#000000\" filter=\"url(#f1)\" rx=\"10\" ry=\"10\" style=\"stroke: none; stroke-width: 1.0;\"/><rect fill=\"#FEFECE\" filter=\"url(#f1)\" height=\"33.9629\" rx=\"12.5\" ry=\"12.5\" style=\"stroke: #A80036; stroke-width: 1.5;\" width=\"60\" x=\"17\" y=\"94\"/><text fill=\"#000000\" font-family=\"sans-serif\" font-size=\"12\" lengthAdjust=\"spacingAndGlyphs\" textLength=\"40\" x=\"27\" y=\"115.4023\">fd 100</text><rect fill=\"#FEFECE\" filter=\"url(#f1)\" height=\"33.9629\" rx=\"12.5\" ry=\"12.5\" style=\"stroke: #A80036; stroke-width: 1.5;\" width=\"74\" x=\"10\" y=\"147.9629\"/><text fill=\"#000000\" font-family=\"sans-serif\" font-size=\"12\" lengthAdjust=\"spacingAndGlyphs\" textLength=\"54\" x=\"20\" y=\"169.3652\">right 120</text><polygon fill=\"#FEFECE\" filter=\"url(#f1)\" points=\"47,50,59,62,47,74,35,62,47,50\" style=\"stroke: #A80036; stroke-width: 1.5;\"/><polygon fill=\"#FEFECE\" filter=\"url(#f1)\" points=\"35,201.9258,59,201.9258,71,213.9258,59,225.9258,35,225.9258,23,213.9258,35,201.9258\" style=\"stroke: #A80036; stroke-width: 1.5;\"/><text fill=\"#000000\" font-family=\"sans-serif\" font-size=\"11\" lengthAdjust=\"spacingAndGlyphs\" textLength=\"7\" x=\"43.5\" y=\"217.9783\">3</text><ellipse cx=\"47\" cy=\"255.9258\" fill=\"none\" filter=\"url(#f1)\" rx=\"10\" ry=\"10\" style=\"stroke: #000000; stroke-width: 1.0;\"/><ellipse cx=\"47.5\" cy=\"256.4258\" fill=\"#000000\" filter=\"url(#f1)\" rx=\"6\" ry=\"6\" style=\"stroke: none; stroke-width: 1.0;\"/><line style=\"stroke: #A80036; stroke-width: 1.5;\" x1=\"47\" x2=\"47\" y1=\"127.9629\" y2=\"147.9629\"/><polygon fill=\"#A80036\" points=\"43,137.9629,47,147.9629,51,137.9629,47,141.9629\" style=\"stroke: #A80036; stroke-width: 1.0;\"/><line style=\"stroke: #A80036; stroke-width: 1.5;\" x1=\"47\" x2=\"47\" y1=\"74\" y2=\"94\"/><polygon fill=\"#A80036\" points=\"43,84,47,94,51,84,47,88\" style=\"stroke: #A80036; stroke-width: 1.0;\"/><line style=\"stroke: #A80036; stroke-width: 1.5;\" x1=\"71\" x2=\"96\" y1=\"213.9258\" y2=\"213.9258\"/><polygon fill=\"#A80036\" points=\"92,164.4629,96,154.4629,100,164.4629,96,160.4629\" style=\"stroke: #A80036; stroke-width: 1.5;\"/><line style=\"stroke: #A80036; stroke-width: 1.5;\" x1=\"96\" x2=\"96\" y1=\"62\" y2=\"213.9258\"/><line style=\"stroke: #A80036; stroke-width: 1.5;\" x1=\"96\" x2=\"59\" y1=\"62\" y2=\"62\"/><polygon fill=\"#A80036\" points=\"69,58,59,62,69,66,65,62\" style=\"stroke: #A80036; stroke-width: 1.0;\"/><line style=\"stroke: #A80036; stroke-width: 1.5;\" x1=\"47\" x2=\"47\" y1=\"181.9258\" y2=\"201.9258\"/><polygon fill=\"#A80036\" points=\"43,191.9258,47,201.9258,51,191.9258,47,195.9258\" style=\"stroke: #A80036; stroke-width: 1.0;\"/><line style=\"stroke: #A80036; stroke-width: 1.5;\" x1=\"47\" x2=\"47\" y1=\"30\" y2=\"50\"/><polygon fill=\"#A80036\" points=\"43,40,47,50,51,40,47,44\" style=\"stroke: #A80036; stroke-width: 1.0;\"/><line style=\"stroke: #A80036; stroke-width: 1.5;\" x1=\"47\" x2=\"47\" y1=\"225.9258\" y2=\"245.9258\"/><polygon fill=\"#A80036\" points=\"43,235.9258,47,245.9258,51,235.9258,47,239.9258\" style=\"stroke: #A80036; stroke-width: 1.0;\"/></g></svg>"
      ],
      "text/plain": [
       "<IPython.core.display.SVG object>"
      ]
     },
     "execution_count": 15,
     "metadata": {},
     "output_type": "execute_result"
    }
   ],
   "source": [
    "%%plantuml\n",
    "@startuml\n",
    "start\n",
    "\n",
    "repeat\n",
    ":fd 100;\n",
    ":right 120;\n",
    "repeat while(3)\n",
    "\n",
    "stop\n",
    "@enduml"
   ]
  },
  {
   "cell_type": "markdown",
   "metadata": {
    "slideshow": {
     "slide_type": "subslide"
    }
   },
   "source": [
    "이번에는 4각형을 그려보자.\n",
    "삼가형과 같이 그려보고 반복을 사용해서 **중복을 제거**하면, 역시 사각형 면의 수 4회를 외각만큼 회전해서 그리는 패턴이 있다."
   ]
  },
  {
   "cell_type": "code",
   "execution_count": 12,
   "metadata": {
    "collapsed": false
   },
   "outputs": [
    {
     "data": {
      "image/svg+xml": [
       "<svg height=\"272px\" style=\"width:93px;height:272px;\" version=\"1.1\" viewBox=\"0 0 93 272\" width=\"93px\" xmlns=\"http://www.w3.org/2000/svg\" xmlns:xlink=\"http://www.w3.org/1999/xlink\"><defs><filter height=\"300%\" id=\"f1\" width=\"300%\" x=\"-1\" y=\"-1\"><feGaussianBlur result=\"blurOut\" stdDeviation=\"2.0\"/><feColorMatrix in=\"blurOut\" result=\"blurOut2\" type=\"matrix\" values=\"0 0 0 0 0 0 0 0 0 0 0 0 0 0 0 0 0 0 .4 0\"/><feOffset dx=\"4.0\" dy=\"4.0\" in=\"blurOut2\" result=\"blurOut3\"/><feBlend in=\"SourceGraphic\" in2=\"blurOut3\" mode=\"normal\"/></filter></defs><g><ellipse cx=\"43\" cy=\"20\" fill=\"#000000\" filter=\"url(#f1)\" rx=\"10\" ry=\"10\" style=\"stroke: none; stroke-width: 1.0;\"/><rect fill=\"#FEFECE\" filter=\"url(#f1)\" height=\"33.9629\" rx=\"12.5\" ry=\"12.5\" style=\"stroke: #A80036; stroke-width: 1.5;\" width=\"60\" x=\"13\" y=\"94\"/><text fill=\"#000000\" font-family=\"sans-serif\" font-size=\"12\" lengthAdjust=\"spacingAndGlyphs\" textLength=\"40\" x=\"23\" y=\"115.4023\">fd 100</text><rect fill=\"#FEFECE\" filter=\"url(#f1)\" height=\"33.9629\" rx=\"12.5\" ry=\"12.5\" style=\"stroke: #A80036; stroke-width: 1.5;\" width=\"66\" x=\"10\" y=\"147.9629\"/><text fill=\"#000000\" font-family=\"sans-serif\" font-size=\"12\" lengthAdjust=\"spacingAndGlyphs\" textLength=\"46\" x=\"20\" y=\"169.3652\">right 90</text><polygon fill=\"#FEFECE\" filter=\"url(#f1)\" points=\"43,50,55,62,43,74,31,62,43,50\" style=\"stroke: #A80036; stroke-width: 1.5;\"/><polygon fill=\"#FEFECE\" filter=\"url(#f1)\" points=\"31,201.9258,55,201.9258,67,213.9258,55,225.9258,31,225.9258,19,213.9258,31,201.9258\" style=\"stroke: #A80036; stroke-width: 1.5;\"/><text fill=\"#000000\" font-family=\"sans-serif\" font-size=\"11\" lengthAdjust=\"spacingAndGlyphs\" textLength=\"7\" x=\"39.5\" y=\"217.9783\">4</text><ellipse cx=\"43\" cy=\"255.9258\" fill=\"none\" filter=\"url(#f1)\" rx=\"10\" ry=\"10\" style=\"stroke: #000000; stroke-width: 1.0;\"/><ellipse cx=\"43.5\" cy=\"256.4258\" fill=\"#000000\" filter=\"url(#f1)\" rx=\"6\" ry=\"6\" style=\"stroke: none; stroke-width: 1.0;\"/><line style=\"stroke: #A80036; stroke-width: 1.5;\" x1=\"43\" x2=\"43\" y1=\"127.9629\" y2=\"147.9629\"/><polygon fill=\"#A80036\" points=\"39,137.9629,43,147.9629,47,137.9629,43,141.9629\" style=\"stroke: #A80036; stroke-width: 1.0;\"/><line style=\"stroke: #A80036; stroke-width: 1.5;\" x1=\"43\" x2=\"43\" y1=\"74\" y2=\"94\"/><polygon fill=\"#A80036\" points=\"39,84,43,94,47,84,43,88\" style=\"stroke: #A80036; stroke-width: 1.0;\"/><line style=\"stroke: #A80036; stroke-width: 1.5;\" x1=\"67\" x2=\"88\" y1=\"213.9258\" y2=\"213.9258\"/><polygon fill=\"#A80036\" points=\"84,164.4629,88,154.4629,92,164.4629,88,160.4629\" style=\"stroke: #A80036; stroke-width: 1.5;\"/><line style=\"stroke: #A80036; stroke-width: 1.5;\" x1=\"88\" x2=\"88\" y1=\"62\" y2=\"213.9258\"/><line style=\"stroke: #A80036; stroke-width: 1.5;\" x1=\"88\" x2=\"55\" y1=\"62\" y2=\"62\"/><polygon fill=\"#A80036\" points=\"65,58,55,62,65,66,61,62\" style=\"stroke: #A80036; stroke-width: 1.0;\"/><line style=\"stroke: #A80036; stroke-width: 1.5;\" x1=\"43\" x2=\"43\" y1=\"181.9258\" y2=\"201.9258\"/><polygon fill=\"#A80036\" points=\"39,191.9258,43,201.9258,47,191.9258,43,195.9258\" style=\"stroke: #A80036; stroke-width: 1.0;\"/><line style=\"stroke: #A80036; stroke-width: 1.5;\" x1=\"43\" x2=\"43\" y1=\"30\" y2=\"50\"/><polygon fill=\"#A80036\" points=\"39,40,43,50,47,40,43,44\" style=\"stroke: #A80036; stroke-width: 1.0;\"/><line style=\"stroke: #A80036; stroke-width: 1.5;\" x1=\"43\" x2=\"43\" y1=\"225.9258\" y2=\"245.9258\"/><polygon fill=\"#A80036\" points=\"39,235.9258,43,245.9258,47,235.9258,43,239.9258\" style=\"stroke: #A80036; stroke-width: 1.0;\"/></g></svg>"
      ],
      "text/plain": [
       "<IPython.core.display.SVG object>"
      ]
     },
     "execution_count": 12,
     "metadata": {},
     "output_type": "execute_result"
    }
   ],
   "source": [
    "%%plantuml\n",
    "@startuml\n",
    "start\n",
    "\n",
    "repeat\n",
    ":fd 100;\n",
    ":right 90;\n",
    "repeat while(4)\n",
    "\n",
    "stop\n",
    "@enduml"
   ]
  },
  {
   "cell_type": "markdown",
   "metadata": {
    "slideshow": {
     "slide_type": "subslide"
    }
   },
   "source": [
    "### 사격형을 그려보자.\n",
    "\n",
    "라이브러리를 import 해보자.\n",
    "아래 가운데 지원되는 명령어를 사용할 수 있다. 첫 번째는 최근에 추가되었고, 두 번째는 지금은 없어진 명령어이다.\n",
    "\n",
    "```java\n",
    "jshell> /env -class-path lib/aplu5.jar\n",
    "또는\n",
    "jshell> /classpath lib/aplu5.jar\n",
    "```"
   ]
  },
  {
   "cell_type": "code",
   "execution_count": 3,
   "metadata": {
    "collapsed": false
   },
   "outputs": [
    {
     "name": "stdout",
     "output_type": "stream",
     "text": [
      " import ch.aplu.turtle.*;\r\n",
      "|    Update modified method printf(String,Object...)\r\n",
      "\r\n"
     ]
    }
   ],
   "source": [
    "import ch.aplu.turtle.*;"
   ]
  },
  {
   "cell_type": "code",
   "execution_count": 16,
   "metadata": {
    "collapsed": false
   },
   "outputs": [
    {
     "name": "stdout",
     "output_type": "stream",
     "text": [
      " Turtle t1=new Turtle();\r\n",
      "|  Added variable t1 of type Turtle with initial value Turtle(Position=(0,0), Heading=0)\r\n",
      "|    Update modified method drawPolygon(int,int,int)\r\n",
      "\r\n"
     ]
    }
   ],
   "source": [
    "Turtle t1=new Turtle();"
   ]
  },
  {
   "cell_type": "code",
   "execution_count": 6,
   "metadata": {
    "collapsed": false,
    "scrolled": true
   },
   "outputs": [
    {
     "name": "stdout",
     "output_type": "stream",
     "text": [
      " t1.home();\r\n",
      "|  Expression value is: Turtle(Position=(0,0), Heading=0)\r\n",
      "|    assigned to temporary variable $11 of type Turtle\r\n",
      "\r\n",
      " t1.clear();\r\n",
      "|  Expression value is: Turtle(Position=(0,0), Heading=0)\r\n",
      "|    assigned to temporary variable $12 of type Turtle\r\n",
      "\r\n",
      " \r\n",
      "\r\n",
      " for (int i=0;i<4;i++) {\r\n",
      "     t1.forward(100);\r\n",
      "     t1.right(90);\r\n",
      " }\r\n",
      "\r\n"
     ]
    }
   ],
   "source": [
    "t1.home();\n",
    "t1.clear();\n",
    "\n",
    "for (int i=0;i<4;i++) {\n",
    "    t1.forward(100);\n",
    "    t1.right(90);\n",
    "}"
   ]
  },
  {
   "cell_type": "markdown",
   "metadata": {
    "slideshow": {
     "slide_type": "subslide"
    }
   },
   "source": [
    "함수를 만들 때 생각해 보기.\n",
    "* 함수 명을 결정한다. 함수명은 영어로, 동사+명사로 짓는다.\n",
    "* 입력을 결정한다.\n",
    "    * 인자의 갯수와 타잎을 결정한다.\n",
    "    * 크기를 인자로 사용하면 여러 크기를 그릴 수 있게 된다.\n",
    "\n",
    "입력변수 | 데이터 타잎, 변수 명 | 설명\n",
    "-----|-----|-----\n",
    "크기 | int size | 다각형의 크기\n",
    "\n",
    "* 출력을 결정한다. 화면에 그리는 경우, 출력인자가 없을 수 있다."
   ]
  },
  {
   "cell_type": "markdown",
   "metadata": {},
   "source": [
    "**기계적으로 함수 만들어보기**\n",
    "* 중복을 찾는다\n",
    "* 중복을 묶고 함수명을 준다 -> drawSquare\n",
    "* 변경되는 것을 찾는다 -> size. 그 외는 변하지 않는다.\n",
    "* 인자로 빼준다 -> int size"
   ]
  },
  {
   "cell_type": "markdown",
   "metadata": {
    "slideshow": {
     "slide_type": "subslide"
    }
   },
   "source": [
    "회전각을 계산하지 않으면 다음과 같이 함수를 drawSquare(), drawTriangle()을 만들어 주어야 한다."
   ]
  },
  {
   "cell_type": "code",
   "execution_count": 7,
   "metadata": {
    "collapsed": false
   },
   "outputs": [
    {
     "name": "stdout",
     "output_type": "stream",
     "text": [
      " void drawSquare(int size) {\r\n",
      "     for (int i=0;i<4;i++) {\r\n",
      "         t1.forward(size);\r\n",
      "         t1.right(90);\r\n",
      "     }\r\n",
      " }\r\n",
      "|  Added method drawSquare(int)\r\n",
      "\r\n",
      " \r\n",
      "\r\n",
      " t1.home();\r\n",
      "|  Expression value is: Turtle(Position=(0,0), Heading=0)\r\n",
      "|    assigned to temporary variable $15 of type Turtle\r\n",
      "\r\n",
      " t1.clear();\r\n",
      "|  Expression value is: Turtle(Position=(0,0), Heading=0)\r\n",
      "|    assigned to temporary variable $16 of type Turtle\r\n",
      "\r\n",
      " drawSquare(100);\r\n",
      "\r\n"
     ]
    }
   ],
   "source": [
    "void drawSquare(int size) {\n",
    "    for (int i=0;i<4;i++) {\n",
    "        t1.forward(size);\n",
    "        t1.right(90);\n",
    "    }\n",
    "}\n",
    "\n",
    "t1.home();\n",
    "t1.clear();\n",
    "drawSquare(100);"
   ]
  },
  {
   "cell_type": "code",
   "execution_count": 4,
   "metadata": {
    "collapsed": false,
    "scrolled": true
   },
   "outputs": [
    {
     "name": "stdout",
     "output_type": "stream",
     "text": [
      " void drawTriangle(int size) {\r\n",
      "     for (int i=0;i<3;i++) {\r\n",
      "         t1.forward(size);\r\n",
      "         t1.right(120);\r\n",
      "     }\r\n",
      " }\r\n",
      "|  Added method drawTriangle(int)\r\n",
      "\r\n",
      " \r\n",
      "\r\n",
      " t1.home();\r\n",
      "|  Expression value is: Turtle(Position=(0,0), Heading=0)\r\n",
      "|    assigned to temporary variable $4 of type Turtle\r\n",
      "\r\n",
      " t1.clear();\r\n",
      "|  Expression value is: Turtle(Position=(0,0), Heading=0)\r\n",
      "|    assigned to temporary variable $5 of type Turtle\r\n",
      "\r\n",
      " drawTriangle(100);\r\n",
      "\r\n"
     ]
    }
   ],
   "source": [
    "void drawTriangle(int size) {\n",
    "    for (int i=0;i<3;i++) {\n",
    "        t1.forward(size);\n",
    "        t1.right(120);\n",
    "    }\n",
    "}\n",
    "\n",
    "t1.home();\n",
    "t1.clear();\n",
    "drawTriangle(100);"
   ]
  },
  {
   "cell_type": "markdown",
   "metadata": {
    "slideshow": {
     "slide_type": "subslide"
    }
   },
   "source": [
    "### 알고리즘 찾기\n",
    "\n",
    "#### 내각\n",
    "\n",
    "다각형 내각의 합계를 계산\n",
    "(n - 2) × 180, n 은 다각형 면의 수\n",
    "\n",
    "도형 구분 | 내각 계산 식 | 내각 합계\n",
    "-----|-----|-----\n",
    "삼각형 | (3 - 2 ) x 180 | 180\n",
    "사각형 | (4 - 2 ) x 180 | 360\n",
    "오각형 | (5 - 2 ) x 180 | 540\n",
    "\n",
    "#### 외각\n",
    "\n",
    "다각형 내각과 외각의 합계는 항상 직선을 이루기 때문에 180이다.\n",
    "외각의 합계는 360이다.\n",
    "\n",
    "#### 회전각\n",
    "\n",
    "180 - 내각/면\n",
    "\n",
    "도형 구분 | 회전각 계산 식 | 회전각\n",
    "-----|-----|-----\n",
    "삼각형 | 180 - 180/3 | 120\n",
    "사각형 | 180 - 360/4 | 90\n",
    "오각형 | 180 - 540/5 | 72"
   ]
  },
  {
   "cell_type": "markdown",
   "metadata": {
    "slideshow": {
     "slide_type": "subslide"
    }
   },
   "source": [
    "외각을 exteirorAngle, 면수를 sides라고 하자"
   ]
  },
  {
   "cell_type": "code",
   "execution_count": null,
   "metadata": {
    "collapsed": true,
    "slideshow": {
     "slide_type": "-"
    }
   },
   "outputs": [],
   "source": [
    "%%plantuml\n",
    "@startuml\n",
    "start\n",
    "\n",
    "repeat\n",
    ":fd 100;\n",
    ":right exteriorAngle;\n",
    "repeat while(sides)\n",
    "\n",
    "stop\n",
    "@enduml"
   ]
  },
  {
   "cell_type": "markdown",
   "metadata": {
    "collapsed": true,
    "slideshow": {
     "slide_type": "subslide"
    }
   },
   "source": [
    "면수에서 회전각을 계산해서 함수어 넣어보자\n",
    "\n",
    "입력변수 | 데이터 타잎, 변수 명 | 설명\n",
    "-----|-----|-----\n",
    "면수 | int sides | 다각형의 면수가 정해지면, 내각의 합계를 자동으로 계산할 수 있다. \n",
    "크기 | int size | 다각형의 크기"
   ]
  },
  {
   "cell_type": "code",
   "execution_count": 4,
   "metadata": {
    "collapsed": false,
    "scrolled": true
   },
   "outputs": [
    {
     "name": "stdout",
     "output_type": "stream",
     "text": [
      " void drawTriangle(int size) {\r\n",
      "     for (int i=0;i<3;i++) {\r\n",
      "         t1.forward(size);\r\n",
      "         t1.right(120);\r\n",
      "     }\r\n",
      " }\r\n",
      "|  Added method drawTriangle(int)\r\n",
      "\r\n",
      " \r\n",
      "\r\n",
      " t1.home();\r\n",
      "|  Expression value is: Turtle(Position=(0,0), Heading=0)\r\n",
      "|    assigned to temporary variable $4 of type Turtle\r\n",
      "\r\n",
      " t1.clear();\r\n",
      "|  Expression value is: Turtle(Position=(0,0), Heading=0)\r\n",
      "|    assigned to temporary variable $5 of type Turtle\r\n",
      "\r\n",
      " drawTriangle(100);\r\n",
      "\r\n"
     ]
    }
   ],
   "source": [
    "void draw(int sides, int size) {\n",
    "    int interiorAngle = (sides - 2) * 180;\n",
    "    int exteriorAngle = 180 - (interiorAngle/sides);\n",
    "    for (int i=0;i<sides;i++) {\n",
    "        t1.forward(size);\n",
    "        t1.right(exteriorAngle);\n",
    "    }\n",
    "}\n",
    "\n",
    "t1.home();\n",
    "t1.clear();\n",
    "draw(4,100);"
   ]
  },
  {
   "cell_type": "markdown",
   "metadata": {
    "collapsed": true,
    "slideshow": {
     "slide_type": "subslide"
    }
   },
   "source": [
    "### 좌표\n",
    "\n",
    "좌표는 다음과 같이 두 점 x,y를 별도로 사용할 수 있다.\n",
    "```java\n",
    "public Turtle setPos(double x,double y)\n",
    "```\n",
    "\n",
    "또는 Point2D를 사용하여 x,y를 묶어서 위치로 사용할 수 있다.\n",
    "```java\n",
    "public Turtle setPos(java.awt.geom.Point2D.Double pt)\n",
    "```"
   ]
  },
  {
   "cell_type": "code",
   "execution_count": 1,
   "metadata": {
    "collapsed": false
   },
   "outputs": [
    {
     "name": "stdout",
     "output_type": "stream",
     "text": [
      " import java.awt.geom.Point2D;\r\n",
      "\r\n",
      " \r\n",
      "\r\n",
      " Point2D pos1=new Point2D.Double(10,20);\r\n",
      "|  Added variable pos1 of type Point2D with initial value Point2D.Double[10.0, 20.0]\r\n",
      "\r\n",
      " pos1.getX();\r\n",
      "|  Expression value is: 10.0\r\n",
      "|    assigned to temporary variable $3 of type double\r\n",
      "\r\n"
     ]
    }
   ],
   "source": [
    "import java.awt.geom.Point2D;\n",
    "\n",
    "Point2D pos1=new Point2D.Double(10,20);\n",
    "pos1.getX();"
   ]
  },
  {
   "cell_type": "code",
   "execution_count": 27,
   "metadata": {
    "collapsed": false
   },
   "outputs": [
    {
     "name": "stdout",
     "output_type": "stream",
     "text": [
      " void drawSquareAt(int size, double x, double y) {\r\n",
      "     t1.penUp();\r\n",
      "     t1.setPos(x,y);\r\n",
      "     t1.penDown();\r\n",
      "     for (int i=0;i<4;i++) {\r\n",
      "         t1.forward(size);\r\n",
      "         t1.right(90);\r\n",
      "     }\r\n",
      " }\r\n",
      "|  Added method drawSquareAt(int,double,double)\r\n",
      "\r\n",
      " \r\n",
      "\r\n",
      " t1.home();\r\n",
      "|  Expression value is: Turtle(Position=(0,0), Heading=0)\r\n",
      "|    assigned to temporary variable $39 of type Turtle\r\n",
      "\r\n",
      " t1.clear();\r\n",
      "|  Expression value is: Turtle(Position=(0,0), Heading=0)\r\n",
      "|    assigned to temporary variable $40 of type Turtle\r\n",
      "\r\n",
      " drawSquareAt(100,10,20);\r\n",
      "\r\n"
     ]
    }
   ],
   "source": [
    "void drawAt(int sides, int size, double x, double y) {\n",
    "    int interiorAngle = (sides - 2) * 180;\n",
    "    int exteriorAngle = 180 - (interiorAngle/sides);\n",
    "    t1.penUp();\n",
    "    t1.setPos(x,y);\n",
    "    t1.penDown();\n",
    "    for (int i=0;i<sides;i++) {\n",
    "        t1.forward(size);\n",
    "        t1.right(exteriorAngle);\n",
    "    }\n",
    "}\n",
    "\n",
    "t1.home();\n",
    "t1.clear();\n",
    "drawAt(4,100,10,20);"
   ]
  },
  {
   "cell_type": "markdown",
   "metadata": {
    "slideshow": {
     "slide_type": "subslide"
    }
   },
   "source": [
    "'별'은 오각형과 내각 540, 외곽 72로 동일하다. 따라서 별의 끝 삼각형 각은 180 - 72 x 2 = 36이다.\n",
    "따라서 회전각은 180 - 36 = 144이다.\n",
    "계산식이 다르므로 앞과 동일한 함수 시그니처를 사용할 수 없다."
   ]
  },
  {
   "cell_type": "code",
   "execution_count": 6,
   "metadata": {
    "collapsed": false,
    "scrolled": true
   },
   "outputs": [
    {
     "name": "stdout",
     "output_type": "stream",
     "text": [
      " void drawStar(int size) {\r\n",
      "     for(int i=0; i<5;i++) {\r\n",
      "         t1.forward(size);\r\n",
      "         t1.right(144);\r\n",
      "     }\r\n",
      " }\r\n",
      "|  Modified method drawStar(int)\r\n",
      "|    Update overwrote method drawStar(int)\r\n",
      "\r\n",
      " \r\n",
      "\r\n",
      " t1.home();\r\n",
      "|  Expression value is: Turtle(Position=(0,0), Heading=0)\r\n",
      "|    assigned to temporary variable $7 of type Turtle\r\n",
      "\r\n",
      " t1.clear();\r\n",
      "|  Expression value is: Turtle(Position=(0,0), Heading=0)\r\n",
      "|    assigned to temporary variable $8 of type Turtle\r\n",
      "\r\n",
      " drawStar(100);\r\n",
      "\r\n"
     ]
    }
   ],
   "source": [
    "void drawStar(int size) {\n",
    "    for(int i=0; i<5;i++) {\n",
    "        t1.forward(size);\n",
    "        t1.right(144);\n",
    "    }\n",
    "}\n",
    "\n",
    "t1.home();\n",
    "t1.clear();\n",
    "drawStar(100);"
   ]
  },
  {
   "cell_type": "markdown",
   "metadata": {
    "collapsed": true,
    "slideshow": {
     "slide_type": "subslide"
    }
   },
   "source": [
    "### 색 Color\n",
    "\n",
    "색은 문자열 java.lang.String 또는 java.awt.Color로 설정할 수 있다.\n",
    "도형 등을 칠하려면:\n",
    "* fill()은 기본 '파란'색으로 칠한다. 설정해 놓으면 그 색으로 칠한다.\n",
    "* 채우기가 끝나면 fillOff()를 호출한다.\n"
   ]
  },
  {
   "cell_type": "code",
   "execution_count": 11,
   "metadata": {
    "collapsed": false,
    "slideshow": {
     "slide_type": "subslide"
    }
   },
   "outputs": [
    {
     "name": "stdout",
     "output_type": "stream",
     "text": [
      " Restarting java"
     ]
    }
   ],
   "source": [
    "void drawStarFill(int size, String color) {\n",
    "    String oldColor=null;\n",
    "    int angle = 144;\n",
    "    oldColor=t1.getColor();\n",
    "    t1.setColor(color);\n",
    "    t1.setFillColor(color);\n",
    "    //t1.fill();\n",
    "    //t1.begin_fill()\n",
    "    for(int i=0; i<5;i++) {    \n",
    "        t1.forward(size);\n",
    "        t1.right(angle);\n",
    "    }\n",
    "    //t1.fillOff();\n",
    "    //t1.end_fill()\n",
    "    t1.setColor(oldColor);\n",
    "}\n",
    "t1.home();\n",
    "t1.clear();\n",
    "drawStarFill(100, \"purple\");\n"
   ]
  },
  {
   "cell_type": "markdown",
   "metadata": {
    "slideshow": {
     "slide_type": "subslide"
    }
   },
   "source": [
    "## 5.5 switch\n",
    "\n",
    "### if vs switch\n",
    "\n",
    "* if문은 **연속되는 구간**을 비교하고, if-else를 이용해 조건에 따라 실행되는 명령문을 제어한다.\n",
    "* switch문은 **점**을 비교하고, case 명령어에 따라 명령문을 실행한다. **break**를 만나면 조건을 종료한다.\n",
    "\n",
    "조건문 | if문 | switch문\n",
    "-----|-----|-----\n",
    "비교 | 구간, 점 | 점\n",
    "조건문 실행 | 서로 겹치지 않는 조건에 속하는 명령문 | break문을 만날 때까지 명령문 실행"
   ]
  },
  {
   "cell_type": "markdown",
   "metadata": {
    "slideshow": {
     "slide_type": "subslide"
    }
   },
   "source": [
    "### 예제: 요일에 따른 조건\n",
    "\n",
    "조건에 따라 분기한다. 조건이 비연속적인 경우 switch문을 사용한다.\n",
    "'요일'을 출력하는 경우를 해 본다. **요일은 비연속적이기 때문에 switch**이 적합하다.\n"
   ]
  },
  {
   "cell_type": "code",
   "execution_count": 4,
   "metadata": {
    "collapsed": false,
    "scrolled": true
   },
   "outputs": [
    {
     "name": "stdout",
     "output_type": "stream",
     "text": [
      " int day = 2;   //switch to case 2\r\n",
      "|  Added variable day of type int with initial value 2\r\n",
      "\r\n",
      " String dayStr;\r\n",
      "|  Added variable dayStr of type String\r\n",
      "\r\n",
      " switch (day) {\r\n",
      "     case 1: dayStr = \"Sunday\";\r\n",
      "             break;\r\n",
      "     case 2: dayStr = \"Monday\";\r\n",
      "             break;\r\n",
      "     case 3: dayStr = \"Tuesday\";\r\n",
      "             break;\r\n",
      "     case 4: dayStr = \"Wednesday\";\r\n",
      "             break;\r\n",
      "     case 5: dayStr = \"Thursday\";\r\n",
      "             break;\r\n",
      "     case 6: dayStr = \"Friday\";\r\n",
      "             break;\r\n",
      "     case 7: dayStr = \"Saturday\";\r\n",
      "             break;\r\n",
      "     default:dayStr = \"Invalid month\";\r\n",
      "             break;\r\n",
      " }\r\n",
      "\r\n",
      " System.out.println(dayStr);\r\n",
      "Monday\r\n",
      "\r\n"
     ]
    }
   ],
   "source": [
    "int day = 2;   //switch to case 2\n",
    "String dayStr;\n",
    "switch (day) {\n",
    "    case 1: dayStr = \"Sunday\";\n",
    "            break;\n",
    "    case 2: dayStr = \"Monday\";\n",
    "            break;\n",
    "    case 3: dayStr = \"Tuesday\";\n",
    "            break;\n",
    "    case 4: dayStr = \"Wednesday\";\n",
    "            break;\n",
    "    case 5: dayStr = \"Thursday\";\n",
    "            break;\n",
    "    case 6: dayStr = \"Friday\";\n",
    "            break;\n",
    "    case 7: dayStr = \"Saturday\";\n",
    "            break;\n",
    "    default:dayStr = \"Invalid month\";\n",
    "            break;\n",
    "}\n",
    "System.out.println(dayStr);"
   ]
  },
  {
   "cell_type": "markdown",
   "metadata": {
    "slideshow": {
     "slide_type": "slide"
    }
   },
   "source": [
    "## 5.6 enum\n",
    "\n",
    "### 변수 집합\n",
    "\n",
    "enum은 특별한 데이터타잎, 정확히는 클래스로서 **상수**를 요소로 가진다.\n",
    "예를 들면, 요일과 같이 월, 화, 수, 목, 금, 토를 '**집합**'을 구성하고 **그 중 하나를 선택하여 변수로 사용**할 경우 enum을 사용한다.\n",
    "이렇게 하면 **존재하지 않는 선택으로 인한 오류**를 막을 수 있어 유용하다.\n",
    "enum은 **java.lang.Enum**의 하위클래스로서 static이다. 따라서 **enum이름.변수명**으로 사용한다.\n",
    "\n",
    "```java\n",
    "Day.MONDAY;\n",
    "```"
   ]
  },
  {
   "cell_type": "markdown",
   "metadata": {
    "collapsed": true,
    "slideshow": {
     "slide_type": "subslide"
    }
   },
   "source": [
    "### switch와 같이 쓰이는 enum\n",
    "\n",
    "**enum은 switch문과 함께** 많이 사용된다.\n",
    "요일을 enum으로 사용해 보자.\n",
    "월~토를 집합으로 구성하여 `Day`로 선언한다."
   ]
  },
  {
   "cell_type": "code",
   "execution_count": 2,
   "metadata": {
    "collapsed": false,
    "slideshow": {
     "slide_type": "subslide"
    }
   },
   "outputs": [
    {
     "name": "stdout",
     "output_type": "stream",
     "text": [
      " enum Day {SUNDAY, MONDAY, TUESDAY, WEDNESDAY, THURSDAY, FRIDAY, SATURDAY}\r\n",
      "|  Added enum Day\r\n",
      "|    Update replaced method printWhatDay(Day)\r\n",
      "\r\n"
     ]
    }
   ],
   "source": [
    "enum Day {SUNDAY, MONDAY, TUESDAY, WEDNESDAY, THURSDAY, FRIDAY, SATURDAY}"
   ]
  },
  {
   "cell_type": "markdown",
   "metadata": {
    "slideshow": {
     "slide_type": "subslide"
    }
   },
   "source": [
    "함수 printWhatDay()를 구현해서 enum 또는 정수로 매개변수를 넘겨보자.\n",
    "**매개변수의 데이터타잎이 enum Day로 정의**하고 있어서 안전성 **type-safety**를 높이고 있다.\n",
    "주의할 점은 **Day.SUNDAY가 상수**로 인식되고, 정수를 넘겨주면 데이터타잎 불일치 오류가 발생한다."
   ]
  },
  {
   "cell_type": "code",
   "execution_count": 3,
   "metadata": {
    "collapsed": false
   },
   "outputs": [
    {
     "name": "stdout",
     "output_type": "stream",
     "text": [
      " void printWhatDay(Day day) {\r\n",
      "     System.out.println(\"Day: \"+day);\r\n",
      " }\r\n",
      "|  Modified method printWhatDay(Day)\r\n",
      "|    Update overwrote method printWhatDay(Day)\r\n",
      "\r\n",
      " printWhatDay(Day.SUNDAY);\r\n",
      "Day: SUNDAY\r\n",
      "\r\n",
      " printWhatDay(2);\r\n",
      "|  Error:\r\n",
      "|  incompatible types: int cannot be converted to Day\r\n",
      "|  printWhatDay(2);\r\n",
      "|               ^\r\n",
      "\r\n"
     ]
    }
   ],
   "source": [
    "void printWhatDay(Day day) {\n",
    "    System.out.println(\"Day: \"+day);\n",
    "}\n",
    "printWhatDay(Day.SUNDAY);\n",
    "printWhatDay(2);"
   ]
  },
  {
   "cell_type": "markdown",
   "metadata": {
    "slideshow": {
     "slide_type": "subslide"
    }
   },
   "source": [
    "switch case에서 **\"MONDAY\"와 같이 하지 않는다**. **문자열이 아니라 상수**이다.\n",
    "아래 코드에서 MONDAY는 **break 문이 있는 FRIDAY에서 비로서 switch 문으로부터 빠져** 나온다."
   ]
  },
  {
   "cell_type": "code",
   "execution_count": 4,
   "metadata": {
    "collapsed": false,
    "slideshow": {
     "slide_type": "subslide"
    }
   },
   "outputs": [
    {
     "name": "stdout",
     "output_type": "stream",
     "text": [
      " Day day=Day.MONDAY;   //switch case to MONDAY\r\n",
      "|  Added variable day of type Day with initial value MONDAY\r\n",
      "|    Update modified method printWhatDay(Day)\r\n",
      "\r\n",
      " String msg=null;\r\n",
      "|  Added variable msg of type String with initial value null\r\n",
      "\r\n",
      " switch (day) {\r\n",
      "     case MONDAY:\r\n",
      "     case TUESDAY:\r\n",
      "     case WEDNESDAY:\r\n",
      "     case THURSDAY:\r\n",
      "     case FRIDAY: msg=\"schooling\"; break;\r\n",
      "     case SATURDAY:\r\n",
      "     case SUNDAY:  msg=\"off\"; break;\r\n",
      "     default: msg=\"what is today?\"; break;\r\n",
      " }\r\n",
      "\r\n",
      " System.out.println(msg);\r\n",
      "schooling\r\n",
      "\r\n"
     ]
    }
   ],
   "source": [
    "Day day=Day.MONDAY;   //switch case to MONDAY\n",
    "String msg=null;\n",
    "switch (day) {\n",
    "    case MONDAY:\n",
    "    case TUESDAY:\n",
    "    case WEDNESDAY:\n",
    "    case THURSDAY:\n",
    "    case FRIDAY: msg=\"schooling\"; break;\n",
    "    case SATURDAY:\n",
    "    case SUNDAY:  msg=\"off\"; break;\n",
    "    default: msg=\"what is today?\"; break;\n",
    "}\n",
    "System.out.println(msg);"
   ]
  },
  {
   "cell_type": "markdown",
   "metadata": {
    "slideshow": {
     "slide_type": "subslide"
    }
   },
   "source": [
    "### enum은 클래스\n",
    "\n",
    "enum은 java.lang.Enum의 하위클래스이고, 상수로 정의된 값 외에는 객체를 만들 수 없다.\n",
    "\n",
    "* %s 형식을 사용하여 출력한다. toString()을 사용한다.\n",
    "* enum은 상수이지만 %d 형식을 사용하지 않는다."
   ]
  },
  {
   "cell_type": "code",
   "execution_count": 22,
   "metadata": {
    "collapsed": false,
    "slideshow": {
     "slide_type": "subslide"
    }
   },
   "outputs": [
    {
     "name": "stdout",
     "output_type": "stream",
     "text": [
      " enum TrafficLight {\r\n",
      "    RED(30), AMBER(10), GREEN(30);  // Named constants \r\n",
      "    private final int seconds;      // Private variable\r\n",
      "    TrafficLight(int seconds) {     // Constructor\r\n",
      "       this.seconds = seconds;\r\n",
      "    }\r\n",
      "    int getSeconds() {              // Getter\r\n",
      "       return seconds;\r\n",
      "    }\r\n",
      " }\r\n",
      "|  Added enum TrafficLight\r\n",
      "\r\n"
     ]
    }
   ],
   "source": [
    "enum TrafficLight {\n",
    "   RED(30), AMBER(10), GREEN(30);  // Named constants \n",
    "   private final int seconds;      // Private variable\n",
    "   TrafficLight(int seconds) {     // Constructor\n",
    "      this.seconds = seconds;\n",
    "   }\n",
    "   int getSeconds() {              // Getter\n",
    "      return seconds;\n",
    "   }\n",
    "}"
   ]
  },
  {
   "cell_type": "code",
   "execution_count": 12,
   "metadata": {
    "collapsed": false
   },
   "outputs": [
    {
     "name": "stdout",
     "output_type": "stream",
     "text": [
      " TrafficLight.RED.getSeconds();\r\n",
      "|  Expression value is: 30\r\n",
      "|    assigned to temporary variable $11 of type int\r\n",
      "\r\n"
     ]
    }
   ],
   "source": [
    "TrafficLight.RED.getSeconds();"
   ]
  },
  {
   "cell_type": "markdown",
   "metadata": {
    "collapsed": true,
    "slideshow": {
     "slide_type": "subslide"
    }
   },
   "source": [
    "모든 값을 출력하려면 values()를 사용할 수 있다.\n",
    "valueOf(문자)를 넘기면 해당하는 enum값을 얻을 수 있다."
   ]
  },
  {
   "cell_type": "code",
   "execution_count": 32,
   "metadata": {
    "collapsed": false
   },
   "outputs": [
    {
     "name": "stdout",
     "output_type": "stream",
     "text": [
      " TrafficLight light=TrafficLight.RED;\r\n",
      "|  Modified variable light of type TrafficLight with initial value RED\r\n",
      "|    Update overwrote variable light\r\n",
      "\r\n",
      " System.out.println(light.valueOf(\"RED\"));\r\n",
      "RED\r\n",
      "\r\n"
     ]
    }
   ],
   "source": [
    "TrafficLight light=TrafficLight.RED;\n",
    "System.out.println(light.valueOf(\"RED\"));"
   ]
  },
  {
   "cell_type": "code",
   "execution_count": 26,
   "metadata": {
    "collapsed": false
   },
   "outputs": [
    {
     "name": "stdout",
     "output_type": "stream",
     "text": [
      " TrafficLight light=TrafficLight.RED;\r\n",
      "|  Modified variable light of type TrafficLight with initial value RED\r\n",
      "|    Update overwrote variable light\r\n",
      "\r\n",
      " System.out.println(light.valueOf(\"RED\"));\r\n",
      "RED\r\n",
      "\r\n"
     ]
    }
   ],
   "source": [
    "TrafficLight light=TrafficLight.RED;\n",
    "System.out.println(light.valueOf(\"RED\"));"
   ]
  },
  {
   "cell_type": "code",
   "execution_count": 13,
   "metadata": {
    "collapsed": false
   },
   "outputs": [
    {
     "name": "stdout",
     "output_type": "stream",
     "text": [
      " for (TrafficLight light : TrafficLight.values()) {\r\n",
      "     System.out.printf(\"%s: %d seconds\\n\", light, light.getSeconds());\r\n",
      " }\r\n",
      "RED: 30 seconds\r\n",
      "AMBER: 10 seconds\r\n",
      "GREEN: 30 seconds\r\n",
      "\r\n"
     ]
    }
   ],
   "source": [
    "for (TrafficLight light : TrafficLight.values()) {\n",
    "    System.out.printf(\"%s: %d seconds\\n\", light, light.getSeconds());\n",
    "}"
   ]
  },
  {
   "cell_type": "markdown",
   "metadata": {
    "slideshow": {
     "slide_type": "subslide"
    }
   },
   "source": [
    "## 제어-2: 삼각형, 사각형을 조건에 맞추어 그리기\n",
    "\n",
    "### 문제\n",
    "\n",
    "사용자가 삼각형, 사각형, 오각형, 별을 선택하면 그에 따라 그림이 결정된다.\n",
    "\n",
    "### 해결\n",
    "\n",
    "사용자가 삼각형, 사각형, 오각형, 별 가운데 하나를 선택하면, switch문으로 처리한다.\n",
    "그리려는 도형도 몇 개로 제한되므로 enum을 사용한다.\n",
    "함수는 앞서 구현한 draw(), drawStar()를 사용하자.\n"
   ]
  },
  {
   "cell_type": "code",
   "execution_count": 36,
   "metadata": {
    "collapsed": false,
    "slideshow": {
     "slide_type": "subslide"
    }
   },
   "outputs": [
    {
     "data": {
      "image/svg+xml": [
       "<svg height=\"377px\" style=\"width:350px;height:377px;\" version=\"1.1\" viewBox=\"0 0 350 377\" width=\"350px\" xmlns=\"http://www.w3.org/2000/svg\" xmlns:xlink=\"http://www.w3.org/1999/xlink\"><defs><filter height=\"300%\" id=\"f1\" width=\"300%\" x=\"-1\" y=\"-1\"><feGaussianBlur result=\"blurOut\" stdDeviation=\"2.0\"/><feColorMatrix in=\"blurOut\" result=\"blurOut2\" type=\"matrix\" values=\"0 0 0 0 0 0 0 0 0 0 0 0 0 0 0 0 0 0 .4 0\"/><feOffset dx=\"4.0\" dy=\"4.0\" in=\"blurOut2\" result=\"blurOut3\"/><feBlend in=\"SourceGraphic\" in2=\"blurOut3\" mode=\"normal\"/></filter></defs><g><text fill=\"#000000\" font-family=\"sans-serif\" font-size=\"18\" lengthAdjust=\"spacingAndGlyphs\" textLength=\"339\" x=\"10\" y=\"26.708\">Conditional - Draw Triangle or Square</text><ellipse cx=\"177.5\" cy=\"40.9531\" fill=\"#000000\" filter=\"url(#f1)\" rx=\"10\" ry=\"10\" style=\"stroke: none; stroke-width: 1.0;\"/><rect fill=\"#FEFECE\" filter=\"url(#f1)\" height=\"33.9688\" rx=\"12.5\" ry=\"12.5\" style=\"stroke: #A80036; stroke-width: 1.5;\" width=\"159\" x=\"98\" y=\"70.9531\"/><text fill=\"#000000\" font-family=\"sans-serif\" font-size=\"12\" lengthAdjust=\"spacingAndGlyphs\" textLength=\"139\" x=\"108\" y=\"92.0918\">get user input (T or S)</text><polygon fill=\"#FEFECE\" filter=\"url(#f1)\" points=\"135.5,124.9219,219.5,124.9219,231.5,136.9219,219.5,148.9219,135.5,148.9219,123.5,136.9219,135.5,124.9219\" style=\"stroke: #A80036; stroke-width: 1.5;\"/><text fill=\"#000000\" font-family=\"sans-serif\" font-size=\"11\" lengthAdjust=\"spacingAndGlyphs\" textLength=\"84\" x=\"135.5\" y=\"140.73\">user input is S</text><text fill=\"#000000\" font-family=\"sans-serif\" font-size=\"11\" lengthAdjust=\"spacingAndGlyphs\" textLength=\"20\" x=\"103.5\" y=\"134.3276\">yes</text><text fill=\"#000000\" font-family=\"sans-serif\" font-size=\"11\" lengthAdjust=\"spacingAndGlyphs\" textLength=\"14\" x=\"231.5\" y=\"134.3276\">no</text><rect fill=\"#FEFECE\" filter=\"url(#f1)\" height=\"33.9688\" rx=\"12.5\" ry=\"12.5\" style=\"stroke: #A80036; stroke-width: 1.5;\" width=\"71\" x=\"78\" y=\"158.9219\"/><text fill=\"#000000\" font-family=\"sans-serif\" font-size=\"12\" lengthAdjust=\"spacingAndGlyphs\" textLength=\"51\" x=\"88\" y=\"180.0605\">sides=4</text><rect fill=\"#FEFECE\" filter=\"url(#f1)\" height=\"33.9688\" rx=\"12.5\" ry=\"12.5\" style=\"stroke: #A80036; stroke-width: 1.5;\" width=\"81\" x=\"73\" y=\"212.8906\"/><text fill=\"#000000\" font-family=\"sans-serif\" font-size=\"12\" lengthAdjust=\"spacingAndGlyphs\" textLength=\"61\" x=\"83\" y=\"234.0293\">angle=90</text><rect fill=\"#FEFECE\" filter=\"url(#f1)\" height=\"33.9688\" rx=\"12.5\" ry=\"12.5\" style=\"stroke: #A80036; stroke-width: 1.5;\" width=\"71\" x=\"206\" y=\"158.9219\"/><text fill=\"#000000\" font-family=\"sans-serif\" font-size=\"12\" lengthAdjust=\"spacingAndGlyphs\" textLength=\"51\" x=\"216\" y=\"180.0605\">sides=3</text><rect fill=\"#FEFECE\" filter=\"url(#f1)\" height=\"33.9688\" rx=\"12.5\" ry=\"12.5\" style=\"stroke: #A80036; stroke-width: 1.5;\" width=\"89\" x=\"197\" y=\"212.8906\"/><text fill=\"#000000\" font-family=\"sans-serif\" font-size=\"12\" lengthAdjust=\"spacingAndGlyphs\" textLength=\"69\" x=\"207\" y=\"234.0293\">angle=120</text><polygon fill=\"#FEFECE\" filter=\"url(#f1)\" points=\"177.5,252.8594,189.5,264.8594,177.5,276.8594,165.5,264.8594,177.5,252.8594\" style=\"stroke: #A80036; stroke-width: 1.5;\"/><rect fill=\"#FEFECE\" filter=\"url(#f1)\" height=\"33.9688\" rx=\"12.5\" ry=\"12.5\" style=\"stroke: #A80036; stroke-width: 1.5;\" width=\"202\" x=\"76.5\" y=\"296.8594\"/><text fill=\"#000000\" font-family=\"sans-serif\" font-size=\"12\" lengthAdjust=\"spacingAndGlyphs\" textLength=\"182\" x=\"86.5\" y=\"317.998\">draw shape with sides, angle</text><ellipse cx=\"177.5\" cy=\"360.8281\" fill=\"none\" filter=\"url(#f1)\" rx=\"10\" ry=\"10\" style=\"stroke: #000000; stroke-width: 1.0;\"/><ellipse cx=\"178\" cy=\"361.3281\" fill=\"#000000\" filter=\"url(#f1)\" rx=\"6\" ry=\"6\" style=\"stroke: none; stroke-width: 1.0;\"/><line style=\"stroke: #A80036; stroke-width: 1.5;\" x1=\"177.5\" x2=\"177.5\" y1=\"50.9531\" y2=\"70.9531\"/><polygon fill=\"#A80036\" points=\"173.5,60.9531,177.5,70.9531,181.5,60.9531,177.5,64.9531\" style=\"stroke: #A80036; stroke-width: 1.0;\"/><line style=\"stroke: #A80036; stroke-width: 1.5;\" x1=\"113.5\" x2=\"113.5\" y1=\"192.8906\" y2=\"212.8906\"/><polygon fill=\"#A80036\" points=\"109.5,202.8906,113.5,212.8906,117.5,202.8906,113.5,206.8906\" style=\"stroke: #A80036; stroke-width: 1.0;\"/><line style=\"stroke: #A80036; stroke-width: 1.5;\" x1=\"241.5\" x2=\"241.5\" y1=\"192.8906\" y2=\"212.8906\"/><polygon fill=\"#A80036\" points=\"237.5,202.8906,241.5,212.8906,245.5,202.8906,241.5,206.8906\" style=\"stroke: #A80036; stroke-width: 1.0;\"/><line style=\"stroke: #A80036; stroke-width: 1.5;\" x1=\"123.5\" x2=\"113.5\" y1=\"136.9219\" y2=\"136.9219\"/><line style=\"stroke: #A80036; stroke-width: 1.5;\" x1=\"113.5\" x2=\"113.5\" y1=\"136.9219\" y2=\"158.9219\"/><polygon fill=\"#A80036\" points=\"109.5,148.9219,113.5,158.9219,117.5,148.9219,113.5,152.9219\" style=\"stroke: #A80036; stroke-width: 1.0;\"/><line style=\"stroke: #A80036; stroke-width: 1.5;\" x1=\"231.5\" x2=\"241.5\" y1=\"136.9219\" y2=\"136.9219\"/><line style=\"stroke: #A80036; stroke-width: 1.5;\" x1=\"241.5\" x2=\"241.5\" y1=\"136.9219\" y2=\"158.9219\"/><polygon fill=\"#A80036\" points=\"237.5,148.9219,241.5,158.9219,245.5,148.9219,241.5,152.9219\" style=\"stroke: #A80036; stroke-width: 1.0;\"/><line style=\"stroke: #A80036; stroke-width: 1.5;\" x1=\"113.5\" x2=\"113.5\" y1=\"246.8594\" y2=\"264.8594\"/><line style=\"stroke: #A80036; stroke-width: 1.5;\" x1=\"113.5\" x2=\"165.5\" y1=\"264.8594\" y2=\"264.8594\"/><polygon fill=\"#A80036\" points=\"155.5,260.8594,165.5,264.8594,155.5,268.8594,159.5,264.8594\" style=\"stroke: #A80036; stroke-width: 1.0;\"/><line style=\"stroke: #A80036; stroke-width: 1.5;\" x1=\"241.5\" x2=\"241.5\" y1=\"246.8594\" y2=\"264.8594\"/><line style=\"stroke: #A80036; stroke-width: 1.5;\" x1=\"241.5\" x2=\"189.5\" y1=\"264.8594\" y2=\"264.8594\"/><polygon fill=\"#A80036\" points=\"199.5,260.8594,189.5,264.8594,199.5,268.8594,195.5,264.8594\" style=\"stroke: #A80036; stroke-width: 1.0;\"/><line style=\"stroke: #A80036; stroke-width: 1.5;\" x1=\"177.5\" x2=\"177.5\" y1=\"104.9219\" y2=\"124.9219\"/><polygon fill=\"#A80036\" points=\"173.5,114.9219,177.5,124.9219,181.5,114.9219,177.5,118.9219\" style=\"stroke: #A80036; stroke-width: 1.0;\"/><line style=\"stroke: #A80036; stroke-width: 1.5;\" x1=\"177.5\" x2=\"177.5\" y1=\"276.8594\" y2=\"296.8594\"/><polygon fill=\"#A80036\" points=\"173.5,286.8594,177.5,296.8594,181.5,286.8594,177.5,290.8594\" style=\"stroke: #A80036; stroke-width: 1.0;\"/><line style=\"stroke: #A80036; stroke-width: 1.5;\" x1=\"177.5\" x2=\"177.5\" y1=\"330.8281\" y2=\"350.8281\"/><polygon fill=\"#A80036\" points=\"173.5,340.8281,177.5,350.8281,181.5,340.8281,177.5,344.8281\" style=\"stroke: #A80036; stroke-width: 1.0;\"/></g></svg>"
      ],
      "text/plain": [
       "<IPython.core.display.SVG object>"
      ]
     },
     "execution_count": 36,
     "metadata": {},
     "output_type": "execute_result"
    }
   ],
   "source": [
    "%%plantuml\n",
    "@startuml\n",
    "\n",
    "title Conditional - Draw Figure or Star\n",
    "\n",
    "start\n",
    "\n",
    ":get user input (Triangle Square Pentagon or Star); \n",
    "\n",
    "if (user input is S) then (yes)\n",
    "  :compute sides;\n",
    "  :compute angle;\n",
    "else (no)\n",
    "  :sides=5;\n",
    "  :angle=144;\n",
    "endif\n",
    "\n",
    ":draw figure or star with sides, angle;\n",
    "\n",
    "stop\n",
    "\n",
    "@enduml"
   ]
  },
  {
   "cell_type": "markdown",
   "metadata": {
    "slideshow": {
     "slide_type": "subslide"
    }
   },
   "source": [
    "### 사용자 입력과 비교할 경우\n",
    "\n",
    "Shape을 enum으로 선언한다.\n",
    "사용자가 \"Square\"라고 입력했다고 하자.\n",
    "그 입력을 대문자로 변환하여 해당하는 enum 값을 결정한다.\n",
    "**Shape.valueOf(String name)**은 문자열에 해당하는 'enum 값'을 반환한다."
   ]
  },
  {
   "cell_type": "code",
   "execution_count": 2,
   "metadata": {
    "collapsed": false,
    "scrolled": true
   },
   "outputs": [
    {
     "name": "stdout",
     "output_type": "stream",
     "text": [
      " enum Shape {TRIANGLE, SQUARE, RECTANGLE, PENTAGON, STAR}\r\n",
      "|  Added enum Shape\r\n",
      "\r\n",
      " Scanner sc=new Scanner(\"Square\");         //문자열을 사용자 입력으로 사용함\r\n",
      "|  Added variable sc of type Scanner with initial value java.util.Scanner[delimiters=\\p{javaWhitespace}+][position=0][match valid=false][need input=false][source closed=false][skipped=false][group separator=\\,][decimal separator=\\.][positive prefix=][negative prefix=\\Q-\\E][positive suffix=][negative suffix=][NaN string=\\QNaN\\E][infinity string=\\Q∞\\E]\r\n",
      "\r\n",
      " String s=sc.next();                       //사용자 입력을 문자열로 받음\r\n",
      "|  Added variable s of type String with initial value \"Square\"\r\n",
      "\r\n",
      " Shape sel=Shape.valueOf(s.toUpperCase()); //사용자 입력을 대문자로 변환하여 enum 값 으로 정함\r\n",
      "|  Added variable sel of type Shape with initial value SQUARE\r\n",
      "\r\n",
      " System.out.println(sel);\r\n",
      "SQUARE\r\n",
      "\r\n"
     ]
    }
   ],
   "source": [
    "enum Shape {TRIANGLE, SQUARE, RECTANGLE, PENTAGON, STAR}\n",
    "Scanner sc=new Scanner(\"Square\");         //문자열을 사용자 입력으로 사용함\n",
    "String s=sc.next();                       //사용자 입력을 문자열로 받음\n",
    "Shape sel=Shape.valueOf(s.toUpperCase()); //사용자 입력을 대문자로 변환하여 enum 값 으로 정함\n",
    "System.out.println(sel);"
   ]
  },
  {
   "cell_type": "markdown",
   "metadata": {
    "slideshow": {
     "slide_type": "subslide"
    }
   },
   "source": [
    "위에서 SQUARE 선택 값이 정해졌으므로 switch가 선택된다.\n",
    "앞서 만들어 놓은 함수를 이용한다."
   ]
  },
  {
   "cell_type": "code",
   "execution_count": 43,
   "metadata": {
    "collapsed": false,
    "slideshow": {
     "slide_type": "subslide"
    }
   },
   "outputs": [
    {
     "name": "stdout",
     "output_type": "stream",
     "text": [
      " void draw(int sides, int size) {\r\n",
      "     int interiorAngle = (sides - 2) * 180;\r\n",
      "     int exteriorAngle = 180 - (interiorAngle/sides);\r\n",
      "     for (int i=0;i<sides;i++) {\r\n",
      "         t1.forward(size);\r\n",
      "         t1.right(exteriorAngle);\r\n",
      "     }\r\n",
      " }\r\n",
      "|  Added method draw(int,int), however, it cannot be invoked until variable t1 is declared\r\n",
      "\r\n",
      " \r\n",
      "\r\n",
      " void drawStar(int size) {\r\n",
      "     for(int i=0; i<5;i++) {\r\n",
      "         t1.forward(size);\r\n",
      "         t1.right(144);\r\n",
      "     }\r\n",
      " }\r\n",
      "|  Added method drawStar(int), however, it cannot be invoked until variable t1 is declared\r\n",
      "\r\n"
     ]
    }
   ],
   "source": [
    "void draw(int sides, int size) {\n",
    "    int interiorAngle = (sides - 2) * 180;\n",
    "    int exteriorAngle = 180 - (interiorAngle/sides);\n",
    "    for (int i=0;i<sides;i++) {\n",
    "        t1.forward(size);\n",
    "        t1.right(exteriorAngle);\n",
    "    }\n",
    "}\n",
    "\n",
    "void drawStar(int size) {\n",
    "    for(int i=0; i<5;i++) {\n",
    "        t1.forward(size);\n",
    "        t1.right(144);\n",
    "    }\n",
    "}"
   ]
  },
  {
   "cell_type": "code",
   "execution_count": 47,
   "metadata": {
    "collapsed": false,
    "slideshow": {
     "slide_type": "subslide"
    }
   },
   "outputs": [
    {
     "name": "stdout",
     "output_type": "stream",
     "text": [
      " int size=100;\r\n",
      "|  Modified variable size of type int with initial value 100\r\n",
      "|    Update overwrote variable size\r\n",
      "\r\n",
      " int sides;\r\n",
      "|  Modified variable sides of type int\r\n",
      "|    Update overwrote variable sides\r\n",
      "\r\n",
      " switch (sel) {\r\n",
      "     case TRIANGLE:\r\n",
      "         sides=3;\r\n",
      "         //draw(sides,size);\r\n",
      "         break;\r\n",
      "     case SQUARE:\r\n",
      "     case RECTANGLE:\r\n",
      "         sides=4;\r\n",
      "         //draw(sides,size);\r\n",
      "         break;\r\n",
      "     case PENTAGON:\r\n",
      "         sides=5;\r\n",
      "         //draw(sides,size);\r\n",
      "         break;\r\n",
      "     case STAR:\r\n",
      "         //drawStar(size);\r\n",
      "         break;\r\n",
      " }\r\n",
      "\r\n",
      " System.out.printf(\"%s: %d\",sel,sides);\r\n",
      "SQUARE: 4|  Expression value is: java.io.PrintStream@5a1c0542\r\n",
      "|    assigned to temporary variable $129 of type PrintStream\r\n",
      "\r\n"
     ]
    }
   ],
   "source": [
    "int size=100;\n",
    "int sides;\n",
    "switch (sel) {\n",
    "    case TRIANGLE:\n",
    "        sides=3;\n",
    "        //draw(sides,size);\n",
    "        break;\n",
    "    case SQUARE:\n",
    "    case RECTANGLE:\n",
    "        sides=4;\n",
    "        //draw(sides,size);\n",
    "        break;\n",
    "    case PENTAGON:\n",
    "        sides=5;\n",
    "        //draw(sides,size);\n",
    "        break;\n",
    "    case STAR:\n",
    "        //drawStar(size);\n",
    "        break;\n",
    "}\n",
    "System.out.printf(\"%s: %d\",sel,sides);"
   ]
  },
  {
   "cell_type": "markdown",
   "metadata": {
    "slideshow": {
     "slide_type": "subslide"
    }
   },
   "source": [
    "* 클래스로 만들어 보기\n",
    "    * main()함수를 넣어서 만든다.\n",
    "    \n",
    "구분 | 명령창\n",
    "-----|-----\n",
    "컴파일 | javac -cp ./lib/aplu5.jar -d classes/ -sourcepath src/ src/com/sd/turtle/j_5_TurtleDrawMain.java \n",
    "실행 | java -cp ./lib/aplu5.jar:./classes/ com.sd.turtle.j_5_TurtleDrawMain"
   ]
  },
  {
   "cell_type": "code",
   "execution_count": null,
   "metadata": {
    "collapsed": false,
    "slideshow": {
     "slide_type": "subslide"
    }
   },
   "outputs": [],
   "source": [
    "# %load src/com/sd/turtle/j_5_TurtleDrawMain.java\n",
    "package com.sd.turtle;\n",
    "\n",
    "import ch.aplu.turtle.*;\n",
    "import java.util.Scanner;\n",
    "\n",
    "public class j_5_TurtleDrawMain {\n",
    "    static Turtle t1=new Turtle();\n",
    "    static enum Shape {TRIANGLE, SQUARE, RECTANGLE, PENTAGON, STAR}\n",
    "    static void draw(int sides, int size) {\n",
    "        int interiorAngle = (sides - 2) * 180;\n",
    "        int exteriorAngle = 180 - (interiorAngle/sides);\n",
    "        for (int i=0;i<sides;i++) {\n",
    "            t1.forward(size);\n",
    "            t1.right(exteriorAngle);\n",
    "        }\n",
    "    }\n",
    "    static void drawStar(int size) {\n",
    "        for(int i=0; i<5;i++) {\n",
    "            t1.forward(size);\n",
    "            t1.right(144);\n",
    "        }\n",
    "    }\n",
    "    public static void main(String[] args) {\n",
    "        System.out.print(\"Enter Triangle, Square, Rectangle, Pentagon or Star: \");\n",
    "        Scanner sc=new Scanner(System.in);     //문자열을 사용자 입력으로 사용함\n",
    "        String s=sc.next();                     //사용자 입력을 문자열로 받음\n",
    "        Shape sel=Shape.valueOf(s.toUpperCase()); //사용자 입력을 대문자로 변환하여 선택 값으로 정함\n",
    "\n",
    "        int size=100;\n",
    "        int sides=0;\n",
    "        switch (sel) {\n",
    "            case TRIANGLE:\n",
    "                sides=3;\n",
    "                draw(sides,size);\n",
    "                break;\n",
    "            case SQUARE:\n",
    "            case RECTANGLE:\n",
    "                sides=4;\n",
    "                draw(sides,size);\n",
    "                break;\n",
    "            case PENTAGON:\n",
    "                sides=5;\n",
    "                draw(sides,size);\n",
    "                break;\n",
    "            case STAR:\n",
    "                drawStar(size);\n",
    "                break;\n",
    "        }\n",
    "        System.out.printf(\"Drawing %s with sides %d\\n\", sel, sides);\n",
    "    }\n",
    "}\n"
   ]
  },
  {
   "cell_type": "markdown",
   "metadata": {
    "slideshow": {
     "slide_type": "subslide"
    }
   },
   "source": [
    "## 제어-3 바람개비 도형 그리기\n",
    "\n",
    "### 문제\n",
    "\n",
    "바람개비를 그리게 되면, 날개가 반복되는 패턴이 있다.\n",
    "패턴을 찾아 반복문을 사용하자.\n",
    "또 날개의 크기를 변경할 수 있게 하자\n",
    "\n",
    "### 해결\n",
    "\n",
    "* 날개의 크기는 조건문 if를 사용한다.\n",
    "* 바람개비 모양이 커지는 패턴을 확인한다. **짝수 마다 크기를 늘려**주기로 한다.\n",
    "* 함수\n",
    "\n",
    "```java\n",
    "makeSwirlSquare(size,bigger,turns,angle)\n",
    "```"
   ]
  },
  {
   "cell_type": "code",
   "execution_count": 39,
   "metadata": {
    "collapsed": false,
    "slideshow": {
     "slide_type": "subslide"
    }
   },
   "outputs": [
    {
     "data": {
      "image/svg+xml": [
       "<svg height=\"567px\" style=\"width:231px;height:567px;\" version=\"1.1\" viewBox=\"0 0 231 567\" width=\"231px\" xmlns=\"http://www.w3.org/2000/svg\" xmlns:xlink=\"http://www.w3.org/1999/xlink\"><defs><filter height=\"300%\" id=\"f1\" width=\"300%\" x=\"-1\" y=\"-1\"><feGaussianBlur result=\"blurOut\" stdDeviation=\"2.0\"/><feColorMatrix in=\"blurOut\" result=\"blurOut2\" type=\"matrix\" values=\"0 0 0 0 0 0 0 0 0 0 0 0 0 0 0 0 0 0 .4 0\"/><feOffset dx=\"4.0\" dy=\"4.0\" in=\"blurOut2\" result=\"blurOut3\"/><feBlend in=\"SourceGraphic\" in2=\"blurOut3\" mode=\"normal\"/></filter></defs><g><ellipse cx=\"123.5\" cy=\"20\" fill=\"#000000\" filter=\"url(#f1)\" rx=\"10\" ry=\"10\" style=\"stroke: none; stroke-width: 1.0;\"/><rect fill=\"#FEFECE\" filter=\"url(#f1)\" height=\"33.9688\" rx=\"12.5\" ry=\"12.5\" style=\"stroke: #A80036; stroke-width: 1.5;\" width=\"143\" x=\"52\" y=\"50\"/><text fill=\"#000000\" font-family=\"sans-serif\" font-size=\"12\" lengthAdjust=\"spacingAndGlyphs\" textLength=\"123\" x=\"62\" y=\"71.1387\">set how many turns</text><rect fill=\"#FEFECE\" filter=\"url(#f1)\" height=\"33.9688\" rx=\"12.5\" ry=\"12.5\" style=\"stroke: #A80036; stroke-width: 1.5;\" width=\"202\" x=\"22.5\" y=\"103.9688\"/><text fill=\"#000000\" font-family=\"sans-serif\" font-size=\"12\" lengthAdjust=\"spacingAndGlyphs\" textLength=\"182\" x=\"32.5\" y=\"125.1074\">set how much to grow bigger</text><rect fill=\"#FEFECE\" filter=\"url(#f1)\" height=\"33.9688\" rx=\"12.5\" ry=\"12.5\" style=\"stroke: #A80036; stroke-width: 1.5;\" width=\"79\" x=\"84\" y=\"157.9375\"/><text fill=\"#000000\" font-family=\"sans-serif\" font-size=\"12\" lengthAdjust=\"spacingAndGlyphs\" textLength=\"59\" x=\"94\" y=\"179.0762\">set angle</text><rect fill=\"#FEFECE\" filter=\"url(#f1)\" height=\"33.9688\" rx=\"12.5\" ry=\"12.5\" style=\"stroke: #A80036; stroke-width: 1.5;\" width=\"101\" x=\"73\" y=\"211.9063\"/><text fill=\"#000000\" font-family=\"sans-serif\" font-size=\"12\" lengthAdjust=\"spacingAndGlyphs\" textLength=\"81\" x=\"83\" y=\"233.0449\">set start size</text><polygon fill=\"#FEFECE\" filter=\"url(#f1)\" points=\"79,309.875,168,309.875,180,321.875,168,333.875,79,333.875,67,321.875,79,309.875\" style=\"stroke: #A80036; stroke-width: 1.5;\"/><text fill=\"#000000\" font-family=\"sans-serif\" font-size=\"11\" lengthAdjust=\"spacingAndGlyphs\" textLength=\"89\" x=\"79\" y=\"325.6831\">i is divided by 2</text><rect fill=\"#FEFECE\" filter=\"url(#f1)\" height=\"33.9688\" rx=\"12.5\" ry=\"12.5\" style=\"stroke: #A80036; stroke-width: 1.5;\" width=\"94\" x=\"10\" y=\"343.875\"/><text fill=\"#000000\" font-family=\"sans-serif\" font-size=\"12\" lengthAdjust=\"spacingAndGlyphs\" textLength=\"74\" x=\"20\" y=\"365.0137\">grow bigger</text><polygon fill=\"#FEFECE\" filter=\"url(#f1)\" points=\"123.5,383.8438,135.5,395.8438,123.5,407.8438,111.5,395.8438,123.5,383.8438\" style=\"stroke: #A80036; stroke-width: 1.5;\"/><rect fill=\"#FEFECE\" filter=\"url(#f1)\" height=\"33.9688\" rx=\"12.5\" ry=\"12.5\" style=\"stroke: #A80036; stroke-width: 1.5;\" width=\"50\" x=\"98.5\" y=\"442.8438\"/><text fill=\"#000000\" font-family=\"sans-serif\" font-size=\"12\" lengthAdjust=\"spacingAndGlyphs\" textLength=\"30\" x=\"108.5\" y=\"463.9824\">draw</text><polygon fill=\"#FEFECE\" filter=\"url(#f1)\" points=\"123.5,265.875,135.5,277.875,123.5,289.875,111.5,277.875,123.5,265.875\" style=\"stroke: #A80036; stroke-width: 1.5;\"/><polygon fill=\"#FEFECE\" filter=\"url(#f1)\" points=\"108.5,496.8125,138.5,496.8125,150.5,508.8125,138.5,520.8125,108.5,520.8125,96.5,508.8125,108.5,496.8125\" style=\"stroke: #A80036; stroke-width: 1.5;\"/><text fill=\"#000000\" font-family=\"sans-serif\" font-size=\"11\" lengthAdjust=\"spacingAndGlyphs\" textLength=\"30\" x=\"108.5\" y=\"512.6206\">turns</text><ellipse cx=\"123.5\" cy=\"550.8125\" fill=\"none\" filter=\"url(#f1)\" rx=\"10\" ry=\"10\" style=\"stroke: #000000; stroke-width: 1.0;\"/><ellipse cx=\"124\" cy=\"551.3125\" fill=\"#000000\" filter=\"url(#f1)\" rx=\"6\" ry=\"6\" style=\"stroke: none; stroke-width: 1.0;\"/><line style=\"stroke: #A80036; stroke-width: 1.5;\" x1=\"123.5\" x2=\"123.5\" y1=\"30\" y2=\"50\"/><polygon fill=\"#A80036\" points=\"119.5,40,123.5,50,127.5,40,123.5,44\" style=\"stroke: #A80036; stroke-width: 1.0;\"/><line style=\"stroke: #A80036; stroke-width: 1.5;\" x1=\"123.5\" x2=\"123.5\" y1=\"83.9688\" y2=\"103.9688\"/><polygon fill=\"#A80036\" points=\"119.5,93.9688,123.5,103.9688,127.5,93.9688,123.5,97.9688\" style=\"stroke: #A80036; stroke-width: 1.0;\"/><line style=\"stroke: #A80036; stroke-width: 1.5;\" x1=\"123.5\" x2=\"123.5\" y1=\"137.9375\" y2=\"157.9375\"/><polygon fill=\"#A80036\" points=\"119.5,147.9375,123.5,157.9375,127.5,147.9375,123.5,151.9375\" style=\"stroke: #A80036; stroke-width: 1.0;\"/><line style=\"stroke: #A80036; stroke-width: 1.5;\" x1=\"123.5\" x2=\"123.5\" y1=\"191.9063\" y2=\"211.9063\"/><polygon fill=\"#A80036\" points=\"119.5,201.9063,123.5,211.9063,127.5,201.9063,123.5,205.9063\" style=\"stroke: #A80036; stroke-width: 1.0;\"/><line style=\"stroke: #A80036; stroke-width: 1.5;\" x1=\"67\" x2=\"57\" y1=\"321.875\" y2=\"321.875\"/><line style=\"stroke: #A80036; stroke-width: 1.5;\" x1=\"57\" x2=\"57\" y1=\"321.875\" y2=\"343.875\"/><polygon fill=\"#A80036\" points=\"53,333.875,57,343.875,61,333.875,57,337.875\" style=\"stroke: #A80036; stroke-width: 1.0;\"/><line style=\"stroke: #A80036; stroke-width: 1.5;\" x1=\"180\" x2=\"190\" y1=\"321.875\" y2=\"321.875\"/><polygon fill=\"#A80036\" points=\"186,348.8594,190,358.8594,194,348.8594,190,352.8594\" style=\"stroke: #A80036; stroke-width: 1.5;\"/><line style=\"stroke: #A80036; stroke-width: 1.5;\" x1=\"190\" x2=\"190\" y1=\"321.875\" y2=\"395.8438\"/><line style=\"stroke: #A80036; stroke-width: 1.5;\" x1=\"190\" x2=\"135.5\" y1=\"395.8438\" y2=\"395.8438\"/><polygon fill=\"#A80036\" points=\"145.5,391.8438,135.5,395.8438,145.5,399.8438,141.5,395.8438\" style=\"stroke: #A80036; stroke-width: 1.0;\"/><line style=\"stroke: #A80036; stroke-width: 1.5;\" x1=\"57\" x2=\"57\" y1=\"377.8438\" y2=\"395.8438\"/><line style=\"stroke: #A80036; stroke-width: 1.5;\" x1=\"57\" x2=\"111.5\" y1=\"395.8438\" y2=\"395.8438\"/><polygon fill=\"#A80036\" points=\"101.5,391.8438,111.5,395.8438,101.5,399.8438,105.5,395.8438\" style=\"stroke: #A80036; stroke-width: 1.0;\"/><line style=\"stroke: #A80036; stroke-width: 1.5;\" x1=\"123.5\" x2=\"123.5\" y1=\"407.8438\" y2=\"442.8438\"/><polygon fill=\"#A80036\" points=\"119.5,432.8438,123.5,442.8438,127.5,432.8438,123.5,436.8438\" style=\"stroke: #A80036; stroke-width: 1.0;\"/><line style=\"stroke: #A80036; stroke-width: 1.5;\" x1=\"123.5\" x2=\"123.5\" y1=\"289.875\" y2=\"309.875\"/><polygon fill=\"#A80036\" points=\"119.5,299.875,123.5,309.875,127.5,299.875,123.5,303.875\" style=\"stroke: #A80036; stroke-width: 1.0;\"/><line style=\"stroke: #A80036; stroke-width: 1.5;\" x1=\"150.5\" x2=\"227\" y1=\"508.8125\" y2=\"508.8125\"/><polygon fill=\"#A80036\" points=\"223,427.3438,227,417.3438,231,427.3438,227,423.3438\" style=\"stroke: #A80036; stroke-width: 1.5;\"/><line style=\"stroke: #A80036; stroke-width: 1.5;\" x1=\"227\" x2=\"227\" y1=\"277.875\" y2=\"508.8125\"/><line style=\"stroke: #A80036; stroke-width: 1.5;\" x1=\"227\" x2=\"135.5\" y1=\"277.875\" y2=\"277.875\"/><polygon fill=\"#A80036\" points=\"145.5,273.875,135.5,277.875,145.5,281.875,141.5,277.875\" style=\"stroke: #A80036; stroke-width: 1.0;\"/><line style=\"stroke: #A80036; stroke-width: 1.5;\" x1=\"123.5\" x2=\"123.5\" y1=\"476.8125\" y2=\"496.8125\"/><polygon fill=\"#A80036\" points=\"119.5,486.8125,123.5,496.8125,127.5,486.8125,123.5,490.8125\" style=\"stroke: #A80036; stroke-width: 1.0;\"/><line style=\"stroke: #A80036; stroke-width: 1.5;\" x1=\"123.5\" x2=\"123.5\" y1=\"245.875\" y2=\"265.875\"/><polygon fill=\"#A80036\" points=\"119.5,255.875,123.5,265.875,127.5,255.875,123.5,259.875\" style=\"stroke: #A80036; stroke-width: 1.0;\"/><line style=\"stroke: #A80036; stroke-width: 1.5;\" x1=\"123.5\" x2=\"123.5\" y1=\"520.8125\" y2=\"540.8125\"/><polygon fill=\"#A80036\" points=\"119.5,530.8125,123.5,540.8125,127.5,530.8125,123.5,534.8125\" style=\"stroke: #A80036; stroke-width: 1.0;\"/></g></svg>"
      ],
      "text/plain": [
       "<IPython.core.display.SVG object>"
      ]
     },
     "execution_count": 39,
     "metadata": {},
     "output_type": "execute_result"
    }
   ],
   "source": [
    "%%plantuml\n",
    "@startuml\n",
    "start\n",
    ":set how many turns;\n",
    ":set how much to grow bigger;\n",
    ":set angle;\n",
    ":set start size;\n",
    "repeat\n",
    "if (i is divided by 2) then\n",
    "    :grow bigger;\n",
    "endif\n",
    ":draw;\n",
    "repeat while(turns)\n",
    "stop\n",
    "@enduml"
   ]
  },
  {
   "cell_type": "markdown",
   "metadata": {
    "slideshow": {
     "slide_type": "subslide"
    }
   },
   "source": [
    "### if문과 modulus 연산자\n",
    "\n",
    "modulus 연산자는 나머지가 없으면 0이다. modulus연산자를 사용해서 \n",
    "짝수만 출력하는 반복문을 만들어 보자\n",
    "\n",
    "주의: if 문에 not 연산자를 섞어쓰면 이해하기 어려워진다.\n",
    "```java\n",
    "if (8%3!=0)  //나머지가 없지 않으면\n",
    "if (8%3==0)  //나머지가 없으면\n",
    "```"
   ]
  },
  {
   "cell_type": "code",
   "execution_count": 3,
   "metadata": {
    "collapsed": false
   },
   "outputs": [
    {
     "name": "stdout",
     "output_type": "stream",
     "text": [
      " if (8%3!=0) {\r\n",
      "     System.out.println(\"there is no remainder!\");\r\n",
      " } else {\r\n",
      "     System.out.println(\"there is a remainder!\");\r\n",
      " }\r\n",
      "there is no remainder!\r\n",
      "\r\n"
     ]
    }
   ],
   "source": [
    "if (8%3!=0) {\n",
    "    System.out.println(\"there is remainder!\");\n",
    "} else {\n",
    "    System.out.println(\"there is no remainder!\");\n",
    "}"
   ]
  },
  {
   "cell_type": "markdown",
   "metadata": {
    "collapsed": true,
    "slideshow": {
     "slide_type": "subslide"
    }
   },
   "source": [
    "* for문 if문을 결합해서 짝수를 출력해 본다."
   ]
  },
  {
   "cell_type": "code",
   "execution_count": 1,
   "metadata": {
    "collapsed": false
   },
   "outputs": [
    {
     "name": "stdout",
     "output_type": "stream",
     "text": [
      " for(int i=0;i<10;i++) {\r\n",
      "     if (i%2==0) {\r\n",
      "         System.out.printf(\"%d은 짝수.\", i);\r\n",
      "     }\r\n",
      " }\r\n",
      "0은 짝수.2은 짝수.4은 짝수.6은 짝수.8은 짝수.\r\n"
     ]
    }
   ],
   "source": [
    "for(int i=0;i<10;i++) {\n",
    "    if (i%2==0) {\n",
    "        System.out.printf(\"%d은 짝수.\", i);\n",
    "    }\n",
    "}"
   ]
  },
  {
   "cell_type": "markdown",
   "metadata": {
    "collapsed": true,
    "slideshow": {
     "slide_type": "subslide"
    }
   },
   "source": [
    "변수 'bigger'를 넣어 홀수마다 한 번씩 건너서 증가시킨다.\n",
    "데이터 형을 잠깐 생각해 보자. 'size', 'bigger', 'turns'는 **모두 정수 int로 정의**했다.\n",
    "다시 한 번 강조하면, int는 **Integer와 다르다**. int는 원시타잎이다. Integer 클래스가 가지는 함수를 사용할 수 없다. 효율성을 위해 데이터만 사용할 경우 원시타잎을 사용한다."
   ]
  },
  {
   "cell_type": "code",
   "execution_count": 18,
   "metadata": {
    "collapsed": false
   },
   "outputs": [
    {
     "name": "stdout",
     "output_type": "stream",
     "text": [
      " int sides=10;\r\n",
      "|  Modified variable sides of type int with initial value 10\r\n",
      "|    Update overwrote variable sides\r\n",
      "\r\n",
      " int size=5;\r\n",
      "|  Modified variable size of type int with initial value 5\r\n",
      "|    Update overwrote variable size\r\n",
      "\r\n",
      " int bigger=15;\r\n",
      "|  Modified variable bigger of type int with initial value 15\r\n",
      "|    Update overwrote variable bigger\r\n",
      "\r\n",
      " for(int i=0;i<10;i++) {\r\n",
      "     if (i%2!=0) {\r\n",
      "         size+=bigger;\r\n",
      "     }\r\n",
      "     System.out.printf(\"%d-%d\\n\", i,size);\r\n",
      " }\r\n",
      "0-5\r\n",
      "1-20\r\n",
      "2-20\r\n",
      "3-35\r\n",
      "4-35\r\n",
      "5-50\r\n",
      "6-50\r\n",
      "7-65\r\n",
      "8-65\r\n",
      "9-80\r\n",
      "\r\n"
     ]
    }
   ],
   "source": [
    "int sides=10;\n",
    "int size=5;\n",
    "int bigger=15;\n",
    "for(int i=0;i<10;i++) {\n",
    "    if (i%2!=0) {\n",
    "        size+=bigger;\n",
    "    }\n",
    "    System.out.printf(\"%d-%d\\n\", i,size);\n",
    "}\n"
   ]
  },
  {
   "cell_type": "markdown",
   "metadata": {
    "slideshow": {
     "slide_type": "subslide"
    }
   },
   "source": [
    "단, 'degree'는 소수 float로 정의한다.\n",
    "정수를 사용하면 **int -> float로 자동변환**된다. 적은 타잎에서 큰 타잎으로 변환되기 때문에 자동으로 된다."
   ]
  },
  {
   "cell_type": "code",
   "execution_count": 18,
   "metadata": {
    "collapsed": false,
    "scrolled": true
   },
   "outputs": [
    {
     "name": "stdout",
     "output_type": "stream",
     "text": [
      " float degree=90;\r\n",
      "|  Added variable degree of type float with initial value 90.0\r\n",
      "\r\n"
     ]
    }
   ],
   "source": [
    "float degree=90;"
   ]
  },
  {
   "cell_type": "markdown",
   "metadata": {
    "collapsed": true,
    "slideshow": {
     "slide_type": "subslide"
    }
   },
   "source": [
    "그러나 소수 '90.0'을 저장하면 float로 자동 캐스팅 될 수 없다.\n",
    "**기본 설정이 double**로 되어 있어 float일 경우 **incompatible types 오류**가 발생한다."
   ]
  },
  {
   "cell_type": "code",
   "execution_count": 19,
   "metadata": {
    "collapsed": false
   },
   "outputs": [
    {
     "name": "stdout",
     "output_type": "stream",
     "text": [
      " float degree=90.0;\r\n",
      "|  Error:\r\n",
      "|  incompatible types: possible lossy conversion from double to float\r\n",
      "|  float degree=90.0;\r\n",
      "|               ^--^\r\n",
      "|    Update overwrote variable degree\r\n",
      "\r\n"
     ]
    }
   ],
   "source": [
    "float degree=90.0;"
   ]
  },
  {
   "cell_type": "code",
   "execution_count": null,
   "metadata": {
    "collapsed": true,
    "slideshow": {
     "slide_type": "subslide"
    }
   },
   "outputs": [],
   "source": [
    "int size=5;\n",
    "int bigger=15;\n",
    "int turns=20;\n",
    "double degree=90.0;\n",
    "t1.home();\n",
    "t1.clear();\n",
    "for(int i=0;i<turns;i++) {\n",
    "    if (i%2!=0) {\n",
    "        size+=bigger;\n",
    "    }\n",
    "    t1.forward(size);\n",
    "    t1.right(degree);\n",
    "}"
   ]
  },
  {
   "cell_type": "code",
   "execution_count": 20,
   "metadata": {
    "collapsed": false,
    "scrolled": true,
    "slideshow": {
     "slide_type": "subslide"
    }
   },
   "outputs": [
    {
     "name": "stdout",
     "output_type": "stream",
     "text": [
      " void makeSwirlSquare(int size,int bigger,int turns,double degree) {\r\n",
      "     int nBigger=2;\r\n",
      "     for(int i=0;i<turns;i++) {\r\n",
      "         if (i%nBigger!=0) {\r\n",
      "             size+=bigger;\r\n",
      "         }\r\n",
      "         t1.forward(size);\r\n",
      "         t1.right(degree);\r\n",
      "         //System.out.printf(\"%d-%d\\n\", i,size);\r\n",
      "     }\r\n",
      " }\r\n",
      "|  Added method makeSwirlSquare(int,int,int,double)\r\n",
      "\r\n",
      " \r\n",
      "\r\n",
      " int size=5;\r\n",
      "|  Modified variable size of type int with initial value 5\r\n",
      "|    Update overwrote variable size\r\n",
      "\r\n",
      " int bigger=15;\r\n",
      "|  Added variable bigger of type int with initial value 15\r\n",
      "|    Update modified method makeSwirlSquare(int,int,int,double)\r\n",
      "\r\n",
      " int turns=20;\r\n",
      "|  Added variable turns of type int with initial value 20\r\n",
      "|    Update modified method makeSwirlSquare(int,int,int,double)\r\n",
      "\r\n",
      " double degree=90;\r\n",
      "|  Modified variable degree of type double with initial value 90.0\r\n",
      "|    Update overwrote variable degree\r\n",
      "\r\n",
      " t1.home();\r\n",
      "|  Expression value is: Turtle(Position=(0,0), Heading=0)\r\n",
      "|    assigned to temporary variable $29 of type Turtle\r\n",
      "\r\n",
      " t1.clear();\r\n",
      "|  Expression value is: Turtle(Position=(0,0), Heading=0)\r\n",
      "|    assigned to temporary variable $30 of type Turtle\r\n",
      "\r\n",
      " makeSwirlSquare(size,bigger,turns,degree);\r\n",
      "\r\n"
     ]
    }
   ],
   "source": [
    "void makeSwirlSquare(int size,int bigger,int turns,double degree) {\n",
    "    int nBigger=2;\n",
    "    for(int i=0;i<turns;i++) {\n",
    "        if (i%nBigger!=0) {\n",
    "            size+=bigger;\n",
    "        }\n",
    "        t1.forward(size);\n",
    "        t1.right(degree);\n",
    "        //System.out.printf(\"%d-%d\\n\", i,size);\n",
    "    }\n",
    "}\n",
    "\n",
    "int size=5;\n",
    "int bigger=15;\n",
    "int turns=20;\n",
    "double degree=90.0;\n",
    "t1.home();\n",
    "t1.clear();\n",
    "makeSwirlSquare(size,bigger,turns,degree);"
   ]
  },
  {
   "cell_type": "markdown",
   "metadata": {
    "slideshow": {
     "slide_type": "subslide"
    }
   },
   "source": [
    "클래스로 만들어, 컴파일하고 실행해보자.\n",
    "\n",
    "구분 | 명령어\n",
    "-----|-----\n",
    "컴파일 | javac -cp lib/aplu5.jar -d classes/ -sourcepath src/ src/com/sd/turtle/j_5_Baramgaebi.java \n",
    "실행 |   java -cp classes/:lib/aplu5.jar com.sd.turtle.j_5_Baramgaebi \n"
   ]
  },
  {
   "cell_type": "code",
   "execution_count": null,
   "metadata": {
    "collapsed": true,
    "slideshow": {
     "slide_type": "subslide"
    }
   },
   "outputs": [],
   "source": [
    "# %load src/com/sd/turtle/j_5_Baramgaebi.java\n",
    "package com.sd.turtle;\n",
    "import ch.aplu.turtle.*;\n",
    "\n",
    "public class j_5_Baramgaebi {\n",
    "    static Turtle t1=new Turtle();\n",
    "    static void makeSwirlSquare(int size,int bigger,int turns,double degree) {\n",
    "        int nBigger=2;\n",
    "        for(int i=0;i<turns;i++) {\n",
    "            if (i%nBigger!=0) {\n",
    "                size+=bigger;\n",
    "            }\n",
    "            t1.forward(size);\n",
    "            t1.right(degree);\n",
    "            //System.out.printf(\"%d-%d\\n\", i,size);\n",
    "        }\n",
    "    }\n",
    "    public static void main(String[] args) {\n",
    "        int size=5;\n",
    "        int bigger=15;\n",
    "        int turns=20;\n",
    "        double degree=90.0;\n",
    "        t1.home();\n",
    "        t1.clear();\n",
    "        makeSwirlSquare(size,bigger,turns,degree);\n",
    "    }\n",
    "}\n",
    "\n"
   ]
  },
  {
   "cell_type": "markdown",
   "metadata": {
    "slideshow": {
     "slide_type": "slide"
    }
   },
   "source": [
    "## 5.6 '==', equals()\n",
    "\n",
    "구분 | 설명 | 예제\n",
    "-------|-------|-------\n",
    "== | **참조 값을 비교**한다 (shallow comparison). 가리키고 있는 객체가 같은지 비교한다. | x==y\n",
    "equals() | **데이터 값을 비교**한다 (deep comparison). compareTo()의 결과를 사용한다. | x.equals(y)\n",
    "compareTo() | equals() 대신에 compareTo()를 사용할 수 있다. 단 **순서를 비교**한다. | \"abc\".compareTo(\"acc\")"
   ]
  },
  {
   "cell_type": "markdown",
   "metadata": {
    "slideshow": {
     "slide_type": "subslide"
    }
   },
   "source": [
    "문자열을 비교할 경우 `equals()`를 사용한다. **==는 참조 값을 비교**한다. \n",
    "아래에서 s1, s2는 서로 다른 객체의 참조 값을 가지고 있다.\n",
    "**데이터 값이 'Hello' 같다고 하더라도, 참조 값은 다르다**."
   ]
  },
  {
   "cell_type": "code",
   "execution_count": 9,
   "metadata": {
    "collapsed": false
   },
   "outputs": [
    {
     "name": "stdout",
     "output_type": "stream",
     "text": [
      " String s1 = new String(\"Hello\");\r\n",
      "|  Added variable s1 of type String with initial value \"Hello\"\r\n",
      "\r\n",
      " String s2 = new String(\"Hello\");\r\n",
      "|  Added variable s2 of type String with initial value \"Hello\"\r\n",
      "\r\n",
      " s1==s2;\r\n",
      "|  Expression value is: false\r\n",
      "|    assigned to temporary variable $24 of type boolean\r\n",
      "\r\n"
     ]
    }
   ],
   "source": [
    "String s1 = new String(\"Hello\");\n",
    "String s2 = new String(\"Hello\");\n",
    "s1==s2;"
   ]
  },
  {
   "cell_type": "markdown",
   "metadata": {
    "collapsed": true,
    "slideshow": {
     "slide_type": "subslide"
    }
   },
   "source": [
    "이럴 경우, hashCode()를 확인하면 다른 값을 가지고 있다.\n",
    "**hashCode()는 equals()를 재정의하면 재정의되어야 하는 함수**라서, 다른 값을 돌려줄 수 있다.\n",
    "hashCode()는 재정의되지 않은 경우, System.identityHashCode()를 호출한다."
   ]
  },
  {
   "cell_type": "code",
   "execution_count": 10,
   "metadata": {
    "collapsed": false
   },
   "outputs": [
    {
     "name": "stdout",
     "output_type": "stream",
     "text": [
      " System.identityHashCode(s1);\r\n",
      "|  Expression value is: 1273765644\r\n",
      "|    assigned to temporary variable $25 of type int\r\n",
      "\r\n",
      " System.identityHashCode(s2);\r\n",
      "|  Expression value is: 1447689627\r\n",
      "|    assigned to temporary variable $26 of type int\r\n",
      "\r\n"
     ]
    }
   ],
   "source": [
    "System.identityHashCode(s1);\n",
    "System.identityHashCode(s2);"
   ]
  },
  {
   "cell_type": "markdown",
   "metadata": {
    "collapsed": true,
    "slideshow": {
     "slide_type": "subslide"
    }
   },
   "source": [
    "따라서 **문자열을 비교할 경우, equals()를 사용**해야 하며, 아래와 같이 값을 비교하면 `true`이다."
   ]
  },
  {
   "cell_type": "code",
   "execution_count": 11,
   "metadata": {
    "collapsed": false
   },
   "outputs": [
    {
     "name": "stdout",
     "output_type": "stream",
     "text": [
      " s1.equals(s2);\r\n",
      "|  Expression value is: true\r\n",
      "|    assigned to temporary variable $27 of type boolean\r\n",
      "\r\n"
     ]
    }
   ],
   "source": [
    "s1.equals(s2);"
   ]
  },
  {
   "cell_type": "markdown",
   "metadata": {
    "slideshow": {
     "slide_type": "subslide"
    }
   },
   "source": [
    "equals()는 Object의 함수이다.\n",
    "* 따라서 원시타잎 double.equals()는 할 수 없다.\n",
    "* 반드시 클래스 Double.equals()를 사용해야 한다."
   ]
  },
  {
   "cell_type": "code",
   "execution_count": 4,
   "metadata": {
    "collapsed": false
   },
   "outputs": [
    {
     "name": "stdout",
     "output_type": "stream",
     "text": [
      " double n=1/3;\r\n",
      "|  Replaced variable n of type double with initial value 0.0\r\n",
      "|    Update overwrote variable n\r\n",
      "\r\n",
      " n.equals(1/3);\r\n",
      "|  Error:\r\n",
      "|  double cannot be dereferenced\r\n",
      "|  n.equals(1/3);\r\n",
      "|  ^------^\r\n",
      "\r\n"
     ]
    }
   ],
   "source": [
    "double n=1/3;     # 0.0값으로 초기화\n",
    "n.equals(1/3);    # double은 원시타잎으로 equlas()를 사용할 수 없슴."
   ]
  },
  {
   "cell_type": "markdown",
   "metadata": {
    "collapsed": true,
    "slideshow": {
     "slide_type": "subslide"
    }
   },
   "source": [
    "equals()는 데이터 값을 비교한다. **Double 1/3.**과 **원시타잎 double 1/3.** 두 값은 같다. Wrapper class의 박싱이 발생하고 있다."
   ]
  },
  {
   "cell_type": "code",
   "execution_count": 5,
   "metadata": {
    "collapsed": false
   },
   "outputs": [
    {
     "name": "stdout",
     "output_type": "stream",
     "text": [
      " Double n=1/3.;\r\n",
      "|  Replaced variable n of type Double with initial value 0.3333333333333333\r\n",
      "|    Update overwrote variable n\r\n",
      "\r\n",
      " n.equals(1/3.);\r\n",
      "|  Expression value is: true\r\n",
      "|    assigned to temporary variable $6 of type boolean\r\n",
      "\r\n"
     ]
    }
   ],
   "source": [
    "Double n=1/3.;\n",
    "n.equals(1/3.);"
   ]
  },
  {
   "cell_type": "markdown",
   "metadata": {
    "collapsed": true,
    "slideshow": {
     "slide_type": "subslide"
    }
   },
   "source": [
    "**데이터 타잎이 다르면 값이 같아도 equals()는 false**이다. 아래 Integer(1)과 Long(1)을 비교하면 `false`이다."
   ]
  },
  {
   "cell_type": "code",
   "execution_count": 12,
   "metadata": {
    "collapsed": false
   },
   "outputs": [
    {
     "name": "stdout",
     "output_type": "stream",
     "text": [
      " new Integer(1).equals(new Long(1));\r\n",
      "|  Expression value is: false\r\n",
      "|    assigned to temporary variable $28 of type boolean\r\n",
      "\r\n"
     ]
    }
   ],
   "source": [
    "new Integer(1).equals(new Long(1));"
   ]
  },
  {
   "cell_type": "markdown",
   "metadata": {
    "slideshow": {
     "slide_type": "slide"
    }
   },
   "source": [
    "## 제어-4: 온도를 입력받아서 F-C 변환\n",
    "\n",
    "* 프로그래밍 요소\n",
    "    * 다분기 if-elseif를 이해한다.\n",
    "    * 사용자 입력을 이해한다.\n",
    "    * 데이터형 (문자열, 정수, 소수)을 이해한다.\n",
    "    * 화면출력을 이해한다.\n",
    "\n",
    "* 앞서 배운 변수를 이해하고, 사용자에게서 받은 변수에 따라 프로그램의 반응이 달라진다."
   ]
  },
  {
   "cell_type": "code",
   "execution_count": 4,
   "metadata": {
    "collapsed": false,
    "slideshow": {
     "slide_type": "subslide"
    }
   },
   "outputs": [
    {
     "data": {
      "image/svg+xml": [
       "<svg height=\"369px\" style=\"width:405px;height:369px;\" version=\"1.1\" viewBox=\"0 0 405 369\" width=\"405px\" xmlns=\"http://www.w3.org/2000/svg\" xmlns:xlink=\"http://www.w3.org/1999/xlink\"><defs><filter height=\"300%\" id=\"f1\" width=\"300%\" x=\"-1\" y=\"-1\"><feGaussianBlur result=\"blurOut\" stdDeviation=\"2.0\"/><feColorMatrix in=\"blurOut\" result=\"blurOut2\" type=\"matrix\" values=\"0 0 0 0 0 0 0 0 0 0 0 0 0 0 0 0 0 0 .4 0\"/><feOffset dx=\"4.0\" dy=\"4.0\" in=\"blurOut2\" result=\"blurOut3\"/><feBlend in=\"SourceGraphic\" in2=\"blurOut3\" mode=\"normal\"/></filter></defs><g><ellipse cx=\"204\" cy=\"20\" fill=\"#000000\" filter=\"url(#f1)\" rx=\"10\" ry=\"10\" style=\"stroke: none; stroke-width: 1.0;\"/><rect fill=\"#FEFECE\" filter=\"url(#f1)\" height=\"33.9629\" rx=\"12.5\" ry=\"12.5\" style=\"stroke: #A80036; stroke-width: 1.5;\" width=\"138\" x=\"135\" y=\"50\"/><text fill=\"#000000\" font-family=\"sans-serif\" font-size=\"12\" lengthAdjust=\"spacingAndGlyphs\" textLength=\"118\" x=\"145\" y=\"71.4023\">get user input F or C</text><rect fill=\"#FEFECE\" filter=\"url(#f1)\" height=\"33.9629\" rx=\"12.5\" ry=\"12.5\" style=\"stroke: #A80036; stroke-width: 1.5;\" width=\"176\" x=\"116\" y=\"103.9629\"/><text fill=\"#000000\" font-family=\"sans-serif\" font-size=\"12\" lengthAdjust=\"spacingAndGlyphs\" textLength=\"156\" x=\"126\" y=\"125.3652\">get user input temperature</text><polygon fill=\"#FEFECE\" filter=\"url(#f1)\" points=\"27.5,157.9258,91.5,157.9258,103.5,169.9258,91.5,181.9258,27.5,181.9258,15.5,169.9258,27.5,157.9258\" style=\"stroke: #A80036; stroke-width: 1.5;\"/><text fill=\"#000000\" font-family=\"sans-serif\" font-size=\"11\" lengthAdjust=\"spacingAndGlyphs\" textLength=\"6\" x=\"63.5\" y=\"192.3779\">F</text><text fill=\"#000000\" font-family=\"sans-serif\" font-size=\"11\" lengthAdjust=\"spacingAndGlyphs\" textLength=\"64\" x=\"27.5\" y=\"173.9783\">user input F</text><rect fill=\"#FEFECE\" filter=\"url(#f1)\" height=\"33.9629\" rx=\"12.5\" ry=\"12.5\" style=\"stroke: #A80036; stroke-width: 1.5;\" width=\"99\" x=\"10\" y=\"214.7251\"/><text fill=\"#000000\" font-family=\"sans-serif\" font-size=\"12\" lengthAdjust=\"spacingAndGlyphs\" textLength=\"79\" x=\"20\" y=\"236.1274\">convert F to C</text><polygon fill=\"#FEFECE\" filter=\"url(#f1)\" points=\"145.5,157.9258,211.5,157.9258,223.5,169.9258,211.5,181.9258,145.5,181.9258,133.5,169.9258,145.5,157.9258\" style=\"stroke: #A80036; stroke-width: 1.5;\"/><text fill=\"#000000\" font-family=\"sans-serif\" font-size=\"11\" lengthAdjust=\"spacingAndGlyphs\" textLength=\"8\" x=\"182.5\" y=\"192.3779\">C</text><text fill=\"#000000\" font-family=\"sans-serif\" font-size=\"11\" lengthAdjust=\"spacingAndGlyphs\" textLength=\"66\" x=\"145.5\" y=\"173.9783\">user input C</text><text fill=\"#000000\" font-family=\"sans-serif\" font-size=\"11\" lengthAdjust=\"spacingAndGlyphs\" textLength=\"80\" x=\"223.5\" y=\"167.5786\">neither F nor C</text><rect fill=\"#FEFECE\" filter=\"url(#f1)\" height=\"33.9629\" rx=\"12.5\" ry=\"12.5\" style=\"stroke: #A80036; stroke-width: 1.5;\" width=\"99\" x=\"129\" y=\"214.7251\"/><text fill=\"#000000\" font-family=\"sans-serif\" font-size=\"12\" lengthAdjust=\"spacingAndGlyphs\" textLength=\"79\" x=\"139\" y=\"236.1274\">convert C to F</text><rect fill=\"#FEFECE\" filter=\"url(#f1)\" height=\"33.9629\" rx=\"12.5\" ry=\"12.5\" style=\"stroke: #A80036; stroke-width: 1.5;\" width=\"150\" x=\"248\" y=\"211.3254\"/><text fill=\"#000000\" font-family=\"sans-serif\" font-size=\"12\" lengthAdjust=\"spacingAndGlyphs\" textLength=\"130\" x=\"258\" y=\"232.7278\">print &quot;user input error&quot;</text><rect fill=\"#FEFECE\" filter=\"url(#f1)\" height=\"33.9629\" rx=\"12.5\" ry=\"12.5\" style=\"stroke: #A80036; stroke-width: 1.5;\" width=\"83\" x=\"162.5\" y=\"288.688\"/><text fill=\"#000000\" font-family=\"sans-serif\" font-size=\"12\" lengthAdjust=\"spacingAndGlyphs\" textLength=\"63\" x=\"172.5\" y=\"310.0903\">print result</text><ellipse cx=\"204\" cy=\"352.6509\" fill=\"none\" filter=\"url(#f1)\" rx=\"10\" ry=\"10\" style=\"stroke: #000000; stroke-width: 1.0;\"/><ellipse cx=\"204.5\" cy=\"353.1509\" fill=\"#000000\" filter=\"url(#f1)\" rx=\"6\" ry=\"6\" style=\"stroke: none; stroke-width: 1.0;\"/><line style=\"stroke: #A80036; stroke-width: 1.5;\" x1=\"204\" x2=\"204\" y1=\"30\" y2=\"50\"/><polygon fill=\"#A80036\" points=\"200,40,204,50,208,40,204,44\" style=\"stroke: #A80036; stroke-width: 1.0;\"/><line style=\"stroke: #A80036; stroke-width: 1.5;\" x1=\"204\" x2=\"204\" y1=\"83.9629\" y2=\"103.9629\"/><polygon fill=\"#A80036\" points=\"200,93.9629,204,103.9629,208,93.9629,204,97.9629\" style=\"stroke: #A80036; stroke-width: 1.0;\"/><line style=\"stroke: #A80036; stroke-width: 1.5;\" x1=\"59.5\" x2=\"59.5\" y1=\"181.9258\" y2=\"214.7251\"/><polygon fill=\"#A80036\" points=\"55.5,204.7251,59.5,214.7251,63.5,204.7251,59.5,208.7251\" style=\"stroke: #A80036; stroke-width: 1.0;\"/><line style=\"stroke: #A80036; stroke-width: 1.5;\" x1=\"59.5\" x2=\"59.5\" y1=\"248.688\" y2=\"268.688\"/><polygon fill=\"#A80036\" points=\"55.5,258.688,59.5,268.688,63.5,258.688,59.5,262.688\" style=\"stroke: #A80036; stroke-width: 1.0;\"/><line style=\"stroke: #A80036; stroke-width: 1.5;\" x1=\"178.5\" x2=\"178.5\" y1=\"181.9258\" y2=\"214.7251\"/><polygon fill=\"#A80036\" points=\"174.5,204.7251,178.5,214.7251,182.5,204.7251,178.5,208.7251\" style=\"stroke: #A80036; stroke-width: 1.0;\"/><line style=\"stroke: #A80036; stroke-width: 1.5;\" x1=\"178.5\" x2=\"178.5\" y1=\"248.688\" y2=\"268.688\"/><polygon fill=\"#A80036\" points=\"174.5,258.688,178.5,268.688,182.5,258.688,178.5,262.688\" style=\"stroke: #A80036; stroke-width: 1.0;\"/><line style=\"stroke: #A80036; stroke-width: 1.5;\" x1=\"103.5\" x2=\"133.5\" y1=\"169.9258\" y2=\"169.9258\"/><polygon fill=\"#A80036\" points=\"123.5,165.9258,133.5,169.9258,123.5,173.9258,127.5,169.9258\" style=\"stroke: #A80036; stroke-width: 1.0;\"/><line style=\"stroke: #A80036; stroke-width: 1.5;\" x1=\"204\" x2=\"204\" y1=\"137.9258\" y2=\"142.9258\"/><line style=\"stroke: #A80036; stroke-width: 1.5;\" x1=\"204\" x2=\"59.5\" y1=\"142.9258\" y2=\"142.9258\"/><line style=\"stroke: #A80036; stroke-width: 1.5;\" x1=\"59.5\" x2=\"59.5\" y1=\"142.9258\" y2=\"157.9258\"/><polygon fill=\"#A80036\" points=\"55.5,147.9258,59.5,157.9258,63.5,147.9258,59.5,151.9258\" style=\"stroke: #A80036; stroke-width: 1.0;\"/><line style=\"stroke: #A80036; stroke-width: 1.5;\" x1=\"223.5\" x2=\"323\" y1=\"169.9258\" y2=\"169.9258\"/><line style=\"stroke: #A80036; stroke-width: 1.5;\" x1=\"323\" x2=\"323\" y1=\"169.9258\" y2=\"211.3254\"/><polygon fill=\"#A80036\" points=\"319,201.3254,323,211.3254,327,201.3254,323,205.3254\" style=\"stroke: #A80036; stroke-width: 1.0;\"/><line style=\"stroke: #A80036; stroke-width: 1.5;\" x1=\"323\" x2=\"323\" y1=\"245.2883\" y2=\"268.688\"/><polygon fill=\"#A80036\" points=\"319,258.688,323,268.688,327,258.688,323,262.688\" style=\"stroke: #A80036; stroke-width: 1.0;\"/><line style=\"stroke: #A80036; stroke-width: 1.5;\" x1=\"59.5\" x2=\"323\" y1=\"268.688\" y2=\"268.688\"/><line style=\"stroke: #A80036; stroke-width: 1.5;\" x1=\"204\" x2=\"204\" y1=\"268.688\" y2=\"288.688\"/><polygon fill=\"#A80036\" points=\"200,278.688,204,288.688,208,278.688,204,282.688\" style=\"stroke: #A80036; stroke-width: 1.0;\"/><line style=\"stroke: #A80036; stroke-width: 1.5;\" x1=\"204\" x2=\"204\" y1=\"322.6509\" y2=\"342.6509\"/><polygon fill=\"#A80036\" points=\"200,332.6509,204,342.6509,208,332.6509,204,336.6509\" style=\"stroke: #A80036; stroke-width: 1.0;\"/></g></svg>"
      ],
      "text/plain": [
       "<IPython.core.display.SVG object>"
      ]
     },
     "execution_count": 4,
     "metadata": {},
     "output_type": "execute_result"
    }
   ],
   "source": [
    "%%plantuml\n",
    "@startuml\n",
    "start\n",
    ":get user input F or C;\n",
    ":get user input temperature;\n",
    "if (user input F) then (F)\n",
    "    :convert F to C;\n",
    "elseif(user input C) then(C)\n",
    "    :convert C to F;\n",
    "else(neither F nor C)\n",
    ":print \"user input error\";\n",
    "endif\n",
    ":print result;\n",
    "stop\n",
    "@enduml"
   ]
  },
  {
   "cell_type": "markdown",
   "metadata": {
    "slideshow": {
     "slide_type": "subslide"
    }
   },
   "source": [
    "사용자 입력이 F, C 로 받고, 결과를 출력하는 테스트를 해보자.\n",
    "\n",
    "결과 `res` 값은 소수이다. double로 선언한다.\n",
    "float와 double은 크기와 출력 자리수가 서로 차이가 있다.\n",
    "float는 32비트, double은 그 두배이고 정밀도에 있어서도 그만큼 차이가 있다.\n",
    "\n",
    "구분 | float | double\n",
    "-----|-----|-----\n",
    "크기 | 32 bits | 64 bits\n",
    "소수 자리수 | 6~9 | 15~17\n",
    "\n",
    "연산하면서 정수끼리 나누면 출력 값은 정수이다. 5/**9.0**으로 나누어 형변환을 하고 있다.\n",
    "결과 값을 섭씨(C)인지 화씨(F)인지 표시하기 위해 **`sel.equals(\"F\")? \"C\":\"F\"`**를 사용하고 있다."
   ]
  },
  {
   "cell_type": "code",
   "execution_count": 3,
   "metadata": {
    "collapsed": false,
    "slideshow": {
     "slide_type": "subslide"
    }
   },
   "outputs": [
    {
     "name": "stdout",
     "output_type": "stream",
     "text": [
      " Scanner sc=new Scanner(\"C\");\r\n",
      "|  Modified variable sc of type Scanner with initial value java.util.Scanner[delimiters=\\p{javaWhitespace}+][position=0][match valid=false][need input=false][source closed=false][skipped=false][group separator=\\,][decimal separator=\\.][positive prefix=][negative prefix=\\Q-\\E][positive suffix=][negative suffix=][NaN string=\\QNaN\\E][infinity string=\\Q∞\\E]\r\n",
      "|    Update overwrote variable sc\r\n",
      "\r\n",
      " String sel=sc.next();\r\n",
      "|  Modified variable sel of type String with initial value \"C\"\r\n",
      "|    Update overwrote variable sel\r\n",
      "\r\n",
      " double temp=25.1;\r\n",
      "|  Modified variable temp of type double with initial value 25.1\r\n",
      "|    Update overwrote variable temp\r\n",
      "\r\n",
      " double res;\r\n",
      "|  Modified variable res of type double\r\n",
      "|    Update overwrote variable res\r\n",
      "\r\n",
      " if (sel.equals(\"F\")) {\r\n",
      "     res=(temp-32)*5/9.0;\r\n",
      " } else if (sel.equals(\"C\")) {\r\n",
      "     res=temp*9.0/5.0+32;\r\n",
      " }\r\n",
      "\r\n",
      " System.out.printf(\"%.1f%s converted into: %.1f%s\",temp,sel,res, sel.equals(\"F \r",
      "\")? \"C\":\"F\");\r\n",
      "25.1C converted into: 77.2F|  Expression value is: java.io.PrintStream@1f36e637\r\n",
      "|    assigned to temporary variable $16 of type PrintStream\r\n",
      "\r\n"
     ]
    }
   ],
   "source": [
    "Scanner sc=new Scanner(\"C\");\n",
    "String sel=sc.next();\n",
    "double temp=25.1;\n",
    "double res;\n",
    "if (sel.equals(\"F\")) {\n",
    "    res=(temp-32)*5/9.0;\n",
    "} else if (sel.equals(\"C\")) {\n",
    "    res=temp*9.0/5.0+32;\n",
    "}\n",
    "System.out.printf(\"%.1f%s converted into: %.1f%s\",temp,sel,res,sel.equals(\"F\")? \"C\":\"F\");"
   ]
  },
  {
   "cell_type": "markdown",
   "metadata": {
    "slideshow": {
     "slide_type": "subslide"
    }
   },
   "source": [
    "###  클래스로 만들기\n",
    "\n",
    "* 앞서 테스트한 내용을 함수 `double convertTemperature(String sel,double temp)`로 구현하여 클래스에 넣는다.\n",
    "double타잎을 사용하면 float, double 모두 사용할 수 있게 된다.\n",
    "\n",
    "* 함수의 입력\n",
    "\n",
    "입력 변수 | 설명\n",
    "-----|-----\n",
    "String sel | 사용자 선택 F, C\n",
    "double temp | 온도\n",
    "\n",
    "* 함수의 출력\n",
    "\n",
    "출력 변수 | 설명\n",
    "-----|-----\n",
    "double res | 온도의 변환 결과\n"
   ]
  },
  {
   "cell_type": "code",
   "execution_count": null,
   "metadata": {
    "collapsed": true,
    "slideshow": {
     "slide_type": "subslide"
    }
   },
   "outputs": [],
   "source": [
    "# %load src/j_5_fcConversionMain.java\n",
    "import java.util.Scanner;\n",
    "\n",
    "public class j_5_fcConversionMain {\n",
    "    /*static void f2c(float f) {\n",
    "        float fahrenheit = f;\n",
    "        float celsius = ((float)5 / 9) * (fahrenheit - 32);\n",
    "        System.out.printf(\"Fahrenheit %.1f is %.1f in Celsius\", fahrenheit, celsius);\n",
    "    }*/\n",
    "    static double convertTemperature(String sel,double temp) {\n",
    "        double res=0.0;\n",
    "        if (sel.equals(\"F\")) {\n",
    "            res=(temp-32)*5/9.0;\n",
    "        } else if (sel.equals(\"C\")) {\n",
    "            res=temp*9.0/5.0+32;\n",
    "        }\n",
    "        return res;\n",
    "    }\n",
    "    public static void main(String[] args) {\n",
    "        System.out.print(\"Enter Temperature: \");\n",
    "        Scanner sc = new Scanner(System.in);\n",
    "        float temp=sc.nextFloat();\n",
    "        System.out.print(\"Enter F or C: \");\n",
    "        String sel=sc.next();\n",
    "        double result=convertTemperature(sel,temp);\n",
    "        System.out.printf(\"%.1f%s converted into: %.1f\",temp,sel,result);\n",
    "    }\n",
    "}\n",
    "\n"
   ]
  },
  {
   "cell_type": "markdown",
   "metadata": {
    "collapsed": false,
    "slideshow": {
     "slide_type": "slide"
    }
   },
   "source": [
    "## 제어-5: 성적을 입력받아 A~F 학점 처리\n",
    "\n",
    "### 문제\n",
    "\n",
    "사용자에게 성적점수 0 ~ 100를 입력받아서 학점  A~F로 변환\n",
    "\n",
    "학점 | 점수 구간\n",
    "-----|-----\n",
    "A | 90 <= 점수 <=100\n",
    "B | 80 <= 점수 < 90\n",
    "C | 70 <= 점수 < 80\n",
    "D | 60 <= 점수 < 70\n",
    "\n",
    "### 해결\n",
    "\n",
    "* 문제 1-2 온도변환 참조\n",
    "* 프로그래밍 요소\n",
    "    * 다분기 조건을 사용한다.\n",
    "    * 사용자 입력을 받는다 (0~100점 점수)\n",
    "    * 사용자 입력 값을 연산하려면 소수로 받는다.\n",
    "    * 값을 형식에 맞추어 출력한다.\n",
    "* 함수\n",
    "    * computeGrade(double marks):char or String"
   ]
  },
  {
   "cell_type": "markdown",
   "metadata": {
    "slideshow": {
     "slide_type": "subslide"
    }
   },
   "source": [
    "* 다분기 다이어그램 형식"
   ]
  },
  {
   "cell_type": "code",
   "execution_count": 7,
   "metadata": {
    "collapsed": false,
    "slideshow": {
     "slide_type": "subslide"
    }
   },
   "outputs": [
    {
     "data": {
      "image/svg+xml": [
       "<svg height=\"306px\" style=\"width:631px;height:306px;\" version=\"1.1\" viewBox=\"0 0 631 306\" width=\"631px\" xmlns=\"http://www.w3.org/2000/svg\" xmlns:xlink=\"http://www.w3.org/1999/xlink\"><defs><filter height=\"300%\" id=\"f1\" width=\"300%\" x=\"-1\" y=\"-1\"><feGaussianBlur result=\"blurOut\" stdDeviation=\"2.0\"/><feColorMatrix in=\"blurOut\" result=\"blurOut2\" type=\"matrix\" values=\"0 0 0 0 0 0 0 0 0 0 0 0 0 0 0 0 0 0 .4 0\"/><feOffset dx=\"4.0\" dy=\"4.0\" in=\"blurOut2\" result=\"blurOut3\"/><feBlend in=\"SourceGraphic\" in2=\"blurOut3\" mode=\"normal\"/></filter></defs><g><ellipse cx=\"317\" cy=\"20\" fill=\"#000000\" filter=\"url(#f1)\" rx=\"10\" ry=\"10\" style=\"stroke: none; stroke-width: 1.0;\"/><rect fill=\"#FEFECE\" filter=\"url(#f1)\" height=\"34.1328\" rx=\"12.5\" ry=\"12.5\" style=\"stroke: #A80036; stroke-width: 1.5;\" width=\"140\" x=\"247\" y=\"50\"/><text fill=\"#000000\" font-family=\"sans-serif\" font-size=\"12\" lengthAdjust=\"spacingAndGlyphs\" textLength=\"120\" x=\"257\" y=\"71.6016\">get user input marks</text><polygon fill=\"#FEFECE\" filter=\"url(#f1)\" points=\"22,104.1328,126,104.1328,138,116.1328,126,128.1328,22,128.1328,10,116.1328,22,104.1328\" style=\"stroke: #A80036; stroke-width: 1.5;\"/><text fill=\"#000000\" font-family=\"sans-serif\" font-size=\"11\" lengthAdjust=\"spacingAndGlyphs\" textLength=\"104\" x=\"22\" y=\"120.29\">90=&lt;marks=&lt;100</text><rect fill=\"#FEFECE\" filter=\"url(#f1)\" height=\"34.1328\" rx=\"12.5\" ry=\"12.5\" style=\"stroke: #A80036; stroke-width: 1.5;\" width=\"72\" x=\"38\" y=\"148.1328\"/><text fill=\"#000000\" font-family=\"sans-serif\" font-size=\"12\" lengthAdjust=\"spacingAndGlyphs\" textLength=\"52\" x=\"48\" y=\"169.7344\">grade=A</text><polygon fill=\"#FEFECE\" filter=\"url(#f1)\" points=\"170,104.1328,258,104.1328,270,116.1328,258,128.1328,170,128.1328,158,116.1328,170,104.1328\" style=\"stroke: #A80036; stroke-width: 1.5;\"/><text fill=\"#000000\" font-family=\"sans-serif\" font-size=\"11\" lengthAdjust=\"spacingAndGlyphs\" textLength=\"88\" x=\"170\" y=\"120.29\">80&lt;=marks&lt;90</text><rect fill=\"#FEFECE\" filter=\"url(#f1)\" height=\"34.1328\" rx=\"12.5\" ry=\"12.5\" style=\"stroke: #A80036; stroke-width: 1.5;\" width=\"71\" x=\"178.5\" y=\"148.1328\"/><text fill=\"#000000\" font-family=\"sans-serif\" font-size=\"12\" lengthAdjust=\"spacingAndGlyphs\" textLength=\"51\" x=\"188.5\" y=\"169.7344\">grade=B</text><polygon fill=\"#FEFECE\" filter=\"url(#f1)\" points=\"302,104.1328,390,104.1328,402,116.1328,390,128.1328,302,128.1328,290,116.1328,302,104.1328\" style=\"stroke: #A80036; stroke-width: 1.5;\"/><text fill=\"#000000\" font-family=\"sans-serif\" font-size=\"11\" lengthAdjust=\"spacingAndGlyphs\" textLength=\"88\" x=\"302\" y=\"120.29\">70&lt;=marks&lt;80</text><rect fill=\"#FEFECE\" filter=\"url(#f1)\" height=\"34.1328\" rx=\"12.5\" ry=\"12.5\" style=\"stroke: #A80036; stroke-width: 1.5;\" width=\"72\" x=\"310\" y=\"148.1328\"/><text fill=\"#000000\" font-family=\"sans-serif\" font-size=\"12\" lengthAdjust=\"spacingAndGlyphs\" textLength=\"52\" x=\"320\" y=\"169.7344\">grade=C</text><polygon fill=\"#FEFECE\" filter=\"url(#f1)\" points=\"434,104.1328,522,104.1328,534,116.1328,522,128.1328,434,128.1328,422,116.1328,434,104.1328\" style=\"stroke: #A80036; stroke-width: 1.5;\"/><text fill=\"#000000\" font-family=\"sans-serif\" font-size=\"11\" lengthAdjust=\"spacingAndGlyphs\" textLength=\"88\" x=\"434\" y=\"120.29\">60&lt;=marks&lt;70</text><rect fill=\"#FEFECE\" filter=\"url(#f1)\" height=\"34.1328\" rx=\"12.5\" ry=\"12.5\" style=\"stroke: #A80036; stroke-width: 1.5;\" width=\"73\" x=\"441.5\" y=\"148.1328\"/><text fill=\"#000000\" font-family=\"sans-serif\" font-size=\"12\" lengthAdjust=\"spacingAndGlyphs\" textLength=\"53\" x=\"451.5\" y=\"169.7344\">grade=D</text><rect fill=\"#FEFECE\" filter=\"url(#f1)\" height=\"34.1328\" rx=\"12.5\" ry=\"12.5\" style=\"stroke: #A80036; stroke-width: 1.5;\" width=\"70\" x=\"554\" y=\"151.1328\"/><text fill=\"#000000\" font-family=\"sans-serif\" font-size=\"12\" lengthAdjust=\"spacingAndGlyphs\" textLength=\"50\" x=\"564\" y=\"172.7344\">grade=F</text><rect fill=\"#FEFECE\" filter=\"url(#f1)\" height=\"34.1328\" rx=\"12.5\" ry=\"12.5\" style=\"stroke: #A80036; stroke-width: 1.5;\" width=\"85\" x=\"274.5\" y=\"225.2656\"/><text fill=\"#000000\" font-family=\"sans-serif\" font-size=\"12\" lengthAdjust=\"spacingAndGlyphs\" textLength=\"65\" x=\"284.5\" y=\"246.8672\">print grade</text><ellipse cx=\"317\" cy=\"289.3984\" fill=\"none\" filter=\"url(#f1)\" rx=\"10\" ry=\"10\" style=\"stroke: #000000; stroke-width: 1.0;\"/><ellipse cx=\"317.5\" cy=\"289.8984\" fill=\"#000000\" filter=\"url(#f1)\" rx=\"6\" ry=\"6\" style=\"stroke: none; stroke-width: 1.0;\"/><line style=\"stroke: #A80036; stroke-width: 1.5;\" x1=\"317\" x2=\"317\" y1=\"30\" y2=\"50\"/><polygon fill=\"#A80036\" points=\"313,40,317,50,321,40,317,44\" style=\"stroke: #A80036; stroke-width: 1.0;\"/><line style=\"stroke: #A80036; stroke-width: 1.5;\" x1=\"74\" x2=\"74\" y1=\"128.1328\" y2=\"148.1328\"/><polygon fill=\"#A80036\" points=\"70,138.1328,74,148.1328,78,138.1328,74,142.1328\" style=\"stroke: #A80036; stroke-width: 1.0;\"/><line style=\"stroke: #A80036; stroke-width: 1.5;\" x1=\"74\" x2=\"74\" y1=\"182.2656\" y2=\"205.2656\"/><polygon fill=\"#A80036\" points=\"70,195.2656,74,205.2656,78,195.2656,74,199.2656\" style=\"stroke: #A80036; stroke-width: 1.0;\"/><line style=\"stroke: #A80036; stroke-width: 1.5;\" x1=\"214\" x2=\"214\" y1=\"128.1328\" y2=\"148.1328\"/><polygon fill=\"#A80036\" points=\"210,138.1328,214,148.1328,218,138.1328,214,142.1328\" style=\"stroke: #A80036; stroke-width: 1.0;\"/><line style=\"stroke: #A80036; stroke-width: 1.5;\" x1=\"214\" x2=\"214\" y1=\"182.2656\" y2=\"205.2656\"/><polygon fill=\"#A80036\" points=\"210,195.2656,214,205.2656,218,195.2656,214,199.2656\" style=\"stroke: #A80036; stroke-width: 1.0;\"/><line style=\"stroke: #A80036; stroke-width: 1.5;\" x1=\"346\" x2=\"346\" y1=\"128.1328\" y2=\"148.1328\"/><polygon fill=\"#A80036\" points=\"342,138.1328,346,148.1328,350,138.1328,346,142.1328\" style=\"stroke: #A80036; stroke-width: 1.0;\"/><line style=\"stroke: #A80036; stroke-width: 1.5;\" x1=\"346\" x2=\"346\" y1=\"182.2656\" y2=\"205.2656\"/><polygon fill=\"#A80036\" points=\"342,195.2656,346,205.2656,350,195.2656,346,199.2656\" style=\"stroke: #A80036; stroke-width: 1.0;\"/><line style=\"stroke: #A80036; stroke-width: 1.5;\" x1=\"478\" x2=\"478\" y1=\"128.1328\" y2=\"148.1328\"/><polygon fill=\"#A80036\" points=\"474,138.1328,478,148.1328,482,138.1328,478,142.1328\" style=\"stroke: #A80036; stroke-width: 1.0;\"/><line style=\"stroke: #A80036; stroke-width: 1.5;\" x1=\"478\" x2=\"478\" y1=\"182.2656\" y2=\"205.2656\"/><polygon fill=\"#A80036\" points=\"474,195.2656,478,205.2656,482,195.2656,478,199.2656\" style=\"stroke: #A80036; stroke-width: 1.0;\"/><line style=\"stroke: #A80036; stroke-width: 1.5;\" x1=\"138\" x2=\"158\" y1=\"116.1328\" y2=\"116.1328\"/><polygon fill=\"#A80036\" points=\"148,112.1328,158,116.1328,148,120.1328,152,116.1328\" style=\"stroke: #A80036; stroke-width: 1.0;\"/><line style=\"stroke: #A80036; stroke-width: 1.5;\" x1=\"270\" x2=\"290\" y1=\"116.1328\" y2=\"116.1328\"/><polygon fill=\"#A80036\" points=\"280,112.1328,290,116.1328,280,120.1328,284,116.1328\" style=\"stroke: #A80036; stroke-width: 1.0;\"/><line style=\"stroke: #A80036; stroke-width: 1.5;\" x1=\"402\" x2=\"422\" y1=\"116.1328\" y2=\"116.1328\"/><polygon fill=\"#A80036\" points=\"412,112.1328,422,116.1328,412,120.1328,416,116.1328\" style=\"stroke: #A80036; stroke-width: 1.0;\"/><line style=\"stroke: #A80036; stroke-width: 1.5;\" x1=\"317\" x2=\"317\" y1=\"84.1328\" y2=\"89.1328\"/><line style=\"stroke: #A80036; stroke-width: 1.5;\" x1=\"317\" x2=\"74\" y1=\"89.1328\" y2=\"89.1328\"/><line style=\"stroke: #A80036; stroke-width: 1.5;\" x1=\"74\" x2=\"74\" y1=\"89.1328\" y2=\"104.1328\"/><polygon fill=\"#A80036\" points=\"70,94.1328,74,104.1328,78,94.1328,74,98.1328\" style=\"stroke: #A80036; stroke-width: 1.0;\"/><line style=\"stroke: #A80036; stroke-width: 1.5;\" x1=\"534\" x2=\"589\" y1=\"116.1328\" y2=\"116.1328\"/><line style=\"stroke: #A80036; stroke-width: 1.5;\" x1=\"589\" x2=\"589\" y1=\"116.1328\" y2=\"151.1328\"/><polygon fill=\"#A80036\" points=\"585,141.1328,589,151.1328,593,141.1328,589,145.1328\" style=\"stroke: #A80036; stroke-width: 1.0;\"/><line style=\"stroke: #A80036; stroke-width: 1.5;\" x1=\"589\" x2=\"589\" y1=\"185.2656\" y2=\"205.2656\"/><polygon fill=\"#A80036\" points=\"585,195.2656,589,205.2656,593,195.2656,589,199.2656\" style=\"stroke: #A80036; stroke-width: 1.0;\"/><line style=\"stroke: #A80036; stroke-width: 1.5;\" x1=\"74\" x2=\"589\" y1=\"205.2656\" y2=\"205.2656\"/><line style=\"stroke: #A80036; stroke-width: 1.5;\" x1=\"317\" x2=\"317\" y1=\"205.2656\" y2=\"225.2656\"/><polygon fill=\"#A80036\" points=\"313,215.2656,317,225.2656,321,215.2656,317,219.2656\" style=\"stroke: #A80036; stroke-width: 1.0;\"/><line style=\"stroke: #A80036; stroke-width: 1.5;\" x1=\"317\" x2=\"317\" y1=\"259.3984\" y2=\"279.3984\"/><polygon fill=\"#A80036\" points=\"313,269.3984,317,279.3984,321,269.3984,317,273.3984\" style=\"stroke: #A80036; stroke-width: 1.0;\"/></g></svg>"
      ],
      "text/plain": [
       "<IPython.core.display.SVG object>"
      ]
     },
     "execution_count": 7,
     "metadata": {},
     "output_type": "execute_result"
    }
   ],
   "source": [
    "%%plantuml\n",
    "@startuml\n",
    "start\n",
    ":get user input marks;\n",
    "if (90=<marks=<100)\n",
    "    :grade=A;\n",
    "elseif(80<=marks<90)\n",
    "    :grade=B;\n",
    "elseif(70<=marks<80)\n",
    "    :grade=C;\n",
    "elseif(60<=marks<70)\n",
    "    :grade=D;\n",
    "else\n",
    "    :grade=F;\n",
    "endif\n",
    "    :print grade;\n",
    "stop\n",
    "@enduml"
   ]
  },
  {
   "cell_type": "markdown",
   "metadata": {
    "slideshow": {
     "slide_type": "subslide"
    }
   },
   "source": [
    "### if문\n",
    "\n",
    "if문은 **구간 조건**에 따라 분기한다. 구간 조건은 점수와 같이 **연속적인 값**이다. 비연속적인 값을 사용하는 경우, 나라를 비교하거나 과일의 종류를 비교하는 경우에는 하나씩 하나씩 비교한다.\n",
    "\n",
    "### 점수 데이터 타잎\n",
    "점수는 0~100점 사이, **소수점 2자리로 충분하기 때문에 `float`**로 선언한다.\n",
    "자바는 double을 기본으로 사용하기 때문에 다운캐스팅은 오류를 발생한다.\n",
    "```java\n",
    "float marks=91.5;   //오류\n",
    "```\n",
    "\n",
    "### 등급 데이터 타잎\n",
    "\n",
    "점수 등급은 `char` 또는 `String`을 사용할 수 있지만, **외 문자로 사용하기 때문에 char를 사용**한다.\n",
    "\n",
    "구분 | 글자의 사용 | 따옴표의 사용 | 초기 값\n",
    "-----|-----|-----|-----\n",
    "char | 한 글자 | 외 따옴표 | 0\n",
    "String | 여러 글자 | 쌍 따옴표 | null이기 때문에 주의해야 한다"
   ]
  },
  {
   "cell_type": "code",
   "execution_count": 1,
   "metadata": {
    "collapsed": false,
    "slideshow": {
     "slide_type": "subslide"
    }
   },
   "outputs": [
    {
     "name": "stdout",
     "output_type": "stream",
     "text": [
      " char c='a';\r\n",
      "|  Added variable c of type char with initial value 'a'\r\n",
      "\r\n",
      " String s=\"a\";\r\n",
      "|  Added variable s of type String with initial value \"a\"\r\n",
      "\r\n",
      " System.out.printf(\"%c %s\",c,s);\r\n",
      "a a|  Expression value is: java.io.PrintStream@27c20538\r\n",
      "|    assigned to temporary variable $3 of type PrintStream\r\n",
      "\r\n"
     ]
    }
   ],
   "source": [
    "char c='a';\n",
    "String s=\"a\";\n",
    "System.out.printf(\"%c %s\",c,s);"
   ]
  },
  {
   "cell_type": "code",
   "execution_count": 2,
   "metadata": {
    "collapsed": false,
    "scrolled": true,
    "slideshow": {
     "slide_type": "subslide"
    }
   },
   "outputs": [
    {
     "name": "stdout",
     "output_type": "stream",
     "text": [
      " double marks=91.5;\r\n",
      "|  Replaced variable marks of type double with initial value 91.5\r\n",
      "|    Update overwrote variable marks\r\n",
      "\r\n",
      " char grade=0;\r\n",
      "|  Added variable grade of type char with initial value '\u0000'\r\n",
      "\r\n",
      " if(90<=marks && marks <=100) {\r\n",
      "     grade='A';\r\n",
      " } else if (80<=marks && marks <90) {\r\n",
      "     grade='B';\r\n",
      " } else if (70<=marks && marks <80) {\r\n",
      "     grade='C';\r\n",
      " } else if (60<=marks && marks <70) {\r\n",
      "     grade='D';\r\n",
      " } else {\r\n",
      "     grade='F';\r\n",
      " }\r\n",
      "\r\n",
      " System.out.println(\"grade is \"+grade);\r\n",
      "grade is A\r\n",
      "\r\n"
     ]
    }
   ],
   "source": [
    "float marks=(float)91.5;\n",
    "char grade=0;\n",
    "if(90<=marks && marks <=100) {\n",
    "    grade='A';\n",
    "} else if (80<=marks && marks <90) {\n",
    "    grade='B';\n",
    "} else if (70<=marks && marks <80) {\n",
    "    grade='C';\n",
    "} else if (60<=marks && marks <70) {\n",
    "    grade='D';\n",
    "} else {\n",
    "    grade='F';\n",
    "}\n",
    "System.out.println(\"grade is \"+grade);"
   ]
  },
  {
   "cell_type": "markdown",
   "metadata": {
    "slideshow": {
     "slide_type": "subslide"
    }
   },
   "source": [
    "### 함수로 변환\n",
    "\n",
    "* 함수의 입력은 marks, 출력은 grade.\n",
    "* 사용자 입력 값에 특수문자가 섞이면 정규식regexp로 처리 가능."
   ]
  },
  {
   "cell_type": "code",
   "execution_count": 5,
   "metadata": {
    "collapsed": false,
    "slideshow": {
     "slide_type": "subslide"
    }
   },
   "outputs": [
    {
     "name": "stdout",
     "output_type": "stream",
     "text": [
      " char computeGrade(float marks) {\r\n",
      "     //double marks=_marks;\r\n",
      "     char grade=0;\r\n",
      "     if(90<=marks && marks <=100) {\r\n",
      "         grade='A';\r\n",
      "     } else if (80<=marks && marks <90) {\r\n",
      "         grade='B';\r\n",
      "     } else if (70<=marks && marks <80) {\r\n",
      "         grade='C';\r\n",
      "     } else if (60<=marks && marks <70) {\r\n",
      "         grade='D';\r\n",
      "     } else {\r\n",
      "         grade='F';\r\n",
      "     }\r\n",
      "     System.out.printf(\"You enterd marks %.1f: grade %c\",marks,grade);\r\n",
      "     return grade;\r\n",
      " }\r\n",
      "|  Added method computeGrade(float)\r\n",
      "\r\n"
     ]
    }
   ],
   "source": [
    "char computeGrade(float marks) {\n",
    "    char grade=0;\n",
    "    if(90<=marks && marks <=100) {\n",
    "        grade='A';\n",
    "    } else if (80<=marks && marks <90) {\n",
    "        grade='B';\n",
    "    } else if (70<=marks && marks <80) {\n",
    "        grade='C';\n",
    "    } else if (60<=marks && marks <70) {\n",
    "        grade='D';\n",
    "    } else {\n",
    "        grade='F';\n",
    "    }\n",
    "    System.out.printf(\"You enterd marks %.1f: grade %c\",marks,grade);\n",
    "    return grade;\n",
    "}"
   ]
  },
  {
   "cell_type": "code",
   "execution_count": 6,
   "metadata": {
    "collapsed": false,
    "scrolled": true,
    "slideshow": {
     "slide_type": "subslide"
    }
   },
   "outputs": [
    {
     "name": "stdout",
     "output_type": "stream",
     "text": [
      " float marks=(float)91.5;\r\n",
      "|  Modified variable marks of type float with initial value 91.5\r\n",
      "|    Update overwrote variable marks\r\n",
      "\r\n",
      " char grade=0;\r\n",
      "|  Modified variable grade of type char with initial value '\u0000'\r\n",
      "|    Update overwrote variable grade\r\n",
      "\r\n",
      " grade=computeGrade(marks);\r\n",
      "You enterd marks 91.5: grade A|  Variable grade has been assigned the value 'A'\r\n",
      "\r\n",
      " System.out.printf(\"You enterd marks %.1f: grade %c\",marks,grade);\r\n",
      "You enterd marks 91.5: grade A|  Expression value is: java.io.PrintStream@ff5b51f\r\n",
      "|    assigned to temporary variable $8 of type PrintStream\r\n",
      "\r\n"
     ]
    }
   ],
   "source": [
    "float marks=(float)91.5;\n",
    "char grade=0;\n",
    "grade=computeGrade(marks);\n",
    "System.out.printf(\"You enterd marks %.1f: grade %c\",marks,grade);"
   ]
  },
  {
   "cell_type": "markdown",
   "metadata": {
    "slideshow": {
     "slide_type": "subslide"
    }
   },
   "source": [
    "* 테스트 늘려서 해보기\n",
    "* 점수가 100점이 넘는 경우, 프로그램에 오류가 있다. 마지막 else문으로 걸려서 'F'로 출력된다."
   ]
  },
  {
   "cell_type": "code",
   "execution_count": 9,
   "metadata": {
    "collapsed": false
   },
   "outputs": [
    {
     "name": "stdout",
     "output_type": "stream",
     "text": [
      " double[] marks={101.5, 91.5, 81.5, 71.5, 61.5, 51.5, 41.5};\r\n",
      "|  Added variable marks of type double[] with initial value [D@3159c4b8\r\n",
      "|    Update modified method computeGrade(float)\r\n",
      "\r\n",
      " char grade=0;\r\n",
      "|  Modified variable grade of type char with initial value '\u0000'\r\n",
      "|    Update overwrote variable grade\r\n",
      "\r\n"
     ]
    }
   ],
   "source": [
    "double[] marks={101.5, 91.5, 81.5, 71.5, 61.5, 51.5, 41.5};\n",
    "char grade='';"
   ]
  },
  {
   "cell_type": "markdown",
   "metadata": {
    "collapsed": true,
    "slideshow": {
     "slide_type": "subslide"
    }
   },
   "source": [
    "computeGrade()를 호출하여 등급을 계산한다.\n",
    "marks는 double 타잎이므로 강제변환을 float로 하여 사용한다."
   ]
  },
  {
   "cell_type": "code",
   "execution_count": 10,
   "metadata": {
    "collapsed": false,
    "slideshow": {
     "slide_type": "-"
    }
   },
   "outputs": [
    {
     "name": "stdout",
     "output_type": "stream",
     "text": [
      " }\r\n",
      "Restarting java"
     ]
    }
   ],
   "source": [
    "for(double m:marks) {\n",
    "    grade=computeGrade((float)m);\n",
    "    //System.out.printf(\"%.1f\",m);\n",
    "    //System.out.printf(\"\\tYou enterd marks %.1f --> grade %c\\n\",m,grade);\n",
    "    System.out.printf(\"\\tYou enterd marks grade %c\\n\",grade);\n",
    "}"
   ]
  },
  {
   "cell_type": "markdown",
   "metadata": {
    "slideshow": {
     "slide_type": "slide"
    }
   },
   "source": [
    "## 제어-6: 가위바위보\n",
    "\n",
    "* 가위, 바위, 보 게임을 만든다.\n",
    "    * 모든 경우의 수는 3 x 3으로 조합된 9가지이다.\n",
    "    * 경우의 수에는 중복되는 조합이 있다.\n",
    "    * 누가 이겼는지 알 수 있도록 함수 고쳐보기.\n",
    "* 프로그래밍 요소\n",
    "    * nested if\n",
    "    * nested if문은 복합조건으로 만들 수 있다.\n",
    "* input은 2개 output은 1개\n",
    "    def rspPlay(u1, u2):"
   ]
  },
  {
   "cell_type": "code",
   "execution_count": 8,
   "metadata": {
    "collapsed": false,
    "slideshow": {
     "slide_type": "subslide"
    }
   },
   "outputs": [
    {
     "data": {
      "image/svg+xml": [
       "<svg height=\"451px\" style=\"width:1209px;height:451px;\" version=\"1.1\" viewBox=\"0 0 1209 451\" width=\"1209px\" xmlns=\"http://www.w3.org/2000/svg\" xmlns:xlink=\"http://www.w3.org/1999/xlink\"><defs><filter height=\"300%\" id=\"f1\" width=\"300%\" x=\"-1\" y=\"-1\"><feGaussianBlur result=\"blurOut\" stdDeviation=\"2.0\"/><feColorMatrix in=\"blurOut\" result=\"blurOut2\" type=\"matrix\" values=\"0 0 0 0 0 0 0 0 0 0 0 0 0 0 0 0 0 0 .4 0\"/><feOffset dx=\"4.0\" dy=\"4.0\" in=\"blurOut2\" result=\"blurOut3\"/><feBlend in=\"SourceGraphic\" in2=\"blurOut3\" mode=\"normal\"/></filter></defs><g><ellipse cx=\"606\" cy=\"20\" fill=\"#000000\" filter=\"url(#f1)\" rx=\"10\" ry=\"10\" style=\"stroke: none; stroke-width: 1.0;\"/><rect fill=\"#FEFECE\" filter=\"url(#f1)\" height=\"34.1328\" rx=\"12.5\" ry=\"12.5\" style=\"stroke: #A80036; stroke-width: 1.5;\" width=\"108\" x=\"552\" y=\"50\"/><text fill=\"#000000\" font-family=\"sans-serif\" font-size=\"12\" lengthAdjust=\"spacingAndGlyphs\" textLength=\"88\" x=\"562\" y=\"71.6016\">get user input1</text><rect fill=\"#FEFECE\" filter=\"url(#f1)\" height=\"34.1328\" rx=\"12.5\" ry=\"12.5\" style=\"stroke: #A80036; stroke-width: 1.5;\" width=\"108\" x=\"552\" y=\"104.1328\"/><text fill=\"#000000\" font-family=\"sans-serif\" font-size=\"12\" lengthAdjust=\"spacingAndGlyphs\" textLength=\"88\" x=\"562\" y=\"125.7344\">get user input2</text><polygon fill=\"#FEFECE\" filter=\"url(#f1)\" points=\"38,158.2656,70,158.2656,82,170.2656,70,182.2656,38,182.2656,26,170.2656,38,158.2656\" style=\"stroke: #A80036; stroke-width: 1.5;\"/><text fill=\"#000000\" font-family=\"sans-serif\" font-size=\"11\" lengthAdjust=\"spacingAndGlyphs\" textLength=\"32\" x=\"58\" y=\"192.9004\">1==2</text><text fill=\"#000000\" font-family=\"sans-serif\" font-size=\"11\" lengthAdjust=\"spacingAndGlyphs\" textLength=\"32\" x=\"38\" y=\"174.4229\">1==2</text><rect fill=\"#FEFECE\" filter=\"url(#f1)\" height=\"34.1328\" rx=\"12.5\" ry=\"12.5\" style=\"stroke: #A80036; stroke-width: 1.5;\" width=\"88\" x=\"10\" y=\"214.4004\"/><text fill=\"#000000\" font-family=\"sans-serif\" font-size=\"12\" lengthAdjust=\"spacingAndGlyphs\" textLength=\"68\" x=\"20\" y=\"236.002\">print &quot;draw&quot;</text><polygon fill=\"#FEFECE\" filter=\"url(#f1)\" points=\"238,158.2656,308,158.2656,320,170.2656,308,182.2656,238,182.2656,226,170.2656,238,158.2656\" style=\"stroke: #A80036; stroke-width: 1.5;\"/><text fill=\"#000000\" font-family=\"sans-serif\" font-size=\"11\" lengthAdjust=\"spacingAndGlyphs\" textLength=\"70\" x=\"238\" y=\"174.4229\">1=='scissor'</text><polygon fill=\"#FEFECE\" filter=\"url(#f1)\" points=\"147,226.4453,202,226.4453,214,238.4453,202,250.4453,147,250.4453,135,238.4453,147,226.4453\" style=\"stroke: #A80036; stroke-width: 1.5;\"/><text fill=\"#000000\" font-family=\"sans-serif\" font-size=\"11\" lengthAdjust=\"spacingAndGlyphs\" textLength=\"55\" x=\"147\" y=\"242.6025\">2=='rock'</text><rect fill=\"#FEFECE\" filter=\"url(#f1)\" height=\"34.1328\" rx=\"12.5\" ry=\"12.5\" style=\"stroke: #A80036; stroke-width: 1.5;\" width=\"113\" x=\"118\" y=\"270.4453\"/><text fill=\"#000000\" font-family=\"sans-serif\" font-size=\"12\" lengthAdjust=\"spacingAndGlyphs\" textLength=\"93\" x=\"128\" y=\"292.0469\">print &quot;rock wins&quot;</text><polygon fill=\"#FEFECE\" filter=\"url(#f1)\" points=\"283.5,226.4453,345.5,226.4453,357.5,238.4453,345.5,250.4453,283.5,250.4453,271.5,238.4453,283.5,226.4453\" style=\"stroke: #A80036; stroke-width: 1.5;\"/><text fill=\"#000000\" font-family=\"sans-serif\" font-size=\"11\" lengthAdjust=\"spacingAndGlyphs\" textLength=\"62\" x=\"283.5\" y=\"242.6025\">2=='paper'</text><rect fill=\"#FEFECE\" filter=\"url(#f1)\" height=\"34.1328\" rx=\"12.5\" ry=\"12.5\" style=\"stroke: #A80036; stroke-width: 1.5;\" width=\"127\" x=\"251\" y=\"270.4453\"/><text fill=\"#000000\" font-family=\"sans-serif\" font-size=\"12\" lengthAdjust=\"spacingAndGlyphs\" textLength=\"107\" x=\"261\" y=\"292.0469\">print &quot;scissor wins&quot;</text><polygon fill=\"#FEFECE\" filter=\"url(#f1)\" points=\"573.5,158.2656,628.5,158.2656,640.5,170.2656,628.5,182.2656,573.5,182.2656,561.5,170.2656,573.5,158.2656\" style=\"stroke: #A80036; stroke-width: 1.5;\"/><text fill=\"#000000\" font-family=\"sans-serif\" font-size=\"11\" lengthAdjust=\"spacingAndGlyphs\" textLength=\"55\" x=\"573.5\" y=\"174.4229\">1=='rock'</text><polygon fill=\"#FEFECE\" filter=\"url(#f1)\" points=\"469.5,226.4453,539.5,226.4453,551.5,238.4453,539.5,250.4453,469.5,250.4453,457.5,238.4453,469.5,226.4453\" style=\"stroke: #A80036; stroke-width: 1.5;\"/><text fill=\"#000000\" font-family=\"sans-serif\" font-size=\"11\" lengthAdjust=\"spacingAndGlyphs\" textLength=\"70\" x=\"469.5\" y=\"242.6025\">2=='scissor'</text><rect fill=\"#FEFECE\" filter=\"url(#f1)\" height=\"34.1328\" rx=\"12.5\" ry=\"12.5\" style=\"stroke: #A80036; stroke-width: 1.5;\" width=\"113\" x=\"448\" y=\"270.4453\"/><text fill=\"#000000\" font-family=\"sans-serif\" font-size=\"12\" lengthAdjust=\"spacingAndGlyphs\" textLength=\"93\" x=\"458\" y=\"292.0469\">print &quot;rock wins&quot;</text><polygon fill=\"#FEFECE\" filter=\"url(#f1)\" points=\"611.5,226.4453,673.5,226.4453,685.5,238.4453,673.5,250.4453,611.5,250.4453,599.5,238.4453,611.5,226.4453\" style=\"stroke: #A80036; stroke-width: 1.5;\"/><text fill=\"#000000\" font-family=\"sans-serif\" font-size=\"11\" lengthAdjust=\"spacingAndGlyphs\" textLength=\"62\" x=\"611.5\" y=\"242.6025\">2=='paper'</text><rect fill=\"#FEFECE\" filter=\"url(#f1)\" height=\"34.1328\" rx=\"12.5\" ry=\"12.5\" style=\"stroke: #A80036; stroke-width: 1.5;\" width=\"123\" x=\"581\" y=\"270.4453\"/><text fill=\"#000000\" font-family=\"sans-serif\" font-size=\"12\" lengthAdjust=\"spacingAndGlyphs\" textLength=\"103\" x=\"591\" y=\"292.0469\">print &quot;paper wins&quot;</text><polygon fill=\"#FEFECE\" filter=\"url(#f1)\" points=\"903,158.2656,965,158.2656,977,170.2656,965,182.2656,903,182.2656,891,170.2656,903,158.2656\" style=\"stroke: #A80036; stroke-width: 1.5;\"/><text fill=\"#000000\" font-family=\"sans-serif\" font-size=\"11\" lengthAdjust=\"spacingAndGlyphs\" textLength=\"62\" x=\"903\" y=\"174.4229\">1=='paper'</text><polygon fill=\"#FEFECE\" filter=\"url(#f1)\" points=\"802.5,226.4453,872.5,226.4453,884.5,238.4453,872.5,250.4453,802.5,250.4453,790.5,238.4453,802.5,226.4453\" style=\"stroke: #A80036; stroke-width: 1.5;\"/><text fill=\"#000000\" font-family=\"sans-serif\" font-size=\"11\" lengthAdjust=\"spacingAndGlyphs\" textLength=\"70\" x=\"802.5\" y=\"242.6025\">2=='scissor'</text><rect fill=\"#FEFECE\" filter=\"url(#f1)\" height=\"34.1328\" rx=\"12.5\" ry=\"12.5\" style=\"stroke: #A80036; stroke-width: 1.5;\" width=\"127\" x=\"774\" y=\"270.4453\"/><text fill=\"#000000\" font-family=\"sans-serif\" font-size=\"12\" lengthAdjust=\"spacingAndGlyphs\" textLength=\"107\" x=\"784\" y=\"292.0469\">print &quot;scissor wins&quot;</text><polygon fill=\"#FEFECE\" filter=\"url(#f1)\" points=\"955,226.4453,1010,226.4453,1022,238.4453,1010,250.4453,955,250.4453,943,238.4453,955,226.4453\" style=\"stroke: #A80036; stroke-width: 1.5;\"/><text fill=\"#000000\" font-family=\"sans-serif\" font-size=\"11\" lengthAdjust=\"spacingAndGlyphs\" textLength=\"55\" x=\"955\" y=\"242.6025\">2=='rock'</text><rect fill=\"#FEFECE\" filter=\"url(#f1)\" height=\"34.1328\" rx=\"12.5\" ry=\"12.5\" style=\"stroke: #A80036; stroke-width: 1.5;\" width=\"123\" x=\"921\" y=\"270.4453\"/><text fill=\"#000000\" font-family=\"sans-serif\" font-size=\"12\" lengthAdjust=\"spacingAndGlyphs\" textLength=\"103\" x=\"931\" y=\"292.0469\">print &quot;paper wins&quot;</text><rect fill=\"#FEFECE\" filter=\"url(#f1)\" height=\"34.1328\" rx=\"12.5\" ry=\"12.5\" style=\"stroke: #A80036; stroke-width: 1.5;\" width=\"88\" x=\"1114\" y=\"276.4453\"/><text fill=\"#000000\" font-family=\"sans-serif\" font-size=\"12\" lengthAdjust=\"spacingAndGlyphs\" textLength=\"68\" x=\"1124\" y=\"298.0469\">print &quot;error&quot;</text><rect fill=\"#FEFECE\" filter=\"url(#f1)\" height=\"34.1328\" rx=\"12.5\" ry=\"12.5\" style=\"stroke: #A80036; stroke-width: 1.5;\" width=\"83\" x=\"564.5\" y=\"370.5781\"/><text fill=\"#000000\" font-family=\"sans-serif\" font-size=\"12\" lengthAdjust=\"spacingAndGlyphs\" textLength=\"63\" x=\"574.5\" y=\"392.1797\">print result</text><ellipse cx=\"606\" cy=\"434.7109\" fill=\"none\" filter=\"url(#f1)\" rx=\"10\" ry=\"10\" style=\"stroke: #000000; stroke-width: 1.0;\"/><ellipse cx=\"606.5\" cy=\"435.2109\" fill=\"#000000\" filter=\"url(#f1)\" rx=\"6\" ry=\"6\" style=\"stroke: none; stroke-width: 1.0;\"/><line style=\"stroke: #A80036; stroke-width: 1.5;\" x1=\"606\" x2=\"606\" y1=\"30\" y2=\"50\"/><polygon fill=\"#A80036\" points=\"602,40,606,50,610,40,606,44\" style=\"stroke: #A80036; stroke-width: 1.0;\"/><line style=\"stroke: #A80036; stroke-width: 1.5;\" x1=\"606\" x2=\"606\" y1=\"84.1328\" y2=\"104.1328\"/><polygon fill=\"#A80036\" points=\"602,94.1328,606,104.1328,610,94.1328,606,98.1328\" style=\"stroke: #A80036; stroke-width: 1.0;\"/><line style=\"stroke: #A80036; stroke-width: 1.5;\" x1=\"174.5\" x2=\"174.5\" y1=\"250.4453\" y2=\"270.4453\"/><polygon fill=\"#A80036\" points=\"170.5,260.4453,174.5,270.4453,178.5,260.4453,174.5,264.4453\" style=\"stroke: #A80036; stroke-width: 1.0;\"/><line style=\"stroke: #A80036; stroke-width: 1.5;\" x1=\"174.5\" x2=\"174.5\" y1=\"304.5781\" y2=\"330.5781\"/><polygon fill=\"#A80036\" points=\"170.5,320.5781,174.5,330.5781,178.5,320.5781,174.5,324.5781\" style=\"stroke: #A80036; stroke-width: 1.0;\"/><line style=\"stroke: #A80036; stroke-width: 1.5;\" x1=\"314.5\" x2=\"314.5\" y1=\"250.4453\" y2=\"270.4453\"/><polygon fill=\"#A80036\" points=\"310.5,260.4453,314.5,270.4453,318.5,260.4453,314.5,264.4453\" style=\"stroke: #A80036; stroke-width: 1.0;\"/><line style=\"stroke: #A80036; stroke-width: 1.5;\" x1=\"314.5\" x2=\"314.5\" y1=\"304.5781\" y2=\"330.5781\"/><polygon fill=\"#A80036\" points=\"310.5,320.5781,314.5,330.5781,318.5,320.5781,314.5,324.5781\" style=\"stroke: #A80036; stroke-width: 1.0;\"/><line style=\"stroke: #A80036; stroke-width: 1.5;\" x1=\"214\" x2=\"271.5\" y1=\"238.4453\" y2=\"238.4453\"/><polygon fill=\"#A80036\" points=\"261.5,234.4453,271.5,238.4453,261.5,242.4453,265.5,238.4453\" style=\"stroke: #A80036; stroke-width: 1.0;\"/><line style=\"stroke: #A80036; stroke-width: 1.5;\" x1=\"273\" x2=\"273\" y1=\"182.2656\" y2=\"201.4453\"/><line style=\"stroke: #A80036; stroke-width: 1.5;\" x1=\"273\" x2=\"174.5\" y1=\"201.4453\" y2=\"201.4453\"/><line style=\"stroke: #A80036; stroke-width: 1.5;\" x1=\"174.5\" x2=\"174.5\" y1=\"201.4453\" y2=\"226.4453\"/><polygon fill=\"#A80036\" points=\"170.5,216.4453,174.5,226.4453,178.5,216.4453,174.5,220.4453\" style=\"stroke: #A80036; stroke-width: 1.0;\"/><line style=\"stroke: #A80036; stroke-width: 1.5;\" x1=\"357.5\" x2=\"413\" y1=\"238.4453\" y2=\"238.4453\"/><line style=\"stroke: #A80036; stroke-width: 1.5;\" x1=\"413\" x2=\"413\" y1=\"238.4453\" y2=\"330.5781\"/><polygon fill=\"#A80036\" points=\"409,320.5781,413,330.5781,417,320.5781,413,324.5781\" style=\"stroke: #A80036; stroke-width: 1.0;\"/><line style=\"stroke: #A80036; stroke-width: 1.5;\" x1=\"174.5\" x2=\"413\" y1=\"330.5781\" y2=\"330.5781\"/><line style=\"stroke: #A80036; stroke-width: 1.5;\" x1=\"504.5\" x2=\"504.5\" y1=\"250.4453\" y2=\"270.4453\"/><polygon fill=\"#A80036\" points=\"500.5,260.4453,504.5,270.4453,508.5,260.4453,504.5,264.4453\" style=\"stroke: #A80036; stroke-width: 1.0;\"/><line style=\"stroke: #A80036; stroke-width: 1.5;\" x1=\"504.5\" x2=\"504.5\" y1=\"304.5781\" y2=\"330.5781\"/><polygon fill=\"#A80036\" points=\"500.5,320.5781,504.5,330.5781,508.5,320.5781,504.5,324.5781\" style=\"stroke: #A80036; stroke-width: 1.0;\"/><line style=\"stroke: #A80036; stroke-width: 1.5;\" x1=\"642.5\" x2=\"642.5\" y1=\"250.4453\" y2=\"270.4453\"/><polygon fill=\"#A80036\" points=\"638.5,260.4453,642.5,270.4453,646.5,260.4453,642.5,264.4453\" style=\"stroke: #A80036; stroke-width: 1.0;\"/><line style=\"stroke: #A80036; stroke-width: 1.5;\" x1=\"642.5\" x2=\"642.5\" y1=\"304.5781\" y2=\"330.5781\"/><polygon fill=\"#A80036\" points=\"638.5,320.5781,642.5,330.5781,646.5,320.5781,642.5,324.5781\" style=\"stroke: #A80036; stroke-width: 1.0;\"/><line style=\"stroke: #A80036; stroke-width: 1.5;\" x1=\"551.5\" x2=\"599.5\" y1=\"238.4453\" y2=\"238.4453\"/><polygon fill=\"#A80036\" points=\"589.5,234.4453,599.5,238.4453,589.5,242.4453,593.5,238.4453\" style=\"stroke: #A80036; stroke-width: 1.0;\"/><line style=\"stroke: #A80036; stroke-width: 1.5;\" x1=\"601\" x2=\"601\" y1=\"182.2656\" y2=\"201.4453\"/><line style=\"stroke: #A80036; stroke-width: 1.5;\" x1=\"601\" x2=\"504.5\" y1=\"201.4453\" y2=\"201.4453\"/><line style=\"stroke: #A80036; stroke-width: 1.5;\" x1=\"504.5\" x2=\"504.5\" y1=\"201.4453\" y2=\"226.4453\"/><polygon fill=\"#A80036\" points=\"500.5,216.4453,504.5,226.4453,508.5,216.4453,504.5,220.4453\" style=\"stroke: #A80036; stroke-width: 1.0;\"/><line style=\"stroke: #A80036; stroke-width: 1.5;\" x1=\"685.5\" x2=\"739\" y1=\"238.4453\" y2=\"238.4453\"/><line style=\"stroke: #A80036; stroke-width: 1.5;\" x1=\"739\" x2=\"739\" y1=\"238.4453\" y2=\"330.5781\"/><polygon fill=\"#A80036\" points=\"735,320.5781,739,330.5781,743,320.5781,739,324.5781\" style=\"stroke: #A80036; stroke-width: 1.0;\"/><line style=\"stroke: #A80036; stroke-width: 1.5;\" x1=\"504.5\" x2=\"739\" y1=\"330.5781\" y2=\"330.5781\"/><line style=\"stroke: #A80036; stroke-width: 1.5;\" x1=\"837.5\" x2=\"837.5\" y1=\"250.4453\" y2=\"270.4453\"/><polygon fill=\"#A80036\" points=\"833.5,260.4453,837.5,270.4453,841.5,260.4453,837.5,264.4453\" style=\"stroke: #A80036; stroke-width: 1.0;\"/><line style=\"stroke: #A80036; stroke-width: 1.5;\" x1=\"837.5\" x2=\"837.5\" y1=\"304.5781\" y2=\"330.5781\"/><polygon fill=\"#A80036\" points=\"833.5,320.5781,837.5,330.5781,841.5,320.5781,837.5,324.5781\" style=\"stroke: #A80036; stroke-width: 1.0;\"/><line style=\"stroke: #A80036; stroke-width: 1.5;\" x1=\"982.5\" x2=\"982.5\" y1=\"250.4453\" y2=\"270.4453\"/><polygon fill=\"#A80036\" points=\"978.5,260.4453,982.5,270.4453,986.5,260.4453,982.5,264.4453\" style=\"stroke: #A80036; stroke-width: 1.0;\"/><line style=\"stroke: #A80036; stroke-width: 1.5;\" x1=\"982.5\" x2=\"982.5\" y1=\"304.5781\" y2=\"330.5781\"/><polygon fill=\"#A80036\" points=\"978.5,320.5781,982.5,330.5781,986.5,320.5781,982.5,324.5781\" style=\"stroke: #A80036; stroke-width: 1.0;\"/><line style=\"stroke: #A80036; stroke-width: 1.5;\" x1=\"884.5\" x2=\"943\" y1=\"238.4453\" y2=\"238.4453\"/><polygon fill=\"#A80036\" points=\"933,234.4453,943,238.4453,933,242.4453,937,238.4453\" style=\"stroke: #A80036; stroke-width: 1.0;\"/><line style=\"stroke: #A80036; stroke-width: 1.5;\" x1=\"934\" x2=\"934\" y1=\"182.2656\" y2=\"201.4453\"/><line style=\"stroke: #A80036; stroke-width: 1.5;\" x1=\"934\" x2=\"837.5\" y1=\"201.4453\" y2=\"201.4453\"/><line style=\"stroke: #A80036; stroke-width: 1.5;\" x1=\"837.5\" x2=\"837.5\" y1=\"201.4453\" y2=\"226.4453\"/><polygon fill=\"#A80036\" points=\"833.5,216.4453,837.5,226.4453,841.5,216.4453,837.5,220.4453\" style=\"stroke: #A80036; stroke-width: 1.0;\"/><line style=\"stroke: #A80036; stroke-width: 1.5;\" x1=\"1022\" x2=\"1079\" y1=\"238.4453\" y2=\"238.4453\"/><line style=\"stroke: #A80036; stroke-width: 1.5;\" x1=\"1079\" x2=\"1079\" y1=\"238.4453\" y2=\"330.5781\"/><polygon fill=\"#A80036\" points=\"1075,320.5781,1079,330.5781,1083,320.5781,1079,324.5781\" style=\"stroke: #A80036; stroke-width: 1.0;\"/><line style=\"stroke: #A80036; stroke-width: 1.5;\" x1=\"837.5\" x2=\"1079\" y1=\"330.5781\" y2=\"330.5781\"/><line style=\"stroke: #A80036; stroke-width: 1.5;\" x1=\"54\" x2=\"54\" y1=\"182.2656\" y2=\"214.4004\"/><polygon fill=\"#A80036\" points=\"50,204.4004,54,214.4004,58,204.4004,54,208.4004\" style=\"stroke: #A80036; stroke-width: 1.0;\"/><line style=\"stroke: #A80036; stroke-width: 1.5;\" x1=\"54\" x2=\"54\" y1=\"248.5332\" y2=\"350.5781\"/><polygon fill=\"#A80036\" points=\"50,340.5781,54,350.5781,58,340.5781,54,344.5781\" style=\"stroke: #A80036; stroke-width: 1.0;\"/><line style=\"stroke: #A80036; stroke-width: 1.5;\" x1=\"273\" x2=\"273\" y1=\"330.5781\" y2=\"350.5781\"/><polygon fill=\"#A80036\" points=\"269,340.5781,273,350.5781,277,340.5781,273,344.5781\" style=\"stroke: #A80036; stroke-width: 1.0;\"/><line style=\"stroke: #A80036; stroke-width: 1.5;\" x1=\"601\" x2=\"601\" y1=\"330.5781\" y2=\"350.5781\"/><polygon fill=\"#A80036\" points=\"597,340.5781,601,350.5781,605,340.5781,601,344.5781\" style=\"stroke: #A80036; stroke-width: 1.0;\"/><line style=\"stroke: #A80036; stroke-width: 1.5;\" x1=\"934\" x2=\"934\" y1=\"330.5781\" y2=\"350.5781\"/><polygon fill=\"#A80036\" points=\"930,340.5781,934,350.5781,938,340.5781,934,344.5781\" style=\"stroke: #A80036; stroke-width: 1.0;\"/><line style=\"stroke: #A80036; stroke-width: 1.5;\" x1=\"82\" x2=\"226\" y1=\"170.2656\" y2=\"170.2656\"/><polygon fill=\"#A80036\" points=\"216,166.2656,226,170.2656,216,174.2656,220,170.2656\" style=\"stroke: #A80036; stroke-width: 1.0;\"/><line style=\"stroke: #A80036; stroke-width: 1.5;\" x1=\"320\" x2=\"561.5\" y1=\"170.2656\" y2=\"170.2656\"/><polygon fill=\"#A80036\" points=\"551.5,166.2656,561.5,170.2656,551.5,174.2656,555.5,170.2656\" style=\"stroke: #A80036; stroke-width: 1.0;\"/><line style=\"stroke: #A80036; stroke-width: 1.5;\" x1=\"640.5\" x2=\"891\" y1=\"170.2656\" y2=\"170.2656\"/><polygon fill=\"#A80036\" points=\"881,166.2656,891,170.2656,881,174.2656,885,170.2656\" style=\"stroke: #A80036; stroke-width: 1.0;\"/><line style=\"stroke: #A80036; stroke-width: 1.5;\" x1=\"606\" x2=\"606\" y1=\"138.2656\" y2=\"143.2656\"/><line style=\"stroke: #A80036; stroke-width: 1.5;\" x1=\"606\" x2=\"54\" y1=\"143.2656\" y2=\"143.2656\"/><line style=\"stroke: #A80036; stroke-width: 1.5;\" x1=\"54\" x2=\"54\" y1=\"143.2656\" y2=\"158.2656\"/><polygon fill=\"#A80036\" points=\"50,148.2656,54,158.2656,58,148.2656,54,152.2656\" style=\"stroke: #A80036; stroke-width: 1.0;\"/><line style=\"stroke: #A80036; stroke-width: 1.5;\" x1=\"977\" x2=\"1158\" y1=\"170.2656\" y2=\"170.2656\"/><line style=\"stroke: #A80036; stroke-width: 1.5;\" x1=\"1158\" x2=\"1158\" y1=\"170.2656\" y2=\"276.4453\"/><polygon fill=\"#A80036\" points=\"1154,266.4453,1158,276.4453,1162,266.4453,1158,270.4453\" style=\"stroke: #A80036; stroke-width: 1.0;\"/><line style=\"stroke: #A80036; stroke-width: 1.5;\" x1=\"1158\" x2=\"1158\" y1=\"310.5781\" y2=\"350.5781\"/><polygon fill=\"#A80036\" points=\"1154,340.5781,1158,350.5781,1162,340.5781,1158,344.5781\" style=\"stroke: #A80036; stroke-width: 1.0;\"/><line style=\"stroke: #A80036; stroke-width: 1.5;\" x1=\"54\" x2=\"1158\" y1=\"350.5781\" y2=\"350.5781\"/><line style=\"stroke: #A80036; stroke-width: 1.5;\" x1=\"606\" x2=\"606\" y1=\"350.5781\" y2=\"370.5781\"/><polygon fill=\"#A80036\" points=\"602,360.5781,606,370.5781,610,360.5781,606,364.5781\" style=\"stroke: #A80036; stroke-width: 1.0;\"/><line style=\"stroke: #A80036; stroke-width: 1.5;\" x1=\"606\" x2=\"606\" y1=\"404.7109\" y2=\"424.7109\"/><polygon fill=\"#A80036\" points=\"602,414.7109,606,424.7109,610,414.7109,606,418.7109\" style=\"stroke: #A80036; stroke-width: 1.0;\"/></g></svg>"
      ],
      "text/plain": [
       "<IPython.core.display.SVG object>"
      ]
     },
     "execution_count": 8,
     "metadata": {},
     "output_type": "execute_result"
    }
   ],
   "source": [
    "%%plantuml\n",
    "@startuml\n",
    "start\n",
    ":get user input1;\n",
    ":get user input2;\n",
    "if (1==2) then (1==2)\n",
    "    :print \"draw\";\n",
    "elseif(1=='scissor')\n",
    "    if (2=='rock')\n",
    "        :print \"rock wins\";\n",
    "    elseif(2=='paper')\n",
    "        :print \"scissor wins\";\n",
    "    endif\n",
    "elseif(1=='rock')\n",
    "    if (2=='scissor')\n",
    "        :print \"rock wins\";\n",
    "    elseif(2=='paper')\n",
    "        :print \"paper wins\";\n",
    "    endif\n",
    "elseif(1=='paper')\n",
    "    if (2=='scissor')\n",
    "        :print \"scissor wins\";\n",
    "    elseif(2=='rock')\n",
    "        :print \"paper wins\";\n",
    "    endif\n",
    "else\n",
    "    :print \"error\";\n",
    "endif\n",
    ":print result;\n",
    "stop\n",
    "@enduml"
   ]
  },
  {
   "cell_type": "markdown",
   "metadata": {
    "slideshow": {
     "slide_type": "subslide"
    }
   },
   "source": [
    "* 단계별로 함수를 이해해 보기\n",
    "    * 복합조건을 사용한다.\n",
    "    * return을 이해한다.\n",
    "    * return 값을 받는 것을 이해한다.\n",
    "    * 함수의 입력을 이해한다. 변하는 값을 밖으로 빼준다.\n",
    "    * 함수를 호출할 때는 값으로 한다 (parameter)"
   ]
  },
  {
   "cell_type": "code",
   "execution_count": 5,
   "metadata": {
    "collapsed": false,
    "scrolled": true
   },
   "outputs": [
    {
     "name": "stdout",
     "output_type": "stream",
     "text": [
      " String sel1=\"s\";\r\n",
      "|  Added variable sel1 of type String with initial value \"s\"\r\n",
      "\r\n",
      " String sel2=\"r\";\r\n",
      "|  Added variable sel2 of type String with initial value \"r\"\r\n",
      "\r\n"
     ]
    }
   ],
   "source": [
    "String sel1=\"s\";\n",
    "String sel2=\"r\";"
   ]
  },
  {
   "cell_type": "code",
   "execution_count": null,
   "metadata": {
    "collapsed": true,
    "slideshow": {
     "slide_type": "subslide"
    }
   },
   "outputs": [],
   "source": [
    "enum은 equals()와 사용할 수 있지만, ==이 더 낫다.\n",
    "예를 들어, 가위 바위 보를 r s p 상수로 만들고, 사용자 입력 sel1을 equals()로 하면 아래와 같다."
   ]
  },
  {
   "cell_type": "code",
   "execution_count": 12,
   "metadata": {
    "collapsed": false
   },
   "outputs": [
    {
     "name": "stdout",
     "output_type": "stream",
     "text": [
      " enum RSP {r,s,p}\r\n",
      "|  Modified enum RSP\r\n",
      "|    Update overwrote enum RSP\r\n",
      "\r\n",
      " if(RSP.s.equals(RSP.valueOf(sel1)))\r\n",
      "     System.out.println(\"'s' selected\");\r\n",
      "'s' selected\r\n",
      "\r\n"
     ]
    }
   ],
   "source": [
    "enum RSP {r,s,p}\n",
    "if(RSP.s.equals(RSP.valueOf(sel1)))\n",
    "    System.out.println(\"'s' selected\");"
   ]
  },
  {
   "cell_type": "code",
   "execution_count": 3,
   "metadata": {
    "collapsed": false,
    "slideshow": {
     "slide_type": "subslide"
    }
   },
   "outputs": [
    {
     "name": "stdout",
     "output_type": "stream",
     "text": [
      " if (sel1.equals(\"s\")) {\r\n",
      "     if (sel2.equals(\"r\")) {\r\n",
      "         System.out.println(\"sel2 won\");\r\n",
      "     } else if (sel2.equals(\"p\")) {\r\n",
      "         System.out.println(\"sel1 won\");\r\n",
      "     }\r\n",
      " }\r\n",
      "sel2 won\r\n",
      "\r\n"
     ]
    }
   ],
   "source": [
    "if (sel1.equals(\"s\")) {\n",
    "    if (sel2.equals(\"r\")) {\n",
    "        System.out.println(\"sel2 won\");\n",
    "    } else if (sel2.equals(\"p\")) {\n",
    "        System.out.println(\"sel1 won\");\n",
    "    }\n",
    "}"
   ]
  },
  {
   "cell_type": "markdown",
   "metadata": {
    "slideshow": {
     "slide_type": "subslide"
    }
   },
   "source": [
    "* 복합조건을 사용"
   ]
  },
  {
   "cell_type": "code",
   "execution_count": 4,
   "metadata": {
    "collapsed": false
   },
   "outputs": [
    {
     "name": "stdout",
     "output_type": "stream",
     "text": [
      " if (sel1.equals(\"s\") && sel2.equals(\"r\")) {\r\n",
      "         System.out.println(\"sel2 won\");\r\n",
      " } else if (sel1.equals(\"s\") && sel2.equals(\"p\")) {\r\n",
      "         System.out.println(\"sel1 won\");\r\n",
      " }\r\n",
      "sel2 won\r\n",
      "\r\n"
     ]
    }
   ],
   "source": [
    "if (sel1.equals(\"s\") && sel2.equals(\"r\")) {\n",
    "    System.out.println(\"sel2 won\");\n",
    "} else if (sel1.equals(\"s\") && sel2.equals(\"p\")) {\n",
    "    System.out.println(\"sel1 won\");\n",
    "}"
   ]
  },
  {
   "cell_type": "markdown",
   "metadata": {
    "slideshow": {
     "slide_type": "subslide"
    }
   },
   "source": [
    "* 함수의 return이 없으면 함수가 종료되면 그 값을 알 수 없다."
   ]
  },
  {
   "cell_type": "code",
   "execution_count": 5,
   "metadata": {
    "collapsed": false
   },
   "outputs": [
    {
     "name": "stdout",
     "output_type": "stream",
     "text": [
      " void rspPlay() {\r\n",
      "     String res=null;\r\n",
      "     if (sel1.equals(\"s\") && sel2.equals(\"r\")) {\r\n",
      "         res=\"sel2 won\";\r\n",
      "     } else if (sel1.equals(\"s\") && sel2.equals(\"p\")) {\r\n",
      "         res=\"sel1 won\";\r\n",
      "     }\r\n",
      "     System.out.println(res);\r\n",
      " }\r\n",
      "|  Added method rspPlay()\r\n",
      "\r\n",
      " \r\n",
      "\r\n",
      " String rsp=rspPlay();\r\n",
      "|  Error:\r\n",
      "|  incompatible types: void cannot be converted to java.lang.String\r\n",
      "|  String rsp=rspPlay();\r\n",
      "|             ^-------^\r\n",
      "\r\n",
      " System.out.println(rsp);\r\n",
      "|  Error:\r\n",
      "|  cannot find symbol\r\n",
      "|    symbol:   variable rsp\r\n",
      "|  System.out.println(rsp);\r\n",
      "|                     ^-^\r\n",
      "\r\n"
     ]
    }
   ],
   "source": [
    "void rspPlay() {\n",
    "    String res=null;\n",
    "    String sel1=\"s\";\n",
    "    String sel2=\"r\";\n",
    "    if (sel1.equals(\"s\") && sel2.equals(\"r\")) {\n",
    "        res=\"sel2 won\";\n",
    "    } else if (sel1.equals(\"s\") && sel2.equals(\"p\")) {\n",
    "        res=\"sel1 won\";\n",
    "    }\n",
    "    System.out.println(res);\n",
    "}\n",
    "\n",
    "String rsp=rspPlay();\n",
    "System.out.println(rsp);"
   ]
  },
  {
   "cell_type": "code",
   "execution_count": 6,
   "metadata": {
    "collapsed": false,
    "slideshow": {
     "slide_type": "subslide"
    }
   },
   "outputs": [
    {
     "name": "stdout",
     "output_type": "stream",
     "text": [
      " String rspPlay() {\r\n",
      "     String res=null;\r\n",
      "     if (sel1.equals(\"s\") && sel2.equals(\"r\")) {\r\n",
      "         res=\"sel2 won\";\r\n",
      "     } else if (sel1.equals(\"s\") && sel2.equals(\"p\")) {\r\n",
      "         res=\"sel1 won\";\r\n",
      "     }\r\n",
      "     return res;\r\n",
      " }\r\n",
      "|  Replaced method rspPlay()\r\n",
      "|    Update overwrote method rspPlay()\r\n",
      "\r\n",
      " \r\n",
      "\r\n",
      " String rsp=rspPlay();\r\n",
      "|  Added variable rsp of type String with initial value \"sel2 won\"\r\n",
      "\r\n",
      " System.out.println(rsp);\r\n",
      "sel2 won\r\n",
      "\r\n"
     ]
    }
   ],
   "source": [
    "String rspPlay() {\n",
    "    String res=null;\n",
    "    String sel1=\"s\";\n",
    "    String sel2=\"r\";\n",
    "    if (sel1.equals(\"s\") && sel2.equals(\"r\")) {\n",
    "        res=\"sel2 won\";\n",
    "    } else if (sel1.equals(\"s\") && sel2.equals(\"p\")) {\n",
    "        res=\"sel1 won\";\n",
    "    }\n",
    "    return res;\n",
    "}\n",
    "\n",
    "String rsp=rspPlay();\n",
    "System.out.println(rsp);"
   ]
  },
  {
   "cell_type": "markdown",
   "metadata": {
    "collapsed": true,
    "slideshow": {
     "slide_type": "subslide"
    }
   },
   "source": [
    "* hard coding된 값을 함수의 argument로 넣기\n",
    "* s, r, p 어느 경우에도 사용할 수 있게 된다."
   ]
  },
  {
   "cell_type": "code",
   "execution_count": 7,
   "metadata": {
    "collapsed": false
   },
   "outputs": [
    {
     "name": "stdout",
     "output_type": "stream",
     "text": [
      " String rspPlay(String sel1, String sel2) {\r\n",
      "     String res=null;\r\n",
      "     if (sel1.equals(\"s\") && sel2.equals(\"r\")) {\r\n",
      "         res=\"sel2 won\";\r\n",
      "     } else if (sel1.equals(\"s\") && sel2.equals(\"p\")) {\r\n",
      "         res=\"sel1 won\";\r\n",
      "     }\r\n",
      "     return res;\r\n",
      " }\r\n",
      "|  Added method rspPlay(String,String)\r\n",
      "\r\n",
      " \r\n",
      "\r\n",
      " String rsp=rspPlay(\"s\",\"p\");\r\n",
      "|  Modified variable rsp of type String with initial value \"sel1 won\"\r\n",
      "|    Update overwrote variable rsp\r\n",
      "\r\n",
      " System.out.println(rsp);\r\n",
      "sel1 won\r\n",
      "\r\n"
     ]
    }
   ],
   "source": [
    "String rspPlay(String sel1, String sel2) {\n",
    "    String res=null;\n",
    "    if (sel1.equals(\"s\") && sel2.equals(\"r\")) {\n",
    "        res=\"sel2 won\";\n",
    "    } else if (sel1.equals(\"s\") && sel2.equals(\"p\")) {\n",
    "        res=\"sel1 won\";\n",
    "    }\n",
    "    return res;\n",
    "}\n",
    "\n",
    "String rsp=rspPlay(\"s\",\"p\");\n",
    "System.out.println(rsp);"
   ]
  },
  {
   "cell_type": "markdown",
   "metadata": {
    "slideshow": {
     "slide_type": "slide"
    }
   },
   "source": [
    "### 한글을 비교하기\n",
    "\n",
    "* 한글은 유니코드unicde.\n",
    "* 지원: ipython notebook에서는 유니코드 지원. 다른 환경에서나, 파일을 읽어오는 경우 유니코드 별도 설정 필요."
   ]
  },
  {
   "cell_type": "code",
   "execution_count": 11,
   "metadata": {
    "collapsed": false
   },
   "outputs": [
    {
     "name": "stdout",
     "output_type": "stream",
     "text": [
      " \"가위\".equals(\"가위\")\r\n",
      "|  Expression value is: true\r\n",
      "|    assigned to temporary variable $1 of type boolean\r\n",
      "\r\n"
     ]
    }
   ],
   "source": [
    "\"가위\".equals(\"가위\")"
   ]
  },
  {
   "cell_type": "code",
   "execution_count": 21,
   "metadata": {
    "collapsed": false,
    "slideshow": {
     "slide_type": "subslide"
    }
   },
   "outputs": [
    {
     "name": "stdout",
     "output_type": "stream",
     "text": [
      " if (\"가위\".equals(\"가위\")) {\r\n",
      "     System.out.print(\"서로 비긴 거 알지?!\");\r\n",
      " }\r\n",
      "서로 비긴 거 알지?!\r\n"
     ]
    }
   ],
   "source": [
    "if (\"가위\".equals(\"가위\")) {\n",
    "    System.out.print(\"서로 비긴 거 알지?!\");\n",
    "}"
   ]
  },
  {
   "cell_type": "code",
   "execution_count": 12,
   "metadata": {
    "collapsed": false,
    "slideshow": {
     "slide_type": "subslide"
    }
   },
   "outputs": [
    {
     "name": "stdout",
     "output_type": "stream",
     "text": [
      " String rspPlayHangul(String sel1, String sel2) {\r\n",
      "     String res=null;\r\n",
      "     if (sel1.equals(sel2)) {\r\n",
      "         res=\"비겼습니다.\";\r\n",
      "     } else if (sel1.equals(\"가위\")) {\r\n",
      "         if (sel2.equals(\"바위\")) {\r\n",
      "             res=\"바위가 이겼습니다.\";\r\n",
      "         } else {\r\n",
      "             res=\"가위가 이겼습니다.\";\r\n",
      "         }\r\n",
      "     } else if (sel1.equals(\"바위\")) {\r\n",
      "         if (sel2.equals(\"보\")) {\r\n",
      "             res=\"보가 이겼습니다.\";\r\n",
      "         } else {\r\n",
      "             res=\"바위가 이겼습니다.\";\r\n",
      "         }\r\n",
      "     } else if (sel1.equals(\"보\")) {\r\n",
      "         if (sel2.equals(\"바위\")) {\r\n",
      "             res=\"보가 이겼습니다.\";\r\n",
      "         } else {\r\n",
      "             res=\"가위가 이겼습니다.\";\r\n",
      "         }\r\n",
      "     } else {\r\n",
      "         res=\"오류! 가위, 바위, 보 가운데 고르세요!\";\r\n",
      "     }\r\n",
      "     return res;\r\n",
      " }\r\n",
      "|  Added method rspPlayHangul(String,String)\r\n",
      "\r\n"
     ]
    }
   ],
   "source": [
    "String rspPlayHangul(String sel1, String sel2) {\n",
    "    String res=null;\n",
    "    if (sel1.equals(sel2)) {\n",
    "        res=\"비겼습니다.\";\n",
    "    } else if (sel1.equals(\"가위\")) {\n",
    "        if (sel2.equals(\"바위\")) {\n",
    "            res=\"바위가 이겼습니다.\";\n",
    "        } else {\n",
    "            res=\"가위가 이겼습니다.\";\n",
    "        }\n",
    "    } else if (sel1.equals(\"바위\")) {\n",
    "        if (sel2.equals(\"보\")) {\n",
    "            res=\"보가 이겼습니다.\";\n",
    "        } else {\n",
    "            res=\"바위가 이겼습니다.\";\n",
    "        }\n",
    "    } else if (sel1.equals(\"보\")) {\n",
    "        if (sel2.equals(\"바위\")) {\n",
    "            res=\"보가 이겼습니다.\";\n",
    "        } else {\n",
    "            res=\"가위가 이겼습니다.\";\n",
    "        }\n",
    "    } else {\n",
    "        res=\"오류! 가위, 바위, 보 가운데 고르세요!\";\n",
    "    }\n",
    "    return res;\n",
    "}\n"
   ]
  },
  {
   "cell_type": "code",
   "execution_count": 13,
   "metadata": {
    "collapsed": false,
    "slideshow": {
     "slide_type": "subslide"
    }
   },
   "outputs": [
    {
     "name": "stdout",
     "output_type": "stream",
     "text": [
      " String rsp=rspPlayHangul(\"가위\", \"바위\");\r\n",
      "|  Added variable rsp of type String with initial value \"바위가 이겼습니다.\"\r\n",
      "\r\n",
      " System.out.println(rsp);\r\n",
      "바위가 이겼습니다.\r\n",
      "\r\n"
     ]
    }
   ],
   "source": [
    "String rsp=rspPlayHangul(\"가위\", \"바위\");\n",
    "System.out.println(rsp);"
   ]
  },
  {
   "cell_type": "code",
   "execution_count": 12,
   "metadata": {
    "collapsed": false,
    "scrolled": true,
    "slideshow": {
     "slide_type": "subslide"
    }
   },
   "outputs": [
    {
     "name": "stdout",
     "output_type": "stream",
     "text": [
      " String rspPlayHangul(String sel1, String sel2) {\r\n",
      "     String res=null;\r\n",
      "     if (sel1.equals(sel2)) {\r\n",
      "         res=\"비겼습니다.\";\r\n",
      "     } else if (sel1.equals(\"가위\") && (sel2.equals(\"바위\"))) {\r\n",
      "         res=\"바위가 이겼습니다.\";\r\n",
      "     } else if (sel1.equals(\"가위\") && (sel2.equals(\"보\"))) {\r\n",
      "         res=\"가위가 이겼습니다.\";\r\n",
      "     } else if (sel1.equals(\"바위\") && (sel2.equals(\"보\"))) {\r\n",
      "         res=\"보가 이겼습니다.\";\r\n",
      "     } else if (sel1.equals(\"바위\") && (sel2.equals(\"가위\"))) {\r\n",
      "         res=\"가위가 이겼습니다.\";\r\n",
      "     } else if (sel1.equals(\"보\") && (sel2.equals(\"바위\"))) {\r\n",
      "         res=\"보가 이겼습니다.\";\r\n",
      "     } else if (sel1.equals(\"보\") && (sel2.equals(\"가위\"))) {\r\n",
      "         res=\"가위가 이겼습니다.\";\r\n",
      "     } else {\r\n",
      "         res=\"오류! 가위, 바위, 보 가운데 고르세요!\";\r\n",
      "     }\r\n",
      "     return res;\r\n",
      " }\r\n",
      "|  Modified method rspPlayHangul(String,String)\r\n",
      "|    Update overwrote method rspPlayHangul(String,String)\r\n",
      "\r\n"
     ]
    }
   ],
   "source": [
    "String rspPlayHangul(String sel1, String sel2) {\n",
    "    String res=null;\n",
    "    if (sel1.equals(sel2)) {\n",
    "        res=\"비겼습니다.\";\n",
    "    } else if (sel1.equals(\"가위\") && (sel2.equals(\"바위\"))) {\n",
    "        res=\"바위가 이겼습니다.\";\n",
    "    } else if (sel1.equals(\"가위\") && (sel2.equals(\"보\"))) {\n",
    "        res=\"가위가 이겼습니다.\";\n",
    "    } else if (sel1.equals(\"바위\") && (sel2.equals(\"보\"))) {\n",
    "        res=\"보가 이겼습니다.\";\n",
    "    } else if (sel1.equals(\"바위\") && (sel2.equals(\"가위\"))) {\n",
    "        res=\"가위가 이겼습니다.\";\n",
    "    } else if (sel1.equals(\"보\") && (sel2.equals(\"바위\"))) {\n",
    "        res=\"보가 이겼습니다.\";\n",
    "    } else if (sel1.equals(\"보\") && (sel2.equals(\"가위\"))) {\n",
    "        res=\"가위가 이겼습니다.\";\n",
    "    } else {\n",
    "        res=\"오류! 가위, 바위, 보 가운데 고르세요!\";\n",
    "    }\n",
    "    return res;\n",
    "}"
   ]
  },
  {
   "cell_type": "markdown",
   "metadata": {
    "slideshow": {
     "slide_type": "slide"
    }
   },
   "source": [
    "## 제어-7: 삼각형 그리기\n",
    "\n",
    "* 문자로 삼각형 도형을 그린다.1 ~ 11개\n",
    "* 프로그래밍 요소\n",
    "    * 문자열 합성을 사용할 수 있다. String, StringBuffer.\n",
    "    * 문자로 도형을 그릴 때, 프로그래밍으로 문자의 반복을 할 수 있다.\n",
    "    * 반복회수를 제어할 수 있다.\n",
    "    * 반복문의 시작, 끝을 이해할 수 있다.\n"
   ]
  },
  {
   "cell_type": "code",
   "execution_count": 9,
   "metadata": {
    "collapsed": false,
    "slideshow": {
     "slide_type": "subslide"
    }
   },
   "outputs": [
    {
     "data": {
      "image/svg+xml": [
       "<svg height=\"489px\" style=\"width:252px;height:489px;\" version=\"1.1\" viewBox=\"0 0 252 489\" width=\"252px\" xmlns=\"http://www.w3.org/2000/svg\" xmlns:xlink=\"http://www.w3.org/1999/xlink\"><defs><filter height=\"300%\" id=\"f1\" width=\"300%\" x=\"-1\" y=\"-1\"><feGaussianBlur result=\"blurOut\" stdDeviation=\"2.0\"/><feColorMatrix in=\"blurOut\" result=\"blurOut2\" type=\"matrix\" values=\"0 0 0 0 0 0 0 0 0 0 0 0 0 0 0 0 0 0 .4 0\"/><feOffset dx=\"4.0\" dy=\"4.0\" in=\"blurOut2\" result=\"blurOut3\"/><feBlend in=\"SourceGraphic\" in2=\"blurOut3\" mode=\"normal\"/></filter></defs><g><ellipse cx=\"122.5\" cy=\"20\" fill=\"#000000\" filter=\"url(#f1)\" rx=\"10\" ry=\"10\" style=\"stroke: none; stroke-width: 1.0;\"/><rect fill=\"#FEFECE\" filter=\"url(#f1)\" height=\"34.1328\" rx=\"12.5\" ry=\"12.5\" style=\"stroke: #A80036; stroke-width: 1.5;\" width=\"82\" x=\"81.5\" y=\"50\"/><text fill=\"#000000\" font-family=\"sans-serif\" font-size=\"12\" lengthAdjust=\"spacingAndGlyphs\" textLength=\"62\" x=\"91.5\" y=\"71.6016\">maxiter=6</text><rect fill=\"#FEFECE\" filter=\"url(#f1)\" height=\"34.1328\" rx=\"12.5\" ry=\"12.5\" style=\"stroke: #A80036; stroke-width: 1.5;\" width=\"41\" x=\"102\" y=\"104.1328\"/><text fill=\"#000000\" font-family=\"sans-serif\" font-size=\"12\" lengthAdjust=\"spacingAndGlyphs\" textLength=\"21\" x=\"112\" y=\"125.7344\">i=0</text><rect fill=\"#FEFECE\" filter=\"url(#f1)\" height=\"34.1328\" rx=\"12.5\" ry=\"12.5\" style=\"stroke: #A80036; stroke-width: 1.5;\" width=\"54\" x=\"95.5\" y=\"202.2656\"/><text fill=\"#000000\" font-family=\"sans-serif\" font-size=\"12\" lengthAdjust=\"spacingAndGlyphs\" textLength=\"34\" x=\"105.5\" y=\"223.8672\">i=i+1</text><rect fill=\"#FEFECE\" filter=\"url(#f1)\" height=\"34.1328\" rx=\"12.5\" ry=\"12.5\" style=\"stroke: #A80036; stroke-width: 1.5;\" width=\"225\" x=\"10\" y=\"256.3984\"/><text fill=\"#000000\" font-family=\"sans-serif\" font-size=\"12\" lengthAdjust=\"spacingAndGlyphs\" textLength=\"205\" x=\"20\" y=\"278\">print 'maxiter-i' number of spacess</text><rect fill=\"#FEFECE\" filter=\"url(#f1)\" height=\"34.1328\" rx=\"12.5\" ry=\"12.5\" style=\"stroke: #A80036; stroke-width: 1.5;\" width=\"144\" x=\"50.5\" y=\"310.5313\"/><text fill=\"#000000\" font-family=\"sans-serif\" font-size=\"12\" lengthAdjust=\"spacingAndGlyphs\" textLength=\"124\" x=\"60.5\" y=\"332.1328\">print i number of &quot;#&quot;s</text><rect fill=\"#FEFECE\" filter=\"url(#f1)\" height=\"34.1328\" rx=\"12.5\" ry=\"12.5\" style=\"stroke: #A80036; stroke-width: 1.5;\" width=\"105\" x=\"70\" y=\"364.6641\"/><text fill=\"#000000\" font-family=\"sans-serif\" font-size=\"12\" lengthAdjust=\"spacingAndGlyphs\" textLength=\"85\" x=\"80\" y=\"386.2656\">add a new line</text><polygon fill=\"#FEFECE\" filter=\"url(#f1)\" points=\"122.5,158.2656,134.5,170.2656,122.5,182.2656,110.5,170.2656,122.5,158.2656\" style=\"stroke: #A80036; stroke-width: 1.5;\"/><polygon fill=\"#FEFECE\" filter=\"url(#f1)\" points=\"96,418.7969,149,418.7969,161,430.7969,149,442.7969,96,442.7969,84,430.7969,96,418.7969\" style=\"stroke: #A80036; stroke-width: 1.5;\"/><text fill=\"#000000\" font-family=\"sans-serif\" font-size=\"11\" lengthAdjust=\"spacingAndGlyphs\" textLength=\"53\" x=\"96\" y=\"434.9541\">i&lt;maxiter</text><ellipse cx=\"122.5\" cy=\"472.7969\" fill=\"none\" filter=\"url(#f1)\" rx=\"10\" ry=\"10\" style=\"stroke: #000000; stroke-width: 1.0;\"/><ellipse cx=\"123\" cy=\"473.2969\" fill=\"#000000\" filter=\"url(#f1)\" rx=\"6\" ry=\"6\" style=\"stroke: none; stroke-width: 1.0;\"/><line style=\"stroke: #A80036; stroke-width: 1.5;\" x1=\"122.5\" x2=\"122.5\" y1=\"30\" y2=\"50\"/><polygon fill=\"#A80036\" points=\"118.5,40,122.5,50,126.5,40,122.5,44\" style=\"stroke: #A80036; stroke-width: 1.0;\"/><line style=\"stroke: #A80036; stroke-width: 1.5;\" x1=\"122.5\" x2=\"122.5\" y1=\"84.1328\" y2=\"104.1328\"/><polygon fill=\"#A80036\" points=\"118.5,94.1328,122.5,104.1328,126.5,94.1328,122.5,98.1328\" style=\"stroke: #A80036; stroke-width: 1.0;\"/><line style=\"stroke: #A80036; stroke-width: 1.5;\" x1=\"122.5\" x2=\"122.5\" y1=\"236.3984\" y2=\"256.3984\"/><polygon fill=\"#A80036\" points=\"118.5,246.3984,122.5,256.3984,126.5,246.3984,122.5,250.3984\" style=\"stroke: #A80036; stroke-width: 1.0;\"/><line style=\"stroke: #A80036; stroke-width: 1.5;\" x1=\"122.5\" x2=\"122.5\" y1=\"290.5313\" y2=\"310.5313\"/><polygon fill=\"#A80036\" points=\"118.5,300.5313,122.5,310.5313,126.5,300.5313,122.5,304.5313\" style=\"stroke: #A80036; stroke-width: 1.0;\"/><line style=\"stroke: #A80036; stroke-width: 1.5;\" x1=\"122.5\" x2=\"122.5\" y1=\"344.6641\" y2=\"364.6641\"/><polygon fill=\"#A80036\" points=\"118.5,354.6641,122.5,364.6641,126.5,354.6641,122.5,358.6641\" style=\"stroke: #A80036; stroke-width: 1.0;\"/><line style=\"stroke: #A80036; stroke-width: 1.5;\" x1=\"122.5\" x2=\"122.5\" y1=\"182.2656\" y2=\"202.2656\"/><polygon fill=\"#A80036\" points=\"118.5,192.2656,122.5,202.2656,126.5,192.2656,122.5,196.2656\" style=\"stroke: #A80036; stroke-width: 1.0;\"/><line style=\"stroke: #A80036; stroke-width: 1.5;\" x1=\"161\" x2=\"247\" y1=\"430.7969\" y2=\"430.7969\"/><polygon fill=\"#A80036\" points=\"243,327.0313,247,317.0313,251,327.0313,247,323.0313\" style=\"stroke: #A80036; stroke-width: 1.5;\"/><line style=\"stroke: #A80036; stroke-width: 1.5;\" x1=\"247\" x2=\"247\" y1=\"170.2656\" y2=\"430.7969\"/><line style=\"stroke: #A80036; stroke-width: 1.5;\" x1=\"247\" x2=\"134.5\" y1=\"170.2656\" y2=\"170.2656\"/><polygon fill=\"#A80036\" points=\"144.5,166.2656,134.5,170.2656,144.5,174.2656,140.5,170.2656\" style=\"stroke: #A80036; stroke-width: 1.0;\"/><line style=\"stroke: #A80036; stroke-width: 1.5;\" x1=\"122.5\" x2=\"122.5\" y1=\"398.7969\" y2=\"418.7969\"/><polygon fill=\"#A80036\" points=\"118.5,408.7969,122.5,418.7969,126.5,408.7969,122.5,412.7969\" style=\"stroke: #A80036; stroke-width: 1.0;\"/><line style=\"stroke: #A80036; stroke-width: 1.5;\" x1=\"122.5\" x2=\"122.5\" y1=\"138.2656\" y2=\"158.2656\"/><polygon fill=\"#A80036\" points=\"118.5,148.2656,122.5,158.2656,126.5,148.2656,122.5,152.2656\" style=\"stroke: #A80036; stroke-width: 1.0;\"/><line style=\"stroke: #A80036; stroke-width: 1.5;\" x1=\"122.5\" x2=\"122.5\" y1=\"442.7969\" y2=\"462.7969\"/><polygon fill=\"#A80036\" points=\"118.5,452.7969,122.5,462.7969,126.5,452.7969,122.5,456.7969\" style=\"stroke: #A80036; stroke-width: 1.0;\"/></g></svg>"
      ],
      "text/plain": [
       "<IPython.core.display.SVG object>"
      ]
     },
     "execution_count": 9,
     "metadata": {},
     "output_type": "execute_result"
    }
   ],
   "source": [
    "%%plantuml\n",
    "@startuml\n",
    "start\n",
    ":maxiter=6;\n",
    ":i=0;\n",
    "repeat\n",
    ":i=i+1;\n",
    ":print 'maxiter-i' number of spacess;\n",
    ":print i number of \"#\"s;\n",
    ":add a new line;\n",
    "repeat while(i<maxiter)\n",
    "stop\n",
    "@enduml"
   ]
  },
  {
   "cell_type": "markdown",
   "metadata": {
    "slideshow": {
     "slide_type": "subslide"
    }
   },
   "source": [
    "\n",
    " | String | StringBuffer | StringBuilder\n",
    "----------|----------|----------\n",
    "Storage Area | Constant String Pool | Heap | Heap \n",
    "Modifiable | No (immutable) | Yes( mutable ) | Yes( mutable )\n",
    "Thread Safe | Yes | Yes | No\n",
    "Performance | Fast | Very slow | Fast\n"
   ]
  },
  {
   "cell_type": "markdown",
   "metadata": {
    "slideshow": {
     "slide_type": "subslide"
    }
   },
   "source": [
    "String은 일단 값이 정해지면 수정될 수 없는 immutable 특징을 보인다.\n",
    "다음과 같이 값을 변경(추가)해도 새로 String을 생성하여 값을 넣는다.\n",
    "따라서 수정 전후의 hash code가 서로 다르게 된다. 즉, \"Hello\"와 \"Hello world\"의 hash code가 다르다."
   ]
  },
  {
   "cell_type": "code",
   "execution_count": 4,
   "metadata": {
    "collapsed": false,
    "slideshow": {
     "slide_type": "subslide"
    }
   },
   "outputs": [
    {
     "name": "stdout",
     "output_type": "stream",
     "text": [
      " String h=\"Hello\";\r\n",
      "|  Modified variable h of type String with initial value \"Hello\"\r\n",
      "|    Update overwrote variable h\r\n",
      "\r\n",
      " System.identityHashCode(h);\r\n",
      "|  Expression value is: 485041780\r\n",
      "|    assigned to temporary variable $14 of type int\r\n",
      "\r\n",
      " h+=\" world\";\r\n",
      "|  Expression value is: \"Hello world\"\r\n",
      "|    assigned to temporary variable $15 of type String\r\n",
      "\r\n",
      " System.identityHashCode(h);\r\n",
      "|  Expression value is: 1846896625\r\n",
      "|    assigned to temporary variable $16 of type int\r\n",
      "\r\n"
     ]
    }
   ],
   "source": [
    "String h=\"Hello\";\n",
    "System.identityHashCode(h);\n",
    "h+=\" world\";\n",
    "System.identityHashCode(h);"
   ]
  },
  {
   "cell_type": "markdown",
   "metadata": {
    "collapsed": true,
    "slideshow": {
     "slide_type": "subslide"
    }
   },
   "source": [
    "반면에 StringBuilder는 새로운 객체를 만들지 않고, \"Hello\"에 \" world\"를 추가할 수 있다."
   ]
  },
  {
   "cell_type": "code",
   "execution_count": 14,
   "metadata": {
    "collapsed": false
   },
   "outputs": [
    {
     "name": "stdout",
     "output_type": "stream",
     "text": [
      " StringBuffer hbuf=new StringBuffer(\"hello\");\r\n",
      "|  Added variable hbuf of type StringBuffer with initial value hello\r\n",
      "\r\n",
      " System.identityHashCode(hbuf);\r\n",
      "|  Expression value is: 1458540918\r\n",
      "|    assigned to temporary variable $22 of type int\r\n",
      "\r\n",
      " hbuf.append(\" world\");\r\n",
      "|  Expression value is: hello world\r\n",
      "|    assigned to temporary variable $23 of type StringBuffer\r\n",
      "\r\n",
      " System.identityHashCode(hbuf);\r\n",
      "|  Expression value is: 1458540918\r\n",
      "|    assigned to temporary variable $24 of type int\r\n",
      "\r\n"
     ]
    }
   ],
   "source": [
    "StringBuffer hbuf=new StringBuffer(\"Hello\");\n",
    "System.identityHashCode(hbuf);\n",
    "hbuf.append(\" world\");\n",
    "System.identityHashCode(hbuf);"
   ]
  },
  {
   "cell_type": "markdown",
   "metadata": {
    "slideshow": {
     "slide_type": "subslide"
    }
   },
   "source": [
    "프로그램을 하면서, 변수를 사용하면 프로그램을 수정할 필요가 적어지게 된다.\n",
    "우리가 그리려는 ```*```을 변수로 사용하면, 나중에 심볼을 ```#```으로 변경한다 하더라도 해당 변수만 수정하면 된다.\n",
    "우리가 그리려는 삼각형은 높이, 너비 2축으로 변경하므로 중첩반복문을 사용해야 한다.\n",
    "중첩반복문에서의 증감자를 2축으로 사용해야 풀 수 있는 문제이다."
   ]
  },
  {
   "cell_type": "code",
   "execution_count": 25,
   "metadata": {
    "collapsed": false
   },
   "outputs": [
    {
     "name": "stdout",
     "output_type": "stream",
     "text": [
      " String s=\"*\";\r\n",
      "|  Modified variable s of type String with initial value \"*\"\r\n",
      "|    Update overwrote variable s\r\n",
      "\r\n",
      " StringBuffer sbuf=new StringBuffer();\r\n",
      "|  Modified variable sbuf of type StringBuffer with initial value \r\n",
      "|    Update overwrote variable sbuf\r\n",
      "\r\n",
      " for(int i=0;i<5;i++) {\r\n",
      "     for(int j=0;j<i;j++) {\r\n",
      "         sbuf.append(s);\r\n",
      "     }\r\n",
      "     System.out.printf(\"%d %s\\n\",i,sbuf.toString());\r\n",
      "     sbuf.delete(0, sbuf.length());\r\n",
      " }\r\n",
      "0 \r\n",
      "1 *\r\n",
      "2 **\r\n",
      "3 ***\r\n",
      "4 ****\r\n",
      "\r\n"
     ]
    }
   ],
   "source": [
    "String s=\"*\";\n",
    "StringBuffer sbuf=new StringBuffer();\n",
    "for(int i=0;i<5;i++) {\n",
    "    for(int j=0;j<i;j++) {\n",
    "        sbuf.append(s);\n",
    "    }\n",
    "    System.out.printf(\"%d %s\\n\",i,sbuf.toString());\n",
    "    sbuf.delete(0, sbuf.length());\n",
    "}"
   ]
  },
  {
   "cell_type": "markdown",
   "metadata": {
    "slideshow": {
     "slide_type": "subslide"
    }
   },
   "source": [
    "* 역삼각형으로 만들기\n",
    "    * 공백을 넣어주는 카운터 j\n",
    "    * '*'을 넣어주는 카운터 k"
   ]
  },
  {
   "cell_type": "code",
   "execution_count": 3,
   "metadata": {
    "collapsed": false,
    "scrolled": true
   },
   "outputs": [
    {
     "name": "stdout",
     "output_type": "stream",
     "text": [
      " String s=\"*\";\r\n",
      "|  Modified variable s of type String with initial value \"*\"\r\n",
      "|    Update overwrote variable s\r\n",
      "\r\n",
      " String white=\" \";\r\n",
      "|  Added variable white of type String with initial value \" \"\r\n",
      "\r\n",
      " StringBuffer sbuf=new StringBuffer();\r\n",
      "|  Added variable sbuf of type StringBuffer with initial value \r\n",
      "\r\n",
      " for(int i=0;i<5;i++) {\r\n",
      "     for(int j=5;j>i;j--) {\r\n",
      "         sbuf.append(white);\r\n",
      "     }\r\n",
      "     for(int k=0;k<i;k++) {\r\n",
      "         sbuf.append(s);\r\n",
      "     }\r\n",
      "     System.out.printf(\"%d %s\\n\",i,sbuf.toString());\r\n",
      "     sbuf.delete(0, sbuf.length());\r\n",
      " }\r\n",
      "0      \r\n",
      "1     *\r\n",
      "2    **\r\n",
      "3   ***\r\n",
      "4  ****\r\n",
      "\r\n"
     ]
    }
   ],
   "source": [
    "String s=\"*\";\n",
    "String white=\" \";\n",
    "StringBuffer sbuf=new StringBuffer();\n",
    "for(int i=0;i<5;i++) {\n",
    "    for(int j=5;j>i;j--) {\n",
    "        sbuf.append(white);\n",
    "    }\n",
    "    for(int k=0;k<i;k++) {\n",
    "        sbuf.append(s);\n",
    "    }\n",
    "    System.out.printf(\"%d %s\\n\",i,sbuf.toString());\n",
    "    sbuf.delete(0, sbuf.length());\n",
    "}"
   ]
  },
  {
   "cell_type": "markdown",
   "metadata": {
    "collapsed": true,
    "slideshow": {
     "slide_type": "subslide"
    }
   },
   "source": [
    "* 대칭으로 만들기"
   ]
  },
  {
   "cell_type": "code",
   "execution_count": 32,
   "metadata": {
    "collapsed": false
   },
   "outputs": [
    {
     "name": "stdout",
     "output_type": "stream",
     "text": [
      " String s=\"*\";\r\n",
      "|  Modified variable s of type String with initial value \"*\"\r\n",
      "|    Update overwrote variable s\r\n",
      "\r\n",
      " String white=\" \";\r\n",
      "|  Modified variable white of type String with initial value \" \"\r\n",
      "|    Update overwrote variable white\r\n",
      "\r\n",
      " StringBuffer sbuf=new StringBuffer();\r\n",
      "|  Modified variable sbuf of type StringBuffer with initial value \r\n",
      "|    Update overwrote variable sbuf\r\n",
      "\r\n",
      " for(int i=0;i<5;i++) {\r\n",
      "     for(int j=5;j>i;j--) {\r\n",
      "         sbuf.append(white);\r\n",
      "     }\r\n",
      "     for(int k=0;k<i;k++) {\r\n",
      "         sbuf.append(s);\r\n",
      "         sbuf.append(s);\r\n",
      "     }\r\n",
      "     System.out.printf(\"%d %s\\n\",i,sbuf.toString());\r\n",
      "     sbuf.delete(0, sbuf.length());\r\n",
      " }\r\n",
      "0      \r\n",
      "1     **\r\n",
      "2    ****\r\n",
      "3   ******\r\n",
      "4  ********\r\n",
      "\r\n"
     ]
    }
   ],
   "source": [
    "String s=\"*\";\n",
    "String white=\" \";\n",
    "StringBuffer sbuf=new StringBuffer();\n",
    "for(int i=0;i<5;i++) {\n",
    "    for(int j=5;j>i;j--) {\n",
    "        sbuf.append(white);\n",
    "    }\n",
    "    for(int k=0;k<i;k++) {\n",
    "        sbuf.append(s);\n",
    "        sbuf.append(s);\n",
    "    }\n",
    "    System.out.printf(\"%d %s\\n\",i,sbuf.toString());\n",
    "    sbuf.delete(0, sbuf.length());\n",
    "}"
   ]
  },
  {
   "cell_type": "markdown",
   "metadata": {
    "slideshow": {
     "slide_type": "slide"
    }
   },
   "source": [
    "### 함수로 만들 경우\n",
    "\n",
    "* 출력 값이 없는 경우 return이 없다.\n",
    "* void 함수.\n",
    "* 맨 위 1개 - 10개"
   ]
  },
  {
   "cell_type": "code",
   "execution_count": 33,
   "metadata": {
    "collapsed": false
   },
   "outputs": [
    {
     "name": "stdout",
     "output_type": "stream",
     "text": [
      " void drawTriangleWithChar(int height,String symbol) {\r\n",
      "     String white=\" \";\r\n",
      "     StringBuffer sbuf=new StringBuffer();\r\n",
      "     for(int i=0;i<height;i++) {\r\n",
      "         for(int j=height;j>i;j--) {\r\n",
      "             sbuf.append(white);\r\n",
      "         }\r\n",
      "         for(int k=0;k<i;k++) {\r\n",
      "             sbuf.append(symbol);\r\n",
      "             sbuf.append(symbol);\r\n",
      "         }\r\n",
      "         System.out.printf(\"%d %s\\n\",i,sbuf.toString());\r\n",
      "         sbuf.delete(0, sbuf.length());\r\n",
      "     }\r\n",
      " }\r\n",
      "|  Added method drawTriangleWithChar(int,String)\r\n",
      "\r\n"
     ]
    }
   ],
   "source": [
    "void drawTriangleWithChar(int height,String symbol) {\n",
    "    String white=\" \";\n",
    "    StringBuffer sbuf=new StringBuffer();\n",
    "    for(int i=0;i<height;i++) {\n",
    "        for(int j=height;j>i;j--) {\n",
    "            sbuf.append(white);\n",
    "        }\n",
    "        for(int k=0;k<i;k++) {\n",
    "            sbuf.append(symbol);\n",
    "            sbuf.append(symbol);\n",
    "        }\n",
    "        System.out.printf(\"%d %s\\n\",i,sbuf.toString());\n",
    "        sbuf.delete(0, sbuf.length());\n",
    "    }\n",
    "}"
   ]
  },
  {
   "cell_type": "code",
   "execution_count": 34,
   "metadata": {
    "collapsed": false
   },
   "outputs": [
    {
     "name": "stdout",
     "output_type": "stream",
     "text": [
      " String s=\"#\";\r\n",
      "|  Modified variable s of type String with initial value \"#\"\r\n",
      "|    Update overwrote variable s\r\n",
      "\r\n",
      " drawTriangleWithChar(8,s);\r\n",
      "0         \r\n",
      "1        ##\r\n",
      "2       ####\r\n",
      "3      ######\r\n",
      "4     ########\r\n",
      "5    ##########\r\n",
      "6   ############\r\n",
      "7  ##############\r\n",
      "\r\n"
     ]
    }
   ],
   "source": [
    "String s=\"#\";\n",
    "drawTriangleWithChar(8,s);"
   ]
  },
  {
   "cell_type": "markdown",
   "metadata": {
    "slideshow": {
     "slide_type": "slide"
    }
   },
   "source": [
    "## 제어-8:  구구단의 출력\n",
    "\n",
    "### 문제\n",
    "\n",
    "구구단에는 일정한 패턴이 들어가 있다.\n",
    "이러한 패턴을 찾아내어 반복문으로 만들어 보자.\n",
    "구구단을 출력하려면 정렬, 줄바꿈 스타일이 적용되어야 보기 좋다.\n",
    "\n",
    "### 해결\n",
    "\n",
    "한 수가 고정되고 다른 수가 변하는 패턴이 반복된다. 2차원으로 변화가 있으므로 중첩 for를 사용한다.\n",
    "```python\n",
    "1 x 1 = 1  1 x 2 = 2 1 x 3 = 3 ...\n",
    "2 x 1 = 2  2 x 2 = 4 2 x 3 = 6 ...\n",
    "...\n",
    "```\n",
    "\n",
    "**한글**이 포함되어 있으므로 **윈도우에서 유니코드를 지원하지 않는 편집기**는 출력이 깨질 수 있다."
   ]
  },
  {
   "cell_type": "code",
   "execution_count": 14,
   "metadata": {
    "collapsed": false,
    "slideshow": {
     "slide_type": "subslide"
    }
   },
   "outputs": [
    {
     "name": "stdout",
     "output_type": "stream",
     "text": [
      " int[] x={1,2,3,4,5,6,7,8,9};\r\n",
      "|  Added variable x of type int[] with initial value [I@5bcab519\r\n",
      "\r\n",
      " \r\n",
      "\r\n",
      " for(int i: x) {\r\n",
      "     System.out.printf(\"\\n%d단 -\",i);\r\n",
      "     for(int j: x) {\r\n",
      "         System.out.printf(\"\\t%dx%d=%2d \",i,j,i*j);\r\n",
      "     }\r\n",
      " }\r\n",
      "\r\n",
      "1단 -\t1x1= 1 \t1x2= 2 \t1x3= 3 \t1x4= 4 \t1x5= 5 \t1x6= 6 \t1x7= 7 \t1x8= 8 \t1x9= 9 \r\n",
      "2단 -\t2x1= 2 \t2x2= 4 \t2x3= 6 \t2x4= 8 \t2x5=10 \t2x6=12 \t2x7=14 \t2x8=16 \t2x9=18 \r\n",
      "3단 -\t3x1= 3 \t3x2= 6 \t3x3= 9 \t3x4=12 \t3x5=15 \t3x6=18 \t3x7=21 \t3x8=24 \t3x9=27 \r\n",
      "4단 -\t4x1= 4 \t4x2= 8 \t4x3=12 \t4x4=16 \t4x5=20 \t4x6=24 \t4x7=28 \t4x8=32 \t4x9=36 \r\n",
      "5단 -\t5x1= 5 \t5x2=10 \t5x3=15 \t5x4=20 \t5x5=25 \t5x6=30 \t5x7=35 \t5x8=40 \t5x9=45 \r\n",
      "6단 -\t6x1= 6 \t6x2=12 \t6x3=18 \t6x4=24 \t6x5=30 \t6x6=36 \t6x7=42 \t6x8=48 \t6x9=54 \r\n",
      "7단 -\t7x1= 7 \t7x2=14 \t7x3=21 \t7x4=28 \t7x5=35 \t7x6=42 \t7x7=49 \t7x8=56 \t7x9=63 \r\n",
      "8단 -\t8x1= 8 \t8x2=16 \t8x3=24 \t8x4=32 \t8x5=40 \t8x6=48 \t8x7=56 \t8x8=64 \t8x9=72 \r\n",
      "9단 -\t9x1= 9 \t9x2=18 \t9x3=27 \t9x4=36 \t9x5=45 \t9x6=54 \t9x7=63 \t9x8=72 \t9x9=81 \r\n"
     ]
    }
   ],
   "source": [
    "int[] x={1,2,3,4,5,6,7,8,9};\n",
    "\n",
    "for(int i: x) {\n",
    "    System.out.printf(\"\\n%d단 -\",i);\n",
    "    for(int j: x) {\n",
    "        System.out.printf(\"\\t%dx%d=%2d \",i,j,i*j);\n",
    "    }\n",
    "}"
   ]
  },
  {
   "cell_type": "markdown",
   "metadata": {
    "slideshow": {
     "slide_type": "slide"
    }
   },
   "source": [
    "## 제어-9: BMI\n",
    "\n",
    "* 사용자의 몸무게를 입력받아서, BMI를 계산한다.\n",
    "* 프로그래밍 요소\n",
    "    * 다분기 조건을 사용할 수 있다.\n",
    "    * 조건에 논리연산자를 사용할 수 있다.\n",
    "    * 범위 조건과 값 조건의 차이를 이해할 수 있다.\n",
    "    * 소수점 처리에 유의. 정수끼리의 연산은 정수.\n",
    "computeBMI(height,weight) -> bmi\n"
   ]
  },
  {
   "cell_type": "code",
   "execution_count": 10,
   "metadata": {
    "collapsed": false,
    "slideshow": {
     "slide_type": "subslide"
    }
   },
   "outputs": [
    {
     "data": {
      "image/svg+xml": [
       "<svg height=\"252px\" style=\"width:855px;height:252px;\" version=\"1.1\" viewBox=\"0 0 855 252\" width=\"855px\" xmlns=\"http://www.w3.org/2000/svg\" xmlns:xlink=\"http://www.w3.org/1999/xlink\"><defs><filter height=\"300%\" id=\"f1\" width=\"300%\" x=\"-1\" y=\"-1\"><feGaussianBlur result=\"blurOut\" stdDeviation=\"2.0\"/><feColorMatrix in=\"blurOut\" result=\"blurOut2\" type=\"matrix\" values=\"0 0 0 0 0 0 0 0 0 0 0 0 0 0 0 0 0 0 .4 0\"/><feOffset dx=\"4.0\" dy=\"4.0\" in=\"blurOut2\" result=\"blurOut3\"/><feBlend in=\"SourceGraphic\" in2=\"blurOut3\" mode=\"normal\"/></filter></defs><g><ellipse cx=\"429\" cy=\"20\" fill=\"#000000\" filter=\"url(#f1)\" rx=\"10\" ry=\"10\" style=\"stroke: none; stroke-width: 1.0;\"/><rect fill=\"#FEFECE\" filter=\"url(#f1)\" height=\"34.1328\" rx=\"12.5\" ry=\"12.5\" style=\"stroke: #A80036; stroke-width: 1.5;\" width=\"197\" x=\"330.5\" y=\"50\"/><text fill=\"#000000\" font-family=\"sans-serif\" font-size=\"12\" lengthAdjust=\"spacingAndGlyphs\" textLength=\"177\" x=\"340.5\" y=\"71.6016\">bmi==weight / height / height</text><polygon fill=\"#FEFECE\" filter=\"url(#f1)\" points=\"22,104.1328,84,104.1328,96,116.1328,84,128.1328,22,128.1328,10,116.1328,22,104.1328\" style=\"stroke: #A80036; stroke-width: 1.5;\"/><text fill=\"#000000\" font-family=\"sans-serif\" font-size=\"11\" lengthAdjust=\"spacingAndGlyphs\" textLength=\"62\" x=\"22\" y=\"120.29\">bmi&lt;=18.5</text><rect fill=\"#FEFECE\" filter=\"url(#f1)\" height=\"34.1328\" rx=\"12.5\" ry=\"12.5\" style=\"stroke: #A80036; stroke-width: 1.5;\" width=\"78\" x=\"14\" y=\"148.1328\"/><text fill=\"#000000\" font-family=\"sans-serif\" font-size=\"12\" lengthAdjust=\"spacingAndGlyphs\" textLength=\"58\" x=\"24\" y=\"169.7344\">print &quot;low&quot;</text><polygon fill=\"#FEFECE\" filter=\"url(#f1)\" points=\"128,104.1328,213,104.1328,225,116.1328,213,128.1328,128,128.1328,116,116.1328,128,104.1328\" style=\"stroke: #A80036; stroke-width: 1.5;\"/><text fill=\"#000000\" font-family=\"sans-serif\" font-size=\"11\" lengthAdjust=\"spacingAndGlyphs\" textLength=\"85\" x=\"128\" y=\"120.29\">18.5&lt;=bmi&lt;23</text><rect fill=\"#FEFECE\" filter=\"url(#f1)\" height=\"34.1328\" rx=\"12.5\" ry=\"12.5\" style=\"stroke: #A80036; stroke-width: 1.5;\" width=\"99\" x=\"121\" y=\"148.1328\"/><text fill=\"#000000\" font-family=\"sans-serif\" font-size=\"12\" lengthAdjust=\"spacingAndGlyphs\" textLength=\"79\" x=\"131\" y=\"169.7344\">print &quot;normal&quot;</text><polygon fill=\"#FEFECE\" filter=\"url(#f1)\" points=\"257,104.1328,332,104.1328,344,116.1328,332,128.1328,257,128.1328,245,116.1328,257,104.1328\" style=\"stroke: #A80036; stroke-width: 1.5;\"/><text fill=\"#000000\" font-family=\"sans-serif\" font-size=\"11\" lengthAdjust=\"spacingAndGlyphs\" textLength=\"75\" x=\"257\" y=\"120.29\">23&lt;=bmi&lt;25</text><rect fill=\"#FEFECE\" filter=\"url(#f1)\" height=\"34.1328\" rx=\"12.5\" ry=\"12.5\" style=\"stroke: #A80036; stroke-width: 1.5;\" width=\"86\" x=\"251.5\" y=\"148.1328\"/><text fill=\"#000000\" font-family=\"sans-serif\" font-size=\"12\" lengthAdjust=\"spacingAndGlyphs\" textLength=\"66\" x=\"261.5\" y=\"169.7344\">print &quot;risky&quot;</text><polygon fill=\"#FEFECE\" filter=\"url(#f1)\" points=\"382.5,104.1328,457.5,104.1328,469.5,116.1328,457.5,128.1328,382.5,128.1328,370.5,116.1328,382.5,104.1328\" style=\"stroke: #A80036; stroke-width: 1.5;\"/><text fill=\"#000000\" font-family=\"sans-serif\" font-size=\"11\" lengthAdjust=\"spacingAndGlyphs\" textLength=\"75\" x=\"382.5\" y=\"120.29\">25&lt;=bmi&lt;30</text><rect fill=\"#FEFECE\" filter=\"url(#f1)\" height=\"34.1328\" rx=\"12.5\" ry=\"12.5\" style=\"stroke: #A80036; stroke-width: 1.5;\" width=\"112\" x=\"364\" y=\"148.1328\"/><text fill=\"#000000\" font-family=\"sans-serif\" font-size=\"12\" lengthAdjust=\"spacingAndGlyphs\" textLength=\"92\" x=\"374\" y=\"169.7344\">print &quot;obesity 1&quot;</text><polygon fill=\"#FEFECE\" filter=\"url(#f1)\" points=\"514.5,104.1328,589.5,104.1328,601.5,116.1328,589.5,128.1328,514.5,128.1328,502.5,116.1328,514.5,104.1328\" style=\"stroke: #A80036; stroke-width: 1.5;\"/><text fill=\"#000000\" font-family=\"sans-serif\" font-size=\"11\" lengthAdjust=\"spacingAndGlyphs\" textLength=\"75\" x=\"514.5\" y=\"120.29\">30&lt;=bmi&lt;40</text><rect fill=\"#FEFECE\" filter=\"url(#f1)\" height=\"34.1328\" rx=\"12.5\" ry=\"12.5\" style=\"stroke: #A80036; stroke-width: 1.5;\" width=\"112\" x=\"496\" y=\"148.1328\"/><text fill=\"#000000\" font-family=\"sans-serif\" font-size=\"12\" lengthAdjust=\"spacingAndGlyphs\" textLength=\"92\" x=\"506\" y=\"169.7344\">print &quot;obesity 2&quot;</text><polygon fill=\"#FEFECE\" filter=\"url(#f1)\" points=\"662.5,104.1328,705.5,104.1328,717.5,116.1328,705.5,128.1328,662.5,128.1328,650.5,116.1328,662.5,104.1328\" style=\"stroke: #A80036; stroke-width: 1.5;\"/><text fill=\"#000000\" font-family=\"sans-serif\" font-size=\"11\" lengthAdjust=\"spacingAndGlyphs\" textLength=\"43\" x=\"662.5\" y=\"120.29\">bmi&gt;40</text><rect fill=\"#FEFECE\" filter=\"url(#f1)\" height=\"34.1328\" rx=\"12.5\" ry=\"12.5\" style=\"stroke: #A80036; stroke-width: 1.5;\" width=\"112\" x=\"628\" y=\"148.1328\"/><text fill=\"#000000\" font-family=\"sans-serif\" font-size=\"12\" lengthAdjust=\"spacingAndGlyphs\" textLength=\"92\" x=\"638\" y=\"169.7344\">print &quot;obesity 3&quot;</text><rect fill=\"#FEFECE\" filter=\"url(#f1)\" height=\"34.1328\" rx=\"12.5\" ry=\"12.5\" style=\"stroke: #A80036; stroke-width: 1.5;\" width=\"88\" x=\"760\" y=\"151.1328\"/><text fill=\"#000000\" font-family=\"sans-serif\" font-size=\"12\" lengthAdjust=\"spacingAndGlyphs\" textLength=\"68\" x=\"770\" y=\"172.7344\">print &quot;error&quot;</text><ellipse cx=\"429\" cy=\"235.2656\" fill=\"none\" filter=\"url(#f1)\" rx=\"10\" ry=\"10\" style=\"stroke: #000000; stroke-width: 1.0;\"/><ellipse cx=\"429.5\" cy=\"235.7656\" fill=\"#000000\" filter=\"url(#f1)\" rx=\"6\" ry=\"6\" style=\"stroke: none; stroke-width: 1.0;\"/><line style=\"stroke: #A80036; stroke-width: 1.5;\" x1=\"429\" x2=\"429\" y1=\"30\" y2=\"50\"/><polygon fill=\"#A80036\" points=\"425,40,429,50,433,40,429,44\" style=\"stroke: #A80036; stroke-width: 1.0;\"/><line style=\"stroke: #A80036; stroke-width: 1.5;\" x1=\"53\" x2=\"53\" y1=\"128.1328\" y2=\"148.1328\"/><polygon fill=\"#A80036\" points=\"49,138.1328,53,148.1328,57,138.1328,53,142.1328\" style=\"stroke: #A80036; stroke-width: 1.0;\"/><line style=\"stroke: #A80036; stroke-width: 1.5;\" x1=\"53\" x2=\"53\" y1=\"182.2656\" y2=\"205.2656\"/><polygon fill=\"#A80036\" points=\"49,195.2656,53,205.2656,57,195.2656,53,199.2656\" style=\"stroke: #A80036; stroke-width: 1.0;\"/><line style=\"stroke: #A80036; stroke-width: 1.5;\" x1=\"170.5\" x2=\"170.5\" y1=\"128.1328\" y2=\"148.1328\"/><polygon fill=\"#A80036\" points=\"166.5,138.1328,170.5,148.1328,174.5,138.1328,170.5,142.1328\" style=\"stroke: #A80036; stroke-width: 1.0;\"/><line style=\"stroke: #A80036; stroke-width: 1.5;\" x1=\"170.5\" x2=\"170.5\" y1=\"182.2656\" y2=\"205.2656\"/><polygon fill=\"#A80036\" points=\"166.5,195.2656,170.5,205.2656,174.5,195.2656,170.5,199.2656\" style=\"stroke: #A80036; stroke-width: 1.0;\"/><line style=\"stroke: #A80036; stroke-width: 1.5;\" x1=\"294.5\" x2=\"294.5\" y1=\"128.1328\" y2=\"148.1328\"/><polygon fill=\"#A80036\" points=\"290.5,138.1328,294.5,148.1328,298.5,138.1328,294.5,142.1328\" style=\"stroke: #A80036; stroke-width: 1.0;\"/><line style=\"stroke: #A80036; stroke-width: 1.5;\" x1=\"294.5\" x2=\"294.5\" y1=\"182.2656\" y2=\"205.2656\"/><polygon fill=\"#A80036\" points=\"290.5,195.2656,294.5,205.2656,298.5,195.2656,294.5,199.2656\" style=\"stroke: #A80036; stroke-width: 1.0;\"/><line style=\"stroke: #A80036; stroke-width: 1.5;\" x1=\"420\" x2=\"420\" y1=\"128.1328\" y2=\"148.1328\"/><polygon fill=\"#A80036\" points=\"416,138.1328,420,148.1328,424,138.1328,420,142.1328\" style=\"stroke: #A80036; stroke-width: 1.0;\"/><line style=\"stroke: #A80036; stroke-width: 1.5;\" x1=\"420\" x2=\"420\" y1=\"182.2656\" y2=\"205.2656\"/><polygon fill=\"#A80036\" points=\"416,195.2656,420,205.2656,424,195.2656,420,199.2656\" style=\"stroke: #A80036; stroke-width: 1.0;\"/><line style=\"stroke: #A80036; stroke-width: 1.5;\" x1=\"552\" x2=\"552\" y1=\"128.1328\" y2=\"148.1328\"/><polygon fill=\"#A80036\" points=\"548,138.1328,552,148.1328,556,138.1328,552,142.1328\" style=\"stroke: #A80036; stroke-width: 1.0;\"/><line style=\"stroke: #A80036; stroke-width: 1.5;\" x1=\"552\" x2=\"552\" y1=\"182.2656\" y2=\"205.2656\"/><polygon fill=\"#A80036\" points=\"548,195.2656,552,205.2656,556,195.2656,552,199.2656\" style=\"stroke: #A80036; stroke-width: 1.0;\"/><line style=\"stroke: #A80036; stroke-width: 1.5;\" x1=\"684\" x2=\"684\" y1=\"128.1328\" y2=\"148.1328\"/><polygon fill=\"#A80036\" points=\"680,138.1328,684,148.1328,688,138.1328,684,142.1328\" style=\"stroke: #A80036; stroke-width: 1.0;\"/><line style=\"stroke: #A80036; stroke-width: 1.5;\" x1=\"684\" x2=\"684\" y1=\"182.2656\" y2=\"205.2656\"/><polygon fill=\"#A80036\" points=\"680,195.2656,684,205.2656,688,195.2656,684,199.2656\" style=\"stroke: #A80036; stroke-width: 1.0;\"/><line style=\"stroke: #A80036; stroke-width: 1.5;\" x1=\"96\" x2=\"116\" y1=\"116.1328\" y2=\"116.1328\"/><polygon fill=\"#A80036\" points=\"106,112.1328,116,116.1328,106,120.1328,110,116.1328\" style=\"stroke: #A80036; stroke-width: 1.0;\"/><line style=\"stroke: #A80036; stroke-width: 1.5;\" x1=\"225\" x2=\"245\" y1=\"116.1328\" y2=\"116.1328\"/><polygon fill=\"#A80036\" points=\"235,112.1328,245,116.1328,235,120.1328,239,116.1328\" style=\"stroke: #A80036; stroke-width: 1.0;\"/><line style=\"stroke: #A80036; stroke-width: 1.5;\" x1=\"344\" x2=\"370.5\" y1=\"116.1328\" y2=\"116.1328\"/><polygon fill=\"#A80036\" points=\"360.5,112.1328,370.5,116.1328,360.5,120.1328,364.5,116.1328\" style=\"stroke: #A80036; stroke-width: 1.0;\"/><line style=\"stroke: #A80036; stroke-width: 1.5;\" x1=\"469.5\" x2=\"502.5\" y1=\"116.1328\" y2=\"116.1328\"/><polygon fill=\"#A80036\" points=\"492.5,112.1328,502.5,116.1328,492.5,120.1328,496.5,116.1328\" style=\"stroke: #A80036; stroke-width: 1.0;\"/><line style=\"stroke: #A80036; stroke-width: 1.5;\" x1=\"601.5\" x2=\"650.5\" y1=\"116.1328\" y2=\"116.1328\"/><polygon fill=\"#A80036\" points=\"640.5,112.1328,650.5,116.1328,640.5,120.1328,644.5,116.1328\" style=\"stroke: #A80036; stroke-width: 1.0;\"/><line style=\"stroke: #A80036; stroke-width: 1.5;\" x1=\"429\" x2=\"429\" y1=\"84.1328\" y2=\"89.1328\"/><line style=\"stroke: #A80036; stroke-width: 1.5;\" x1=\"429\" x2=\"53\" y1=\"89.1328\" y2=\"89.1328\"/><line style=\"stroke: #A80036; stroke-width: 1.5;\" x1=\"53\" x2=\"53\" y1=\"89.1328\" y2=\"104.1328\"/><polygon fill=\"#A80036\" points=\"49,94.1328,53,104.1328,57,94.1328,53,98.1328\" style=\"stroke: #A80036; stroke-width: 1.0;\"/><line style=\"stroke: #A80036; stroke-width: 1.5;\" x1=\"717.5\" x2=\"804\" y1=\"116.1328\" y2=\"116.1328\"/><line style=\"stroke: #A80036; stroke-width: 1.5;\" x1=\"804\" x2=\"804\" y1=\"116.1328\" y2=\"151.1328\"/><polygon fill=\"#A80036\" points=\"800,141.1328,804,151.1328,808,141.1328,804,145.1328\" style=\"stroke: #A80036; stroke-width: 1.0;\"/><line style=\"stroke: #A80036; stroke-width: 1.5;\" x1=\"804\" x2=\"804\" y1=\"185.2656\" y2=\"205.2656\"/><polygon fill=\"#A80036\" points=\"800,195.2656,804,205.2656,808,195.2656,804,199.2656\" style=\"stroke: #A80036; stroke-width: 1.0;\"/><line style=\"stroke: #A80036; stroke-width: 1.5;\" x1=\"53\" x2=\"804\" y1=\"205.2656\" y2=\"205.2656\"/><line style=\"stroke: #A80036; stroke-width: 1.5;\" x1=\"429\" x2=\"429\" y1=\"205.2656\" y2=\"225.2656\"/><polygon fill=\"#A80036\" points=\"425,215.2656,429,225.2656,433,215.2656,429,219.2656\" style=\"stroke: #A80036; stroke-width: 1.0;\"/></g></svg>"
      ],
      "text/plain": [
       "<IPython.core.display.SVG object>"
      ]
     },
     "execution_count": 10,
     "metadata": {},
     "output_type": "execute_result"
    }
   ],
   "source": [
    "%%plantuml\n",
    "@startuml\n",
    "start\n",
    ":bmi==weight / height / height;\n",
    "if(bmi<=18.5)\n",
    "  :print \"low\";\n",
    "elseif(18.5<=bmi<23)\n",
    "  :print \"normal\";\n",
    "elseif(23<=bmi<25)\n",
    "  :print \"risky\";\n",
    "elseif(25<=bmi<30)\n",
    "  :print \"obesity 1\";\n",
    "elseif(30<=bmi<40)\n",
    "  :print \"obesity 2\";\n",
    "elseif(bmi>40)\n",
    "  :print \"obesity 3\";\n",
    "else\n",
    "  :print \"error\";\n",
    "endif\n",
    "stop\n",
    "@enduml"
   ]
  },
  {
   "cell_type": "markdown",
   "metadata": {
    "slideshow": {
     "slide_type": "subslide"
    }
   },
   "source": [
    "* 170cm 75kg\n",
    "* double을 사용하지 않고 float를 사용하였다."
   ]
  },
  {
   "cell_type": "code",
   "execution_count": 9,
   "metadata": {
    "collapsed": false,
    "slideshow": {
     "slide_type": "subslide"
    }
   },
   "outputs": [
    {
     "name": "stdout",
     "output_type": "stream",
     "text": [
      " float weight=(float)75.0;\r\n",
      "|  Modified variable weight of type float with initial value 75.0\r\n",
      "|    Update overwrote variable weight\r\n",
      "\r\n",
      " float height=(float) 1.7;\r\n",
      "|  Modified variable height of type float with initial value 1.7\r\n",
      "|    Update overwrote variable height\r\n",
      "\r\n",
      " float bmi=(float) weight/ (height * height);\r\n",
      "|  Modified variable bmi of type float with initial value 25.951555\r\n",
      "|    Update overwrote variable bmi\r\n",
      "\r\n",
      " System.out.println(bmi);\r\n",
      "25.951555\r\n",
      "\r\n"
     ]
    }
   ],
   "source": [
    "float weight=(float)75.0;\n",
    "float height=(float)1.7;\n",
    "float bmi=(float) weight/ (height * height);\n",
    "System.out.println(bmi);"
   ]
  },
  {
   "cell_type": "markdown",
   "metadata": {
    "slideshow": {
     "slide_type": "subslide"
    }
   },
   "source": [
    "연속값을 정의할 때 주의한다.\n",
    "비만도 계산 규정에 따라 소숫점 2자리까지 허용된다 하더라도 if문의 구간을 정할 때 주의한다.\n",
    "예를 들어, 24.99까지의 구간과 25 이상의 구간을 나누었다고 하면 24.999와 같은 경우는 처리하지 못하게 되는 오류가 될 수 있다.\n",
    "\n",
    "* 주의: 부등호와 등호가 같이 쓰이는 경우, 부등호를 먼저 쓴다.\n",
    "```java\n",
    "=> (x) >= (o)\n",
    "=< (x) <= (o)\n",
    "```"
   ]
  },
  {
   "cell_type": "code",
   "execution_count": 2,
   "metadata": {
    "collapsed": false
   },
   "outputs": [
    {
     "name": "stdout",
     "output_type": "stream",
     "text": [
      " 1<=2\r\n",
      "|  Expression value is: true\r\n",
      "|    assigned to temporary variable $1 of type boolean\r\n",
      "\r\n"
     ]
    }
   ],
   "source": [
    "1<=2"
   ]
  },
  {
   "cell_type": "code",
   "execution_count": 12,
   "metadata": {
    "collapsed": false,
    "slideshow": {
     "slide_type": "subslide"
    }
   },
   "outputs": [
    {
     "name": "stdout",
     "output_type": "stream",
     "text": [
      " float bmi=(float)24.9;\r\n",
      "|  Modified variable bmi of type float with initial value 24.9\r\n",
      "|    Update overwrote variable bmi\r\n",
      "\r\n",
      " if (bmi >= 18.5 && bmi<=24.9) {\r\n",
      "     System.out.println(\"normal weight\");\r\n",
      " } else if (bmi >= 25 && bmi<=29.9) {\r\n",
      "     System.out.println(\"overweight\");\r\n",
      " }\r\n",
      "normal weight\r\n",
      "\r\n"
     ]
    }
   ],
   "source": [
    "float bmi=(float)24.9;\n",
    "if (bmi >= 18.5 && bmi<=24.99) {\n",
    "    System.out.println(\"normal weight\");\n",
    "} else if (bmi >= 25 && bmi<=29.9) {\n",
    "    System.out.println(\"overweight\");\n",
    "}"
   ]
  },
  {
   "cell_type": "code",
   "execution_count": 14,
   "metadata": {
    "collapsed": false,
    "slideshow": {
     "slide_type": "subslide"
    }
   },
   "outputs": [
    {
     "name": "stdout",
     "output_type": "stream",
     "text": [
      " float weight=(float)69.0;\r\n",
      "|  Added variable weight of type float with initial value 69.0\r\n",
      "\r\n",
      " float height=(float)1.74;\r\n",
      "|  Added variable height of type float with initial value 1.74\r\n",
      "\r\n",
      " float bmi=(float) weight/ (height * height);\r\n",
      "|  Added variable bmi of type float with initial value 22.790329\r\n",
      "\r\n",
      " System.out.printf(\"Your BMI is %.2f\", bmi);\r\n",
      "Your BMI is 22.79|  Expression value is: java.io.PrintStream@e45f292\r\n",
      "|    assigned to temporary variable $4 of type PrintStream\r\n",
      "\r\n",
      " if (bmi<=18.5) {\r\n",
      "     System.out.println(\"저 체중\");\r\n",
      " } else if (bmi>=18.5 && bmi<23) {\r\n",
      "     System.out.println(\"정상 체중\");\r\n",
      " } else if (bmi>=23 && bmi<25) {\r\n",
      "     System.out.println(\"위험 체중\");\r\n",
      " } else if (bmi>=25 && bmi<30) {\r\n",
      "     System.out.println(\"overweight\");\r\n",
      " } else if (bmi>=30 && bmi<40) {\r\n",
      "     System.out.println(\"비만 2단계\");\r\n",
      " } else if (bmi>=40) {\r\n",
      "     System.out.println(\"비만 3단계\");\r\n",
      " } else {\r\n",
      "     System.out.println(\"오류\");\r\n",
      " }\r\n",
      "정상 체중\r\n",
      "\r\n"
     ]
    }
   ],
   "source": [
    "float weight=(float)69.0;\n",
    "float height=(float)1.74;\n",
    "float bmi=(float) weight/ (height * height);\n",
    "System.out.printf(\"Your BMI is %.2f\", bmi);\n",
    "if (bmi<=18.5) {\n",
    "    System.out.println(\"저 체중\");\n",
    "} else if (bmi>=18.5 && bmi<23) {\n",
    "    System.out.println(\"정상 체중\");\n",
    "} else if (bmi>=23 && bmi<25) {\n",
    "    System.out.println(\"위험 체중\");\n",
    "} else if (bmi>=25 && bmi<30) {\n",
    "    System.out.println(\"overweight\");\n",
    "} else if (bmi>=30 && bmi<40) {\n",
    "    System.out.println(\"비만 2단계\");\n",
    "} else if (bmi>=40) {\n",
    "    System.out.println(\"비만 3단계\");\n",
    "} else {\n",
    "    System.out.println(\"오류\");\n",
    "}"
   ]
  },
  {
   "cell_type": "markdown",
   "metadata": {
    "slideshow": {
     "slide_type": "subslide"
    }
   },
   "source": [
    "### 함수로 만들 경우\n",
    "\n",
    "* 키, 몸무게를 함수의 패러미터로 설계. 결합성의 최소화.\n",
    "* 패러미터(매개변수)와 아규먼트(실인수)를 구분. 후자는 실제로 넘겨주는 인자 값. \n",
    "* 문자열을 return하여 출력할 수 있슴."
   ]
  },
  {
   "cell_type": "code",
   "execution_count": 16,
   "metadata": {
    "collapsed": false,
    "slideshow": {
     "slide_type": "subslide"
    }
   },
   "outputs": [
    {
     "name": "stdout",
     "output_type": "stream",
     "text": [
      " \r\n",
      "\r\n",
      " String computeBMI(float height, float weight) {\r\n",
      "     String res=null;\r\n",
      "     float bmi=(float) weight/ (height * height);\r\n",
      "     System.out.printf(\"Your BMI is %.2f\", bmi);\r\n",
      "     if (bmi<=18.5) {\r\n",
      "         res=\"저 체중\";\r\n",
      "     } else if (bmi>=18.5 && bmi<23) {\r\n",
      "         res=\"정상 체중\";\r\n",
      "     } else if (bmi>=23 && bmi<25) {\r\n",
      "         res=\"위험 체중\";\r\n",
      "     } else if (bmi>=25 && bmi<30) {\r\n",
      "         res=\"overweight\";\r\n",
      "     } else if (bmi>=30 && bmi<40) {\r\n",
      "         res=\"비만 2단계\";\r\n",
      "     } else if (bmi>=40) {\r\n",
      "         res=\"비만 3단계\";\r\n",
      "     } else {\r\n",
      "         res=\"오류\";\r\n",
      "     }\r\n",
      "     return res;\r\n",
      " }\r\n",
      "|  Added method computeBMI(float,float)\r\n",
      "\r\n"
     ]
    }
   ],
   "source": [
    "\n",
    "String computeBMI(float height, float weight) {\n",
    "    String res=null;\n",
    "    float bmi=(float) weight/ (height * height);\n",
    "    System.out.printf(\"Your BMI is %.2f\", bmi);\n",
    "    if (bmi<=18.5) {\n",
    "        res=\"저 체중\";\n",
    "    } else if (bmi>=18.5 && bmi<23) {\n",
    "        res=\"정상 체중\";\n",
    "    } else if (bmi>=23 && bmi<25) {\n",
    "        res=\"위험 체중\";\n",
    "    } else if (bmi>=25 && bmi<30) {\n",
    "        res=\"overweight\";\n",
    "    } else if (bmi>=30 && bmi<40) {\n",
    "        res=\"비만 2단계\";\n",
    "    } else if (bmi>=40) {\n",
    "        res=\"비만 3단계\";\n",
    "    } else {\n",
    "        res=\"오류\";\n",
    "    }\n",
    "    return res;\n",
    "}"
   ]
  },
  {
   "cell_type": "code",
   "execution_count": 17,
   "metadata": {
    "collapsed": false,
    "slideshow": {
     "slide_type": "subslide"
    }
   },
   "outputs": [
    {
     "name": "stdout",
     "output_type": "stream",
     "text": [
      " float weight=(float)69.0;\r\n",
      "|  Modified variable weight of type float with initial value 69.0\r\n",
      "|    Update overwrote variable weight\r\n",
      "\r\n",
      " float height=(float)1.74;\r\n",
      "|  Modified variable height of type float with initial value 1.74\r\n",
      "|    Update overwrote variable height\r\n",
      "\r\n",
      " System.out.println(computeBMI(height,weight));\r\n",
      "Your BMI is 22.79정상 체중\r\n",
      "\r\n"
     ]
    }
   ],
   "source": [
    "float weight=(float)69.0;\n",
    "float height=(float)1.74;\n",
    "System.out.println(computeBMI(height,weight));"
   ]
  },
  {
   "cell_type": "markdown",
   "metadata": {
    "slideshow": {
     "slide_type": "slide"
    }
   },
   "source": [
    "## 제어-9: 1~100 합계 계산하기\n",
    "\n",
    "합계를 계산하는 문제로 1부터 100까지 반복문으로 활용해 프로그램 해보자.\n",
    "이 문제는 재귀 recursive 방식 또는 더 간단하게 계산식 ```n(n+1)/2```으로 풀 수 있다."
   ]
  },
  {
   "cell_type": "code",
   "execution_count": 1,
   "metadata": {
    "collapsed": false
   },
   "outputs": [
    {
     "name": "stdout",
     "output_type": "stream",
     "text": [
      " int n=100;\r\n",
      "|  Added variable n of type int with initial value 100\r\n",
      "\r\n",
      " int sum=n*(n+1)/2;\r\n",
      "|  Added variable sum of type int with initial value 5050\r\n",
      "\r\n",
      " System.out.print(sum);\r\n",
      "5050\r\n"
     ]
    }
   ],
   "source": [
    "int n=100;\n",
    "int sum=n*(n+1)/2;\n",
    "System.out.print(sum);"
   ]
  },
  {
   "cell_type": "markdown",
   "metadata": {
    "collapsed": true,
    "slideshow": {
     "slide_type": "subslide"
    }
   },
   "source": [
    "0부터 100까지 반복하면서 합계 sum에 수를 더해 나간다."
   ]
  },
  {
   "cell_type": "code",
   "execution_count": 4,
   "metadata": {
    "collapsed": false
   },
   "outputs": [
    {
     "name": "stdout",
     "output_type": "stream",
     "text": [
      " int sum=0;\r\n",
      "|  Added variable sum of type int with initial value 0\r\n",
      "\r\n",
      " for(int i=0;i<=100;i++)\r\n",
      "     sum+=i;\r\n",
      "\r\n",
      " System.out.print(sum);\r\n",
      "5050\r\n"
     ]
    }
   ],
   "source": [
    "int sum=0;\n",
    "for(int i=0;i<=100;i++)\n",
    "    sum+=i;\n",
    "System.out.print(sum);"
   ]
  },
  {
   "cell_type": "markdown",
   "metadata": {
    "slideshow": {
     "slide_type": "slide"
    }
   },
   "source": [
    "## 제어-10: 3, 5배수의 합계\n",
    "\n",
    "### 문제\n",
    "\n",
    "수학, 컴퓨터 문제를 제공하는 사이트 참조 https://projecteuler.net/archives 1번 문제이다.\n",
    "2019년 4월 현재 84만 넘는 사람이 풀었다.\n",
    "1000이하의 수 가운데 3, 5배수의 합계를 구한다.\n",
    "예를 들어 10이하의 수 가운데 3과 5의 배수는 3, 5, 6, 9이고, 합계를 계산하면 23이다.\n",
    "\n",
    "### 해결\n",
    "\n",
    "* 프로그래밍 요소\n",
    "    * if문과 for문을 같이 사용.\n",
    "    * 건너 뛰는 반복문을 사용할 수 있다.\n",
    "    * 모듈로 연산자를 사용할 수 있다.\n",
    "    * 조건문에 not 연산자를 사용할 수 있다.\n",
    "\n",
    "* 답: 233168"
   ]
  },
  {
   "cell_type": "markdown",
   "metadata": {
    "slideshow": {
     "slide_type": "subslide"
    }
   },
   "source": [
    "* 프로그래밍으로 생각해보기\n",
    "    * 먼저 입력과 출력을 정한다.\n",
    "        * 입력 1~1000\n",
    "        * 출력 3,5 배수의 합계\n",
    "    * 작업절차\n",
    "        * 하나씩 숫자를 가져오기\n",
    "        * 그 숫자가 배수인지 판별하기\n",
    "        * 배수이면 합계를 구하기\n",
    "        * 합계가 끝나면, 출력하기기\n",
    "위 작업절차는 1000번 반복이 되어야 한다.\n",
    "**우선 작업을 1회만 완성**한 후, **그 다음에 반복을 넣어서 생각**하는 것이 쉽다."
   ]
  },
  {
   "cell_type": "code",
   "execution_count": 14,
   "metadata": {
    "collapsed": false,
    "slideshow": {
     "slide_type": "subslide"
    }
   },
   "outputs": [
    {
     "data": {
      "image/svg+xml": [
       "<svg height=\"391px\" style=\"width:303px;height:391px;\" version=\"1.1\" viewBox=\"0 0 303 391\" width=\"303px\" xmlns=\"http://www.w3.org/2000/svg\" xmlns:xlink=\"http://www.w3.org/1999/xlink\"><defs><filter height=\"300%\" id=\"f1\" width=\"300%\" x=\"-1\" y=\"-1\"><feGaussianBlur result=\"blurOut\" stdDeviation=\"2.0\"/><feColorMatrix in=\"blurOut\" result=\"blurOut2\" type=\"matrix\" values=\"0 0 0 0 0 0 0 0 0 0 0 0 0 0 0 0 0 0 .4 0\"/><feOffset dx=\"4.0\" dy=\"4.0\" in=\"blurOut2\" result=\"blurOut3\"/><feBlend in=\"SourceGraphic\" in2=\"blurOut3\" mode=\"normal\"/></filter></defs><g><ellipse cx=\"164.5\" cy=\"20\" fill=\"#000000\" filter=\"url(#f1)\" rx=\"10\" ry=\"10\" style=\"stroke: none; stroke-width: 1.0;\"/><rect fill=\"#FEFECE\" filter=\"url(#f1)\" height=\"34.1328\" rx=\"12.5\" ry=\"12.5\" style=\"stroke: #A80036; stroke-width: 1.5;\" width=\"62\" x=\"133.5\" y=\"50\"/><text fill=\"#000000\" font-family=\"sans-serif\" font-size=\"12\" lengthAdjust=\"spacingAndGlyphs\" textLength=\"42\" x=\"143.5\" y=\"71.6016\">sum=0</text><polygon fill=\"#FEFECE\" filter=\"url(#f1)\" points=\"89.5,148.1328,239.5,148.1328,251.5,160.1328,239.5,172.1328,89.5,172.1328,77.5,160.1328,89.5,148.1328\" style=\"stroke: #A80036; stroke-width: 1.5;\"/><text fill=\"#000000\" font-family=\"sans-serif\" font-size=\"11\" lengthAdjust=\"spacingAndGlyphs\" textLength=\"150\" x=\"89.5\" y=\"164.29\">num is not divided by 3 or 5</text><text fill=\"#000000\" font-family=\"sans-serif\" font-size=\"11\" lengthAdjust=\"spacingAndGlyphs\" textLength=\"22\" x=\"55.5\" y=\"157.8125\">true</text><rect fill=\"#FEFECE\" filter=\"url(#f1)\" height=\"34.1328\" rx=\"12.5\" ry=\"12.5\" style=\"stroke: #A80036; stroke-width: 1.5;\" width=\"115\" x=\"10\" y=\"182.1328\"/><text fill=\"#000000\" font-family=\"sans-serif\" font-size=\"12\" lengthAdjust=\"spacingAndGlyphs\" textLength=\"95\" x=\"20\" y=\"203.7344\">add num to sum</text><polygon fill=\"#FEFECE\" filter=\"url(#f1)\" points=\"164.5,222.2656,176.5,234.2656,164.5,246.2656,152.5,234.2656,164.5,222.2656\" style=\"stroke: #A80036; stroke-width: 1.5;\"/><polygon fill=\"#FEFECE\" filter=\"url(#f1)\" points=\"164.5,104.1328,176.5,116.1328,164.5,128.1328,152.5,116.1328,164.5,104.1328\" style=\"stroke: #A80036; stroke-width: 1.5;\"/><polygon fill=\"#FEFECE\" filter=\"url(#f1)\" points=\"128.5,266.2656,200.5,266.2656,212.5,278.2656,200.5,290.2656,128.5,290.2656,116.5,278.2656,128.5,266.2656\" style=\"stroke: #A80036; stroke-width: 1.5;\"/><text fill=\"#000000\" font-family=\"sans-serif\" font-size=\"11\" lengthAdjust=\"spacingAndGlyphs\" textLength=\"72\" x=\"128.5\" y=\"282.4229\">num is 1000?</text><rect fill=\"#FEFECE\" filter=\"url(#f1)\" height=\"34.1328\" rx=\"12.5\" ry=\"12.5\" style=\"stroke: #A80036; stroke-width: 1.5;\" width=\"75\" x=\"127\" y=\"310.2656\"/><text fill=\"#000000\" font-family=\"sans-serif\" font-size=\"12\" lengthAdjust=\"spacingAndGlyphs\" textLength=\"55\" x=\"137\" y=\"331.8672\">print sum</text><ellipse cx=\"164.5\" cy=\"374.3984\" fill=\"none\" filter=\"url(#f1)\" rx=\"10\" ry=\"10\" style=\"stroke: #000000; stroke-width: 1.0;\"/><ellipse cx=\"165\" cy=\"374.8984\" fill=\"#000000\" filter=\"url(#f1)\" rx=\"6\" ry=\"6\" style=\"stroke: none; stroke-width: 1.0;\"/><line style=\"stroke: #A80036; stroke-width: 1.5;\" x1=\"164.5\" x2=\"164.5\" y1=\"30\" y2=\"50\"/><polygon fill=\"#A80036\" points=\"160.5,40,164.5,50,168.5,40,164.5,44\" style=\"stroke: #A80036; stroke-width: 1.0;\"/><line style=\"stroke: #A80036; stroke-width: 1.5;\" x1=\"77.5\" x2=\"67.5\" y1=\"160.1328\" y2=\"160.1328\"/><line style=\"stroke: #A80036; stroke-width: 1.5;\" x1=\"67.5\" x2=\"67.5\" y1=\"160.1328\" y2=\"182.1328\"/><polygon fill=\"#A80036\" points=\"63.5,172.1328,67.5,182.1328,71.5,172.1328,67.5,176.1328\" style=\"stroke: #A80036; stroke-width: 1.0;\"/><line style=\"stroke: #A80036; stroke-width: 1.5;\" x1=\"251.5\" x2=\"261.5\" y1=\"160.1328\" y2=\"160.1328\"/><polygon fill=\"#A80036\" points=\"257.5,187.1992,261.5,197.1992,265.5,187.1992,261.5,191.1992\" style=\"stroke: #A80036; stroke-width: 1.5;\"/><line style=\"stroke: #A80036; stroke-width: 1.5;\" x1=\"261.5\" x2=\"261.5\" y1=\"160.1328\" y2=\"234.2656\"/><line style=\"stroke: #A80036; stroke-width: 1.5;\" x1=\"261.5\" x2=\"176.5\" y1=\"234.2656\" y2=\"234.2656\"/><polygon fill=\"#A80036\" points=\"186.5,230.2656,176.5,234.2656,186.5,238.2656,182.5,234.2656\" style=\"stroke: #A80036; stroke-width: 1.0;\"/><line style=\"stroke: #A80036; stroke-width: 1.5;\" x1=\"67.5\" x2=\"67.5\" y1=\"216.2656\" y2=\"234.2656\"/><line style=\"stroke: #A80036; stroke-width: 1.5;\" x1=\"67.5\" x2=\"152.5\" y1=\"234.2656\" y2=\"234.2656\"/><polygon fill=\"#A80036\" points=\"142.5,230.2656,152.5,234.2656,142.5,238.2656,146.5,234.2656\" style=\"stroke: #A80036; stroke-width: 1.0;\"/><line style=\"stroke: #A80036; stroke-width: 1.5;\" x1=\"164.5\" x2=\"164.5\" y1=\"128.1328\" y2=\"148.1328\"/><polygon fill=\"#A80036\" points=\"160.5,138.1328,164.5,148.1328,168.5,138.1328,164.5,142.1328\" style=\"stroke: #A80036; stroke-width: 1.0;\"/><line style=\"stroke: #A80036; stroke-width: 1.5;\" x1=\"212.5\" x2=\"298.5\" y1=\"278.2656\" y2=\"278.2656\"/><polygon fill=\"#A80036\" points=\"294.5,231.1992,298.5,221.1992,302.5,231.1992,298.5,227.1992\" style=\"stroke: #A80036; stroke-width: 1.5;\"/><line style=\"stroke: #A80036; stroke-width: 1.5;\" x1=\"298.5\" x2=\"298.5\" y1=\"116.1328\" y2=\"278.2656\"/><line style=\"stroke: #A80036; stroke-width: 1.5;\" x1=\"298.5\" x2=\"176.5\" y1=\"116.1328\" y2=\"116.1328\"/><polygon fill=\"#A80036\" points=\"186.5,112.1328,176.5,116.1328,186.5,120.1328,182.5,116.1328\" style=\"stroke: #A80036; stroke-width: 1.0;\"/><line style=\"stroke: #A80036; stroke-width: 1.5;\" x1=\"164.5\" x2=\"164.5\" y1=\"246.2656\" y2=\"266.2656\"/><polygon fill=\"#A80036\" points=\"160.5,256.2656,164.5,266.2656,168.5,256.2656,164.5,260.2656\" style=\"stroke: #A80036; stroke-width: 1.0;\"/><line style=\"stroke: #A80036; stroke-width: 1.5;\" x1=\"164.5\" x2=\"164.5\" y1=\"84.1328\" y2=\"104.1328\"/><polygon fill=\"#A80036\" points=\"160.5,94.1328,164.5,104.1328,168.5,94.1328,164.5,98.1328\" style=\"stroke: #A80036; stroke-width: 1.0;\"/><line style=\"stroke: #A80036; stroke-width: 1.5;\" x1=\"164.5\" x2=\"164.5\" y1=\"290.2656\" y2=\"310.2656\"/><polygon fill=\"#A80036\" points=\"160.5,300.2656,164.5,310.2656,168.5,300.2656,164.5,304.2656\" style=\"stroke: #A80036; stroke-width: 1.0;\"/><line style=\"stroke: #A80036; stroke-width: 1.5;\" x1=\"164.5\" x2=\"164.5\" y1=\"344.3984\" y2=\"364.3984\"/><polygon fill=\"#A80036\" points=\"160.5,354.3984,164.5,364.3984,168.5,354.3984,164.5,358.3984\" style=\"stroke: #A80036; stroke-width: 1.0;\"/></g></svg>"
      ],
      "text/plain": [
       "<IPython.core.display.SVG object>"
      ]
     },
     "execution_count": 14,
     "metadata": {},
     "output_type": "execute_result"
    }
   ],
   "source": [
    "%%plantuml figure1\n",
    "@startuml\n",
    "\n",
    "start\n",
    "\n",
    ":sum=0;\n",
    "repeat\n",
    "    if (num is divided by 3 or 5) then (true)\n",
    "    :add num to sum;\n",
    "    endif\n",
    "repeat while (0 < num < 1000)\n",
    ":print sum;\n",
    "\n",
    "stop\n",
    "\n",
    "@enduml"
   ]
  },
  {
   "cell_type": "markdown",
   "metadata": {
    "slideshow": {
     "slide_type": "subslide"
    }
   },
   "source": [
    "* 다이어그램을 그려서 작업절차가 정해지면, 프로그램으로 옮겨보자.\n",
    "* 1회만 완성하기로 하고, 처음 가져오는 숫자는 3이라고 임의로 정해보자.\n",
    "    * modulo를 사용할 때는 나머지 값을 반환한다는 것과\n",
    "    * 조건문에서 나머지 값이 0인 경우는 false로 처리된다는 점에 주의하자"
   ]
  },
  {
   "cell_type": "code",
   "execution_count": 11,
   "metadata": {
    "collapsed": false,
    "slideshow": {
     "slide_type": "subslide"
    }
   },
   "outputs": [
    {
     "name": "stdout",
     "output_type": "stream",
     "text": [
      " int i=4;\r\n",
      "|  Modified variable i of type int with initial value 4\r\n",
      "|    Update overwrote variable i\r\n",
      "\r\n",
      " if(i%3==0) {\r\n",
      "     System.out.printf(\"%d==0\",i);\r\n",
      " } else {\r\n",
      "     System.out.printf(\"%d!=0\",i);\r\n",
      " }\r\n",
      "4!=0\r\n"
     ]
    }
   ],
   "source": [
    "int i=4;\n",
    "if(i%3==0) {\n",
    "    System.out.printf(\"%d==0\",i);\n",
    "} else {\n",
    "    System.out.printf(\"%d!=0\",i);\n",
    "}"
   ]
  },
  {
   "cell_type": "markdown",
   "metadata": {
    "collapsed": true,
    "slideshow": {
     "slide_type": "subslide"
    }
   },
   "source": [
    "* 반복문을 만들 경우는 변수를 사용하여 1회를 완성완 후, 반복으로 만들어 주는 것이 좋다."
   ]
  },
  {
   "cell_type": "code",
   "execution_count": 19,
   "metadata": {
    "collapsed": false
   },
   "outputs": [
    {
     "name": "stdout",
     "output_type": "stream",
     "text": [
      " int i=3;\r\n",
      "|  Modified variable i of type int with initial value 3\r\n",
      "|    Update overwrote variable i\r\n",
      "\r\n",
      " int sum=0;\r\n",
      "|  Modified variable sum of type int with initial value 0\r\n",
      "|    Update overwrote variable sum\r\n",
      "\r\n",
      " if (i%3==0 || i%5==0) {\r\n",
      "     sum=sum+i;\r\n",
      "     System.out.println(sum);\r\n",
      " } else {\r\n",
      "     System.out.println(\"else\");\r\n",
      " }\r\n",
      "3\r\n",
      "\r\n",
      " System.out.println(sum);\r\n",
      "3\r\n",
      "\r\n"
     ]
    }
   ],
   "source": [
    "int i=3;\n",
    "int sum=0;\n",
    "if (i%3==0 || i%5==0) {\n",
    "    sum=sum+i;\n",
    "    System.out.println(sum);\n",
    "} else {\n",
    "    System.out.println(\"else\");\n",
    "}\n",
    "System.out.println(sum);"
   ]
  },
  {
   "cell_type": "code",
   "execution_count": 20,
   "metadata": {
    "collapsed": false
   },
   "outputs": [
    {
     "name": "stdout",
     "output_type": "stream",
     "text": [
      " sum = (i%3==0 || i%5==0)? sum+i:sum+0;\r\n",
      "|  Variable sum has been assigned the value 6\r\n",
      "\r\n"
     ]
    }
   ],
   "source": [
    "sum = (i%3==0 || i%5==0)? sum+i:sum+0;"
   ]
  },
  {
   "cell_type": "markdown",
   "metadata": {
    "slideshow": {
     "slide_type": "subslide"
    }
   },
   "source": [
    "* 1회가 완성이 되었으면 반복을 넣어본다."
   ]
  },
  {
   "cell_type": "code",
   "execution_count": 21,
   "metadata": {
    "collapsed": false,
    "scrolled": true
   },
   "outputs": [
    {
     "name": "stdout",
     "output_type": "stream",
     "text": [
      " int i=3;\r\n",
      "|  Modified variable i of type int with initial value 3\r\n",
      "|    Update overwrote variable i\r\n",
      "\r\n",
      " int sum=0;\r\n",
      "|  Modified variable sum of type int with initial value 0\r\n",
      "|    Update overwrote variable sum\r\n",
      "\r\n",
      " for(int i=0; i<10;i++) {\r\n",
      "     sum = (i%3==0 || i%5==0)? sum+i:sum+0;\r\n",
      " }\r\n",
      "\r\n",
      " System.out.println(sum);\r\n",
      "23\r\n",
      "\r\n"
     ]
    }
   ],
   "source": [
    "int i=3;\n",
    "int sum=0;\n",
    "for(int i=0; i<10;i++) {\n",
    "    sum = (i%3==0 || i%5==0)? sum+i:sum+0;\n",
    "}\n",
    "System.out.println(sum);"
   ]
  },
  {
   "cell_type": "code",
   "execution_count": 23,
   "metadata": {
    "collapsed": false,
    "slideshow": {
     "slide_type": "subslide"
    }
   },
   "outputs": [
    {
     "name": "stdout",
     "output_type": "stream",
     "text": [
      " int pEuler() {\r\n",
      "     int sum=0;\r\n",
      "     for(int i=0; i<1000;i++) {\r\n",
      "         sum = (i%3==0 || i%5==0)? sum+i:sum+0;\r\n",
      "     }\r\n",
      "     return sum;\r\n",
      " }\r\n",
      "|  Modified method pEuler()\r\n",
      "|    Update overwrote method pEuler()\r\n",
      "\r\n",
      " System.out.println(pEuler());\r\n",
      "233168\r\n",
      "\r\n"
     ]
    }
   ],
   "source": [
    "int pEuler() {\n",
    "    int sum=0;\n",
    "    for(int i=0; i<1000;i++) {\n",
    "        sum = (i%3==0 || i%5==0)? sum+i:sum+0;\n",
    "    }\n",
    "    return sum;\n",
    "}\n",
    "System.out.println(pEuler());"
   ]
  },
  {
   "cell_type": "markdown",
   "metadata": {
    "slideshow": {
     "slide_type": "slide"
    }
   },
   "source": [
    "## 제어-11: 윤년인지 맞추기\n",
    "\n",
    "\n",
    "### 문제\n",
    "\n",
    "연도를 입력하여 윤년인지 맞추는 프로그램 작성\n",
    "\n",
    "### 해결\n",
    "\n",
    "* 윤년은 2월에 29일 있는 해. 그 조건은\n",
    "    * 4로 나누어지면서 100으로 나누어지지 않거나\n",
    "    * 4로 나누어지면서 400으로 나누어짐\n",
    "* 프로그래밍 요소\n",
    "    * 복합조건을 사용할 수 있다.\n",
    "    * 모듈로를 사용할 수 있다.\n",
    "\n",
    "```java\n",
    "if (((year % 4 == 0) && (year % 100 != 0)) || (year % 400 == 0)\n",
    "  a leap year\n",
    "else\n",
    "  not a leap year\n",
    "```\n"
   ]
  },
  {
   "cell_type": "code",
   "execution_count": 5,
   "metadata": {
    "collapsed": false,
    "slideshow": {
     "slide_type": "subslide"
    }
   },
   "outputs": [
    {
     "name": "stdout",
     "output_type": "stream",
     "text": [
      " int year = 1912;\r\n",
      "|  Modified variable year of type int with initial value 1912\r\n",
      "|    Update overwrote variable year\r\n",
      "\r\n",
      " if(year % 4 == 0) {\r\n",
      "    if (year % 100 != 0) {\r\n",
      "         if (year % 400 == 0) {\r\n",
      "             System.out.printf(\"%d is NOT a leap year\",year);\r\n",
      "         } else {\r\n",
      "             System.out.printf(\"%d is a leap year\",year);\r\n",
      "         }\r\n",
      "     } else {\r\n",
      "         System.out.printf(\"%d is NOT a leap year\",year);\r\n",
      "     }\r\n",
      " } else {\r\n",
      "     System.out.printf(\"%d is NOT a leap year\",year);\r\n",
      " }\r\n",
      "1912 is a leap year\r\n"
     ]
    }
   ],
   "source": [
    "int year = 1912;\n",
    "if(year % 4 == 0) {\n",
    "   if (year % 100 != 0) {\n",
    "        if (year % 400 == 0) {\n",
    "            System.out.printf(\"%d is NOT a leap year\",year);\n",
    "        } else {\n",
    "            System.out.printf(\"%d is a leap year\",year);\n",
    "        }\n",
    "    } else {\n",
    "        System.out.printf(\"%d is NOT a leap year\",year);\n",
    "    }\n",
    "} else {\n",
    "    System.out.printf(\"%d is NOT a leap year\",year);\n",
    "}"
   ]
  },
  {
   "cell_type": "code",
   "execution_count": 7,
   "metadata": {
    "collapsed": false,
    "slideshow": {
     "slide_type": "subslide"
    }
   },
   "outputs": [
    {
     "name": "stdout",
     "output_type": "stream",
     "text": [
      " int[] years={1800,1900,1912,1984,1985,2000,2015,1825,1928,2031,1845,1947,2053 \r",
      ",2099};\r\n",
      "|  Added variable years of type int[] with initial value [I@5f2108b5\r\n",
      "\r\n"
     ]
    }
   ],
   "source": [
    "int[] years={1800,1900,1912,1984,1985,2000,2015,1825,1928,2031,1845,1947,2053,2099};"
   ]
  },
  {
   "cell_type": "code",
   "execution_count": 8,
   "metadata": {
    "collapsed": false
   },
   "outputs": [
    {
     "name": "stdout",
     "output_type": "stream",
     "text": [
      " for(int year:years) {\r\n",
      "     if(((year % 4 == 0) && (year % 100 != 0)) || (year % 400 == 0)) {\r\n",
      "         System.out.printf(\"%d 윤년입니다.\\n\",year);\r\n",
      "     } else {\r\n",
      "         System.out.printf(\"%d 윤년이 아닙니다.\\n\",year);\r\n",
      "     }\r\n",
      " }\r\n",
      "1800 윤년이 아닙니다.\r\n",
      "1900 윤년이 아닙니다.\r\n",
      "1912 윤년입니다.\r\n",
      "1984 윤년입니다.\r\n",
      "1985 윤년이 아닙니다.\r\n",
      "2000 윤년입니다.\r\n",
      "2015 윤년이 아닙니다.\r\n",
      "1825 윤년이 아닙니다.\r\n",
      "1928 윤년입니다.\r\n",
      "2031 윤년이 아닙니다.\r\n",
      "1845 윤년이 아닙니다.\r\n",
      "1947 윤년이 아닙니다.\r\n",
      "2053 윤년이 아닙니다.\r\n",
      "2099 윤년이 아닙니다.\r\n",
      "\r\n"
     ]
    }
   ],
   "source": [
    "for(int year:years) {\n",
    "    if(((year % 4 == 0) && (year % 100 != 0)) || (year % 400 == 0)) {\n",
    "        System.out.printf(\"%d 윤년입니다.\\n\",year);\n",
    "    } else {\n",
    "        System.out.printf(\"%d 윤년이 아닙니다.\\n\",year);\n",
    "    }\n",
    "}"
   ]
  },
  {
   "cell_type": "markdown",
   "metadata": {
    "slideshow": {
     "slide_type": "slide"
    }
   },
   "source": [
    "## 제어-12: 20세기 100년 동안 매 월 1일이 일요일이 몇 일인지 구하기\n",
    "\n",
    "### 문제\n",
    "\n",
    "이 문제는 project euler https://projecteuler.net/ 19번이다. 2018년 4월 현재 11만 명 넘게 이 문제를 풀었다.\n",
    "문제는 20세기 100년 동안 (1901년 1월 1일 ~ 2000년 12월 31일) 매 월 첫 날이 일요일인 경우가 몇 일인지 계산하는 것이다.\n",
    "\n",
    "### 해결\n",
    "\n",
    "프로그래밍으로 푸는 방법을 생각해 보자.\n",
    "* 윤년을 계산하고, 매년 매월의 첫날이 일요일인지 복잡한 조건, 반복을 사용해야 한다.\n",
    "* 1~12월 일수를 저장하여 사용하려면 구조를 사용해야 한다 (다음 장에서 배움).\n",
    "\n",
    "알고리즘은:\n",
    "* 1 Jan 1900 was a Monday.\n",
    "* 30일을 가진 월 -> September,April, June and November.\n",
    "* 31일을 가진 월 -> 나머지 월 (2월을 제외)\n",
    "* 윤년 아닌 경우 28, 윤년에는 29일 -> 2월\n",
    "* 윤년은 '(((year % 4 == 0) && (year % 100 != 0)) || (year % 400 == 0)'\n",
    "\n",
    "* 답: 20세기 100년 동안 매월 첫째 날에 일요일은 171회"
   ]
  },
  {
   "cell_type": "code",
   "execution_count": 14,
   "metadata": {
    "collapsed": false,
    "slideshow": {
     "slide_type": "subslide"
    }
   },
   "outputs": [
    {
     "data": {
      "image/svg+xml": [
       "<svg height=\"651px\" style=\"width:333px;height:651px;\" version=\"1.1\" viewBox=\"0 0 333 651\" width=\"333px\" xmlns=\"http://www.w3.org/2000/svg\" xmlns:xlink=\"http://www.w3.org/1999/xlink\"><defs><filter height=\"300%\" id=\"f1\" width=\"300%\" x=\"-1\" y=\"-1\"><feGaussianBlur result=\"blurOut\" stdDeviation=\"2.0\"/><feColorMatrix in=\"blurOut\" result=\"blurOut2\" type=\"matrix\" values=\"0 0 0 0 0 0 0 0 0 0 0 0 0 0 0 0 0 0 .4 0\"/><feOffset dx=\"4.0\" dy=\"4.0\" in=\"blurOut2\" result=\"blurOut3\"/><feBlend in=\"SourceGraphic\" in2=\"blurOut3\" mode=\"normal\"/></filter></defs><g><ellipse cx=\"152.5\" cy=\"20\" fill=\"#000000\" filter=\"url(#f1)\" rx=\"10\" ry=\"10\" style=\"stroke: none; stroke-width: 1.0;\"/><rect fill=\"#FEFECE\" filter=\"url(#f1)\" height=\"34.1328\" rx=\"12.5\" ry=\"12.5\" style=\"stroke: #A80036; stroke-width: 1.5;\" width=\"47\" x=\"129\" y=\"50\"/><text fill=\"#000000\" font-family=\"sans-serif\" font-size=\"12\" lengthAdjust=\"spacingAndGlyphs\" textLength=\"27\" x=\"139\" y=\"71.6016\">D=0</text><rect fill=\"#FEFECE\" filter=\"url(#f1)\" height=\"34.1328\" rx=\"12.5\" ry=\"12.5\" style=\"stroke: #A80036; stroke-width: 1.5;\" width=\"63\" x=\"121\" y=\"104.1328\"/><text fill=\"#000000\" font-family=\"sans-serif\" font-size=\"12\" lengthAdjust=\"spacingAndGlyphs\" textLength=\"43\" x=\"131\" y=\"125.7344\">num=0</text><polygon fill=\"#FEFECE\" filter=\"url(#f1)\" points=\"104.5,202.2656,200.5,202.2656,212.5,214.2656,200.5,226.2656,104.5,226.2656,92.5,214.2656,104.5,202.2656\" style=\"stroke: #A80036; stroke-width: 1.5;\"/><text fill=\"#000000\" font-family=\"sans-serif\" font-size=\"11\" lengthAdjust=\"spacingAndGlyphs\" textLength=\"96\" x=\"104.5\" y=\"218.4229\">num is a leap year</text><text fill=\"#000000\" font-family=\"sans-serif\" font-size=\"11\" lengthAdjust=\"spacingAndGlyphs\" textLength=\"22\" x=\"70.5\" y=\"211.9453\">true</text><text fill=\"#000000\" font-family=\"sans-serif\" font-size=\"11\" lengthAdjust=\"spacingAndGlyphs\" textLength=\"25\" x=\"212.5\" y=\"211.9453\">false</text><rect fill=\"#FEFECE\" filter=\"url(#f1)\" height=\"34.1328\" rx=\"12.5\" ry=\"12.5\" style=\"stroke: #A80036; stroke-width: 1.5;\" width=\"71\" x=\"47\" y=\"236.2656\"/><text fill=\"#000000\" font-family=\"sans-serif\" font-size=\"12\" lengthAdjust=\"spacingAndGlyphs\" textLength=\"51\" x=\"57\" y=\"257.8672\">D[1]=29</text><rect fill=\"#FEFECE\" filter=\"url(#f1)\" height=\"34.1328\" rx=\"12.5\" ry=\"12.5\" style=\"stroke: #A80036; stroke-width: 1.5;\" width=\"71\" x=\"187\" y=\"236.2656\"/><text fill=\"#000000\" font-family=\"sans-serif\" font-size=\"12\" lengthAdjust=\"spacingAndGlyphs\" textLength=\"51\" x=\"197\" y=\"257.8672\">D[1]=28</text><polygon fill=\"#FEFECE\" filter=\"url(#f1)\" points=\"152.5,276.3984,164.5,288.3984,152.5,300.3984,140.5,288.3984,152.5,276.3984\" style=\"stroke: #A80036; stroke-width: 1.5;\"/><polygon fill=\"#FEFECE\" filter=\"url(#f1)\" points=\"59.5,364.3984,245.5,364.3984,257.5,376.3984,245.5,388.3984,59.5,388.3984,47.5,376.3984,59.5,364.3984\" style=\"stroke: #A80036; stroke-width: 1.5;\"/><text fill=\"#000000\" font-family=\"sans-serif\" font-size=\"11\" lengthAdjust=\"spacingAndGlyphs\" textLength=\"186\" x=\"59.5\" y=\"380.5557\">D-1)%7 ==0 and num&gt;0 then(true</text><rect fill=\"#FEFECE\" filter=\"url(#f1)\" height=\"34.1328\" rx=\"12.5\" ry=\"12.5\" style=\"stroke: #A80036; stroke-width: 1.5;\" width=\"55\" x=\"10\" y=\"398.3984\"/><text fill=\"#000000\" font-family=\"sans-serif\" font-size=\"12\" lengthAdjust=\"spacingAndGlyphs\" textLength=\"35\" x=\"20\" y=\"420\">n+=1</text><polygon fill=\"#FEFECE\" filter=\"url(#f1)\" points=\"152.5,438.5313,164.5,450.5313,152.5,462.5313,140.5,450.5313,152.5,438.5313\" style=\"stroke: #A80036; stroke-width: 1.5;\"/><polygon fill=\"#FEFECE\" filter=\"url(#f1)\" points=\"152.5,320.3984,164.5,332.3984,152.5,344.3984,140.5,332.3984,152.5,320.3984\" style=\"stroke: #A80036; stroke-width: 1.5;\"/><polygon fill=\"#FEFECE\" filter=\"url(#f1)\" points=\"134,482.5313,171,482.5313,183,494.5313,171,506.5313,134,506.5313,122,494.5313,134,482.5313\" style=\"stroke: #A80036; stroke-width: 1.5;\"/><text fill=\"#000000\" font-family=\"sans-serif\" font-size=\"11\" lengthAdjust=\"spacingAndGlyphs\" textLength=\"37\" x=\"134\" y=\"498.6885\">D &lt; 12</text><polygon fill=\"#FEFECE\" filter=\"url(#f1)\" points=\"152.5,158.2656,164.5,170.2656,152.5,182.2656,140.5,170.2656,152.5,158.2656\" style=\"stroke: #A80036; stroke-width: 1.5;\"/><polygon fill=\"#FEFECE\" filter=\"url(#f1)\" points=\"122.5,526.5313,182.5,526.5313,194.5,538.5313,182.5,550.5313,122.5,550.5313,110.5,538.5313,122.5,526.5313\" style=\"stroke: #A80036; stroke-width: 1.5;\"/><text fill=\"#000000\" font-family=\"sans-serif\" font-size=\"11\" lengthAdjust=\"spacingAndGlyphs\" textLength=\"60\" x=\"122.5\" y=\"542.6885\">num &lt; 101</text><rect fill=\"#FEFECE\" filter=\"url(#f1)\" height=\"34.1328\" rx=\"12.5\" ry=\"12.5\" style=\"stroke: #A80036; stroke-width: 1.5;\" width=\"75\" x=\"115\" y=\"570.5313\"/><text fill=\"#000000\" font-family=\"sans-serif\" font-size=\"12\" lengthAdjust=\"spacingAndGlyphs\" textLength=\"55\" x=\"125\" y=\"592.1328\">print sum</text><ellipse cx=\"152.5\" cy=\"634.6641\" fill=\"none\" filter=\"url(#f1)\" rx=\"10\" ry=\"10\" style=\"stroke: #000000; stroke-width: 1.0;\"/><ellipse cx=\"153\" cy=\"635.1641\" fill=\"#000000\" filter=\"url(#f1)\" rx=\"6\" ry=\"6\" style=\"stroke: none; stroke-width: 1.0;\"/><line style=\"stroke: #A80036; stroke-width: 1.5;\" x1=\"152.5\" x2=\"152.5\" y1=\"30\" y2=\"50\"/><polygon fill=\"#A80036\" points=\"148.5,40,152.5,50,156.5,40,152.5,44\" style=\"stroke: #A80036; stroke-width: 1.0;\"/><line style=\"stroke: #A80036; stroke-width: 1.5;\" x1=\"152.5\" x2=\"152.5\" y1=\"84.1328\" y2=\"104.1328\"/><polygon fill=\"#A80036\" points=\"148.5,94.1328,152.5,104.1328,156.5,94.1328,152.5,98.1328\" style=\"stroke: #A80036; stroke-width: 1.0;\"/><line style=\"stroke: #A80036; stroke-width: 1.5;\" x1=\"92.5\" x2=\"82.5\" y1=\"214.2656\" y2=\"214.2656\"/><line style=\"stroke: #A80036; stroke-width: 1.5;\" x1=\"82.5\" x2=\"82.5\" y1=\"214.2656\" y2=\"236.2656\"/><polygon fill=\"#A80036\" points=\"78.5,226.2656,82.5,236.2656,86.5,226.2656,82.5,230.2656\" style=\"stroke: #A80036; stroke-width: 1.0;\"/><line style=\"stroke: #A80036; stroke-width: 1.5;\" x1=\"212.5\" x2=\"222.5\" y1=\"214.2656\" y2=\"214.2656\"/><line style=\"stroke: #A80036; stroke-width: 1.5;\" x1=\"222.5\" x2=\"222.5\" y1=\"214.2656\" y2=\"236.2656\"/><polygon fill=\"#A80036\" points=\"218.5,226.2656,222.5,236.2656,226.5,226.2656,222.5,230.2656\" style=\"stroke: #A80036; stroke-width: 1.0;\"/><line style=\"stroke: #A80036; stroke-width: 1.5;\" x1=\"82.5\" x2=\"82.5\" y1=\"270.3984\" y2=\"288.3984\"/><line style=\"stroke: #A80036; stroke-width: 1.5;\" x1=\"82.5\" x2=\"140.5\" y1=\"288.3984\" y2=\"288.3984\"/><polygon fill=\"#A80036\" points=\"130.5,284.3984,140.5,288.3984,130.5,292.3984,134.5,288.3984\" style=\"stroke: #A80036; stroke-width: 1.0;\"/><line style=\"stroke: #A80036; stroke-width: 1.5;\" x1=\"222.5\" x2=\"222.5\" y1=\"270.3984\" y2=\"288.3984\"/><line style=\"stroke: #A80036; stroke-width: 1.5;\" x1=\"222.5\" x2=\"164.5\" y1=\"288.3984\" y2=\"288.3984\"/><polygon fill=\"#A80036\" points=\"174.5,284.3984,164.5,288.3984,174.5,292.3984,170.5,288.3984\" style=\"stroke: #A80036; stroke-width: 1.0;\"/><line style=\"stroke: #A80036; stroke-width: 1.5;\" x1=\"47.5\" x2=\"37.5\" y1=\"376.3984\" y2=\"376.3984\"/><line style=\"stroke: #A80036; stroke-width: 1.5;\" x1=\"37.5\" x2=\"37.5\" y1=\"376.3984\" y2=\"398.3984\"/><polygon fill=\"#A80036\" points=\"33.5,388.3984,37.5,398.3984,41.5,388.3984,37.5,392.3984\" style=\"stroke: #A80036; stroke-width: 1.0;\"/><line style=\"stroke: #A80036; stroke-width: 1.5;\" x1=\"257.5\" x2=\"267.5\" y1=\"376.3984\" y2=\"376.3984\"/><polygon fill=\"#A80036\" points=\"263.5,403.4648,267.5,413.4648,271.5,403.4648,267.5,407.4648\" style=\"stroke: #A80036; stroke-width: 1.5;\"/><line style=\"stroke: #A80036; stroke-width: 1.5;\" x1=\"267.5\" x2=\"267.5\" y1=\"376.3984\" y2=\"450.5313\"/><line style=\"stroke: #A80036; stroke-width: 1.5;\" x1=\"267.5\" x2=\"164.5\" y1=\"450.5313\" y2=\"450.5313\"/><polygon fill=\"#A80036\" points=\"174.5,446.5313,164.5,450.5313,174.5,454.5313,170.5,450.5313\" style=\"stroke: #A80036; stroke-width: 1.0;\"/><line style=\"stroke: #A80036; stroke-width: 1.5;\" x1=\"37.5\" x2=\"37.5\" y1=\"432.5313\" y2=\"450.5313\"/><line style=\"stroke: #A80036; stroke-width: 1.5;\" x1=\"37.5\" x2=\"140.5\" y1=\"450.5313\" y2=\"450.5313\"/><polygon fill=\"#A80036\" points=\"130.5,446.5313,140.5,450.5313,130.5,454.5313,134.5,450.5313\" style=\"stroke: #A80036; stroke-width: 1.0;\"/><line style=\"stroke: #A80036; stroke-width: 1.5;\" x1=\"152.5\" x2=\"152.5\" y1=\"344.3984\" y2=\"364.3984\"/><polygon fill=\"#A80036\" points=\"148.5,354.3984,152.5,364.3984,156.5,354.3984,152.5,358.3984\" style=\"stroke: #A80036; stroke-width: 1.0;\"/><line style=\"stroke: #A80036; stroke-width: 1.5;\" x1=\"183\" x2=\"304.5\" y1=\"494.5313\" y2=\"494.5313\"/><polygon fill=\"#A80036\" points=\"300.5,447.4648,304.5,437.4648,308.5,447.4648,304.5,443.4648\" style=\"stroke: #A80036; stroke-width: 1.5;\"/><line style=\"stroke: #A80036; stroke-width: 1.5;\" x1=\"304.5\" x2=\"304.5\" y1=\"332.3984\" y2=\"494.5313\"/><line style=\"stroke: #A80036; stroke-width: 1.5;\" x1=\"304.5\" x2=\"164.5\" y1=\"332.3984\" y2=\"332.3984\"/><polygon fill=\"#A80036\" points=\"174.5,328.3984,164.5,332.3984,174.5,336.3984,170.5,332.3984\" style=\"stroke: #A80036; stroke-width: 1.0;\"/><line style=\"stroke: #A80036; stroke-width: 1.5;\" x1=\"152.5\" x2=\"152.5\" y1=\"462.5313\" y2=\"482.5313\"/><polygon fill=\"#A80036\" points=\"148.5,472.5313,152.5,482.5313,156.5,472.5313,152.5,476.5313\" style=\"stroke: #A80036; stroke-width: 1.0;\"/><line style=\"stroke: #A80036; stroke-width: 1.5;\" x1=\"152.5\" x2=\"152.5\" y1=\"300.3984\" y2=\"320.3984\"/><polygon fill=\"#A80036\" points=\"148.5,310.3984,152.5,320.3984,156.5,310.3984,152.5,314.3984\" style=\"stroke: #A80036; stroke-width: 1.0;\"/><line style=\"stroke: #A80036; stroke-width: 1.5;\" x1=\"152.5\" x2=\"152.5\" y1=\"182.2656\" y2=\"202.2656\"/><polygon fill=\"#A80036\" points=\"148.5,192.2656,152.5,202.2656,156.5,192.2656,152.5,196.2656\" style=\"stroke: #A80036; stroke-width: 1.0;\"/><line style=\"stroke: #A80036; stroke-width: 1.5;\" x1=\"194.5\" x2=\"328.5\" y1=\"538.5313\" y2=\"538.5313\"/><polygon fill=\"#A80036\" points=\"324.5,404.8984,328.5,394.8984,332.5,404.8984,328.5,400.8984\" style=\"stroke: #A80036; stroke-width: 1.5;\"/><line style=\"stroke: #A80036; stroke-width: 1.5;\" x1=\"328.5\" x2=\"328.5\" y1=\"170.2656\" y2=\"538.5313\"/><line style=\"stroke: #A80036; stroke-width: 1.5;\" x1=\"328.5\" x2=\"164.5\" y1=\"170.2656\" y2=\"170.2656\"/><polygon fill=\"#A80036\" points=\"174.5,166.2656,164.5,170.2656,174.5,174.2656,170.5,170.2656\" style=\"stroke: #A80036; stroke-width: 1.0;\"/><line style=\"stroke: #A80036; stroke-width: 1.5;\" x1=\"152.5\" x2=\"152.5\" y1=\"506.5313\" y2=\"526.5313\"/><polygon fill=\"#A80036\" points=\"148.5,516.5313,152.5,526.5313,156.5,516.5313,152.5,520.5313\" style=\"stroke: #A80036; stroke-width: 1.0;\"/><line style=\"stroke: #A80036; stroke-width: 1.5;\" x1=\"152.5\" x2=\"152.5\" y1=\"138.2656\" y2=\"158.2656\"/><polygon fill=\"#A80036\" points=\"148.5,148.2656,152.5,158.2656,156.5,148.2656,152.5,152.2656\" style=\"stroke: #A80036; stroke-width: 1.0;\"/><line style=\"stroke: #A80036; stroke-width: 1.5;\" x1=\"152.5\" x2=\"152.5\" y1=\"550.5313\" y2=\"570.5313\"/><polygon fill=\"#A80036\" points=\"148.5,560.5313,152.5,570.5313,156.5,560.5313,152.5,564.5313\" style=\"stroke: #A80036; stroke-width: 1.0;\"/><line style=\"stroke: #A80036; stroke-width: 1.5;\" x1=\"152.5\" x2=\"152.5\" y1=\"604.6641\" y2=\"624.6641\"/><polygon fill=\"#A80036\" points=\"148.5,614.6641,152.5,624.6641,156.5,614.6641,152.5,618.6641\" style=\"stroke: #A80036; stroke-width: 1.0;\"/></g></svg>"
      ],
      "text/plain": [
       "<IPython.core.display.SVG object>"
      ]
     },
     "execution_count": 14,
     "metadata": {},
     "output_type": "execute_result"
    }
   ],
   "source": [
    "%%plantuml figure1\n",
    "@startuml\n",
    "\n",
    "start\n",
    "\n",
    ":D=0;\n",
    ":num=0;\n",
    "repeat\n",
    "    if (num is a leap year) then (true)\n",
    "    :D[1]=29;\n",
    "    else (false)\n",
    "    :D[1]=28;\n",
    "    endif\n",
    "    repeat\n",
    "    if (D-1)%7 ==0 and num>0 then(true)\n",
    "    :n+=1;\n",
    "    endif\n",
    "    repeat while(D < 12)\n",
    "repeat while (num < 101)\n",
    ":print sum;\n",
    "stop\n",
    "\n",
    "@enduml"
   ]
  },
  {
   "cell_type": "markdown",
   "metadata": {
    "slideshow": {
     "slide_type": "subslide"
    }
   },
   "source": [
    "### java.util.Calendar를 이용하기\n",
    "\n",
    "#### 요일\n",
    "\n",
    "요일 'DAY_OF_WEEK' 은 1부터 일련번호로 계산할 수 있다. 단 일요일부터 시작한다.\n",
    "\n",
    "DAY_OF_WEEK | 요일\n",
    "-----|-----\n",
    "1 | SUNDAY\n",
    "2 | MONDAY\n",
    "3 | TUESDAY\n",
    "4 | WEDNESDAY\n",
    "5 | THURSDAY\n",
    "6 | FRIDAY\n",
    "7 | SATURDAY\n",
    "\n",
    "#### 월\n",
    "\n",
    "월 month는 0부터 시작한다."
   ]
  },
  {
   "cell_type": "code",
   "execution_count": null,
   "metadata": {
    "collapsed": true
   },
   "outputs": [],
   "source": [
    "import iplantuml"
   ]
  },
  {
   "cell_type": "code",
   "execution_count": null,
   "metadata": {
    "collapsed": true
   },
   "outputs": [],
   "source": [
    "%%plantuml\n",
    "@startuml\n",
    "class java.util.Calendar {\n",
    "    static getInstance(): Calendar\n",
    "    get(int field):int\n",
    "    set(int year, int month, int date, int hourOfDay, int minute, int second):void\n",
    "}\n",
    "@enduml"
   ]
  },
  {
   "cell_type": "code",
   "execution_count": 1,
   "metadata": {
    "collapsed": false,
    "scrolled": true,
    "slideshow": {
     "slide_type": "subslide"
    }
   },
   "outputs": [
    {
     "name": "stdout",
     "output_type": "stream",
     "text": [
      " Calendar.SUNDAY;\r\n",
      "|  Expression value is: 1\r\n",
      "|    assigned to temporary variable $1 of type int\r\n",
      "\r\n"
     ]
    }
   ],
   "source": [
    "Calendar.SUNDAY;"
   ]
  },
  {
   "cell_type": "code",
   "execution_count": 2,
   "metadata": {
    "collapsed": false
   },
   "outputs": [
    {
     "name": "stdout",
     "output_type": "stream",
     "text": [
      " Calendar.JANUARY;\r\n",
      "|  Expression value is: 0\r\n",
      "|    assigned to temporary variable $2 of type int\r\n",
      "\r\n"
     ]
    }
   ],
   "source": [
    "Calendar.JANUARY;"
   ]
  },
  {
   "cell_type": "markdown",
   "metadata": {
    "collapsed": true,
    "slideshow": {
     "slide_type": "subslide"
    }
   },
   "source": [
    "Calendar의 getInstance()는 **현재 지역을 기준**으로 시간, 언어에 맞게 생성한다.\n",
    "그리고 **2018년 4월 16일**을 설정한다.\n",
    "DAY_OF_WEEK는 **2, 즉 월요일**로 출력된다."
   ]
  },
  {
   "cell_type": "code",
   "execution_count": 2,
   "metadata": {
    "collapsed": false,
    "scrolled": true
   },
   "outputs": [
    {
     "name": "stdout",
     "output_type": "stream",
     "text": [
      " Calendar c = Calendar.getInstance();\r\n",
      "|  Modified variable c of type Calendar with initial value java.util.GregorianCalendar[time=1523848199098,areFieldsSet=true,areAllFieldsSet=true,lenient=true,zone=sun.util.calendar.ZoneInfo[id=\"Asia/Seoul\",offset=32400000,dstSavings=0,useDaylight=false,transitions=22,lastRule=null],firstDayOfWeek=1,minimalDaysInFirstWeek=1,ERA=1,YEAR=2018,MONTH=3,WEEK_OF_YEAR=16,WEEK_OF_MONTH=3,DAY_OF_MONTH=16,DAY_OF_YEAR=106,DAY_OF_WEEK=2,DAY_OF_WEEK_IN_MONTH=3,AM_PM=1,HOUR=0,HOUR_OF_DAY=12,MINUTE=9,SECOND=59,MILLISECOND=98,ZONE_OFFSET=32400000,DST_OFFSET=0]\r\n",
      "|    Update overwrote variable c\r\n",
      "\r\n",
      " c.set(2018, Calendar.APRIL, 16);\r\n",
      "\r\n",
      " int day_of_week = c.get(Calendar.DAY_OF_WEEK);\r\n",
      "|  Modified variable day_of_week of type int with initial value 2\r\n",
      "|    Update overwrote variable day_of_week\r\n",
      "\r\n",
      " System.out.println(\"2018년 4월 16일은 무슨 요일: \"+day_of_week);\r\n",
      "2018년 4월 16일은 무슨 요일: 2\r\n",
      "\r\n"
     ]
    }
   ],
   "source": [
    "Calendar c = Calendar.getInstance();\n",
    "c.set(2018, Calendar.APRIL, 16);\n",
    "int day_of_week = c.get(Calendar.DAY_OF_WEEK);\n",
    "System.out.println(\"2018년 4월 16일은 무슨 요일: \"+day_of_week);"
   ]
  },
  {
   "cell_type": "code",
   "execution_count": null,
   "metadata": {
    "collapsed": true,
    "slideshow": {
     "slide_type": "subslide"
    }
   },
   "outputs": [],
   "source": [
    "Calendar cal = Calendar.getInstance();\n",
    "int year = cal.get(Calendar.YEAR);\n",
    "int month = cal.get(Calendar.MONTH);      // 0 to 11\n",
    "int day = cal.get(Calendar.DAY_OF_MONTH);\n",
    "int hour = cal.get(Calendar.HOUR_OF_DAY);\n",
    "int minute = cal.get(Calendar.MINUTE);\n",
    "int second = cal.get(Calendar.SECOND);\n",
    "\n",
    "System.out.printf(\"Now is %4d/%02d/%02d %02d:%02d:%02d\\n\", year, month+1, day, hour, minute, second);\n"
   ]
  },
  {
   "cell_type": "markdown",
   "metadata": {
    "slideshow": {
     "slide_type": "subslide"
    }
   },
   "source": [
    "20세기 100년 동안 (1901년 1월 1일 ~ 2000년 12월 31일) 매 월 첫 날이 일요일인 경우가 몇 일인지 계산해보자.\n",
    "\n",
    "중첩 for문 | 설명\n",
    "-----|-----\n",
    "첫번째 for문 | 년도를 1901 ~ 2000까지 반복\n",
    "두번쨰 for문 | 월을 0 ~ 12까지 반복\n"
   ]
  },
  {
   "cell_type": "code",
   "execution_count": 3,
   "metadata": {
    "collapsed": false,
    "scrolled": true,
    "slideshow": {
     "slide_type": "-"
    }
   },
   "outputs": [
    {
     "name": "stdout",
     "output_type": "stream",
     "text": [
      " import java.util.Calendar;\r\n",
      "|    Update modified variable c of type Calendar with initial value \r\n",
      "\r\n",
      " int nSundays = 0;\r\n",
      "|  Added variable nSundays of type int with initial value 0\r\n",
      "\r\n",
      " Calendar c = Calendar.getInstance();\r\n",
      "|  Modified variable c of type Calendar with initial value java.util.GregorianCalendar[time=1476609382555,areFieldsSet=true,areAllFieldsSet=true,lenient=true,zone=sun.util.calendar.ZoneInfo[id=\"Asia/Seoul\",offset=32400000,dstSavings=0,useDaylight=false,transitions=22,lastRule=null],firstDayOfWeek=1,minimalDaysInFirstWeek=1,ERA=1,YEAR=2016,MONTH=9,WEEK_OF_YEAR=43,WEEK_OF_MONTH=4,DAY_OF_MONTH=16,DAY_OF_YEAR=290,DAY_OF_WEEK=1,DAY_OF_WEEK_IN_MONTH=3,AM_PM=1,HOUR=6,HOUR_OF_DAY=18,MINUTE=16,SECOND=22,MILLISECOND=555,ZONE_OFFSET=32400000,DST_OFFSET=0]\r\n",
      "|    Update overwrote variable c\r\n",
      "\r\n",
      " for(int year = 1901; year <= 2000; year++) {\r\n",
      "     for(int month = 0; month < 12; month++) {\r\n",
      "         c.set(year,month,1);\r\n",
      "         if(c.get(Calendar.DAY_OF_WEEK)==Calendar.SUNDAY) {\r\n",
      "             nSundays++;\r\n",
      "         }\r\n",
      "     }\r\n",
      " }\r\n",
      "\r\n",
      " System.out.print(nSundays);\r\n",
      "171\r\n"
     ]
    }
   ],
   "source": [
    "import java.util.Calendar;\n",
    "int nSundays = 0;\n",
    "Calendar c = Calendar.getInstance();\n",
    "for(int year = 1901; year <= 2000; year++) {\n",
    "    for(int month = 0; month < 12; month++) {\n",
    "        c.set(year,month,1);\n",
    "        if(c.get(Calendar.DAY_OF_WEEK)==Calendar.SUNDAY) {\n",
    "            nSundays++;\n",
    "        }\n",
    "    }\n",
    "}\n",
    "System.out.print(nSundays);"
   ]
  },
  {
   "cell_type": "markdown",
   "metadata": {
    "slideshow": {
     "slide_type": "subslide"
    }
   },
   "source": [
    "### Calendar 사용하지 않고 하기\n",
    "\n",
    "Calendar를 사용하지 않고 계산하면 윤달을 감안해야 한다."
   ]
  },
  {
   "cell_type": "code",
   "execution_count": 3,
   "metadata": {
    "collapsed": false,
    "slideshow": {
     "slide_type": "subslide"
    }
   },
   "outputs": [
    {
     "name": "stdout",
     "output_type": "stream",
     "text": [
      " int[] D={31,28,31,30,31,30,31,31,30,31,30,31}\r\n",
      "|  Modified variable D of type int[] with initial value [I@73ad2d6\r\n",
      "|    Update overwrote variable D\r\n",
      "\r\n",
      " \r\n",
      "\r\n",
      " int d=0;\r\n",
      "|  Modified variable d of type int with initial value 0\r\n",
      "|    Update overwrote variable d\r\n",
      "\r\n",
      " int n=0;\r\n",
      "|  Modified variable n of type int with initial value 0\r\n",
      "|    Update overwrote variable n\r\n",
      "\r\n",
      " for(int i=0;i<100;i++) {\r\n",
      "     System.out.printf(\"\\nyear %4d: \",i+1901);\r\n",
      "     if(((1901+i)%4==0 && (1901+i)%100!=0) || (1901+i)%400 ==0) {\r\n",
      "         D[1]=29;\r\n",
      "     } else {\r\n",
      "         D[1]=28;\r\n",
      "     }\r\n",
      "     for(int t:D) {\r\n",
      "         if((d+1)%7==0 && i>=0) {\r\n",
      "             System.out.printf(\" (%2d) Month:%3d d:%6d\", n,t,d);\r\n",
      "             n+=1;\r\n",
      "         }\r\n",
      "         d+=t;\r\n",
      "     }\r\n",
      " }\r\n",
      "\r\n",
      "year 1901:  ( 0) Month: 30 d:    90 ( 1) Month: 31 d:   181\r\n",
      "year 1902:  ( 2) Month: 30 d:   608 ( 3) Month: 31 d:   699\r\n",
      "year 1903:  ( 4) Month: 30 d:   881\r\n",
      "year 1904:  ( 5) Month: 29 d:  1126 ( 6) Month: 31 d:  1308\r\n",
      "year 1905:  ( 7) Month: 31 d:  1581\r\n",
      "year 1906:  ( 8) Month: 31 d:  1826 ( 9) Month: 31 d:  2099\r\n",
      "year 1907:  (10) Month: 30 d:  2281 (11) Month: 31 d:  2372\r\n",
      "year 1908:  (12) Month: 30 d:  2708\r\n",
      "year 1909:  (13) Month: 28 d:  2953 (14) Month: 31 d:  2981 (15) Month: 30 d:  3226\r\n",
      "year 1910:  (16) Month: 31 d:  3499\r\n",
      "year 1911:  (17) Month: 31 d:  3772\r\n",
      "year 1912:  (18) Month: 31 d:  4017 (19) Month: 30 d:  4108 (20) Month: 31 d:  4199\r\n",
      "year 1913:  (21) Month: 30 d:  4626 (22) Month: 31 d:  4717\r\n",
      "year 1914:  (23) Month: 30 d:  4899\r\n",
      "year 1915:  (24) Month: 28 d:  5144 (25) Month: 31 d:  5172 (26) Month: 30 d:  5417\r\n",
      "year 1916:  (27) Month: 31 d:  5599\r\n",
      "year 1917:  (28) Month: 31 d:  5844 (29) Month: 31 d:  6117\r\n",
      "year 1918:  (30) Month: 30 d:  6299 (31) Month: 31 d:  6390\r\n",
      "year 1919:  (32) Month: 30 d:  6817 (33) Month: 31 d:  6908\r\n",
      "year 1920:  (34) Month: 31 d:  6999 (35) Month: 30 d:  7244\r\n",
      "year 1921:  (36) Month: 31 d:  7517\r\n",
      "year 1922:  (37) Month: 31 d:  7790\r\n",
      "year 1923:  (38) Month: 31 d:  8035 (39) Month: 31 d:  8308\r\n",
      "year 1924:  (40) Month: 30 d:  8644 (41) Month: 31 d:  8735\r\n",
      "year 1925:  (42) Month: 30 d:  8917\r\n",
      "year 1926:  (43) Month: 28 d:  9162 (44) Month: 31 d:  9190 (45) Month: 30 d:  9435\r\n",
      "year 1927:  (46) Month: 31 d:  9708\r\n",
      "year 1928:  (47) Month: 31 d: 10135\r\n",
      "year 1929:  (48) Month: 30 d: 10317 (49) Month: 31 d: 10408\r\n",
      "year 1930:  (50) Month: 30 d: 10835 (51) Month: 31 d: 10926\r\n",
      "year 1931:  (52) Month: 30 d: 11108\r\n",
      "year 1932:  (53) Month: 29 d: 11353 (54) Month: 31 d: 11535\r\n",
      "year 1933:  (55) Month: 31 d: 11808\r\n",
      "year 1934:  (56) Month: 31 d: 12053 (57) Month: 31 d: 12326\r\n",
      "year 1935:  (58) Month: 30 d: 12508 (59) Month: 31 d: 12599\r\n",
      "year 1936:  (60) Month: 30 d: 12935\r\n",
      "year 1937:  (61) Month: 28 d: 13180 (62) Month: 31 d: 13208 (63) Month: 30 d: 13453\r\n",
      "year 1938:  (64) Month: 31 d: 13726\r\n",
      "year 1939:  (65) Month: 31 d: 13999\r\n",
      "year 1940:  (66) Month: 31 d: 14244 (67) Month: 30 d: 14335 (68) Month: 31 d: 14426\r\n",
      "year 1941:  (69) Month: 30 d: 14853 (70) Month: 31 d: 14944\r\n",
      "year 1942:  (71) Month: 30 d: 15126\r\n",
      "year 1943:  (72) Month: 28 d: 15371 (73) Month: 31 d: 15399 (74) Month: 30 d: 15644\r\n",
      "year 1944:  (75) Month: 31 d: 15826\r\n",
      "year 1945:  (76) Month: 31 d: 16071 (77) Month: 31 d: 16344\r\n",
      "year 1946:  (78) Month: 30 d: 16526 (79) Month: 31 d: 16617\r\n",
      "year 1947:  (80) Month: 30 d: 17044 (81) Month: 31 d: 17135\r\n",
      "year 1948:  (82) Month: 31 d: 17226 (83) Month: 30 d: 17471\r\n",
      "year 1949:  (84) Month: 31 d: 17744\r\n",
      "year 1950:  (85) Month: 31 d: 18017\r\n",
      "year 1951:  (86) Month: 31 d: 18262 (87) Month: 31 d: 18535\r\n",
      "year 1952:  (88) Month: 30 d: 18871 (89) Month: 31 d: 18962\r\n",
      "year 1953:  (90) Month: 30 d: 19144\r\n",
      "year 1954:  (91) Month: 28 d: 19389 (92) Month: 31 d: 19417 (93) Month: 30 d: 19662\r\n",
      "year 1955:  (94) Month: 31 d: 19935\r\n",
      "year 1956:  (95) Month: 31 d: 20362\r\n",
      "year 1957:  (96) Month: 30 d: 20544 (97) Month: 31 d: 20635\r\n",
      "year 1958:  (98) Month: 30 d: 21062 (99) Month: 31 d: 21153\r\n",
      "year 1959:  (100) Month: 30 d: 21335\r\n",
      "year 1960:  (101) Month: 29 d: 21580 (102) Month: 31 d: 21762\r\n",
      "year 1961:  (103) Month: 31 d: 22035\r\n",
      "year 1962:  (104) Month: 31 d: 22280 (105) Month: 31 d: 22553\r\n",
      "year 1963:  (106) Month: 30 d: 22735 (107) Month: 31 d: 22826\r\n",
      "year 1964:  (108) Month: 30 d: 23162\r\n",
      "year 1965:  (109) Month: 28 d: 23407 (110) Month: 31 d: 23435 (111) Month: 30 d: 23680\r\n",
      "year 1966:  (112) Month: 31 d: 23953\r\n",
      "year 1967:  (113) Month: 31 d: 24226\r\n",
      "year 1968:  (114) Month: 31 d: 24471 (115) Month: 30 d: 24562 (116) Month: 31 d: 24653\r\n",
      "year 1969:  (117) Month: 30 d: 25080 (118) Month: 31 d: 25171\r\n",
      "year 1970:  (119) Month: 30 d: 25353\r\n",
      "year 1971:  (120) Month: 28 d: 25598 (121) Month: 31 d: 25626 (122) Month: 30 d: 25871\r\n",
      "year 1972:  (123) Month: 31 d: 26053\r\n",
      "year 1973:  (124) Month: 31 d: 26298 (125) Month: 31 d: 26571\r\n",
      "year 1974:  (126) Month: 30 d: 26753 (127) Month: 31 d: 26844\r\n",
      "year 1975:  (128) Month: 30 d: 27271 (129) Month: 31 d: 27362\r\n",
      "year 1976:  (130) Month: 31 d: 27453 (131) Month: 30 d: 27698\r\n",
      "year 1977:  (132) Month: 31 d: 27971\r\n",
      "year 1978:  (133) Month: 31 d: 28244\r\n",
      "year 1979:  (134) Month: 31 d: 28489 (135) Month: 31 d: 28762\r\n",
      "year 1980:  (136) Month: 30 d: 29098 (137) Month: 31 d: 29189\r\n",
      "year 1981:  (138) Month: 30 d: 29371\r\n",
      "year 1982:  (139) Month: 28 d: 29616 (140) Month: 31 d: 29644 (141) Month: 30 d: 29889\r\n",
      "year 1983:  (142) Month: 31 d: 30162\r\n",
      "year 1984:  (143) Month: 31 d: 30589\r\n",
      "year 1985:  (144) Month: 30 d: 30771 (145) Month: 31 d: 30862\r\n",
      "year 1986:  (146) Month: 30 d: 31289 (147) Month: 31 d: 31380\r\n",
      "year 1987:  (148) Month: 30 d: 31562\r\n",
      "year 1988:  (149) Month: 29 d: 31807 (150) Month: 31 d: 31989\r\n",
      "year 1989:  (151) Month: 31 d: 32262\r\n",
      "year 1990:  (152) Month: 31 d: 32507 (153) Month: 31 d: 32780\r\n",
      "year 1991:  (154) Month: 30 d: 32962 (155) Month: 31 d: 33053\r\n",
      "year 1992:  (156) Month: 30 d: 33389\r\n",
      "year 1993:  (157) Month: 28 d: 33634 (158) Month: 31 d: 33662 (159) Month: 30 d: 33907\r\n",
      "year 1994:  (160) Month: 31 d: 34180\r\n",
      "year 1995:  (161) Month: 31 d: 34453\r\n",
      "year 1996:  (162) Month: 31 d: 34698 (163) Month: 30 d: 34789 (164) Month: 31 d: 34880\r\n",
      "year 1997:  (165) Month: 30 d: 35307 (166) Month: 31 d: 35398\r\n",
      "year 1998:  (167) Month: 30 d: 35580\r\n",
      "year 1999:  (168) Month: 28 d: 35825 (169) Month: 31 d: 35853 (170) Month: 30 d: 36098\r\n",
      "year 2000:  (171) Month: 31 d: 36280\r\n",
      " \r\n",
      "\r\n",
      " System.out.printf(\"p euler 19 =%d\", n);\r\n",
      "p euler 19 =172|  Expression value is: java.io.PrintStream@59ec2012\r\n",
      "|    assigned to temporary variable $15 of type PrintStream\r\n",
      "\r\n"
     ]
    }
   ],
   "source": [
    "int[] D={31,28,31,30,31,30,31,31,30,31,30,31}\n",
    "\n",
    "int d=0;\n",
    "int n=0;\n",
    "for(int i=0;i<100;i++) {\n",
    "    System.out.printf(\"\\nyear %4d: \",i+1901);\n",
    "    if(((1901+i)%4==0 && (1901+i)%100!=0) || (1901+i)%400 ==0) {\n",
    "        D[1]=29;\n",
    "    } else {\n",
    "        D[1]=28;\n",
    "    }\n",
    "    for(int t:D) {\n",
    "        if((d+1)%7==0 && i>=0) {\n",
    "            System.out.printf(\" (%2d) Month:%3d d:%6d\", n,t,d);\n",
    "            n+=1;\n",
    "        }\n",
    "        d+=t;\n",
    "    }\n",
    "}\n",
    "\n",
    "System.out.printf(\"p euler 19 =%d\", n);"
   ]
  },
  {
   "cell_type": "code",
   "execution_count": 8,
   "metadata": {
    "collapsed": false,
    "slideshow": {
     "slide_type": "subslide"
    }
   },
   "outputs": [
    {
     "name": "stdout",
     "output_type": "stream",
     "text": [
      "200\n"
     ]
    }
   ],
   "source": [
    "def dayListBuild():\n",
    "    dayListBuild = [[0,0,0]]\n",
    "    for year in range(1900, 2001):\n",
    "        for month in range(1, 13):\n",
    "            if month in [4, 6, 9, 11]:\n",
    "                dayRange = 30\n",
    "            elif not month - 2: #if minus 2 is equal to 0 (=Feb.)\n",
    "                if year % 4 and (not year % 100 or year % 400):\n",
    "                        dayRange = 29\n",
    "                else:\n",
    "                    dayRange = 28\n",
    "            else:\n",
    "                dayRange = 31\n",
    "            for day in range(1, dayRange + 1):\n",
    "                dayListBuild.append([year, month, day])\n",
    "    return dayListBuild\n",
    "\n",
    "def sundayList():\n",
    "    dayList = dayListBuild()\n",
    "    sundayList = []\n",
    "    for day in range(len(dayList)):\n",
    "        if not (day - 6) % 7 and dayList[day][0] > 1900 and not dayList[day][2] - 1:\n",
    "            sundayList.append(dayList[day])\n",
    "    return len(sundayList)\n",
    "\n",
    "print(sundayList())"
   ]
  },
  {
   "cell_type": "markdown",
   "metadata": {
    "collapsed": true,
    "slideshow": {
     "slide_type": "slide"
    }
   },
   "source": [
    "## 제어-13: 업다운 게임\n",
    "\n",
    "* 사용자가 범위를 정하고, 생각하는 값을 입력한다.\n",
    "* 컴퓨터는 그 숫자를 맞춘다.\n",
    "* 범위 + 1를 2의 승수로 변환해서, 그 승수가 맞추는 최대횟수가 된다.\n",
    "    * 15 + 1 = 16이고\n",
    "    * 16은 $2^4$이므로, 최대 4회 이내에서 숫자를 맞출 수 있다.\n",
    "        ```\n",
    "        1 would take 1\n",
    "        3 would take 2\n",
    "        7 would take 3\n",
    "        15 would take 4\n",
    "        31 would take 5\n",
    "        63 would take 6\n",
    "        127 would take 7\n",
    "        255 would take 8\n",
    "        511 would take 9\n",
    "        1023 would take 10\n",
    "        2047 would take 11\n",
    "        4095 would take 12\n",
    "        ```"
   ]
  },
  {
   "cell_type": "markdown",
   "metadata": {
    "slideshow": {
     "slide_type": "slide"
    }
   },
   "source": [
    "## 제어-14 캘린더 만들기\n"
   ]
  }
 ],
 "metadata": {
  "celltoolbar": "Slideshow",
  "kernelspec": {
   "display_name": "Java 9",
   "language": "java",
   "name": "java"
  },
  "language_info": {
   "file_extension": ".class",
   "mimetype": "application/java-vm",
   "name": "java"
  }
 },
 "nbformat": 4,
 "nbformat_minor": 0
}
