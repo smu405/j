{
 "cells": [
  {
   "cell_type": "markdown",
   "metadata": {},
   "source": [
    "# 9. 입출력\n",
    "\n",
    "## 9.1 학습내용\n",
    "\n",
    "### 9.1.1 목표\n",
    "\n",
    "* 화면에 형식을 맞추어 출력할 수 있다.\n",
    "* 화면에서 사용자 입력을 받을 수 있다.\n",
    "* 파일에서 읽어올 수 있다.\n",
    "* 파일에 출력할 수 있다.\n",
    "\n",
    "### 9.1.2 문제\n",
    "\n",
    "* 문제 io-1: 사용자가 화면에 원의 반지름을 입력하고, 면적을 출력하기  \n",
    "* 문제 io-2: 파일에서 내용을 읽어 화면에 출력하기\n",
    "* 문제 io-3: 파일에서 읽어서 소문자로 만들기\n",
    "* 문제 io-4: 파일에 쓰기"
   ]
  },
  {
   "cell_type": "markdown",
   "metadata": {},
   "source": [
    "## 9.2 java.io \n",
    "\n",
    "* 자바에서 입출력은 읽는 방식, 바이트 또는 텍스트에 따라 구분할 수 있다.\n",
    "    * 입력은 데이터를 읽는 것을 말한다. 화면, 메모리, 다른 프로그램, 파일과 같은 출처에서 읽는다.\n",
    "    * 출력은 데이터를 쓰는 것을 말한다. 입력출처와 같은 요소에 쓴다.\n",
    "    * 바이트는 8비트 단위를 기본으로 입출력을 한다.\n",
    "    * 텍스트는 바이트를 인코딩하는 방식을 정해서, 보통 'utf-8' 문자열로 입출력을 한다.\n",
    "\n",
    "구분 | 입력 | 출력\n",
    "-----|-----|-----\n",
    "바이트 | InputStream | OutputStream\n",
    "문자 | Reader | Writer"
   ]
  },
  {
   "cell_type": "markdown",
   "metadata": {},
   "source": [
    "* 자바의 입출력은 io 패키지에서 처리한다. 기본 기능은 다음 클래스에서 제공한다.\n",
    "* 이들은 추상클래스라서 직접 사용할 수 없다는 점을 유의한다.\n",
    "    * java.io.InputStream\n",
    "        * 바이트 단위로 읽음\n",
    "        * binary IO 오디오, 비디오 등 바이너리 파일을 읽을 경우\n",
    "        * Scanner에서 InputStream (System.in 필드의 객체 참조)을 사용한다.\n",
    "    * java.io.OutputStream\n",
    "        * 바이트 단위로 출력\n",
    "        * System.out은 OutputStream을 상속한 PrintStream을 사용한다.\n",
    "    * java.io.Reader\n",
    "        * 문자 단위로 읽는다 (character)\n",
    "    * java.io.Writer\n",
    "        * 문자 단위로 쓴다 (character)"
   ]
  },
  {
   "cell_type": "markdown",
   "metadata": {},
   "source": [
    "* System 클래스 다이어그램"
   ]
  },
  {
   "cell_type": "code",
   "execution_count": 1,
   "metadata": {
    "collapsed": true
   },
   "outputs": [],
   "source": [
    "import iplantuml"
   ]
  },
  {
   "cell_type": "code",
   "execution_count": 3,
   "metadata": {
    "collapsed": false
   },
   "outputs": [
    {
     "data": {
      "image/svg+xml": [
       "<svg height=\"211px\" style=\"width:473px;height:211px;\" version=\"1.1\" viewBox=\"0 0 473 211\" width=\"473px\" xmlns=\"http://www.w3.org/2000/svg\" xmlns:xlink=\"http://www.w3.org/1999/xlink\"><defs><filter height=\"300%\" id=\"f1\" width=\"300%\" x=\"-1\" y=\"-1\"><feGaussianBlur result=\"blurOut\" stdDeviation=\"2.0\"/><feColorMatrix in=\"blurOut\" result=\"blurOut2\" type=\"matrix\" values=\"0 0 0 0 0 0 0 0 0 0 0 0 0 0 0 0 0 0 .4 0\"/><feOffset dx=\"4.0\" dy=\"4.0\" in=\"blurOut2\" result=\"blurOut3\"/><feBlend in=\"SourceGraphic\" in2=\"blurOut3\" mode=\"normal\"/></filter></defs><g><rect fill=\"#FEFECE\" filter=\"url(#f1)\" height=\"48\" style=\"stroke: #A80036; stroke-width: 1.5;\" width=\"72\" x=\"195.5\" y=\"8\"/><ellipse cx=\"210.5\" cy=\"24\" fill=\"#ADD1B2\" rx=\"11\" ry=\"11\" style=\"stroke: #A80036; stroke-width: 1.0;\"/><path d=\"M213.4688,29.6406 Q212.8906,29.9375 212.25,30.0859 Q211.6094,30.2344 210.9063,30.2344 Q208.4063,30.2344 207.0859,28.5859 Q205.7656,26.9375 205.7656,23.8125 Q205.7656,20.6875 207.0859,19.0313 Q208.4063,17.375 210.9063,17.375 Q211.6094,17.375 212.2578,17.5313 Q212.9063,17.6875 213.4688,17.9844 L213.4688,20.7031 Q212.8438,20.125 212.25,19.8516 Q211.6563,19.5781 211.0313,19.5781 Q209.6875,19.5781 209,20.6484 Q208.3125,21.7188 208.3125,23.8125 Q208.3125,25.9063 209,26.9766 Q209.6875,28.0469 211.0313,28.0469 Q211.6563,28.0469 212.25,27.7734 Q212.8438,27.5 213.4688,26.9219 L213.4688,29.6406 Z \"/><text fill=\"#000000\" font-family=\"sans-serif\" font-size=\"12\" lengthAdjust=\"spacingAndGlyphs\" textLength=\"40\" x=\"224.5\" y=\"28.1543\">Object</text><line style=\"stroke: #A80036; stroke-width: 1.5;\" x1=\"196.5\" x2=\"266.5\" y1=\"40\" y2=\"40\"/><line style=\"stroke: #A80036; stroke-width: 1.5;\" x1=\"196.5\" x2=\"266.5\" y1=\"48\" y2=\"48\"/><rect fill=\"#FEFECE\" filter=\"url(#f1)\" height=\"86.4141\" style=\"stroke: #A80036; stroke-width: 1.5;\" width=\"151\" x=\"156\" y=\"116\"/><ellipse cx=\"204.75\" cy=\"132\" fill=\"#ADD1B2\" rx=\"11\" ry=\"11\" style=\"stroke: #A80036; stroke-width: 1.0;\"/><path d=\"M207.7188,137.6406 Q207.1406,137.9375 206.5,138.0859 Q205.8594,138.2344 205.1563,138.2344 Q202.6563,138.2344 201.3359,136.5859 Q200.0156,134.9375 200.0156,131.8125 Q200.0156,128.6875 201.3359,127.0313 Q202.6563,125.375 205.1563,125.375 Q205.8594,125.375 206.5078,125.5313 Q207.1563,125.6875 207.7188,125.9844 L207.7188,128.7031 Q207.0938,128.125 206.5,127.8516 Q205.9063,127.5781 205.2813,127.5781 Q203.9375,127.5781 203.25,128.6484 Q202.5625,129.7188 202.5625,131.8125 Q202.5625,133.9063 203.25,134.9766 Q203.9375,136.0469 205.2813,136.0469 Q205.9063,136.0469 206.5,135.7734 Q207.0938,135.5 207.7188,134.9219 L207.7188,137.6406 Z \"/><text fill=\"#000000\" font-family=\"sans-serif\" font-size=\"12\" lengthAdjust=\"spacingAndGlyphs\" textLength=\"45\" x=\"225.25\" y=\"136.1543\">System</text><line style=\"stroke: #A80036; stroke-width: 1.5;\" x1=\"157\" x2=\"306\" y1=\"148\" y2=\"148\"/><ellipse cx=\"167\" cy=\"159.9023\" fill=\"none\" rx=\"3\" ry=\"3\" style=\"stroke: #038048; stroke-width: 1.0;\"/><text fill=\"#000000\" font-family=\"sans-serif\" font-size=\"11\" lengthAdjust=\"spacingAndGlyphs\" textLength=\"124\" x=\"176\" y=\"162.2104\">static err:PrintStream</text><ellipse cx=\"167\" cy=\"172.707\" fill=\"none\" rx=\"3\" ry=\"3\" style=\"stroke: #038048; stroke-width: 1.0;\"/><text fill=\"#000000\" font-family=\"sans-serif\" font-size=\"11\" lengthAdjust=\"spacingAndGlyphs\" textLength=\"119\" x=\"176\" y=\"175.0151\">static in:InputStream</text><ellipse cx=\"167\" cy=\"185.5117\" fill=\"none\" rx=\"3\" ry=\"3\" style=\"stroke: #038048; stroke-width: 1.0;\"/><text fill=\"#000000\" font-family=\"sans-serif\" font-size=\"11\" lengthAdjust=\"spacingAndGlyphs\" textLength=\"125\" x=\"176\" y=\"187.8198\">static out:PrintStream</text><line style=\"stroke: #A80036; stroke-width: 1.5;\" x1=\"157\" x2=\"306\" y1=\"194.4141\" y2=\"194.4141\"/><rect fill=\"#FEFECE\" filter=\"url(#f1)\" height=\"86.4141\" style=\"stroke: #A80036; stroke-width: 1.5;\" width=\"115\" x=\"6\" y=\"116\"/><ellipse cx=\"23.7\" cy=\"132\" fill=\"#ADD1B2\" rx=\"11\" ry=\"11\" style=\"stroke: #A80036; stroke-width: 1.0;\"/><path d=\"M26.6688,137.6406 Q26.0906,137.9375 25.45,138.0859 Q24.8094,138.2344 24.1063,138.2344 Q21.6063,138.2344 20.2859,136.5859 Q18.9656,134.9375 18.9656,131.8125 Q18.9656,128.6875 20.2859,127.0313 Q21.6063,125.375 24.1063,125.375 Q24.8094,125.375 25.4578,125.5313 Q26.1063,125.6875 26.6688,125.9844 L26.6688,128.7031 Q26.0438,128.125 25.45,127.8516 Q24.8563,127.5781 24.2313,127.5781 Q22.8875,127.5781 22.2,128.6484 Q21.5125,129.7188 21.5125,131.8125 Q21.5125,133.9063 22.2,134.9766 Q22.8875,136.0469 24.2313,136.0469 Q24.8563,136.0469 25.45,135.7734 Q26.0438,135.5 26.6688,134.9219 L26.6688,137.6406 Z \"/><text fill=\"#000000\" font-family=\"sans-serif\" font-size=\"12\" lengthAdjust=\"spacingAndGlyphs\" textLength=\"77\" x=\"38.3\" y=\"136.1543\">InputStream</text><line style=\"stroke: #A80036; stroke-width: 1.5;\" x1=\"7\" x2=\"120\" y1=\"148\" y2=\"148\"/><line style=\"stroke: #A80036; stroke-width: 1.5;\" x1=\"7\" x2=\"120\" y1=\"156\" y2=\"156\"/><text fill=\"#000000\" font-family=\"sans-serif\" font-size=\"11\" lengthAdjust=\"spacingAndGlyphs\" textLength=\"103\" x=\"12\" y=\"170.2104\">abstract read():int</text><text fill=\"#000000\" font-family=\"sans-serif\" font-size=\"11\" lengthAdjust=\"spacingAndGlyphs\" textLength=\"95\" x=\"12\" y=\"183.0151\">read(b:byte[]):int</text><text fill=\"#000000\" font-family=\"sans-serif\" font-size=\"11\" lengthAdjust=\"spacingAndGlyphs\" textLength=\"65\" x=\"12\" y=\"195.8198\">close():void</text><rect fill=\"#FEFECE\" filter=\"url(#f1)\" height=\"86.4141\" style=\"stroke: #A80036; stroke-width: 1.5;\" width=\"122\" x=\"342.5\" y=\"116\"/><ellipse cx=\"364.7\" cy=\"132\" fill=\"#ADD1B2\" rx=\"11\" ry=\"11\" style=\"stroke: #A80036; stroke-width: 1.0;\"/><path d=\"M367.6688,137.6406 Q367.0906,137.9375 366.45,138.0859 Q365.8094,138.2344 365.1063,138.2344 Q362.6063,138.2344 361.2859,136.5859 Q359.9656,134.9375 359.9656,131.8125 Q359.9656,128.6875 361.2859,127.0313 Q362.6063,125.375 365.1063,125.375 Q365.8094,125.375 366.4578,125.5313 Q367.1063,125.6875 367.6688,125.9844 L367.6688,128.7031 Q367.0438,128.125 366.45,127.8516 Q365.8563,127.5781 365.2313,127.5781 Q363.8875,127.5781 363.2,128.6484 Q362.5125,129.7188 362.5125,131.8125 Q362.5125,133.9063 363.2,134.9766 Q363.8875,136.0469 365.2313,136.0469 Q365.8563,136.0469 366.45,135.7734 Q367.0438,135.5 367.6688,134.9219 L367.6688,137.6406 Z \"/><text fill=\"#000000\" font-family=\"sans-serif\" font-size=\"12\" lengthAdjust=\"spacingAndGlyphs\" textLength=\"74\" x=\"380.3\" y=\"136.1543\">PrintStream</text><line style=\"stroke: #A80036; stroke-width: 1.5;\" x1=\"343.5\" x2=\"463.5\" y1=\"148\" y2=\"148\"/><line style=\"stroke: #A80036; stroke-width: 1.5;\" x1=\"343.5\" x2=\"463.5\" y1=\"156\" y2=\"156\"/><text fill=\"#000000\" font-family=\"sans-serif\" font-size=\"11\" lengthAdjust=\"spacingAndGlyphs\" textLength=\"61\" x=\"348.5\" y=\"170.2104\">print():void</text><text fill=\"#000000\" font-family=\"sans-serif\" font-size=\"11\" lengthAdjust=\"spacingAndGlyphs\" textLength=\"110\" x=\"348.5\" y=\"183.0151\">printf():PrintStream</text><text fill=\"#000000\" font-family=\"sans-serif\" font-size=\"11\" lengthAdjust=\"spacingAndGlyphs\" textLength=\"71\" x=\"348.5\" y=\"195.8198\">println():void</text><path d=\"M231.5,76.269 C231.5,89.117 231.5,103.1658 231.5,115.9359 \" fill=\"none\" style=\"stroke: #A80036; stroke-width: 1.0;\"/><polygon fill=\"none\" points=\"224.5,76.219,231.5,56.219,238.5,76.219,224.5,76.219\" style=\"stroke: #A80036; stroke-width: 1.0;\"/><path d=\"M126.364,159 C136.144,159 145.923,159 155.703,159 \" fill=\"none\" style=\"stroke: #A80036; stroke-width: 1.0;\"/><polygon fill=\"#A80036\" points=\"121.25,159,130.25,163,126.25,159,130.25,155,121.25,159\" style=\"stroke: #A80036; stroke-width: 1.0;\"/><path d=\"M307.086,159 C317.135,159 327.184,159 337.233,159 \" fill=\"none\" style=\"stroke: #A80036; stroke-width: 1.0;\"/><polygon fill=\"#A80036\" points=\"342.488,159,333.488,155,337.488,159,333.488,163,342.488,159\" style=\"stroke: #A80036; stroke-width: 1.0;\"/></g></svg>"
      ],
      "text/plain": [
       "<IPython.core.display.SVG object>"
      ]
     },
     "execution_count": 3,
     "metadata": {},
     "output_type": "execute_result"
    }
   ],
   "source": [
    "%%plantuml\n",
    "@startuml\n",
    "class Object\n",
    "class System {\n",
    "    +static err:PrintStream\n",
    "    +static in:InputStream\n",
    "    +static out:PrintStream\n",
    "}\n",
    "class java.io.InputStream {\n",
    "    abstract read():int\n",
    "    read(b:byte[]):int\n",
    "    close():void\n",
    "}\n",
    "class java.io.PrintStream {\n",
    "    print():void\n",
    "    printf():PrintStream\n",
    "    println():void\n",
    "}\n",
    "Object <|-- System\n",
    "System -left-> java.io.InputStream\n",
    "System -right-> java.io.PrintStream\n",
    "\n",
    "@enduml"
   ]
  },
  {
   "cell_type": "markdown",
   "metadata": {},
   "source": [
    "## 9.3 I/O Stream\n",
    "\n",
    "* 클래스 System에는 'err', 'in', 'out' 참조를 사용할 수 있다.\n",
    "    * err, out은 PrintStream을 사용하여 출력할 수 있다.\n",
    "    * in은 InputStream을 사용하여 입력할 수 있다."
   ]
  },
  {
   "cell_type": "markdown",
   "metadata": {},
   "source": [
    "### 9.3.1 System.out\n",
    "\n",
    "* System 클래스의 out 필드 (PrintStream 객체의 참조 필드)를 사용해 데이터(바이트)를 print()"
   ]
  },
  {
   "cell_type": "code",
   "execution_count": 4,
   "metadata": {
    "collapsed": false,
    "scrolled": false
   },
   "outputs": [
    {
     "name": "stdout",
     "output_type": "stream",
     "text": [
      " System.out.println((float)Math.PI)\r\n",
      "3.1415927\r\n",
      "\r\n"
     ]
    }
   ],
   "source": [
    "System.out.println((float)Math.PI)"
   ]
  },
  {
   "cell_type": "markdown",
   "metadata": {
    "collapsed": true
   },
   "source": [
    "* format\n",
    "\n",
    "    ```\n",
    "    format(\"%.2f\",Math.PI)\n",
    "    ```"
   ]
  },
  {
   "cell_type": "code",
   "execution_count": 47,
   "metadata": {
    "collapsed": false
   },
   "outputs": [
    {
     "name": "stdout",
     "output_type": "stream",
     "text": [
      " float pi=(float)Math.PI;\r\n",
      "|  Added variable pi of type float with initial value 3.1415927\r\n",
      "\r\n",
      " System.out.println(pi)\r\n",
      "3.1415927\r\n",
      "\r\n"
     ]
    }
   ],
   "source": [
    "float pi=(float)Math.PI;\n",
    "System.out.println(pi)"
   ]
  },
  {
   "cell_type": "code",
   "execution_count": 2,
   "metadata": {
    "collapsed": false
   },
   "outputs": [
    {
     "name": "stdout",
     "output_type": "stream",
     "text": [
      " import java.util.Formatter\r\n",
      "\r\n",
      " StringBuilder sb = new StringBuilder();\r\n",
      "|  Modified variable sb of type StringBuilder with initial value \r\n",
      "|    Update overwrote variable sb\r\n",
      "\r\n",
      " Formatter formatter = new Formatter(sb, Locale.US);\r\n",
      "|  Modified variable formatter of type Formatter with initial value \r\n",
      "|    Update overwrote variable formatter\r\n",
      "\r\n",
      " formatter.format(\"Hello %s\", \"jsl\");\r\n",
      "|  Expression value is: Hello jsl\r\n",
      "|    assigned to temporary variable $9 of type Formatter\r\n",
      "\r\n",
      " System.out.println(formatter + \" locale: \" + formatter.locale());\r\n",
      "Hello jsl locale: en_US\r\n",
      "\r\n"
     ]
    }
   ],
   "source": [
    "import java.util.Formatter\n",
    "StringBuilder sb = new StringBuilder();\n",
    "Formatter formatter = new Formatter(sb, Locale.US);\n",
    "formatter.format(\"Hello %s\", \"jsl\");\n",
    "System.out.println(formatter + \" locale: \" + formatter.locale());"
   ]
  },
  {
   "cell_type": "code",
   "execution_count": 3,
   "metadata": {
    "collapsed": false,
    "scrolled": true
   },
   "outputs": [
    {
     "name": "stdout",
     "output_type": "stream",
     "text": [
      " String pi=String.format(\"%.2f\",123.456);\r\n",
      "|  Added variable pi of type String with initial value \"123.46\"\r\n",
      "\r\n"
     ]
    }
   ],
   "source": [
    "String pi=String.format(\"%.2f\",123.456);"
   ]
  },
  {
   "cell_type": "markdown",
   "metadata": {},
   "source": [
    "### 9.3.2 System.in\n",
    "\n",
    "* System 클래스의 in 필드(InputStream 객체의 참조 필드)를 사용해 데이터(바이트)를 read()\n",
    "\n",
    "* Scanner를 사용해서 System.in 데이터를 읽을 수 있다.\n",
    "    * File, InputStream, Path과 같은 입력에서 데이터를 읽음\n",
    "    * Iterator를 구현한다. 단 문자열 String을 가진다.\n"
   ]
  },
  {
   "cell_type": "code",
   "execution_count": 2,
   "metadata": {
    "collapsed": false
   },
   "outputs": [
    {
     "data": {
      "image/svg+xml": [
       "<svg height=\"275px\" style=\"width:140px;height:275px;\" version=\"1.1\" viewBox=\"0 0 140 275\" width=\"140px\" xmlns=\"http://www.w3.org/2000/svg\" xmlns:xlink=\"http://www.w3.org/1999/xlink\"><defs><filter height=\"300%\" id=\"f1\" width=\"300%\" x=\"-1\" y=\"-1\"><feGaussianBlur result=\"blurOut\" stdDeviation=\"2.0\"/><feColorMatrix in=\"blurOut\" result=\"blurOut2\" type=\"matrix\" values=\"0 0 0 0 0 0 0 0 0 0 0 0 0 0 0 0 0 0 .4 0\"/><feOffset dx=\"4.0\" dy=\"4.0\" in=\"blurOut2\" result=\"blurOut3\"/><feBlend in=\"SourceGraphic\" in2=\"blurOut3\" mode=\"normal\"/></filter></defs><g><rect fill=\"#FEFECE\" filter=\"url(#f1)\" height=\"112.0234\" style=\"stroke: #A80036; stroke-width: 1.5;\" width=\"125\" x=\"6\" y=\"154\"/><ellipse cx=\"39.45\" cy=\"170\" fill=\"#ADD1B2\" rx=\"11\" ry=\"11\" style=\"stroke: #A80036; stroke-width: 1.0;\"/><path d=\"M42.4188,175.6406 Q41.8406,175.9375 41.2,176.0859 Q40.5594,176.2344 39.8563,176.2344 Q37.3563,176.2344 36.0359,174.5859 Q34.7156,172.9375 34.7156,169.8125 Q34.7156,166.6875 36.0359,165.0313 Q37.3563,163.375 39.8563,163.375 Q40.5594,163.375 41.2078,163.5313 Q41.8563,163.6875 42.4188,163.9844 L42.4188,166.7031 Q41.7938,166.125 41.2,165.8516 Q40.6063,165.5781 39.9813,165.5781 Q38.6375,165.5781 37.95,166.6484 Q37.2625,167.7188 37.2625,169.8125 Q37.2625,171.9063 37.95,172.9766 Q38.6375,174.0469 39.9813,174.0469 Q40.6063,174.0469 41.2,173.7734 Q41.7938,173.5 42.4188,172.9219 L42.4188,175.6406 Z \"/><text fill=\"#000000\" font-family=\"sans-serif\" font-size=\"12\" lengthAdjust=\"spacingAndGlyphs\" textLength=\"52\" x=\"57.55\" y=\"174.1543\">Scanner</text><line style=\"stroke: #A80036; stroke-width: 1.5;\" x1=\"7\" x2=\"130\" y1=\"186\" y2=\"186\"/><line style=\"stroke: #A80036; stroke-width: 1.5;\" x1=\"7\" x2=\"130\" y1=\"194\" y2=\"194\"/><text fill=\"#000000\" font-family=\"sans-serif\" font-size=\"11\" lengthAdjust=\"spacingAndGlyphs\" textLength=\"103\" x=\"12\" y=\"208.2104\">hasNext():boolean</text><text fill=\"#000000\" font-family=\"sans-serif\" font-size=\"11\" lengthAdjust=\"spacingAndGlyphs\" textLength=\"70\" x=\"12\" y=\"221.0151\">next():String</text><text fill=\"#000000\" font-family=\"sans-serif\" font-size=\"11\" lengthAdjust=\"spacingAndGlyphs\" textLength=\"64\" x=\"12\" y=\"233.8198\">nextInt():int</text><text fill=\"#000000\" font-family=\"sans-serif\" font-size=\"11\" lengthAdjust=\"spacingAndGlyphs\" textLength=\"113\" x=\"12\" y=\"246.6245\">nextDouble():double</text><text fill=\"#000000\" font-family=\"sans-serif\" font-size=\"11\" lengthAdjust=\"spacingAndGlyphs\" textLength=\"93\" x=\"12\" y=\"259.4292\">nextLine():String</text><rect fill=\"#FEFECE\" filter=\"url(#f1)\" height=\"86.4141\" style=\"stroke: #A80036; stroke-width: 1.5;\" width=\"115\" x=\"11\" y=\"8\"/><ellipse cx=\"41.75\" cy=\"24\" fill=\"#B4A7E5\" rx=\"11\" ry=\"11\" style=\"stroke: #A80036; stroke-width: 1.0;\"/><path d=\"M37.6719,19.7656 L37.6719,17.6094 L45.0625,17.6094 L45.0625,19.7656 L42.5938,19.7656 L42.5938,27.8438 L45.0625,27.8438 L45.0625,30 L37.6719,30 L37.6719,27.8438 L40.1406,27.8438 L40.1406,19.7656 L37.6719,19.7656 Z \"/><text fill=\"#000000\" font-family=\"sans-serif\" font-size=\"12\" font-style=\"italic\" lengthAdjust=\"spacingAndGlyphs\" textLength=\"48\" x=\"59.25\" y=\"28.1543\">Iterator</text><line style=\"stroke: #A80036; stroke-width: 1.5;\" x1=\"12\" x2=\"125\" y1=\"40\" y2=\"40\"/><line style=\"stroke: #A80036; stroke-width: 1.5;\" x1=\"12\" x2=\"125\" y1=\"48\" y2=\"48\"/><text fill=\"#000000\" font-family=\"sans-serif\" font-size=\"11\" lengthAdjust=\"spacingAndGlyphs\" textLength=\"103\" x=\"17\" y=\"62.2104\">hasNext():boolean</text><text fill=\"#000000\" font-family=\"sans-serif\" font-size=\"11\" lengthAdjust=\"spacingAndGlyphs\" textLength=\"43\" x=\"17\" y=\"75.0151\">next():E</text><text fill=\"#000000\" font-family=\"sans-serif\" font-size=\"11\" lengthAdjust=\"spacingAndGlyphs\" textLength=\"78\" x=\"17\" y=\"87.8198\">remove():void</text><path d=\"M68.5,114.448 C68.5,127.456 68.5,141.079 68.5,153.803 \" fill=\"none\" style=\"stroke: #A80036; stroke-width: 1.0; stroke-dasharray: 7.0,7.0;\"/><polygon fill=\"none\" points=\"61.5001,114.073,68.5,94.073,75.5001,114.073,61.5001,114.073\" style=\"stroke: #A80036; stroke-width: 1.0;\"/></g></svg>"
      ],
      "text/plain": [
       "<IPython.core.display.SVG object>"
      ]
     },
     "execution_count": 2,
     "metadata": {},
     "output_type": "execute_result"
    }
   ],
   "source": [
    "%%plantuml\n",
    "@startuml\n",
    "class Scanner {\n",
    "    hasNext():boolean\n",
    "    next():String\n",
    "    nextInt():int\n",
    "    nextDouble():double\n",
    "    nextLine():String\n",
    "}\n",
    "interface Iterator {\n",
    "    hasNext():boolean\n",
    "    next():E\n",
    "    remove():void\n",
    "}\n",
    "Iterator <|.. Scanner\n",
    "@enduml"
   ]
  },
  {
   "cell_type": "markdown",
   "metadata": {
    "collapsed": true
   },
   "source": [
    "* Scanner를 사용해서 System.in에서 읽기"
   ]
  },
  {
   "cell_type": "code",
   "execution_count": null,
   "metadata": {
    "collapsed": true
   },
   "outputs": [],
   "source": [
    "Scanner sc = new Scanner(System.in);\n",
    "String line=sc.nextLine();"
   ]
  },
  {
   "cell_type": "markdown",
   "metadata": {},
   "source": [
    "## 문제 io-1: 사용자가 원의 반지름을 입력하고, 면적을 출력하기 "
   ]
  },
  {
   "cell_type": "code",
   "execution_count": null,
   "metadata": {
    "collapsed": true
   },
   "outputs": [],
   "source": [
    "# %load src/com/sd/gui/CalcAreaMain.java\n",
    "package com.sd.gui;\n",
    "\n",
    "import java.util.Scanner;\n",
    "\n",
    "public class CalcAreaMain {\n",
    "    public static void main(String[] args) {\n",
    "        Scanner sc = new Scanner(System.in);\n",
    "        System.out.print(\"반지름을 입력하세요: \");\n",
    "        double r = sc.nextDouble();\n",
    "        double area=Math.PI*Math.pow(r,2);\n",
    "        System.out.printf(\"반지름: %.2f 원의 면적:%.2f\\n\",r,area);\n",
    "    }\n",
    "}\n"
   ]
  },
  {
   "cell_type": "markdown",
   "metadata": {},
   "source": [
    "## 문제 io-2: 파일에서 내용을 읽어 화면에 출력하기 "
   ]
  },
  {
   "cell_type": "markdown",
   "metadata": {
    "collapsed": true
   },
   "source": [
    "* Scanner를 사용해서 file에서 읽기\n",
    "* 한 줄만 읽어오기."
   ]
  },
  {
   "cell_type": "code",
   "execution_count": 1,
   "metadata": {
    "collapsed": false
   },
   "outputs": [
    {
     "name": "stdout",
     "output_type": "stream",
     "text": [
      " import java.util.Scanner;\r\n",
      "\r\n",
      " \r\n",
      "\r\n",
      " Scanner f=new Scanner(new File(\"test.txt\"));\r\n",
      "|  Added variable f of type Scanner with initial value java.util.Scanner[delimiters=\\p{javaWhitespace}+][position=0][match valid=false][need input=false][source closed=false][skipped=false][group separator=\\,][decimal separator=\\.][positive prefix=][negative prefix=\\Q-\\E][positive suffix=][negative suffix=][NaN string=\\QNaN\\E][infinity string=\\Q∞\\E]\r\n",
      "\r\n",
      " String line = f.nextLine();\r\n",
      "|  Added variable line of type String with initial value \"buffer test\"\r\n",
      "\r\n",
      " System.out.println(line);\r\n",
      "buffer test\r\n",
      "\r\n"
     ]
    }
   ],
   "source": [
    "import java.util.Scanner;\n",
    "\n",
    "Scanner f=new Scanner(new File(\"test.txt\"));\n",
    "String line = f.nextLine();\n",
    "System.out.println(line);"
   ]
  },
  {
   "cell_type": "markdown",
   "metadata": {
    "collapsed": true
   },
   "source": [
    "* while문을 사용하여 파일 전체를 읽는다.\n",
    "* Scanner는 iterator이다. hasNext()를 사용해 파일의 끝에 도달했는지 알 수 있다."
   ]
  },
  {
   "cell_type": "code",
   "execution_count": 8,
   "metadata": {
    "collapsed": false
   },
   "outputs": [
    {
     "name": "stdout",
     "output_type": "stream",
     "text": [
      " import java.util.Scanner;\r\n",
      "\r\n",
      " \r\n",
      "\r\n",
      " Scanner sc=new Scanner(new File(\"test.txt\"));\r\n",
      "|  Modified variable sc of type Scanner with initial value java.util.Scanner[delimiters=\\p{javaWhitespace}+][position=0][match valid=false][need input=false][source closed=false][skipped=false][group separator=\\,][decimal separator=\\.][positive prefix=][negative prefix=\\Q-\\E][positive suffix=][negative suffix=][NaN string=\\QNaN\\E][infinity string=\\Q∞\\E]\r\n",
      "|    Update overwrote variable sc\r\n",
      "\r\n",
      " while(sc.hasNext()) {\r\n",
      "     String line = sc.nextLine();\r\n",
      "     System.out.println(line);\r\n",
      " }\r\n",
      "THIS is uppcase\r\n",
      "\r\n",
      " sc.close();\r\n",
      "\r\n"
     ]
    }
   ],
   "source": [
    "import java.util.Scanner;\n",
    "\n",
    "Scanner sc=new Scanner(new File(\"test.txt\"));\n",
    "while(sc.hasNext()) {\n",
    "    String line = sc.nextLine();\n",
    "    System.out.println(line);\n",
    "}\n",
    "sc.close();"
   ]
  },
  {
   "cell_type": "markdown",
   "metadata": {},
   "source": [
    "## 9.4 파일\n",
    "\n",
    "* Reader, Writer 클래스를 상속하여 사용한다.\n",
    "* FileReader, FileWriter는 파일에서 문자 단위로 (바이트가 아니라) 읽고, 쓴다."
   ]
  },
  {
   "cell_type": "markdown",
   "metadata": {},
   "source": [
    "### 9.4.1 파일 읽기\n",
    "\n",
    "* java.io.FileReader를 사용하여 문자를 읽을 수 있다.\n",
    "* java.io.BufferedReader와 같은 확장된 기능은 decorator를 사용한다. 문자를 buffer단위로 읽기 때문에 빠르다.\n",
    "\n",
    "\n",
    "구분 | FileReader | BufferedReader\n",
    "-------|-------|-------\n",
    "읽는 단위 | 문자 하나씩 | 문자를 일정 단위로 묶어서 buffer 단위로\n",
    "EOF | -1 | null"
   ]
  },
  {
   "cell_type": "markdown",
   "metadata": {},
   "source": [
    "* 문자를 읽어오는 경우, EOF (End Of File)\n",
    "    * 문자를 읽어 오는 경우, 문자 값은 0 to 65535 (0x00-0xffff)의 범위에 있다.\n",
    "    * 파일 끝에 도달하면 -1 값을 가진다.\n"
   ]
  },
  {
   "cell_type": "code",
   "execution_count": 18,
   "metadata": {
    "collapsed": false,
    "scrolled": true
   },
   "outputs": [
    {
     "name": "stdout",
     "output_type": "stream",
     "text": [
      " class FileRead {\r\n",
      "     public static void main(String args[]) throws Exception {\r\n",
      "         FileReader fr=new FileReader(\"test.txt\");\r\n",
      "         int i;\r\n",
      "         while((i=fr.read()) !=-1)\r\n",
      "             System.out.println((char)i);\r\n",
      "         fr.close();\r\n",
      "     }\r\n",
      " }\r\n",
      "|  Added class FileRead\r\n",
      "\r\n"
     ]
    }
   ],
   "source": [
    "class FileRead {\n",
    "    public static void main(String args[]) throws Exception {\n",
    "        FileReader fr=new FileReader(\"test.txt\");\n",
    "        int i;\n",
    "        while((i=fr.read()) !=-1)\n",
    "            System.out.println((char)i);\n",
    "        fr.close();\n",
    "    }\n",
    "}"
   ]
  },
  {
   "cell_type": "markdown",
   "metadata": {
    "collapsed": true
   },
   "source": [
    "* BufferedReader 클래스를 사용한다.\n",
    "    * EOF는 null이 된다."
   ]
  },
  {
   "cell_type": "code",
   "execution_count": 4,
   "metadata": {
    "collapsed": false,
    "scrolled": true
   },
   "outputs": [
    {
     "name": "stdout",
     "output_type": "stream",
     "text": [
      " File f=new File(\"test.txt\");\r\n",
      "|  Modified variable f of type File with initial value test.txt\r\n",
      "|    Update overwrote variable f\r\n",
      "\r\n",
      " FileReader fr = new FileReader(f); \r\n",
      "|  Modified variable fr of type FileReader with initial value java.io.FileReader@6fd02e5\r\n",
      "|    Update overwrote variable fr\r\n",
      "\r\n",
      " BufferedReader br = new BufferedReader(fr); \r\n",
      "|  Modified variable br of type BufferedReader with initial value java.io.BufferedReader@5bcab519\r\n",
      "|    Update overwrote variable br\r\n",
      "\r\n",
      " String s; \r\n",
      "|  Modified variable s of type String\r\n",
      "|    Update overwrote variable s\r\n",
      "\r\n",
      " while((s = br.readLine()) != null) { \r\n",
      "     System.out.println(s); \r\n",
      " } \r\n",
      "THIS is uppcase\r\n",
      "\r\n",
      " fr.close();\r\n",
      "\r\n"
     ]
    }
   ],
   "source": [
    "File f=new File(\"test.txt\");\n",
    "FileReader fr = new FileReader(f); \n",
    "BufferedReader br = new BufferedReader(fr); \n",
    "String s; \n",
    "while((s = br.readLine()) != null) { \n",
    "    System.out.println(s); \n",
    "} \n",
    "fr.close();"
   ]
  },
  {
   "cell_type": "markdown",
   "metadata": {},
   "source": [
    "## 문제 io-3: 파일에서 읽어서 소문자로 출력하기\n",
    "\n",
    "* 클래스 BufferedReader를 사용해서, 파일 test.txt를 읽는다.\n",
    "* 파일 내용을 소문자로 변환하고 화면에 출력한다."
   ]
  },
  {
   "cell_type": "markdown",
   "metadata": {},
   "source": [
    "* 파일 I/O오류가 발생할 수 있다. 예를 들면, 파일이 존재하지 않는 경우 오류가 발생한다."
   ]
  },
  {
   "cell_type": "code",
   "execution_count": 5,
   "metadata": {
    "collapsed": false
   },
   "outputs": [
    {
     "name": "stdout",
     "output_type": "stream",
     "text": [
      " String FiletoLower() {\r\n",
      "     File f=new File(\"test.txt\");\r\n",
      "     FileReader fr = new FileReader(f); \r\n",
      "     BufferedReader br = new BufferedReader(fr); \r\n",
      "     String s; \r\n",
      "     while((s = br.readLine()) != null) { \r\n",
      "         System.out.println(s.toLowerCase()); \r\n",
      "     } \r\n",
      "     fr.close();\r\n",
      " }\r\n",
      "|  Error:\r\n",
      "|  missing return statement\r\n",
      "|  String FiletoLower() {\r\n",
      "|                       ^\r\n",
      "|  Error:\r\n",
      "|  unreported exception java.io.FileNotFoundException; must be caught or declared to be thrown\r\n",
      "|      FileReader fr = new FileReader(f);\r\n",
      "|                      ^---------------^\r\n",
      "|  Error:\r\n",
      "|  unreported exception java.io.IOException; must be caught or declared to be thrown\r\n",
      "|      while((s = br.readLine()) != null) {\r\n",
      "|                 ^-----------^\r\n",
      "|  Error:\r\n",
      "|  unreported exception java.io.IOException; must be caught or declared to be thrown\r\n",
      "|      fr.close();\r\n",
      "|      ^--------^\r\n",
      "\r\n"
     ]
    }
   ],
   "source": [
    "String FiletoLower() {\n",
    "    File f=new File(\"test.txt\");\n",
    "    FileReader fr = new FileReader(f); \n",
    "    BufferedReader br = new BufferedReader(fr); \n",
    "    String s; \n",
    "    while((s = br.readLine()) != null) { \n",
    "        System.out.println(s.toLowerCase()); \n",
    "    } \n",
    "    fr.close();\n",
    "}"
   ]
  },
  {
   "cell_type": "markdown",
   "metadata": {},
   "source": [
    "* try-catch문을 넣어 예외의 발생을 처리한다."
   ]
  },
  {
   "cell_type": "code",
   "execution_count": 15,
   "metadata": {
    "collapsed": false,
    "scrolled": true
   },
   "outputs": [
    {
     "name": "stdout",
     "output_type": "stream",
     "text": [
      " void file2Lower() {\r\n",
      "     try {\r\n",
      "         File f=new File(\"test.txt\");\r\n",
      "         FileReader fr = new FileReader(f); \r\n",
      "         BufferedReader br = new BufferedReader(fr); \r\n",
      "         String s; \r\n",
      "         while((s = br.readLine()) != null) { \r\n",
      "             System.out.println(s.toLowerCase()); \r\n",
      "         } \r\n",
      "         fr.close();\r\n",
      "     } catch (IOException e) {\r\n",
      "         System.out.println(\"IOException : \" + e);\r\n",
      "     }\r\n",
      " }\r\n",
      "|  Added method file2Lower()\r\n",
      "\r\n"
     ]
    }
   ],
   "source": [
    "void file2Lower() {\n",
    "    try {\n",
    "        File f=new File(\"test.txt\");\n",
    "        FileReader fr = new FileReader(f); \n",
    "        BufferedReader br = new BufferedReader(fr); \n",
    "        String s; \n",
    "        while((s = br.readLine()) != null) { \n",
    "            System.out.println(s.toLowerCase()); \n",
    "        } \n",
    "        fr.close();\n",
    "    } catch (IOException e) {\n",
    "        System.out.println(\"IOException : \" + e);\n",
    "    }\n",
    "}"
   ]
  },
  {
   "cell_type": "code",
   "execution_count": 16,
   "metadata": {
    "collapsed": false
   },
   "outputs": [
    {
     "name": "stdout",
     "output_type": "stream",
     "text": [
      " file2Lower();\r\n",
      "this is uppcase\r\n",
      "\r\n"
     ]
    }
   ],
   "source": [
    "file2Lower();"
   ]
  },
  {
   "cell_type": "markdown",
   "metadata": {},
   "source": [
    "### 9.4.2 파일 쓰기\n",
    "\n",
    "* Writer를 사용하여 문자를 쓸 수 있다.\n",
    "\n",
    "FileWriter | BufferedWriter\n",
    "-------|-------\n",
    "문자 하나씩 | 문자를 일정 단위로 묶어서 buffer 단위로"
   ]
  },
  {
   "cell_type": "code",
   "execution_count": 19,
   "metadata": {
    "collapsed": false,
    "scrolled": true
   },
   "outputs": [
    {
     "name": "stdout",
     "output_type": "stream",
     "text": [
      " FileWriter file = new FileWriter(\"test.txt\");\r\n",
      "|  Added variable file of type FileWriter with initial value java.io.FileWriter@5cb9f472\r\n",
      "\r\n",
      " file.write(\"test\");\r\n",
      "\r\n",
      " file.close();\r\n",
      "\r\n"
     ]
    }
   ],
   "source": [
    "FileWriter file = new FileWriter(\"test.txt\");\n",
    "file.write(\"test\");\n",
    "file.close();"
   ]
  },
  {
   "cell_type": "code",
   "execution_count": 20,
   "metadata": {
    "collapsed": false
   },
   "outputs": [
    {
     "name": "stdout",
     "output_type": "stream",
     "text": [
      " FileWriter file = new FileWriter(\"test.txt\");\r\n",
      "|  Modified variable file of type FileWriter with initial value java.io.FileWriter@4566e5bd\r\n",
      "|    Update overwrote variable file\r\n",
      "\r\n",
      " BufferedWriter bf = new BufferedWriter(file);\r\n",
      "|  Added variable bf of type BufferedWriter with initial value java.io.BufferedWriter@ff5b51f\r\n",
      "\r\n",
      " bf.write(\"buffer test\");\r\n",
      "\r\n",
      " bf.close();\r\n",
      "\r\n"
     ]
    }
   ],
   "source": [
    "FileWriter file = new FileWriter(\"test.txt\");\n",
    "BufferedWriter bf = new BufferedWriter(file);\n",
    "bf.write(\"buffer test\");\n",
    "bf.close();"
   ]
  },
  {
   "cell_type": "markdown",
   "metadata": {},
   "source": [
    "## 문제 io-4: 파일에 쓰기\n",
    "\n",
    "* 파일에 다음 내용을 쓴다.\n",
    "* 예외처리를 한다.\n",
    "\n",
    "```\n",
    "I love to travel.\n",
    "The cities I have visited:\n",
    "    - Seoul\n",
    "    - New York\n",
    "    - Sydney\n",
    "```"
   ]
  },
  {
   "cell_type": "code",
   "execution_count": 4,
   "metadata": {
    "collapsed": false,
    "scrolled": true
   },
   "outputs": [
    {
     "name": "stdout",
     "output_type": "stream",
     "text": [
      " import java.io.*;\r\n",
      "\r\n",
      " \r\n",
      "\r\n",
      " class FileUtil {\r\n",
      "     public void writeFile() {\r\n",
      "         try{\r\n",
      "             FileWriter fw=new FileWriter(\"travel.txt\");\r\n",
      "             fw.write(\"I love to travel.\\n\");\r\n",
      "             fw.write(\"The cities I have visited:\\n\");\r\n",
      "             fw.write(\"\\t- Seoul\\n\");\r\n",
      "             fw.write(\"\\t- New York\\n\");\r\n",
      "             fw.write(\"\\t- Sydney\\n\");\r\n",
      "             fw.close();\r\n",
      "         } catch(Exception e) {\r\n",
      "             System.out.println(e);\r\n",
      "         }\r\n",
      "         System.out.println(\"done\");\r\n",
      "     }\r\n",
      " }\r\n",
      "|  Modified class FileUtil\r\n",
      "|    Update overwrote class FileUtil\r\n",
      "\r\n"
     ]
    }
   ],
   "source": [
    "import java.io.*;\n",
    "\n",
    "class FileUtil {\n",
    "    public void writeFile() {\n",
    "        try{\n",
    "            FileWriter fw=new FileWriter(\"travel.txt\");\n",
    "            fw.write(\"I love to travel.\\n\");\n",
    "            fw.write(\"The cities I have visited:\\n\");\n",
    "            fw.write(\"\\t- Seoul\\n\");\n",
    "            fw.write(\"\\t- New York\\n\");\n",
    "            fw.write(\"\\t- Sydney\\n\");\n",
    "            fw.close();\n",
    "        } catch(Exception e) {\n",
    "            System.out.println(e);\n",
    "        }\n",
    "        System.out.println(\"done\");\n",
    "    }\n",
    "}"
   ]
  },
  {
   "cell_type": "code",
   "execution_count": 5,
   "metadata": {
    "collapsed": false
   },
   "outputs": [
    {
     "name": "stdout",
     "output_type": "stream",
     "text": [
      " FileUtil fu=new FileUtil();\r\n",
      "|  Added variable fu of type FileUtil with initial value FileUtil@57fffcd7\r\n",
      "\r\n",
      " fu.writeFile();\r\n",
      "done\r\n",
      "\r\n"
     ]
    }
   ],
   "source": [
    "FileUtil fu=new FileUtil();\n",
    "fu.writeFile();"
   ]
  },
  {
   "cell_type": "markdown",
   "metadata": {},
   "source": [
    "# 10. 예외\n",
    "\n",
    "## 10.1 학습내용\n",
    "\n",
    "### 10.1.1 목표\n",
    "\n",
    "* 프로그램에서 발생하는 예외를 처리할 수 있다.\n",
    "\n",
    "### 10.1.2 문제\n",
    "\n",
    "* 문제 x-1: 파일을 읽어서 출력하는 경우, 존재하지 않아 발생하는 예외 처리\n",
    "* 문제 x-2: 커피를 내리려고 한다. 커피가 없는 경우 예외로 처리하기."
   ]
  },
  {
   "cell_type": "markdown",
   "metadata": {},
   "source": [
    "## 10.2 프로그램 오류와 예외\n",
    "\n",
    "* 어떤 프로그램이나 정상적으로 처리할 수 없는 경우가 발생할 수 있다.\n",
    "* 비정상적인 경우는 (1) 오류, (2) 처리하는 구문이 필요한 예외, 그리고 (3)처리하는 구문이 필요없는 예외로 나누어 볼 수 있다.\n",
    "\n",
    "### 10.2.1 오류\n",
    "\n",
    "* 오류는 프로그램이 컴파일 되지 않거나, 실수로 인해 프로그램이 다른 결과가 나오는 버그bug를 말한다.\n"
   ]
  },
  {
   "cell_type": "markdown",
   "metadata": {},
   "source": [
    "* 정수에 소수를 넣으면 '오류'가 발생한다.\n",
    "* 이러한 오류는 프로그래밍을 잘 못한 것이므로, '실수'라고 해야 옳다."
   ]
  },
  {
   "cell_type": "code",
   "execution_count": 17,
   "metadata": {
    "collapsed": false,
    "scrolled": false
   },
   "outputs": [
    {
     "name": "stdout",
     "output_type": "stream",
     "text": [
      " int x=1.1;\r\n",
      "|  Error:\r\n",
      "|  incompatible types: possible lossy conversion from double to int\r\n",
      "|  int x=1.1;\r\n",
      "|        ^-^\r\n",
      "\r\n"
     ]
    }
   ],
   "source": [
    "int x=1.1;"
   ]
  },
  {
   "cell_type": "markdown",
   "metadata": {},
   "source": [
    "* 1~100의 합계는 5050이다. 결과가 4950으로 출력된 것은 100이 제외된 오류이다."
   ]
  },
  {
   "cell_type": "code",
   "execution_count": 18,
   "metadata": {
    "collapsed": false
   },
   "outputs": [
    {
     "name": "stdout",
     "output_type": "stream",
     "text": [
      " int sum=0;\r\n",
      "|  Added variable sum of type int with initial value 0\r\n",
      "\r\n",
      " for(int i=0;i<100;i++)\r\n",
      "     sum+=i;\r\n",
      "\r\n",
      " System.out.print(sum);\r\n",
      "4950\r\n"
     ]
    }
   ],
   "source": [
    "int sum=0;\n",
    "for(int i=0;i<100;i++)\n",
    "    sum+=i;\n",
    "System.out.print(sum);"
   ]
  },
  {
   "cell_type": "markdown",
   "metadata": {},
   "source": [
    "### 10.2.2 처리하는 구문이 필요없는 예외\n",
    "\n",
    "\n",
    "* 다음 예외를 발생시켜 본다. 이들은 컴파일 시점에 예방할 수 있는 오류로서, 처리하는 구문이 필요없다.\n",
    "\n",
    "예외 | 설명\n",
    "-----|-----\n",
    "ArithmeticException | 연산 예외\n",
    "IndexOutOfBoundsException | 배열의 예외\n",
    "NullPointerException | 객체 참조 예외\n",
    "ClassCastException | 형변환 예외\n",
    "    "
   ]
  },
  {
   "cell_type": "markdown",
   "metadata": {},
   "source": [
    "* ArithmeticException\n",
    "    * 0으로 나누면 예외가 발생한다.\n",
    "    * 0으로 나누면 안된다는 것을 알고 있다. 하지 말아야 할 '실수'이다."
   ]
  },
  {
   "cell_type": "code",
   "execution_count": 4,
   "metadata": {
    "collapsed": false
   },
   "outputs": [
    {
     "name": "stdout",
     "output_type": "stream",
     "text": [
      " 1/0;\r\n",
      "|  java.lang.ArithmeticException thrown: / by zero\r\n",
      "|        at (#13:1)\r\n",
      "\r\n"
     ]
    }
   ],
   "source": [
    "1/0;"
   ]
  },
  {
   "cell_type": "markdown",
   "metadata": {
    "collapsed": true
   },
   "source": [
    "* 프로그램이 실행되면서, '0'으로 나누어지게 되는 경우가 있을 수 있다. 그러면 예외가 발생한다.\n",
    "* 변수 n을 초기화하지 않으면, 0을 가지게 된다. 초기화하지 않은 변수로 '의도하지 않게' 나누는 경우는 예외가 발생한다.\n",
    "* 이런 점에서는 오류bug이기는 하지만, 실행과정에서 발생할 수 있다는 점에서 다르다."
   ]
  },
  {
   "cell_type": "code",
   "execution_count": 3,
   "metadata": {
    "collapsed": false
   },
   "outputs": [
    {
     "name": "stdout",
     "output_type": "stream",
     "text": [
      " int n;\r\n",
      "|  Modified variable n of type int\r\n",
      "|    Update overwrote variable n\r\n",
      "\r\n",
      " 1/n;\r\n",
      "|  java.lang.ArithmeticException thrown: / by zero\r\n",
      "|        at (#12:1)\r\n",
      "\r\n"
     ]
    }
   ],
   "source": [
    "int n;\n",
    "1/n;"
   ]
  },
  {
   "cell_type": "markdown",
   "metadata": {},
   "source": [
    "* 배열을 사용하여, 예외를 발생해 본다.\n",
    "* 배열을 3개 선언한 후, 4번째를 출력하면 'ArrayIndexOutOfBoundsException'가 발생한다."
   ]
  },
  {
   "cell_type": "code",
   "execution_count": 10,
   "metadata": {
    "collapsed": false
   },
   "outputs": [
    {
     "name": "stdout",
     "output_type": "stream",
     "text": [
      " int[] a=new int[3];\r\n",
      "|  Modified variable a of type int[] with initial value [I@3159c4b8\r\n",
      "|    Update overwrote variable a\r\n",
      "\r\n",
      " System.out.print(a[3]);\r\n",
      "|  java.lang.ArrayIndexOutOfBoundsException thrown: 3\r\n",
      "|        at (#18:1)\r\n",
      "\r\n"
     ]
    }
   ],
   "source": [
    "int[] a=new int[3];\n",
    "System.out.print(a[3]);"
   ]
  },
  {
   "cell_type": "markdown",
   "metadata": {},
   "source": [
    "* 함수를 만들면, 호출하기 전까지는 예외는 발생하지 않는다.\n",
    "* 예외가 발생할 경우, 처리하는 구문을 넣지 않아도 된다."
   ]
  },
  {
   "cell_type": "code",
   "execution_count": 12,
   "metadata": {
    "collapsed": false
   },
   "outputs": [
    {
     "name": "stdout",
     "output_type": "stream",
     "text": [
      " void arrayPrint() {\r\n",
      "     int[] a=new int[3];\r\n",
      "     System.out.print(a[3]);\r\n",
      " }\r\n",
      "|  Modified method arrayPrint()\r\n",
      "|    Update overwrote method arrayPrint()\r\n",
      "\r\n"
     ]
    }
   ],
   "source": [
    "void arrayPrint() {\n",
    "    int[] a=new int[3];\n",
    "    System.out.print(a[3]);\n",
    "}"
   ]
  },
  {
   "cell_type": "code",
   "execution_count": 11,
   "metadata": {
    "collapsed": false
   },
   "outputs": [
    {
     "name": "stdout",
     "output_type": "stream",
     "text": [
      " arrayPrint();\r\n",
      "|  java.lang.ArrayIndexOutOfBoundsException thrown: 3\r\n",
      "|        at arrayPrint (#17:3)\r\n",
      "|        at (#19:1)\r\n",
      "\r\n"
     ]
    }
   ],
   "source": [
    "arrayPrint();"
   ]
  },
  {
   "cell_type": "markdown",
   "metadata": {},
   "source": [
    "* NullPointerException을 발생해 본다.\n",
    "    * 객체를 선언한 후, 생성하여 할당하지 않은 경우 발생하는 예외이다.\n",
    "    * 아래와 같이 n에 객체를 생성하여 할당한 후 toString()을 사용할 수 있다.\n",
    "        ```\n",
    "        Integer n=new Integer(1);\n",
    "        n.toString();\n",
    "        ```\n",
    "\n",
    "* 객체를 선언하기만 하고, 사용는 경우 'NullPointerException'이 발생한다."
   ]
  },
  {
   "cell_type": "code",
   "execution_count": 25,
   "metadata": {
    "collapsed": false,
    "scrolled": true
   },
   "outputs": [
    {
     "name": "stdout",
     "output_type": "stream",
     "text": [
      " Integer n;\r\n",
      "|  Added variable n of type Integer\r\n",
      "\r\n",
      " n.toString()\r\n",
      "|  java.lang.NullPointerException thrown\r\n",
      "|        at (#31:1)\r\n",
      "\r\n"
     ]
    }
   ],
   "source": [
    "Integer n;\n",
    "n.toString()"
   ]
  },
  {
   "cell_type": "markdown",
   "metadata": {},
   "source": [
    "* ClassCastException\n",
    "    * 수를 문자로의 형 변환은 데이터 타잎이 다른 오류가 발생한다.\n",
    "    * 수와를 Object로 변환한 후, 문자로 형 변환하면 예외가 발생한다."
   ]
  },
  {
   "cell_type": "code",
   "execution_count": 32,
   "metadata": {
    "collapsed": false
   },
   "outputs": [
    {
     "name": "stdout",
     "output_type": "stream",
     "text": [
      " Integer n = Integer.valueOf(1);\r\n",
      "|  Modified variable n of type Integer with initial value 1\r\n",
      "|    Update overwrote variable n\r\n",
      "\r\n",
      " String s = (String)n;\r\n",
      "|  Error:\r\n",
      "|  incompatible types: java.lang.Integer cannot be converted to java.lang.String\r\n",
      "|  String s = (String)n;\r\n",
      "|                     ^\r\n",
      "\r\n"
     ]
    }
   ],
   "source": [
    "Integer n = Integer.valueOf(1);\n",
    "String s = (String)n;"
   ]
  },
  {
   "cell_type": "code",
   "execution_count": 33,
   "metadata": {
    "collapsed": false
   },
   "outputs": [
    {
     "name": "stdout",
     "output_type": "stream",
     "text": [
      " Object o = Integer.valueOf(1);\r\n",
      "|  Added variable o of type Object with initial value 1\r\n",
      "\r\n",
      " String s = (String)o;\r\n",
      "|  java.lang.ClassCastException thrown: java.lang.Integer (in module: java.base) cannot be cast to java.lang.String (in module: java.base)\r\n",
      "|        at (#34:1)\r\n",
      "\r\n"
     ]
    }
   ],
   "source": [
    "Object o = Integer.valueOf(1);\n",
    "String s = (String)o;"
   ]
  },
  {
   "cell_type": "markdown",
   "metadata": {},
   "source": [
    "### 10.2.2 처리하는 구문이 필요한 예외\n",
    "\n",
    "* 입출력은 여러 오류가 발생할 수 있다.\n",
    "* 파일의 예외를 발생해 본다.\n",
    "    * FileNotFoundException"
   ]
  },
  {
   "cell_type": "code",
   "execution_count": 8,
   "metadata": {
    "collapsed": false
   },
   "outputs": [
    {
     "name": "stdout",
     "output_type": "stream",
     "text": [
      " File f=new File(\"noname.txt\");\r\n",
      "|  Modified variable f of type File with initial value noname.txt\r\n",
      "|    Update overwrote variable f\r\n",
      "\r\n",
      " FileReader fr=new FileReader(f);\r\n",
      "|  java.io.FileNotFoundException thrown: noname.txt (No such file or directory)\r\n",
      "|        at FileInputStream.open0 (Native Method)\r\n",
      "|        at FileInputStream.open (FileInputStream.java:195)\r\n",
      "|        at FileInputStream.<init> (FileInputStream.java:138)\r\n",
      "|        at FileReader.<init> (FileReader.java:72)\r\n",
      "|        at (#15:1)\r\n",
      "|    Update overwrote variable fr\r\n",
      "\r\n"
     ]
    }
   ],
   "source": [
    "File f=new File(\"noname.txt\");\n",
    "FileReader fr=new FileReader(f);"
   ]
  },
  {
   "cell_type": "markdown",
   "metadata": {},
   "source": [
    "* 함수를 만들어서 예외를 발생한다. 처리하는 구문이 필요하다."
   ]
  },
  {
   "cell_type": "code",
   "execution_count": 15,
   "metadata": {
    "collapsed": false
   },
   "outputs": [
    {
     "name": "stdout",
     "output_type": "stream",
     "text": [
      " void fileOpen() {\r\n",
      "     File f=new File(\"noname.txt\");\r\n",
      "     FileReader fr=new FileReader(f);\r\n",
      " }\r\n",
      "|  Error:\r\n",
      "|  unreported exception java.io.FileNotFoundException; must be caught or declared to be thrown\r\n",
      "|      FileReader fr=new FileReader(f);\r\n",
      "|                    ^---------------^\r\n",
      "|    Update overwrote method fileOpen()\r\n",
      "\r\n"
     ]
    }
   ],
   "source": [
    "void fileOpen() {\n",
    "    File f=new File(\"noname.txt\");\n",
    "    FileReader fr=new FileReader(f);\n",
    "}"
   ]
  },
  {
   "cell_type": "markdown",
   "metadata": {},
   "source": [
    "## 10.3 예외의 구분\n",
    "\n",
    "* 프로그램이 비정상적으로 종료하는 경우를 예외 (Exception)라고 한다.\n",
    "* 예외를 구분하면:\n",
    "    * RuntimeException\n",
    "        * 'ArrayIndexOutOfBoundsException'과 같은 예외\n",
    "        * 프로그램에서 예방할 수 있는 예외\n",
    "        * unchecked exceptions, 프로그램 내에서 분명하게 처리하는 구문이 필요하지 않다.\n",
    "    * Exception\n",
    "        * 'FileNotFoundException'과 같은 예외\n",
    "        * 프로그램에서 예방할 수 없는 예외. 파일이 존재하도록 프로그램해도 다른 이유로 삭제되거나 이동되었을 수 있다.\n",
    "        * checked exceptions, 예외를 분명하게 처리하는 구문이 필요하다.\n",
    "            * try/catch 문\n",
    "            * 또는 함수에 throw를 선언해야 한다.\n",
    "\n",
    "구분 | 설명 | 예\n",
    "-------|-------|-------\n",
    "Error | 프로그램에서 발생하는 오류 | OutOfMemoryError\n",
    "RuntimeException | 프로그램으로 예방할 수 있는 오류. unchecked exceptions | IndexOutOfBoundsException\n",
    "RuntimeException을 제외한 Exception | 프로그램으로 예방할 수 없는 예외. checked exceptions | IOException"
   ]
  },
  {
   "cell_type": "code",
   "execution_count": 3,
   "metadata": {
    "collapsed": false,
    "scrolled": true
   },
   "outputs": [
    {
     "data": {
      "image/svg+xml": [
       "<svg height=\"307px\" style=\"width:521px;height:307px;\" version=\"1.1\" viewBox=\"0 0 521 307\" width=\"521px\" xmlns=\"http://www.w3.org/2000/svg\" xmlns:xlink=\"http://www.w3.org/1999/xlink\"><defs><filter height=\"300%\" id=\"f1\" width=\"300%\" x=\"-1\" y=\"-1\"><feGaussianBlur result=\"blurOut\" stdDeviation=\"2.0\"/><feColorMatrix in=\"blurOut\" result=\"blurOut2\" type=\"matrix\" values=\"0 0 0 0 0 0 0 0 0 0 0 0 0 0 0 0 0 0 .4 0\"/><feOffset dx=\"4.0\" dy=\"4.0\" in=\"blurOut2\" result=\"blurOut3\"/><feBlend in=\"SourceGraphic\" in2=\"blurOut3\" mode=\"normal\"/></filter></defs><g><rect fill=\"#FEFECE\" filter=\"url(#f1)\" height=\"73.6094\" style=\"stroke: #A80036; stroke-width: 1.5;\" width=\"136\" x=\"114.5\" y=\"8\"/><ellipse cx=\"147.5\" cy=\"24\" fill=\"#ADD1B2\" rx=\"11\" ry=\"11\" style=\"stroke: #A80036; stroke-width: 1.0;\"/><path d=\"M150.4688,29.6406 Q149.8906,29.9375 149.25,30.0859 Q148.6094,30.2344 147.9063,30.2344 Q145.4063,30.2344 144.0859,28.5859 Q142.7656,26.9375 142.7656,23.8125 Q142.7656,20.6875 144.0859,19.0313 Q145.4063,17.375 147.9063,17.375 Q148.6094,17.375 149.2578,17.5313 Q149.9063,17.6875 150.4688,17.9844 L150.4688,20.7031 Q149.8438,20.125 149.25,19.8516 Q148.6563,19.5781 148.0313,19.5781 Q146.6875,19.5781 146,20.6484 Q145.3125,21.7188 145.3125,23.8125 Q145.3125,25.9063 146,26.9766 Q146.6875,28.0469 148.0313,28.0469 Q148.6563,28.0469 149.25,27.7734 Q149.8438,27.5 150.4688,26.9219 L150.4688,29.6406 Z \"/><text fill=\"#000000\" font-family=\"sans-serif\" font-size=\"12\" lengthAdjust=\"spacingAndGlyphs\" textLength=\"64\" x=\"165.5\" y=\"28.1543\">Throwable</text><line style=\"stroke: #A80036; stroke-width: 1.5;\" x1=\"115.5\" x2=\"249.5\" y1=\"40\" y2=\"40\"/><line style=\"stroke: #A80036; stroke-width: 1.5;\" x1=\"115.5\" x2=\"249.5\" y1=\"48\" y2=\"48\"/><text fill=\"#000000\" font-family=\"sans-serif\" font-size=\"11\" lengthAdjust=\"spacingAndGlyphs\" textLength=\"115\" x=\"120.5\" y=\"62.2104\">getMessage():String</text><text fill=\"#000000\" font-family=\"sans-serif\" font-size=\"11\" lengthAdjust=\"spacingAndGlyphs\" textLength=\"124\" x=\"120.5\" y=\"75.0151\">printStackTrace():void</text><rect fill=\"#FEFECE\" filter=\"url(#f1)\" height=\"48\" style=\"stroke: #A80036; stroke-width: 1.5;\" width=\"63\" x=\"95\" y=\"142\"/><ellipse cx=\"110\" cy=\"158\" fill=\"#ADD1B2\" rx=\"11\" ry=\"11\" style=\"stroke: #A80036; stroke-width: 1.0;\"/><path d=\"M112.9688,163.6406 Q112.3906,163.9375 111.75,164.0859 Q111.1094,164.2344 110.4063,164.2344 Q107.9063,164.2344 106.5859,162.5859 Q105.2656,160.9375 105.2656,157.8125 Q105.2656,154.6875 106.5859,153.0313 Q107.9063,151.375 110.4063,151.375 Q111.1094,151.375 111.7578,151.5313 Q112.4063,151.6875 112.9688,151.9844 L112.9688,154.7031 Q112.3438,154.125 111.75,153.8516 Q111.1563,153.5781 110.5313,153.5781 Q109.1875,153.5781 108.5,154.6484 Q107.8125,155.7188 107.8125,157.8125 Q107.8125,159.9063 108.5,160.9766 Q109.1875,162.0469 110.5313,162.0469 Q111.1563,162.0469 111.75,161.7734 Q112.3438,161.5 112.9688,160.9219 L112.9688,163.6406 Z \"/><text fill=\"#000000\" font-family=\"sans-serif\" font-size=\"12\" lengthAdjust=\"spacingAndGlyphs\" textLength=\"31\" x=\"124\" y=\"162.1543\">Error</text><line style=\"stroke: #A80036; stroke-width: 1.5;\" x1=\"96\" x2=\"157\" y1=\"174\" y2=\"174\"/><line style=\"stroke: #A80036; stroke-width: 1.5;\" x1=\"96\" x2=\"157\" y1=\"182\" y2=\"182\"/><rect fill=\"#FEFECE\" filter=\"url(#f1)\" height=\"48\" style=\"stroke: #A80036; stroke-width: 1.5;\" width=\"93\" x=\"193\" y=\"142\"/><ellipse cx=\"208\" cy=\"158\" fill=\"#ADD1B2\" rx=\"11\" ry=\"11\" style=\"stroke: #A80036; stroke-width: 1.0;\"/><path d=\"M210.9688,163.6406 Q210.3906,163.9375 209.75,164.0859 Q209.1094,164.2344 208.4063,164.2344 Q205.9063,164.2344 204.5859,162.5859 Q203.2656,160.9375 203.2656,157.8125 Q203.2656,154.6875 204.5859,153.0313 Q205.9063,151.375 208.4063,151.375 Q209.1094,151.375 209.7578,151.5313 Q210.4063,151.6875 210.9688,151.9844 L210.9688,154.7031 Q210.3438,154.125 209.75,153.8516 Q209.1563,153.5781 208.5313,153.5781 Q207.1875,153.5781 206.5,154.6484 Q205.8125,155.7188 205.8125,157.8125 Q205.8125,159.9063 206.5,160.9766 Q207.1875,162.0469 208.5313,162.0469 Q209.1563,162.0469 209.75,161.7734 Q210.3438,161.5 210.9688,160.9219 L210.9688,163.6406 Z \"/><text fill=\"#000000\" font-family=\"sans-serif\" font-size=\"12\" lengthAdjust=\"spacingAndGlyphs\" textLength=\"61\" x=\"222\" y=\"162.1543\">Exception</text><line style=\"stroke: #A80036; stroke-width: 1.5;\" x1=\"194\" x2=\"285\" y1=\"174\" y2=\"174\"/><line style=\"stroke: #A80036; stroke-width: 1.5;\" x1=\"194\" x2=\"285\" y1=\"182\" y2=\"182\"/><rect fill=\"#FEFECE\" filter=\"url(#f1)\" height=\"48\" style=\"stroke: #A80036; stroke-width: 1.5;\" width=\"105\" x=\"6\" y=\"250\"/><ellipse cx=\"21\" cy=\"266\" fill=\"#ADD1B2\" rx=\"11\" ry=\"11\" style=\"stroke: #A80036; stroke-width: 1.0;\"/><path d=\"M23.9688,271.6406 Q23.3906,271.9375 22.75,272.0859 Q22.1094,272.2344 21.4063,272.2344 Q18.9063,272.2344 17.5859,270.5859 Q16.2656,268.9375 16.2656,265.8125 Q16.2656,262.6875 17.5859,261.0313 Q18.9063,259.375 21.4063,259.375 Q22.1094,259.375 22.7578,259.5313 Q23.4063,259.6875 23.9688,259.9844 L23.9688,262.7031 Q23.3438,262.125 22.75,261.8516 Q22.1563,261.5781 21.5313,261.5781 Q20.1875,261.5781 19.5,262.6484 Q18.8125,263.7188 18.8125,265.8125 Q18.8125,267.9063 19.5,268.9766 Q20.1875,270.0469 21.5313,270.0469 Q22.1563,270.0469 22.75,269.7734 Q23.3438,269.5 23.9688,268.9219 L23.9688,271.6406 Z \"/><text fill=\"#000000\" font-family=\"sans-serif\" font-size=\"12\" lengthAdjust=\"spacingAndGlyphs\" textLength=\"73\" x=\"35\" y=\"270.1543\">IOException</text><line style=\"stroke: #A80036; stroke-width: 1.5;\" x1=\"7\" x2=\"110\" y1=\"282\" y2=\"282\"/><line style=\"stroke: #A80036; stroke-width: 1.5;\" x1=\"7\" x2=\"110\" y1=\"290\" y2=\"290\"/><rect fill=\"#FEFECE\" filter=\"url(#f1)\" height=\"48\" style=\"stroke: #A80036; stroke-width: 1.5;\" width=\"187\" x=\"146\" y=\"250\"/><ellipse cx=\"161\" cy=\"266\" fill=\"#ADD1B2\" rx=\"11\" ry=\"11\" style=\"stroke: #A80036; stroke-width: 1.0;\"/><path d=\"M163.9688,271.6406 Q163.3906,271.9375 162.75,272.0859 Q162.1094,272.2344 161.4063,272.2344 Q158.9063,272.2344 157.5859,270.5859 Q156.2656,268.9375 156.2656,265.8125 Q156.2656,262.6875 157.5859,261.0313 Q158.9063,259.375 161.4063,259.375 Q162.1094,259.375 162.7578,259.5313 Q163.4063,259.6875 163.9688,259.9844 L163.9688,262.7031 Q163.3438,262.125 162.75,261.8516 Q162.1563,261.5781 161.5313,261.5781 Q160.1875,261.5781 159.5,262.6484 Q158.8125,263.7188 158.8125,265.8125 Q158.8125,267.9063 159.5,268.9766 Q160.1875,270.0469 161.5313,270.0469 Q162.1563,270.0469 162.75,269.7734 Q163.3438,269.5 163.9688,268.9219 L163.9688,271.6406 Z \"/><text fill=\"#000000\" font-family=\"sans-serif\" font-size=\"12\" lengthAdjust=\"spacingAndGlyphs\" textLength=\"155\" x=\"175\" y=\"270.1543\">ClassNotFoundException</text><line style=\"stroke: #A80036; stroke-width: 1.5;\" x1=\"147\" x2=\"332\" y1=\"282\" y2=\"282\"/><line style=\"stroke: #A80036; stroke-width: 1.5;\" x1=\"147\" x2=\"332\" y1=\"290\" y2=\"290\"/><rect fill=\"#FEFECE\" filter=\"url(#f1)\" height=\"48\" style=\"stroke: #A80036; stroke-width: 1.5;\" width=\"144\" x=\"368.5\" y=\"250\"/><ellipse cx=\"383.5\" cy=\"266\" fill=\"#ADD1B2\" rx=\"11\" ry=\"11\" style=\"stroke: #A80036; stroke-width: 1.0;\"/><path d=\"M386.4688,271.6406 Q385.8906,271.9375 385.25,272.0859 Q384.6094,272.2344 383.9063,272.2344 Q381.4063,272.2344 380.0859,270.5859 Q378.7656,268.9375 378.7656,265.8125 Q378.7656,262.6875 380.0859,261.0313 Q381.4063,259.375 383.9063,259.375 Q384.6094,259.375 385.2578,259.5313 Q385.9063,259.6875 386.4688,259.9844 L386.4688,262.7031 Q385.8438,262.125 385.25,261.8516 Q384.6563,261.5781 384.0313,261.5781 Q382.6875,261.5781 382,262.6484 Q381.3125,263.7188 381.3125,265.8125 Q381.3125,267.9063 382,268.9766 Q382.6875,270.0469 384.0313,270.0469 Q384.6563,270.0469 385.25,269.7734 Q385.8438,269.5 386.4688,268.9219 L386.4688,271.6406 Z \"/><text fill=\"#000000\" font-family=\"sans-serif\" font-size=\"12\" lengthAdjust=\"spacingAndGlyphs\" textLength=\"112\" x=\"397.5\" y=\"270.1543\">RuntimeException</text><line style=\"stroke: #A80036; stroke-width: 1.5;\" x1=\"369.5\" x2=\"511.5\" y1=\"282\" y2=\"282\"/><line style=\"stroke: #A80036; stroke-width: 1.5;\" x1=\"369.5\" x2=\"511.5\" y1=\"290\" y2=\"290\"/><path d=\"M156.807,100.599 C149.972,115.121 142.954,130.036 137.394,141.85 \" fill=\"none\" style=\"stroke: #A80036; stroke-width: 1.0;\"/><polygon fill=\"none\" points=\"150.696,97.143,165.546,82.027,163.364,103.104,150.696,97.143\" style=\"stroke: #A80036; stroke-width: 1.0;\"/><path d=\"M208.418,100.109 C215.448,114.786 222.689,129.903 228.412,141.85 \" fill=\"none\" style=\"stroke: #A80036; stroke-width: 1.0;\"/><polygon fill=\"none\" points=\"202.083,103.088,199.757,82.027,214.71,97.04,202.083,103.088\" style=\"stroke: #A80036; stroke-width: 1.0;\"/><path d=\"M182.945,200.1209 C155.369,216.2698 122.877,235.2984 98.0098,249.8617 \" fill=\"none\" style=\"stroke: #A80036; stroke-width: 1.0;\"/><polygon fill=\"none\" points=\"179.43,194.067,200.226,190,186.505,206.1479,179.43,194.067\" style=\"stroke: #A80036; stroke-width: 1.0;\"/><path d=\"M239.5,210.0236 C239.5,223.5792 239.5,238.0381 239.5,249.6784 \" fill=\"none\" style=\"stroke: #A80036; stroke-width: 1.0;\"/><polygon fill=\"none\" points=\"232.5,210.0005,239.5,190,246.5,210.0004,232.5,210.0005\" style=\"stroke: #A80036; stroke-width: 1.0;\"/><path d=\"M300.996,199.4306 C331.894,215.7253 368.615,235.0903 396.625,249.8617 \" fill=\"none\" style=\"stroke: #A80036; stroke-width: 1.0;\"/><polygon fill=\"none\" points=\"297.539,205.5217,283.114,190,304.07,193.138,297.539,205.5217\" style=\"stroke: #A80036; stroke-width: 1.0;\"/></g></svg>"
      ],
      "text/plain": [
       "<IPython.core.display.SVG object>"
      ]
     },
     "execution_count": 3,
     "metadata": {},
     "output_type": "execute_result"
    }
   ],
   "source": [
    "%%plantuml\n",
    "@startuml\n",
    "class Throwable {\n",
    "    getMessage():String\n",
    "    printStackTrace():void\n",
    "}\n",
    "class Error\n",
    "class Exception\n",
    "class IOException\n",
    "class ClassNotFoundException\n",
    "class RuntimeException\n",
    "Throwable <|-- Error\n",
    "Throwable <|-- Exception\n",
    "Exception <|-- IOException\n",
    "Exception <|-- ClassNotFoundException\n",
    "Exception <|-- RuntimeException\n",
    "@enduml"
   ]
  },
  {
   "cell_type": "markdown",
   "metadata": {},
   "source": [
    "```\n",
    "java.lang:\n",
    "    ArithmeticException\n",
    "    ArrayIndexOutOfBoundsException\n",
    "    ClassCastException\n",
    "    ClassNotFoundException\n",
    "    IllegalArgumentExcepion\n",
    "    IndexOutOfBoundsException\n",
    "    NullPointerException\n",
    "    NumberFormatedException\n",
    "\n",
    "java.io :\n",
    "    EOFException\n",
    "    FileNotFoundException\n",
    "    IOException\n",
    "```"
   ]
  },
  {
   "cell_type": "markdown",
   "metadata": {},
   "source": [
    "### 10.4 예외의 처리\n",
    "\n",
    "* 위에 설명한 바와 같이, RuntimException은 처리하는 구문이 필요없다.\n",
    "    ```\n",
    "    ArithmeticException\n",
    "    IndexOutOfBoundsException\n",
    "    NullPointerException\n",
    "    ClassCastException\n",
    "    ```\n",
    "\n",
    "* RuntimeException을 제외한 Exception은 처리하는 구문이 필요하다."
   ]
  },
  {
   "cell_type": "markdown",
   "metadata": {},
   "source": [
    "* try catch로 checked exception을 처리\n",
    "* checked exception은 컴파일하는 시점에 오류의 발생을 확인?"
   ]
  },
  {
   "cell_type": "code",
   "execution_count": 19,
   "metadata": {
    "collapsed": false
   },
   "outputs": [
    {
     "name": "stdout",
     "output_type": "stream",
     "text": [
      " try {\r\n",
      "     File f=new File(\"noname.txt\");\r\n",
      "     FileReader fr=new FileReader(f);\r\n",
      " } catch (FileNotFoundException e) {\r\n",
      "     \r\n",
      " }\r\n",
      "\r\n"
     ]
    }
   ],
   "source": [
    "try {\n",
    "    File f=new File(\"noname.txt\");\n",
    "    FileReader fr=new FileReader(f);\n",
    "} catch (FileNotFoundException e) {\n",
    "    \n",
    "}"
   ]
  },
  {
   "cell_type": "markdown",
   "metadata": {},
   "source": [
    "* throws로 checked exception을 처리"
   ]
  },
  {
   "cell_type": "code",
   "execution_count": 20,
   "metadata": {
    "collapsed": false
   },
   "outputs": [
    {
     "name": "stdout",
     "output_type": "stream",
     "text": [
      " void fileOpen() throws FileNotFoundException {\r\n",
      "     File f=new File(\"noname.txt\");\r\n",
      "     FileReader fr=new FileReader(f);\r\n",
      " }\r\n",
      "|  Added method fileOpen()\r\n",
      "\r\n"
     ]
    }
   ],
   "source": [
    "void fileOpen() throws FileNotFoundException {\n",
    "    File f=new File(\"noname.txt\");\n",
    "    FileReader fr=new FileReader(f);\n",
    "}"
   ]
  },
  {
   "cell_type": "markdown",
   "metadata": {},
   "source": [
    "* finally"
   ]
  },
  {
   "cell_type": "markdown",
   "metadata": {
    "collapsed": true
   },
   "source": [
    "## 문제 x-1: 파일을 읽어서 출력하는 경우, 존재하지 않아 발생하는 예외 처리"
   ]
  },
  {
   "cell_type": "code",
   "execution_count": null,
   "metadata": {
    "collapsed": true
   },
   "outputs": [],
   "source": [
    "import java.io.File;\n",
    "import java.io.FileReader;\n",
    "import java.io.IOException;\n",
    "public class PrintFile {\n",
    "    public void print() throws FileNotFoundException {\n",
    "        File f=new File(\"noname.txt\");\n",
    "        FileReader fr=new FileReader(f);\n",
    "        \n",
    "    }\n",
    "}"
   ]
  },
  {
   "cell_type": "code",
   "execution_count": null,
   "metadata": {
    "collapsed": true
   },
   "outputs": [],
   "source": [
    "package com.sd.io;\n",
    "\n",
    "import java.io.File;\n",
    "import java.io.FileReader;\n",
    "import java.io.IOException;\n",
    "public class PrintFile {\n",
    "\tpublic void print() {\n",
    "\t\ttry {\n",
    "\t\t\tFile f=new File(\"noname.txt\");\n",
    "\t\t\tFileReader fr=new FileReader(f);\n",
    "\t\t\tfr.close();\n",
    "\t\t} catch (IOException e) {\n",
    "\t\t\te.printStackTrace();\n",
    "\t\t}\n",
    "\t}\n",
    "}"
   ]
  },
  {
   "cell_type": "markdown",
   "metadata": {},
   "source": [
    "## 10.5 예외 만들어 보기\n",
    "\n",
    "* 자바의 예외에 필요한 예외를 추가할 수 있다.\n",
    "* 이 경우, Exception을 확장한다.\n",
    "    ```\n",
    "    class HelloException extends Exception\n",
    "    ```\n",
    "\n"
   ]
  },
  {
   "cell_type": "code",
   "execution_count": 4,
   "metadata": {
    "collapsed": false
   },
   "outputs": [
    {
     "data": {
      "image/svg+xml": [
       "<svg height=\"173px\" style=\"width:139px;height:173px;\" version=\"1.1\" viewBox=\"0 0 139 173\" width=\"139px\" xmlns=\"http://www.w3.org/2000/svg\" xmlns:xlink=\"http://www.w3.org/1999/xlink\"><defs><filter height=\"300%\" id=\"f1\" width=\"300%\" x=\"-1\" y=\"-1\"><feGaussianBlur result=\"blurOut\" stdDeviation=\"2.0\"/><feColorMatrix in=\"blurOut\" result=\"blurOut2\" type=\"matrix\" values=\"0 0 0 0 0 0 0 0 0 0 0 0 0 0 0 0 0 0 .4 0\"/><feOffset dx=\"4.0\" dy=\"4.0\" in=\"blurOut2\" result=\"blurOut3\"/><feBlend in=\"SourceGraphic\" in2=\"blurOut3\" mode=\"normal\"/></filter></defs><g><rect fill=\"#FEFECE\" filter=\"url(#f1)\" height=\"48\" style=\"stroke: #A80036; stroke-width: 1.5;\" width=\"93\" x=\"21.5\" y=\"8\"/><ellipse cx=\"36.5\" cy=\"24\" fill=\"#ADD1B2\" rx=\"11\" ry=\"11\" style=\"stroke: #A80036; stroke-width: 1.0;\"/><path d=\"M39.4688,29.6406 Q38.8906,29.9375 38.25,30.0859 Q37.6094,30.2344 36.9063,30.2344 Q34.4063,30.2344 33.0859,28.5859 Q31.7656,26.9375 31.7656,23.8125 Q31.7656,20.6875 33.0859,19.0313 Q34.4063,17.375 36.9063,17.375 Q37.6094,17.375 38.2578,17.5313 Q38.9063,17.6875 39.4688,17.9844 L39.4688,20.7031 Q38.8438,20.125 38.25,19.8516 Q37.6563,19.5781 37.0313,19.5781 Q35.6875,19.5781 35,20.6484 Q34.3125,21.7188 34.3125,23.8125 Q34.3125,25.9063 35,26.9766 Q35.6875,28.0469 37.0313,28.0469 Q37.6563,28.0469 38.25,27.7734 Q38.8438,27.5 39.4688,26.9219 L39.4688,29.6406 Z \"/><text fill=\"#000000\" font-family=\"sans-serif\" font-size=\"12\" lengthAdjust=\"spacingAndGlyphs\" textLength=\"61\" x=\"50.5\" y=\"28.1543\">Exception</text><line style=\"stroke: #A80036; stroke-width: 1.5;\" x1=\"22.5\" x2=\"113.5\" y1=\"40\" y2=\"40\"/><line style=\"stroke: #A80036; stroke-width: 1.5;\" x1=\"22.5\" x2=\"113.5\" y1=\"48\" y2=\"48\"/><rect fill=\"#FEFECE\" filter=\"url(#f1)\" height=\"48\" style=\"stroke: #A80036; stroke-width: 1.5;\" width=\"124\" x=\"6\" y=\"116\"/><ellipse cx=\"21\" cy=\"132\" fill=\"#ADD1B2\" rx=\"11\" ry=\"11\" style=\"stroke: #A80036; stroke-width: 1.0;\"/><path d=\"M23.9688,137.6406 Q23.3906,137.9375 22.75,138.0859 Q22.1094,138.2344 21.4063,138.2344 Q18.9063,138.2344 17.5859,136.5859 Q16.2656,134.9375 16.2656,131.8125 Q16.2656,128.6875 17.5859,127.0313 Q18.9063,125.375 21.4063,125.375 Q22.1094,125.375 22.7578,125.5313 Q23.4063,125.6875 23.9688,125.9844 L23.9688,128.7031 Q23.3438,128.125 22.75,127.8516 Q22.1563,127.5781 21.5313,127.5781 Q20.1875,127.5781 19.5,128.6484 Q18.8125,129.7188 18.8125,131.8125 Q18.8125,133.9063 19.5,134.9766 Q20.1875,136.0469 21.5313,136.0469 Q22.1563,136.0469 22.75,135.7734 Q23.3438,135.5 23.9688,134.9219 L23.9688,137.6406 Z \"/><text fill=\"#000000\" font-family=\"sans-serif\" font-size=\"12\" lengthAdjust=\"spacingAndGlyphs\" textLength=\"92\" x=\"35\" y=\"136.1543\">HelloException</text><line style=\"stroke: #A80036; stroke-width: 1.5;\" x1=\"7\" x2=\"129\" y1=\"148\" y2=\"148\"/><line style=\"stroke: #A80036; stroke-width: 1.5;\" x1=\"7\" x2=\"129\" y1=\"156\" y2=\"156\"/><path d=\"M68,76.0236 C68,89.5792 68,104.0381 68,115.6784 \" fill=\"none\" style=\"stroke: #A80036; stroke-width: 1.0;\"/><polygon fill=\"none\" points=\"61.0001,76.0005,68,56,75.0001,76.0004,61.0001,76.0005\" style=\"stroke: #A80036; stroke-width: 1.0;\"/></g></svg>"
      ],
      "text/plain": [
       "<IPython.core.display.SVG object>"
      ]
     },
     "execution_count": 4,
     "metadata": {},
     "output_type": "execute_result"
    }
   ],
   "source": [
    "%%plantuml\n",
    "@startuml\n",
    "class Exception\n",
    "Exception <|-- HelloException\n",
    "@enduml"
   ]
  },
  {
   "cell_type": "markdown",
   "metadata": {},
   "source": [
    "* getMessage()는 Trowable 클래스에서 상속받는 함수이다."
   ]
  },
  {
   "cell_type": "code",
   "execution_count": 1,
   "metadata": {
    "collapsed": false
   },
   "outputs": [
    {
     "name": "stdout",
     "output_type": "stream",
     "text": [
      " class HelloException extends Exception{\r\n",
      "     public HelloException(String e) {\r\n",
      "         super(e);\r\n",
      "     }\r\n",
      "     public String getMessage() {\r\n",
      "         return super.getMessage();\r\n",
      "     }\r\n",
      " }\r\n",
      "|  Added class HelloException\r\n",
      "\r\n"
     ]
    }
   ],
   "source": [
    "class HelloException extends Exception {\n",
    "    public HelloException(String e) {\n",
    "        super(e);\n",
    "    }\n",
    "    public String getMessage() {\n",
    "        return super.getMessage();\n",
    "    }\n",
    "}"
   ]
  },
  {
   "cell_type": "markdown",
   "metadata": {},
   "source": [
    "* 함수에 예외를 선언할 수 있다."
   ]
  },
  {
   "cell_type": "code",
   "execution_count": 2,
   "metadata": {
    "collapsed": false
   },
   "outputs": [
    {
     "name": "stdout",
     "output_type": "stream",
     "text": [
      " void sayHello(String name) throws HelloException {\r\n",
      "     System.out.println(\"Hello \"+name);\r\n",
      "     throw new HelloException(\"Hello Exception...\");\r\n",
      " }\r\n",
      "|  Added method sayHello(String)\r\n",
      "\r\n"
     ]
    }
   ],
   "source": [
    "void sayHello(String name) throws HelloException {\n",
    "    System.out.println(\"Hello \"+name);\n",
    "    throw new HelloException(\"Hello Exception...\");\n",
    "}"
   ]
  },
  {
   "cell_type": "markdown",
   "metadata": {},
   "source": [
    "* try-catch문을 사용할 수 있다."
   ]
  },
  {
   "cell_type": "code",
   "execution_count": 3,
   "metadata": {
    "collapsed": false
   },
   "outputs": [
    {
     "name": "stdout",
     "output_type": "stream",
     "text": [
      " try {\r\n",
      "     sayHello(\"jsl\");\r\n",
      " } catch(HelloException e) {\r\n",
      "     System.out.println(e.getMessage());\r\n",
      " }\r\n",
      "Hello jsl\r\n",
      "Hello Exception...\r\n",
      "\r\n"
     ]
    }
   ],
   "source": [
    "try {\n",
    "    sayHello(\"jsl\");\n",
    "} catch(HelloException e) {\n",
    "    System.out.println(e.getMessage());\n",
    "}"
   ]
  },
  {
   "cell_type": "markdown",
   "metadata": {
    "collapsed": true
   },
   "source": [
    "## 문제 x-2: 커피를 내리려고 한다. 커피가 없는 경우 예외로 처리하기.\n",
    "\n",
    "* 커피 클래스를 구현한다.\n",
    "* 커피가 없는 경우 NoCoffeeException을 발생한다."
   ]
  },
  {
   "cell_type": "markdown",
   "metadata": {},
   "source": [
    "* NoCoffeeException은 Exception을 확장한다."
   ]
  },
  {
   "cell_type": "code",
   "execution_count": 7,
   "metadata": {
    "collapsed": false
   },
   "outputs": [
    {
     "name": "stdout",
     "output_type": "stream",
     "text": [
      " class NoCoffeeException extends Exception{\r\n",
      "     public NoCoffeeException(String e) {\r\n",
      "         super(e);\r\n",
      "     }\r\n",
      "     public String getMessage() {\r\n",
      "         System.out.println(\"Get coffee!\");\r\n",
      "         return super.getMessage();\r\n",
      "     }\r\n",
      " }\r\n",
      "|  Modified class NoCoffeeException\r\n",
      "|    Update overwrote class NoCoffeeException\r\n",
      "\r\n"
     ]
    }
   ],
   "source": [
    "class NoCoffeeException extends Exception{\n",
    "    public NoCoffeeException(String e) {\n",
    "        super(e);\n",
    "    }\n",
    "    public String getMessage() {\n",
    "        System.out.println(\"Get coffee!\");\n",
    "        return super.getMessage();\n",
    "    }\n",
    "}"
   ]
  },
  {
   "cell_type": "markdown",
   "metadata": {},
   "source": [
    "* Coffee 클래스의 brew()에 NoCoffeeException을 선언한다."
   ]
  },
  {
   "cell_type": "code",
   "execution_count": 8,
   "metadata": {
    "collapsed": false,
    "scrolled": true
   },
   "outputs": [
    {
     "name": "stdout",
     "output_type": "stream",
     "text": [
      " class Coffee {\r\n",
      "     void brew() throws NoCoffeeException {\r\n",
      "         System.out.println(\"Brewing...\");\r\n",
      "         throw new NoCoffeeException(\"No Coffee Exception...\");\r\n",
      "     }\r\n",
      " }\r\n",
      "|  Added class Coffee\r\n",
      "\r\n"
     ]
    }
   ],
   "source": [
    "class Coffee {\n",
    "    void brew() throws NoCoffeeException {\n",
    "        System.out.println(\"Brewing...\");\n",
    "        throw new NoCoffeeException(\"No Coffee Exception...\");\n",
    "    }\n",
    "}"
   ]
  },
  {
   "cell_type": "code",
   "execution_count": 9,
   "metadata": {
    "collapsed": false
   },
   "outputs": [
    {
     "name": "stdout",
     "output_type": "stream",
     "text": [
      " Coffee c=new Coffee();\r\n",
      "|  Added variable c of type Coffee with initial value Coffee@e45f292\r\n",
      "\r\n",
      " c.brew();\r\n",
      "Brewing...\r\n",
      "Get coffee!\r\n",
      "Get coffee!\r\n",
      "|  REPL.$REPL12$NoCoffeeException thrown: No Coffee Exception...\r\n",
      "|        at Coffee.brew (#13:4)\r\n",
      "|        at (#15:1)\r\n",
      "\r\n"
     ]
    }
   ],
   "source": [
    "Coffee c=new Coffee();\n",
    "c.brew();"
   ]
  }
 ],
 "metadata": {
  "kernelspec": {
   "display_name": "Java 9",
   "language": "java",
   "name": "java"
  },
  "language_info": {
   "file_extension": ".class",
   "mimetype": "application/java-vm",
   "name": "java"
  }
 },
 "nbformat": 4,
 "nbformat_minor": 0
}
