{
 "cells": [
  {
   "cell_type": "markdown",
   "metadata": {
    "slideshow": {
     "slide_type": "slide"
    }
   },
   "source": [
    "# 3. 데이터 타잎과 연산자\n",
    "\n",
    "Last updated 20190404THR0620 20180521MON1300\n",
    "\n",
    "## 3.1 학습내용\n",
    "\n",
    "### 3.1.1 목표\n",
    "\n",
    "* 사용하려는 데이터 특징에 맞추어 변수를 선언할 수 있다.\n",
    "* 원시타잎과 참조타잎을 사용할 수 있다.\n",
    "* 연산자를 사용할 수 있다.\n",
    "* 목차\n",
    "    * 3.2 variables\n",
    "    * 3.3 원시 타잎\n",
    "    * 3.4 참조 타잎\n",
    "    * 3.5 연산"
   ]
  },
  {
   "cell_type": "markdown",
   "metadata": {
    "slideshow": {
     "slide_type": "subslide"
    }
   },
   "source": [
    "### 3.1.2 문제\n",
    "\n",
    "* 문제 3-1: 온도 변환, 섭씨, 화씨와 변환식에 사용되는 데이터타잎을 올바르게 사용하기.\n",
    "    * 데이터 타잎 float, int, double 의 선언, 변환, 출력\n",
    "* 문제 3-2: 사용자에게 입력 값을 받아서 더하기\n",
    "    * Scanner 클래스, String, int, float\n",
    "* 문제 3-3: 사용자에게 섭씨온도를 입력받아 화씨로 변환하기\n",
    "    * 명령창에서 컴파일하고 실행하기\n",
    "* 문제 3-4: 금액을 저장하는 변수를 선언하기\n",
    "    * BigDecimal\n",
    "* 문제 3-5: '%' 연산자를 사용해서 시간 출력하기\n",
    "    * milliseconds, '%' 연산자\n",
    "    * 명령창에서 컴파일하고 실행하기"
   ]
  },
  {
   "cell_type": "markdown",
   "metadata": {
    "slideshow": {
     "slide_type": "slide"
    }
   },
   "source": [
    "## 3.2 variables\n",
    "\n",
    "### 변수는 상자와 같은 저장소\n",
    "\n",
    "변수는 **값의 저장소**이다.\n",
    "저장소는 **값의 특성에 따라 차지하는 메모리공간에 차이**가 있다.\n",
    "식당의 예를 보면, 손님이 많으면 당연히 좌석을 더 예약해야 한다.\n",
    "값은 단순히 값을 저장하는 경우와 다른 값을 가리키는 참조가 있을 수 있다.\n",
    "* 단순히 값을 저장하는 경우, 크게 구분하면 숫자와 문자를 가질 수 있다.\n",
    "    * **숫자**는 정수, 음수, 소수 등이 있는데, 서로 특성이 다르고 값의 범위가 다르다.\n",
    "    * **문자** 역시 한 글자인지 더 많은 글자를 저장해야 하는지에 따라 필요한 저장공간에 차이가 있다.\n",
    "* 다음은 복잡한 값을 가지는 경우이다. 다른 객체 또는 값으로 구성된 그룹을 가질 수도 있다. 이 경우에는 그 복잡한 값 전체를 담는 것이 아니라 그 상자의 이름만을 **참조, reference**로 가진다.\n",
    "\n",
    "![alt text](figures/3_1_dataTypes.png \"Data type\")"
   ]
  },
  {
   "cell_type": "markdown",
   "metadata": {
    "slideshow": {
     "slide_type": "subslide"
    }
   },
   "source": [
    "변수는 '상자'로 비유할 수 있다. '상자'에는 이름이 하나씩 적혀 있다. 그 이름을 **변수 명**이라고 한다. \n",
    "'상자'에는 값을 넣어 **저장**할 수 있다.\n",
    "변수명으로 **상자 안에 있는 값**을 알 수 있다.\n",
    "* 그림에서와 같이 상자에는 숫자 175를 가지고 있다. 변수명은 **height**, 값은 **175**가 측정단위 cm 없이 저장되어 있다. 또는 문자를 가질 수도 있다. 그러나 딱 하나의 값을 저장한다. 주의할 점은 상자에는 그 모양과 다른 것을 넣을 수 없다. 예를 들어, 숫자 상자에는 문자를 넣을 수 없다.\n",
    "* 학생이라는 객체가 height와 weight를 가지는 경우, 참조가 저장된다.\n",
    "\n",
    "![alt text](figures/3_2_variableBox.png \"Variable box\")"
   ]
  },
  {
   "cell_type": "markdown",
   "metadata": {
    "slideshow": {
     "slide_type": "subslide"
    }
   },
   "source": [
    "### 변수의 선언\n",
    "\n",
    "자바는 **데이터 타잎을 엄격**하게 지키는 언어이다. 이와 같이 변수의 형식을 미리 지정해야하는 이유는 제한된 컴퓨터의 메모리를 효율적으로 사용하기 위해서이다. 따라서 변수를 사용하려면, **반드시 타잎을 정하고 사용**해야 한다. 이를 **선언**, 'declare'라고 한다.\n",
    "타잎을 선언하지 않고는 변수를 사용할 수 없고, 컴파일 언어는 이런 특징을 보통 가진다.\n",
    "\n",
    "```java\n",
    "타잎 변수명[=값];\n",
    "```\n",
    "\n",
    "선언에 쓰이는 요소 | 설명\n",
    "-----|-----\n",
    "타잎 | 원시타잎 또는 클래스로 선언할 수 있다.\n",
    "변수명 | 보통 자바명으로 의미있게 작명한다.\n",
    "값 | 선언할 때 초기화할 수 있고, 정하지 않을 수 있다."
   ]
  },
  {
   "cell_type": "markdown",
   "metadata": {
    "slideshow": {
     "slide_type": "subslide"
    }
   },
   "source": [
    "#### 타잎\n",
    "\n",
    "타잎은 **원시타잎, primative type**과 **클래스**로 크게 구별할 수 있다.\n",
    "* 원시타잎은 단어 그대로 '원시'로 클래스가 아니며, 따라서 메모리 크기가 사전에 정해 질 수 있다.\n",
    "* 다음으로 클래스는 메모리의 크기가 정해져 있지 않고, 참조로 사용하게 된다.\n",
    "\n",
    "> 참조\n",
    "> **reference**\n",
    ">\n",
    "> 데이터가 실제로 저장되어 있는 장소가 있고, 그 장소를 가리키는 값을 참조라고 한다.\n",
    "> C에서는 포인터 또는 주소라고 한다.\n",
    "> 자바에서는 클래스, 배열과 같이 주로 데이터가 큰 경우 사용된다."
   ]
  },
  {
   "cell_type": "markdown",
   "metadata": {
    "slideshow": {
     "slide_type": "subslide"
    }
   },
   "source": [
    "#### 변수명\n",
    "\n",
    "보통 자바에서 허용되는 규칙에 따라 의미있게 짓는다.\n",
    "* camel case를 사용하여 일반적으로 명사로 작명한다."
   ]
  },
  {
   "cell_type": "markdown",
   "metadata": {
    "slideshow": {
     "slide_type": "subslide"
    }
   },
   "source": [
    "#### 값\n",
    "\n",
    "데이터 타잎은 변수 값의 형식을 지정하고, 변수 값은 그 형식을 지켜야 한다. 값이 저장되는 시점은 적절하게 정할 수 있다.\n",
    "* 값은 선언하면서 초기화하거나,\n",
    "* 혹은 나중에 필요한 시점에 할당할 수 있다.\n",
    "* 또는 동적으로 다른 변수의 값이 정해지면서 저장될 수 있다.\n",
    "\n",
    "```java\n",
    "int x=1;   //선언하면서 값을 저장한다.\n",
    "\n",
    "int y;\n",
    "y=2;       //선언과 다른 시점에 값을 저장한다.\n",
    "\n",
    "int z;\n",
    "z=x+y;     //x, y값이 실행하면서 변경될 수 있고 그 결과에 따라 값이 동적으로 결정된다.\n",
    "```"
   ]
  },
  {
   "cell_type": "markdown",
   "metadata": {
    "slideshow": {
     "slide_type": "subslide"
    }
   },
   "source": [
    "#### 그리고 사용할 수 있는 수식어\n",
    "\n",
    "수식어 | 설명\n",
    "-----|-----\n",
    "가시성 | public, protected private, \n",
    "값을 변경할 수 없게 할 경우 | final\n",
    "값을 다른 클래스에서 사용할 수 있게 하는 경우 | static\n"
   ]
  },
  {
   "cell_type": "markdown",
   "metadata": {
    "slideshow": {
     "slide_type": "subslide"
    }
   },
   "source": [
    "### 범위\n",
    "\n",
    "자바 변수는 블록 내의 **범위, scope**에서 값을 가진다.\n",
    "블록 안에서는 밖의 값을 볼 수 있지만, 반대는 아니다. 변수의 **생명주기, life time**이 블록 밖에서는 종료되기 때문이다.\n",
    "\n",
    "> 블록\n",
    "> **block**\n",
    ">\n",
    "> 자바는 {}로 블록의 시작과 끝을 나타낸다.\n",
    "> 블록을 기준으로 안에서는 변수의 값이 살아있고, 밖에서는 사라지게 된다.\n",
    "> 변수 값이 유효한 범위가 블록안으로 제한된다."
   ]
  },
  {
   "cell_type": "markdown",
   "metadata": {
    "slideshow": {
     "slide_type": "slide"
    }
   },
   "source": [
    "## 3.3 원시 타잎\n",
    "\n",
    "**원시타잎, primitive type**은 **단순한 값**을 저장하기 때문에 단순 타잎, simple type이라고 한다.\n",
    "정수, 소수, 문자 등과 같이 단순한 값을 저장한다.\n",
    "따라서 아래 표와 같이 메모리의 크기가 정해져 있다.\n",
    "모든 원시타잎 대응되는 클래스가 있다. 원시타잎을 객체로 감싸서 만든 클래스인 **wrapper class**이다.\n",
    "\n",
    "종류 | 메모리 크기 (bits) | 최소~최대 | Wrapper classes\n",
    "-----|-----|-----|-----\n",
    "boolean\t| 8 | TF (2개 값만 필요하지만 8bits 사용) | Boolean\n",
    "char\t| 16 | 0~65535 | Character\n",
    "byte\t| 8 | -128~127 | Byte\n",
    "short\t| 16 | -32768~32767 | Short\n",
    "int\t| 32 | -2147483648~2147483647 | Integer\n",
    "long\t| 64 |-9223372036854775808 ~ 9223372036854775807 | Long\n",
    "float\t| 32 | 1.4E-45~3.4028235E38 | Float\n",
    "double\t| 64 | 4.9E-324~1.7976931348623157E308 | Double\n"
   ]
  },
  {
   "cell_type": "markdown",
   "metadata": {
    "slideshow": {
     "slide_type": "subslide"
    }
   },
   "source": [
    "### 타잎 변환\n",
    "\n",
    "할당연산을 하는 경우, **좌측 타잎과 우측 타잎이 서로 다른 경우** '**타잎 불일치 type mismatch**' 오류가 발생할 수 있다.\n",
    "이러한 경우 **타잎 변환, type conversion**이 강제로 또는 자동으로 일어난다.\n",
    "\n",
    "\n",
    "\n",
    "```java\n",
    "int x=1;   //정수 x에 정수 1을 할당하므로 타잎이 서로 일치한다.\n",
    "float x=1; //소수 x에 정수 1을 할당하므로 타잎이 불일치한다. x에는 1을 자동변환하여 1.0이 저장된다.\n",
    "```\n",
    "\n",
    "> '=' 연산자\n",
    "> \n",
    "> '='은 **할당연산자**이다.\n",
    "> 예를 들어 x=1 표현식은 우측 '1' 값이 좌측 'x'에 '할당'되는 의미이다.\n",
    "> 또한 수학에서 '='은 '같다 equals'의 의미를 가지기도 한다.\n",
    "> 프로그래밍에서는 이러한 **비교연산자**로는 '=='를 사용한다.\n",
    "> 즉 'x==1'의 결과는 'true' 또는 'false'이다.\n",
    "\n"
   ]
  },
  {
   "cell_type": "markdown",
   "metadata": {
    "slideshow": {
     "slide_type": "subslide"
    }
   },
   "source": [
    "* **강제 변환**: 사용자가 직접 프로그램해야 한다. 대상 타잎을 괄호 안에 적어 준다. 예를 들어 (int) 1.1은 소수를 정수로 강제 변환한다.\n",
    "\n",
    "```java\n",
    "(대상 타잎) 값;\n",
    "소수를 정수로 강제 변환하는 예: (int) 1.1;\n",
    "```\n",
    "\n",
    "* **자동 변환**: 사용자가 직접 변환하지 않아도 자동으로 된다. 예를 들어 위 'float x=1'의 경우와 같은 '타잎 불일치'\n",
    "\n",
    "\n",
    "구분 | 타잎 변환\n",
    "-----|-----\n",
    "큰 타잎에서 적은 타잎으로 변환하는 경우 | 데이터 손실이 발생하므로 오류. 적은 타잎으로 사용자가 **강제 변환**해야 한다.\n",
    "적은 타잎에서 큰 타잎으로 변환하는 경우 | **자동변환**이 일어난다. 적은 타잎이 큰 타잎으로 타잎 승격, type promotion이 자동으로 발생한다."
   ]
  },
  {
   "cell_type": "markdown",
   "metadata": {
    "slideshow": {
     "slide_type": "subslide"
    }
   },
   "source": [
    "### 정수 타잎 선언의 예\n",
    "\n",
    "x를 정수형으로 선언하고 값 1을 저장한다.\n",
    "정수타잎에 소수는 넣을 수 없다. 이럴 경우 변환을 해야 한다."
   ]
  },
  {
   "cell_type": "code",
   "execution_count": 15,
   "metadata": {
    "collapsed": false
   },
   "outputs": [
    {
     "name": "stdout",
     "output_type": "stream",
     "text": [
      " int x = 1;\r\n",
      "|  Modified variable x of type int with initial value 1\r\n",
      "|    Update overwrote variable x\r\n",
      "\r\n"
     ]
    }
   ],
   "source": [
    "int x = 1;"
   ]
  },
  {
   "cell_type": "markdown",
   "metadata": {
    "collapsed": true,
    "slideshow": {
     "slide_type": "subslide"
    }
   },
   "source": [
    "x에 1.1을 넣어보자. 데이터 타잎으로 보면 정수만 넣을 수 있는 박스에 소수를 집어 넣는 것이다.\n",
    "오류메시지를 보면 incompatible types이다.\n",
    "이 경우 정수로 **타잎변환**, type conversion을 분명하게 해야 한다.\n",
    "즉, 형변환을 사용자가 프로그램에서 명시적으로 해야 한다."
   ]
  },
  {
   "cell_type": "code",
   "execution_count": 14,
   "metadata": {
    "collapsed": false
   },
   "outputs": [
    {
     "name": "stdout",
     "output_type": "stream",
     "text": [
      " x=1.1;\r\n",
      "|  Error:\r\n",
      "|  incompatible types: possible lossy conversion from double to int\r\n",
      "|  x=1.1;\r\n",
      "|    ^-^\r\n",
      "\r\n"
     ]
    }
   ],
   "source": [
    "x=1.1;"
   ]
  },
  {
   "cell_type": "code",
   "execution_count": 21,
   "metadata": {
    "collapsed": false
   },
   "outputs": [
    {
     "name": "stdout",
     "output_type": "stream",
     "text": [
      " x=(int)1.1;\r\n",
      "|  Variable x has been assigned the value 1\r\n",
      "\r\n"
     ]
    }
   ],
   "source": [
    "x=(int)1.1;"
   ]
  },
  {
   "cell_type": "code",
   "execution_count": 18,
   "metadata": {
    "collapsed": false,
    "scrolled": true
   },
   "outputs": [
    {
     "name": "stdout",
     "output_type": "stream",
     "text": [
      " x;\r\n",
      "|  Variable x of type int has value 1\r\n",
      "\r\n"
     ]
    }
   ],
   "source": [
    "System.out.println(x);"
   ]
  },
  {
   "cell_type": "markdown",
   "metadata": {
    "collapsed": true,
    "slideshow": {
     "slide_type": "subslide"
    }
   },
   "source": [
    "* int(32 bits)를 double(64 bits)로 변경해 본다. **자동변환**이 일어난다. 즉 적은 타잎에서 큰 타잎으로 값을 넣기 때문에 자동으로 변환이 일어나는 것이다."
   ]
  },
  {
   "cell_type": "code",
   "execution_count": 1,
   "metadata": {
    "collapsed": false
   },
   "outputs": [
    {
     "name": "stdout",
     "output_type": "stream",
     "text": [
      " int a=123;\r\n",
      "|  Added variable a of type int with initial value 123\r\n",
      "\r\n",
      " double b;\r\n",
      "|  Added variable b of type double\r\n",
      "\r\n",
      " b=a;\r\n",
      "|  Variable b has been assigned the value 123.0\r\n",
      "\r\n"
     ]
    }
   ],
   "source": [
    "int a=123;\n",
    "double b;\n",
    "b=a;      //int를 double에 저장. 자동변환된다."
   ]
  },
  {
   "cell_type": "markdown",
   "metadata": {
    "slideshow": {
     "slide_type": "subslide"
    }
   },
   "source": [
    "### byte 타잎 선언의 예\n",
    "\n",
    "byte 타잎으로 선언하고 값을 넣어보자.\n",
    "주의할 점은 우측 값이 정수라는 점이다. 즉 좌측 'b'는 정수이지만 8비트로 마이너스 128 ~ 플러스 127까지의 범위를 가질 수 있다. 즉 byte의 범위가 -128~127이므로 오류가 발생한다.\n",
    "byte 타잎 'b'에 정수 '1'과 범위 밖인 '128'을 넣어 보자.\n",
    "* '1'을 넣으면 byte 범위에 있으므로 문제가 없다.\n",
    "* '128'은 범위 밖이므로 오류가 발생한다. 오류 메시지를 살펴 보면 'imcompitible types', 즉 타잎 불일치가 발생한다.\n",
    "* 정수 '128'을 byte로 타잎 변환하는 경우, 데이터 손실이 발생하고 값은 마이너스 127이 된다.\n",
    "    * int (32 bits)를 byte (8 bits)로 넣는 경우, 데이터가 손실될 수 있다.\n",
    "    * byte가 사용하는 8 bits 범위 -128~127를 초과하는 수 128을 사용하면 표현할 수 없다."
   ]
  },
  {
   "cell_type": "markdown",
   "metadata": {
    "slideshow": {
     "slide_type": "subslide"
    }
   },
   "source": [
    "byte는 원시타잎이다. 크기, 최대값, 최소값 등을 알려면 **객체 Byte**를 사용해야 한다. **원시타잎 byte**는 말 그대로 데이터만 가지고 있다.\n",
    "\n",
    "> 주의\n",
    "> **byte와 Byte**\n",
    ">\n",
    "> byte는 원시타잎, Byte는 wrapper class이다.\n",
    "> MAX_VALUE, SIZE 등은 원시타잎 byte로는 당연히 제공되지 않는다."
   ]
  },
  {
   "cell_type": "code",
   "execution_count": 10,
   "metadata": {
    "collapsed": false,
    "scrolled": true,
    "slideshow": {
     "slide_type": "-"
    }
   },
   "outputs": [
    {
     "name": "stdout",
     "output_type": "stream",
     "text": [
      " Byte.MAX_VALUE;\r\n",
      "|  Expression value is: 127\r\n",
      "|    assigned to temporary variable $17 of type byte\r\n",
      "\r\n",
      " Byte.MIN_VALUE;\r\n",
      "|  Expression value is: -128\r\n",
      "|    assigned to temporary variable $18 of type byte\r\n",
      "\r\n"
     ]
    }
   ],
   "source": [
    "Byte.MAX_VALUE;\n",
    "Byte.MIN_VALUE;"
   ]
  },
  {
   "cell_type": "markdown",
   "metadata": {
    "slideshow": {
     "slide_type": "subslide"
    }
   },
   "source": [
    "'%s'는 문자열로 변환하여 출력하는 경우 사용한다.\n",
    "toString()함수를 호출하여 그 결과를 출력한다.\n",
    "사용되는 기호는 아래와 같다.\n",
    "\n",
    "기호 | 설명\n",
    "-----|-----\n",
    "- | 왼쪽 정렬\n",
    "숫자 | 자릿수\n"
   ]
  },
  {
   "cell_type": "code",
   "execution_count": 2,
   "metadata": {
    "collapsed": false,
    "slideshow": {
     "slide_type": "-"
    }
   },
   "outputs": [
    {
     "name": "stdout",
     "output_type": "stream",
     "text": [
      " System.out.printf(\"size:%-2s min:%-20s max:%s\\n\",Byte.SIZE,Byte.MIN_VALUE,Byt \r",
      "e.MAX_VALUE);\r\n",
      "size:8  min:-128                 max:127\r\n",
      "|  Expression value is: java.io.PrintStream@59ec2012\r\n",
      "|    assigned to temporary variable $2 of type PrintStream\r\n",
      "\r\n"
     ]
    }
   ],
   "source": [
    "System.out.printf(\"size:%-2s min:%-20s max:%s\\n\",Byte.SIZE,Byte.MIN_VALUE,Byte.MAX_VALUE);"
   ]
  },
  {
   "cell_type": "code",
   "execution_count": 10,
   "metadata": {
    "collapsed": false,
    "slideshow": {
     "slide_type": "subslide"
    }
   },
   "outputs": [
    {
     "name": "stdout",
     "output_type": "stream",
     "text": [
      " byte b=1;\r\n",
      "|  Modified variable b of type byte with initial value 1\r\n",
      "|    Update overwrote variable b\r\n",
      "\r\n"
     ]
    }
   ],
   "source": [
    "byte b=1;"
   ]
  },
  {
   "cell_type": "code",
   "execution_count": 12,
   "metadata": {
    "collapsed": false,
    "scrolled": true,
    "slideshow": {
     "slide_type": "subslide"
    }
   },
   "outputs": [
    {
     "name": "stdout",
     "output_type": "stream",
     "text": [
      " byte b=128;\r\n",
      "|  Error:\r\n",
      "|  incompatible types: possible lossy conversion from int to byte\r\n",
      "|  byte b=128;\r\n",
      "|         ^-^\r\n",
      "|    Update overwrote variable b\r\n",
      "\r\n"
     ]
    }
   ],
   "source": [
    "byte b=128;"
   ]
  },
  {
   "cell_type": "markdown",
   "metadata": {
    "collapsed": true,
    "slideshow": {
     "slide_type": "subslide"
    }
   },
   "source": [
    "* 형변환을 괄호 안에 적어서 **강제변환** 해준다. 그래도 결과는 역시 범위를 초과하기 때문에 '128'은 byte에 넣을 수 없다."
   ]
  },
  {
   "cell_type": "code",
   "execution_count": 9,
   "metadata": {
    "collapsed": false
   },
   "outputs": [
    {
     "name": "stdout",
     "output_type": "stream",
     "text": [
      " byte b;\r\n",
      "|  Added variable b of type byte\r\n",
      "\r\n",
      " b=(byte)128;\r\n",
      "|  Variable b has been assigned the value -128\r\n",
      "\r\n"
     ]
    }
   ],
   "source": [
    "byte b;\n",
    "b=(byte)128;"
   ]
  },
  {
   "cell_type": "code",
   "execution_count": 2,
   "metadata": {
    "collapsed": false,
    "scrolled": true
   },
   "outputs": [
    {
     "name": "stdout",
     "output_type": "stream",
     "text": [
      " byte y;\r\n",
      "|  Added variable y of type byte\r\n",
      "\r\n",
      " y=x;\r\n",
      "|  Error:\r\n",
      "|  cannot find symbol\r\n",
      "|    symbol:   variable x\r\n",
      "|  y=x;\r\n",
      "|    ^\r\n",
      "\r\n"
     ]
    }
   ],
   "source": [
    "byte y;\n",
    "y=x;"
   ]
  },
  {
   "cell_type": "code",
   "execution_count": 3,
   "metadata": {
    "collapsed": false,
    "slideshow": {
     "slide_type": "subslide"
    }
   },
   "outputs": [
    {
     "name": "stdout",
     "output_type": "stream",
     "text": [
      " y=(byte)x;\r\n",
      "|  Variable y has been assigned the value 1\r\n",
      "\r\n"
     ]
    }
   ],
   "source": [
    "y=(byte)x;"
   ]
  },
  {
   "cell_type": "code",
   "execution_count": 4,
   "metadata": {
    "collapsed": false
   },
   "outputs": [
    {
     "name": "stdout",
     "output_type": "stream",
     "text": [
      " System.out.println(y);\r\n",
      "1\r\n",
      "\r\n"
     ]
    }
   ],
   "source": [
    "System.out.println(y);"
   ]
  },
  {
   "cell_type": "markdown",
   "metadata": {
    "slideshow": {
     "slide_type": "subslide"
    }
   },
   "source": [
    "### 배열을 이용한 선언의 예\n",
    "\n",
    "* 배열은 복수 값을 가지고 있으므로, 배열변수는 원시타잎의 배열 또는 참조배열을 가질 수 있다.\n",
    "* 배열에 원시타잎을 저장할 수 있다."
   ]
  },
  {
   "cell_type": "code",
   "execution_count": 8,
   "metadata": {
    "collapsed": false
   },
   "outputs": [
    {
     "name": "stdout",
     "output_type": "stream",
     "text": [
      " int[] a=new int[2];\r\n",
      "|  Added variable a of type int[] with initial value [I@6500df86\r\n",
      "\r\n",
      " a[0]=1;\r\n",
      "|  Expression value is: 1\r\n",
      "|    assigned to temporary variable $3 of type int\r\n",
      "\r\n",
      " a[1]=2;\r\n",
      "|  Expression value is: 2\r\n",
      "|    assigned to temporary variable $4 of type int\r\n",
      "\r\n"
     ]
    }
   ],
   "source": [
    "int[] a=new int[2];\n",
    "a[0]=1;\n",
    "a[1]=2;"
   ]
  },
  {
   "cell_type": "markdown",
   "metadata": {
    "slideshow": {
     "slide_type": "subslide"
    }
   },
   "source": [
    "int로 선언했기 때문에, 소수를 저장하면 '타잎불일치' 오류가 발생한다.\n",
    "또한 선언한 크기를 넘어서면 **ArrayIndexOutOfBoundsException**가 발생한다."
   ]
  },
  {
   "cell_type": "code",
   "execution_count": 10,
   "metadata": {
    "collapsed": false,
    "scrolled": true
   },
   "outputs": [
    {
     "name": "stdout",
     "output_type": "stream",
     "text": [
      " a[1]=1.1;\r\n",
      "|  Error:\r\n",
      "|  incompatible types: possible lossy conversion from double to int\r\n",
      "|  a[1]=1.1;\r\n",
      "|       ^-^\r\n",
      "\r\n"
     ]
    }
   ],
   "source": [
    "a[1]=1.1;"
   ]
  },
  {
   "cell_type": "code",
   "execution_count": 9,
   "metadata": {
    "collapsed": false
   },
   "outputs": [
    {
     "name": "stdout",
     "output_type": "stream",
     "text": [
      " a[2]=1;\r\n",
      "|  java.lang.ArrayIndexOutOfBoundsException thrown: 2\r\n",
      "|        at (#13:1)\r\n",
      "\r\n"
     ]
    }
   ],
   "source": [
    "a[2]=1;"
   ]
  },
  {
   "cell_type": "markdown",
   "metadata": {
    "slideshow": {
     "slide_type": "subslide"
    }
   },
   "source": [
    "### 출력\n",
    "\n",
    "변수 값을 출력해 보자. 이런 정수를 나누면 소수 값이다. 그 연산 결과를 변환해서 출력해 보자. "
   ]
  },
  {
   "cell_type": "code",
   "execution_count": 10,
   "metadata": {
    "collapsed": false
   },
   "outputs": [
    {
     "name": "stdout",
     "output_type": "stream",
     "text": [
      " System.out.println((double)1 / 2);\r\n",
      "0.5\r\n",
      "\r\n"
     ]
    }
   ],
   "source": [
    "System.out.println((double)1 / 2);"
   ]
  },
  {
   "cell_type": "code",
   "execution_count": 11,
   "metadata": {
    "collapsed": false
   },
   "outputs": [
    {
     "name": "stdout",
     "output_type": "stream",
     "text": [
      " System.out.println((int)1 / 2);\r\n",
      "0\r\n",
      "\r\n"
     ]
    }
   ],
   "source": [
    "System.out.println((int)1 / 2);"
   ]
  },
  {
   "cell_type": "markdown",
   "metadata": {
    "slideshow": {
     "slide_type": "slide"
    }
   },
   "source": [
    "## 문제 3-1: 온도 변환, 섭씨, 화씨와 변환식에 사용되는 데이터타잎을 올바르게 사용하기.\n",
    "\n",
    "간단한 연산문제라 하더라도, 데이터타잎을 올바르게 설계하지 않으면 오류가 발생한다.\n",
    "이는 데이터타잎을 엄격하게 지키는 언어의 특성, 메모리를 효율적으로 쓰려고 하는 이유이다.\n",
    "버전 3에서 올바르게 문제를 풀었다."
   ]
  },
  {
   "cell_type": "markdown",
   "metadata": {
    "slideshow": {
     "slide_type": "subslide"
    }
   },
   "source": [
    "### 버전 1\n",
    "\n",
    "아래 화씨 'fahrenheit' 23도를 섭씨 'celsius'로 변환하면 **0.00으로 출력**된다. 무엇이 잘못일까 찾아보자.\n",
    "\n",
    "구분 | 설명\n",
    "-----|-----\n",
    "화씨 fahrenheit를 int로 선언 | 온도는 소수이기 때문에 **잘못된** 설계\n",
    "섭씨 celsius를 double로 선언 | 정밀한 결과가 필요없기 때문에 **잘못된** 설계\n",
    "출력 | 정수는 소수로 출력하지 않는다."
   ]
  },
  {
   "cell_type": "code",
   "execution_count": 17,
   "metadata": {
    "collapsed": false,
    "scrolled": true
   },
   "outputs": [
    {
     "name": "stdout",
     "output_type": "stream",
     "text": [
      " int fahrenheit = 23;\r\n",
      "|  Modified variable fahrenheit of type int with initial value 23\r\n",
      "|    Update overwrote variable fahrenheit\r\n",
      "\r\n",
      " double celsius = (5 / 9) * (fahrenheit - 32);\r\n",
      "|  Modified variable celsius of type double with initial value 0.0\r\n",
      "|    Update overwrote variable celsius\r\n",
      "\r\n",
      " System.out.printf(\"Fahrenheit %d is %.2f in Celsius\", fahrenheit, celsius);\r\n",
      "Fahrenheit 23 is 0.00 in Celsius|  Expression value is: java.io.PrintStream@490ab905\r\n",
      "|    assigned to temporary variable $47 of type PrintStream\r\n",
      "\r\n"
     ]
    }
   ],
   "source": [
    "int fahrenheit = 23;\n",
    "double celsius = (5 / 9) * (fahrenheit - 32);\n",
    "System.out.printf(\"Fahrenheit %d is %.2f in Celsius\", fahrenheit, celsius);"
   ]
  },
  {
   "cell_type": "markdown",
   "metadata": {
    "slideshow": {
     "slide_type": "subslide"
    }
   },
   "source": [
    "### 버전 2\n",
    "\n",
    "* 버전1의 문제를 수정하였다.\n",
    "    * fahrenheit, celsius를 float로 선언\n",
    "    * float를 float로 출력, 소수점 자리 수를 1자리로 출력\n",
    "\n",
    "* 그래도 결과는 **-0.0**이다. 무엇이 문제일까 찾아보자."
   ]
  },
  {
   "cell_type": "code",
   "execution_count": 18,
   "metadata": {
    "collapsed": false,
    "scrolled": true
   },
   "outputs": [
    {
     "name": "stdout",
     "output_type": "stream",
     "text": [
      " float fahrenheit = 23;\r\n",
      "|  Replaced variable fahrenheit of type float with initial value 23.0\r\n",
      "|    Update overwrote variable fahrenheit\r\n",
      "\r\n",
      " float celsius = ( 5 / 9) * (fahrenheit - 32);\r\n",
      "|  Replaced variable celsius of type float with initial value -0.0\r\n",
      "|    Update overwrote variable celsius\r\n",
      "\r\n",
      " System.out.printf(\"Fahrenheit %.1f is %.1f in Celsius\", fahrenheit, celsius); \r",
      "\r\n",
      "Fahrenheit 23.0 is -0.0 in Celsius|  Expression value is: java.io.PrintStream@490ab905\r\n",
      "|    assigned to temporary variable $50 of type PrintStream\r\n",
      "\r\n"
     ]
    }
   ],
   "source": [
    "float fahrenheit = 23;\n",
    "float celsius = ( 5 / 9) * (fahrenheit - 32);\n",
    "System.out.printf(\"Fahrenheit %.1f is %.1f in Celsius\", fahrenheit, celsius);"
   ]
  },
  {
   "cell_type": "markdown",
   "metadata": {
    "collapsed": true,
    "slideshow": {
     "slide_type": "subslide"
    }
   },
   "source": [
    "문제는 정수의 연산 결과는 정수라는 점이다. 아래 5/9는 0이다."
   ]
  },
  {
   "cell_type": "code",
   "execution_count": 1,
   "metadata": {
    "collapsed": false
   },
   "outputs": [
    {
     "name": "stdout",
     "output_type": "stream",
     "text": [
      " 5/9\r\n",
      "|  Expression value is: 0\r\n",
      "|    assigned to temporary variable $1 of type int\r\n",
      "\r\n"
     ]
    }
   ],
   "source": [
    "5/9"
   ]
  },
  {
   "cell_type": "code",
   "execution_count": 2,
   "metadata": {
    "collapsed": false
   },
   "outputs": [
    {
     "name": "stdout",
     "output_type": "stream",
     "text": [
      " (float)5/9\r\n",
      "|  Expression value is: 0.5555556\r\n",
      "|    assigned to temporary variable $2 of type float\r\n",
      "\r\n"
     ]
    }
   ],
   "source": [
    "(float)5/9"
   ]
  },
  {
   "cell_type": "markdown",
   "metadata": {
    "slideshow": {
     "slide_type": "subslide"
    }
   },
   "source": [
    "5를 5.0으로 하면, **double**이 된다.\n",
    "소수를 float로 하면 정밀도를 잃어버릴 위험이 있기 때문에 **default를 double**로 한다.\n",
    "소수점 이하 자리수를 세어보자. **16자리**라는 점을 기억하자."
   ]
  },
  {
   "cell_type": "code",
   "execution_count": 23,
   "metadata": {
    "collapsed": false
   },
   "outputs": [
    {
     "name": "stdout",
     "output_type": "stream",
     "text": [
      " 5.0/9\r\n",
      "|  Expression value is: 0.5555555555555556\r\n",
      "|    assigned to temporary variable $1 of type double\r\n",
      "\r\n"
     ]
    }
   ],
   "source": [
    "5.0/9"
   ]
  },
  {
   "cell_type": "markdown",
   "metadata": {
    "slideshow": {
     "slide_type": "subslide"
    }
   },
   "source": [
    "double, float, int를 출력해 보자.\n",
    "\n",
    "구분 | 설명\n",
    "-----|-----\n",
    "System.out.print() | 출력으로 줄 바꿈이 없다.\n",
    "System.out.println() | print + line 추가. 서식을 넣어 사용하면 당연히 오류이다.\n",
    "System.out.printf() | 서식에 맞추어 출력.\n",
    "\n",
    "수를 출력하면서 데이터 타잎에 주의한다.\n",
    "* \"%d\", 12.3는 **정수**로 형변환을 해서 출력을 하므로 12. 단 소수에서 정수로 출력하는 경우 **다운캐스팅**이라서 오류가 난다. 분명하게 캐스팅을 해야 한다. 그 결과 소수점 이하를 잃게 된다.\n",
    "* \"%s\", 12.3는 **문자열**로 형변환을 해서 출력하므로 숫자가 아닌 문자열 12.3.\n",
    "* \"%.2f\", 12.3는 **소수점 2자리**로 출력을 하므로 12.30."
   ]
  },
  {
   "cell_type": "code",
   "execution_count": 1,
   "metadata": {
    "collapsed": false
   },
   "outputs": [
    {
     "name": "stdout",
     "output_type": "stream",
     "text": [
      " System.out.printf(\"첫 번째 %d 두 번째 %s 세 번째 %.2f\", (int)12.3,12.3,12.3);\r\n",
      "첫 번째 12 두 번째 12.3 세 번째 12.30|  Expression value is: java.io.PrintStream@7085bdee\r\n",
      "|    assigned to temporary variable $1 of type PrintStream\r\n",
      "\r\n"
     ]
    }
   ],
   "source": [
    "System.out.printf(\"첫 번째 %d 두 번째 %s 세 번째 %.2f\", (int)12.3,12.3,12.3);"
   ]
  },
  {
   "cell_type": "code",
   "execution_count": 31,
   "metadata": {
    "collapsed": false,
    "slideshow": {
     "slide_type": "subslide"
    }
   },
   "outputs": [
    {
     "name": "stdout",
     "output_type": "stream",
     "text": [
      " System.out.println(\"%.1f\",5.0/9);\r\n",
      "|  Error:\r\n",
      "|  no suitable method found for println(java.lang.String,double)\r\n",
      "|      method java.io.PrintStream.println() is not applicable\r\n",
      "|        (actual and formal argument lists differ in length)\r\n",
      "|      method java.io.PrintStream.println(boolean) is not applicable\r\n",
      "|        (actual and formal argument lists differ in length)\r\n",
      "|      method java.io.PrintStream.println(char) is not applicable\r\n",
      "|        (actual and formal argument lists differ in length)\r\n",
      "|      method java.io.PrintStream.println(int) is not applicable\r\n",
      "|        (actual and formal argument lists differ in length)\r\n",
      "|      method java.io.PrintStream.println(long) is not applicable\r\n",
      "|        (actual and formal argument lists differ in length)\r\n",
      "|      method java.io.PrintStream.println(float) is not applicable\r\n",
      "|        (actual and formal argument lists differ in length)\r\n",
      "|      method java.io.PrintStream.println(double) is not applicable\r\n",
      "|        (actual and formal argument lists differ in length)\r\n",
      "|      method java.io.PrintStream.println(char[]) is not applicable\r\n",
      "|        (actual and formal argument lists differ in length)\r\n",
      "|      method java.io.PrintStream.println(java.lang.String) is not applicable\r\n",
      "|        (actual and formal argument lists differ in length)\r\n",
      "|      method java.io.PrintStream.println(java.lang.Object) is not applicable\r\n",
      "|        (actual and formal argument lists differ in length)\r\n",
      "|  System.out.println(\"Exception in thread \"main\" java.util.MissingFormatArgumentException: Format specifier '%.1f'\r\n",
      "\tat java.util.Formatter.format(java.base@9-internal/Formatter.java:2524)\r\n",
      "\tat java.io.PrintStream.format(java.base@9-internal/PrintStream.java:974)\r\n",
      "\tat java.io.PrintStream.printf(java.base@9-internal/PrintStream.java:873)\r\n",
      "\tat jdk.internal.jshell.tool.JShellTool.rawout(jdk.jshell@9-internal/JShellTool.java:230)\r\n",
      "\tat jdk.internal.jshell.tool.JShellTool.hard(jdk.jshell@9-internal/JShellTool.java:240)\r\n",
      "\tat jdk.internal.jshell.tool.JShellTool.lambda$handleEvent$70(jdk.jshell@9-internal/JShellTool.java:1832)\r\n",
      "\tat java.util.ArrayList$ArrayListSpliterator.forEachRemaining(java.base@9-internal/ArrayList.java:1477)\r\n",
      "\tat java.util.stream.ReferencePipeline$Head.forEach(java.base@9-internal/ReferencePipeline.java:591)\r\n",
      "\tat jdk.internal.jshell.tool.JShellTool.handleEvent(jdk.jshell@9-internal/JShellTool.java:1832)\r\n",
      "\tat jdk.internal.jshell.tool.JShellTool.processCompleteSource(jdk.jshell@9-internal/JShellTool.java:1799)\r\n",
      "\tat jdk.internal.jshell.tool.JShellTool.processSource(jdk.jshell@9-internal/JShellTool.java:1784)\r\n",
      "\tat jdk.internal.jshell.tool.JShellTool.processSourceCatchingReset(jdk.jshell@9-internal/JShellTool.java:686)\r\n",
      "\tat jdk.internal.jshell.tool.JShellTool.run(jdk.jshell@9-internal/JShellTool.java:666)\r\n",
      "\tat jdk.internal.jshell.tool.JShellTool.start(jdk.jshell@9-internal/JShellTool.java:473)\r\n",
      "\tat jdk.internal.jshell.tool.JShellTool.start(jdk.jshell@9-internal/JShellTool.java:447)\r\n",
      "\tat jdk.internal.jshell.tool.JShellTool.main(jdk.jshell@9-internal/JShellTool.java:437)\r\n",
      "Restarting java"
     ]
    }
   ],
   "source": [
    "System.out.println(\"%.1f\",5.0/9);"
   ]
  },
  {
   "cell_type": "markdown",
   "metadata": {
    "slideshow": {
     "slide_type": "subslide"
    }
   },
   "source": [
    "double을 출력하려면 미리 **출력형식, Double.toString()**을 만들어서 출력한다.\n",
    "그냥 \"%f\"로 출력하면 **float출력**이고, 소수점 6자리로 줄여서 출력하게 된다."
   ]
  },
  {
   "cell_type": "code",
   "execution_count": 6,
   "metadata": {
    "collapsed": false,
    "scrolled": true
   },
   "outputs": [
    {
     "name": "stdout",
     "output_type": "stream",
     "text": [
      " System.out.println(\"double : \" + Double.toString(5.0/9));\r\n",
      "double : 0.5555555555555556\r\n",
      "\r\n"
     ]
    }
   ],
   "source": [
    "System.out.println(\"double : \" + Double.toString(5.0/9));"
   ]
  },
  {
   "cell_type": "code",
   "execution_count": 7,
   "metadata": {
    "collapsed": false
   },
   "outputs": [
    {
     "name": "stdout",
     "output_type": "stream",
     "text": [
      " System.out.printf(\"%f\",5.0/9);\r\n",
      "0.555556|  Expression value is: java.io.PrintStream@73ad2d6\r\n",
      "|    assigned to temporary variable $6 of type PrintStream\r\n",
      "\r\n"
     ]
    }
   ],
   "source": [
    "System.out.printf(\"%f\",5.0/9);"
   ]
  },
  {
   "cell_type": "markdown",
   "metadata": {
    "slideshow": {
     "slide_type": "subslide"
    }
   },
   "source": [
    "### 버전 3\n",
    "\n",
    "fahrenheit, celsius를 쓰임새에 맞추어 float로 선언한다.\n",
    "5/9 정수연산의 결과를 정수'0'이 아닌 소수 '0.5555556'이 되도록 한다.\n",
    "출력은 float에 맞게 한다."
   ]
  },
  {
   "cell_type": "code",
   "execution_count": 20,
   "metadata": {
    "collapsed": false,
    "scrolled": true
   },
   "outputs": [
    {
     "name": "stdout",
     "output_type": "stream",
     "text": [
      " float fahrenheit = 23;\r\n",
      "|  Modified variable fahrenheit of type float with initial value 23.0\r\n",
      "|    Update overwrote variable fahrenheit\r\n",
      "\r\n",
      " float celsius = ((float)5 / 9) * (fahrenheit - 32);\r\n",
      "|  Modified variable celsius of type float with initial value -5.0\r\n",
      "|    Update overwrote variable celsius\r\n",
      "\r\n",
      " System.out.printf(\"Fahrenheit %.1f is %.1f in Celsius\", fahrenheit, celsius); \r",
      "\r\n",
      "Fahrenheit 23.0 is -5.0 in Celsius|  Expression value is: java.io.PrintStream@490ab905\r\n",
      "|    assigned to temporary variable $56 of type PrintStream\r\n",
      "\r\n"
     ]
    }
   ],
   "source": [
    "float fahrenheit = 23;\n",
    "float celsius = ((float)5 / 9) * (fahrenheit - 32);\n",
    "System.out.printf(\"Fahrenheit %.1f is %.1f in Celsius\", fahrenheit, celsius);"
   ]
  },
  {
   "cell_type": "markdown",
   "metadata": {
    "slideshow": {
     "slide_type": "slide"
    }
   },
   "source": [
    "## 문제 3-2: 사용자에게 입력 값을 받아서 더하기\n",
    "\n",
    "java.util.Scanner는 외부 System.in에서 입력을 받는다.\n",
    "\n",
    "```java\n",
    "Scanner sc=new Scanner(System.in);\n",
    "```\n",
    "\n",
    "여기서는 문자열에서 입력받아서 연산을 해보자.\n",
    "\n",
    "```java\n",
    "String input = \"1 2\";\n",
    "Scanner sc = new Scanner(input);\n",
    "```\n"
   ]
  },
  {
   "cell_type": "code",
   "execution_count": 49,
   "metadata": {
    "collapsed": false
   },
   "outputs": [
    {
     "name": "stdout",
     "output_type": "stream",
     "text": [
      " String input = \"1 2\";\r\n",
      "|  Modified variable input of type String with initial value \"1 2\"\r\n",
      "|    Update overwrote variable input\r\n",
      "\r\n",
      " Scanner sc = new Scanner(input);\r\n",
      "|  Modified variable sc of type Scanner with initial value java.util.Scanner[delimiters=\\p{javaWhitespace}+][position=0][match valid=false][need input=false][source closed=false][skipped=false][group separator=\\,][decimal separator=\\.][positive prefix=][negative prefix=\\Q-\\E][positive suffix=][negative suffix=][NaN string=\\QNaN\\E][infinity string=\\Q∞\\E]\r\n",
      "|    Update overwrote variable sc\r\n",
      "\r\n"
     ]
    }
   ],
   "source": [
    "String input = \"1 2\";\n",
    "Scanner sc = new Scanner(input);"
   ]
  },
  {
   "cell_type": "markdown",
   "metadata": {
    "slideshow": {
     "slide_type": "subslide"
    }
   },
   "source": [
    "java.util.Scanner는 문자열을 입력하면, 구분자, delimiter로 구분하여 원시타잎 또는 문자열로 변환할 수 있다.\n",
    "기본 구분자는 보통 공백이다.\n",
    "\n",
    "```java\n",
    "public String next()        다음 입력을 받음\n",
    "public String nextLine()    다음 라인을 입력 받음\n",
    "public byte nextByte()      다음 입력을 byte로 받음\n",
    "public short nextShort()    다음 입력을 short로 받음\n",
    "public int nextInt()        다음 입력을 int로 받음\n",
    "public long nextLong()      다음 입력을 long로 받음\n",
    "public float nextFloat()    다음 입력을 float로 받음\n",
    "public double nextDouble()  다음 입력을 double로 받음\n",
    "```"
   ]
  },
  {
   "cell_type": "markdown",
   "metadata": {
    "slideshow": {
     "slide_type": "subslide"
    }
   },
   "source": [
    "### 버전 1\n",
    "\n",
    "sc에서 구분자 공백을 사용하여 문자를 하나씩 추출해서 연산해보자.\n",
    "\n",
    "주의: 입력으로부터 읽을 경우 **cursor라고 하는 화살표**가 있다고 생각하자. 읽고 나면 화살표가 다음으로 이동하고, 다시 되돌아가지는 않는다."
   ]
  },
  {
   "cell_type": "code",
   "execution_count": 50,
   "metadata": {
    "collapsed": false
   },
   "outputs": [
    {
     "name": "stdout",
     "output_type": "stream",
     "text": [
      " String s1=sc.next();\r\n",
      "|  Modified variable s1 of type String with initial value \"1\"\r\n",
      "|    Update overwrote variable s1\r\n",
      "\r\n",
      " String s2=sc.next();\r\n",
      "|  Modified variable s2 of type String with initial value \"2\"\r\n",
      "|    Update overwrote variable s2\r\n",
      "\r\n"
     ]
    }
   ],
   "source": [
    "String s1=sc.next();\n",
    "String s2=sc.next();"
   ]
  },
  {
   "cell_type": "code",
   "execution_count": 51,
   "metadata": {
    "collapsed": false
   },
   "outputs": [
    {
     "name": "stdout",
     "output_type": "stream",
     "text": [
      " int v1=Integer.parseInt(s1);\r\n",
      "|  Added variable v1 of type int with initial value 1\r\n",
      "\r\n",
      " int v2=Integer.parseInt(s2);\r\n",
      "|  Added variable v2 of type int with initial value 2\r\n",
      "\r\n"
     ]
    }
   ],
   "source": [
    "int v1=Integer.parseInt(s1);\n",
    "int v2=Integer.parseInt(s2);"
   ]
  },
  {
   "cell_type": "code",
   "execution_count": 52,
   "metadata": {
    "collapsed": false
   },
   "outputs": [
    {
     "name": "stdout",
     "output_type": "stream",
     "text": [
      " System.out.println(v1+v2);\r\n",
      "3\r\n",
      "\r\n"
     ]
    }
   ],
   "source": [
    "System.out.println(v1+v2);"
   ]
  },
  {
   "cell_type": "markdown",
   "metadata": {
    "slideshow": {
     "slide_type": "subslide"
    }
   },
   "source": [
    "### 버전 2\n",
    "\n",
    "입력이 정수인 것을 아는 경우, **nextInt() 함수**를 사용해서 바로 정수로 변환, 연산할 수 있다."
   ]
  },
  {
   "cell_type": "code",
   "execution_count": 54,
   "metadata": {
    "collapsed": false
   },
   "outputs": [
    {
     "name": "stdout",
     "output_type": "stream",
     "text": [
      " String input = \"1 2\";\r\n",
      "|  Modified variable input of type String with initial value \"1 2\"\r\n",
      "|    Update overwrote variable input\r\n",
      "\r\n",
      " Scanner sc = new Scanner(input);\r\n",
      "|  Modified variable sc of type Scanner with initial value java.util.Scanner[delimiters=\\p{javaWhitespace}+][position=0][match valid=false][need input=false][source closed=false][skipped=false][group separator=\\,][decimal separator=\\.][positive prefix=][negative prefix=\\Q-\\E][positive suffix=][negative suffix=][NaN string=\\QNaN\\E][infinity string=\\Q∞\\E]\r\n",
      "|    Update overwrote variable sc\r\n",
      "\r\n",
      " int i1=sc.nextInt();\r\n",
      "|  Added variable i1 of type int with initial value 1\r\n",
      "\r\n",
      " int i2=sc.nextInt();\r\n",
      "|  Added variable i2 of type int with initial value 2\r\n",
      "\r\n",
      " System.out.println(i1+i2);\r\n",
      "3\r\n",
      "\r\n"
     ]
    }
   ],
   "source": [
    "String input = \"1 2\";\n",
    "Scanner sc = new Scanner(input);\n",
    "int i1=sc.nextInt();\n",
    "int i2=sc.nextInt();\n",
    "System.out.println(i1+i2);"
   ]
  },
  {
   "cell_type": "markdown",
   "metadata": {
    "slideshow": {
     "slide_type": "subslide"
    }
   },
   "source": [
    "### 버전 3\n",
    "\n",
    "소수를 연산해 보자. nextFloat()를 사용하고 출력도 printf()를 사용한다."
   ]
  },
  {
   "cell_type": "code",
   "execution_count": 55,
   "metadata": {
    "collapsed": false,
    "scrolled": true
   },
   "outputs": [
    {
     "name": "stdout",
     "output_type": "stream",
     "text": [
      " String input = \"1.1 2.2\";\r\n",
      "|  Modified variable input of type String with initial value \"1.1 2.2\"\r\n",
      "|    Update overwrote variable input\r\n",
      "\r\n",
      " Scanner sc = new Scanner(input);\r\n",
      "|  Modified variable sc of type Scanner with initial value java.util.Scanner[delimiters=\\p{javaWhitespace}+][position=0][match valid=false][need input=false][source closed=false][skipped=false][group separator=\\,][decimal separator=\\.][positive prefix=][negative prefix=\\Q-\\E][positive suffix=][negative suffix=][NaN string=\\QNaN\\E][infinity string=\\Q∞\\E]\r\n",
      "|    Update overwrote variable sc\r\n",
      "\r\n",
      " float f1=sc.nextFloat();\r\n",
      "|  Added variable f1 of type float with initial value 1.1\r\n",
      "\r\n",
      " float f2=sc.nextFloat();\r\n",
      "|  Added variable f2 of type float with initial value 2.2\r\n",
      "\r\n",
      " System.out.printf(\"합계: %.1f\",f1+f2);\r\n",
      "합계: 3.3|  Expression value is: java.io.PrintStream@3701eaf6\r\n",
      "|    assigned to temporary variable $65 of type PrintStream\r\n",
      "\r\n"
     ]
    }
   ],
   "source": [
    "String input = \"1.1 2.2\";\n",
    "Scanner sc = new Scanner(input);\n",
    "float f1=sc.nextFloat();\n",
    "float f2=sc.nextFloat();\n",
    "System.out.printf(\"합계: %.1f\",f1+f2);"
   ]
  },
  {
   "cell_type": "markdown",
   "metadata": {
    "slideshow": {
     "slide_type": "slide"
    }
   },
   "source": [
    "## 문제 3-3: 사용자에게 화씨온도를 입력받아 섭씨로 변환하기\n",
    "\n",
    "앞서 3-1, 3-2를 합쳐서 사용자 입력을 받아 온도변환을 해보자.\n",
    "\n",
    "```java\n",
    "javac -d classes/ -sourcepath src/ src/j_3_3_f2c.java\n",
    "java -cp classes/ j_3_3_f2c\n",
    "```"
   ]
  },
  {
   "cell_type": "code",
   "execution_count": null,
   "metadata": {
    "collapsed": true
   },
   "outputs": [],
   "source": [
    "# %load src/j_3_3_f2c.java\n",
    "import java.util.Scanner;\n",
    "\n",
    "public class j_3_3_f2c {\n",
    "    static void f2c(float f) {\n",
    "        float fahrenheit = f;\n",
    "        float celsius = ((float)5 / 9) * (fahrenheit - 32);\n",
    "        System.out.printf(\"Fahrenheit %.1f is %.1f in Celsius\", fahrenheit, celsius);\n",
    "    }\n",
    "    public static void main(String[] args) {\n",
    "        System.out.println(\"Enter Fahrenheit: \");\n",
    "        Scanner sc = new Scanner(System.in);\n",
    "        float f=sc.nextFloat();\n",
    "        f2c(f);\n",
    "    }\n",
    "}\n",
    "\n"
   ]
  },
  {
   "cell_type": "markdown",
   "metadata": {
    "slideshow": {
     "slide_type": "slide"
    }
   },
   "source": [
    "## 3.4 참조 타잎\n",
    "\n",
    "### Wrapper Class로 선언\n",
    "\n",
    "모든 원시타잎에 대응되는 클래스가 제공되고 있다. 대응되기 때문에 **병렬타잎, parallel type**이라고 한다.\n",
    "원시타잎을 감싸서 만든 클래스라는 의미로 **wrapper class**라고 대응된다.\n",
    "* 단 객체로 wrapping하였기 때문에 메모리를 더 차지한다. 예를 들어 int는 4바이트, Integer는 16바이트.\n",
    "* 위 표에서 보듯이 'char'는 'Character'가 제공되고 있지만, 'String' 클래스는 원시타잎이 없다. **'문자열'은 문자의 배열이라 'char[]'**를 사용하는 것이 오히려 상식적이다. 그러나 **크기를 알 수 없기 때문에 선언을 할 수 없다**는 점을 명심하자. 따라서 'String'을 사용한다.\n",
    "이름을 보자. 이름은 문자이다. 문자 하나로는 이름이 될 수 없으므로, 문자열이 필요하다. 한글은 보통 3글자이지만, 그 이상도 될 수 있다. String은 이런 이름과 같이 **크기가 클 수도 적을 수도 있지만, 정해지면 변경하지 않는 경우**에 사용할 수 있는 데이터 타잎이다.\n",
    "* 예를 들어, int는 4 바이트를 사용하고, 이 전체를 읽어서 값을 사용한다.\n",
    "* 그러나 객체는 메모리 크기를 정하기 어렵다. 따라서 참조를 사용해야 한다.\n",
    "* 참조란 **객체가 저장되어 있는 메모리의 일정 부분**을 가리키고 있다. 따라서 원시타잎과 같이 크기가 정해지지 않은, **객체** 또는 크기가 큰 **배열과 같은 데이터구조**는 참조로 전체를 사용하게 된다."
   ]
  },
  {
   "cell_type": "markdown",
   "metadata": {
    "slideshow": {
     "slide_type": "subslide"
    }
   },
   "source": [
    "**클래스 다이어그램**은 클래스 관계를 그림으로 표현한다.\n",
    "\n",
    "아래는 Wrapper class의 관계를 표현하고 있다.\n",
    "그림은 글로 설명하는 것보다 더 쉽게 객체지향을 표현할 수 있다.\n",
    "상속관계를 표현하고 있다.\n",
    "상속은 뒤에 배우기로 한다. 이쯤에서는 가족관계도 쯤으로 이해하자.\n",
    "즉, **Number는 Character, Boolean과 다른 가족**이고\n",
    "Number는 여러 자식클래스를 가지고 있다."
   ]
  },
  {
   "cell_type": "code",
   "execution_count": 1,
   "metadata": {
    "collapsed": false,
    "slideshow": {
     "slide_type": "subslide"
    }
   },
   "outputs": [],
   "source": [
    "import iplantuml"
   ]
  },
  {
   "cell_type": "code",
   "execution_count": 2,
   "metadata": {
    "collapsed": false
   },
   "outputs": [
    {
     "data": {
      "image/svg+xml": [
       "<svg height=\"281px\" style=\"width:571px;height:281px;\" version=\"1.1\" viewBox=\"0 0 571 281\" width=\"571px\" xmlns=\"http://www.w3.org/2000/svg\" xmlns:xlink=\"http://www.w3.org/1999/xlink\"><defs><filter height=\"300%\" id=\"f1\" width=\"300%\" x=\"-1\" y=\"-1\"><feGaussianBlur result=\"blurOut\" stdDeviation=\"2.0\"/><feColorMatrix in=\"blurOut\" result=\"blurOut2\" type=\"matrix\" values=\"0 0 0 0 0 0 0 0 0 0 0 0 0 0 0 0 0 0 .4 0\"/><feOffset dx=\"4.0\" dy=\"4.0\" in=\"blurOut2\" result=\"blurOut3\"/><feBlend in=\"SourceGraphic\" in2=\"blurOut3\" mode=\"normal\"/></filter></defs><g><rect fill=\"#FEFECE\" filter=\"url(#f1)\" height=\"48\" style=\"stroke: #A80036; stroke-width: 1.5;\" width=\"70\" x=\"368\" y=\"8\"/><ellipse cx=\"383\" cy=\"24\" fill=\"#ADD1B2\" rx=\"11\" ry=\"11\" style=\"stroke: #A80036; stroke-width: 1.0;\"/><path d=\"M383.0938,30.3125 Q380.2344,30.3125 378.6719,28.625 Q377.1094,26.9375 377.1094,23.8594 Q377.1094,20.7969 378.7031,19.1016 Q380.2969,17.4063 383.1875,17.4063 Q385.8281,17.4063 387.9688,17.9531 L387.9688,19.8906 Q384.5313,18.7031 383.1563,18.7031 Q382.1563,18.7031 381.0625,20.0625 Q379.9688,21.4219 379.9688,23.875 Q379.9688,26.2344 381.1406,27.5938 Q382.3125,28.9531 383.3281,28.9531 Q385.0781,28.9531 387.9531,27.4531 L387.9531,29.375 Q386.25,30.3125 383.0938,30.3125 Z \"/><text fill=\"#000000\" font-family=\"sans-serif\" font-size=\"12\" lengthAdjust=\"spacingAndGlyphs\" textLength=\"38\" x=\"397\" y=\"28.4209\">Object</text><line style=\"stroke: #A80036; stroke-width: 1.5;\" x1=\"369\" x2=\"437\" y1=\"40\" y2=\"40\"/><line style=\"stroke: #A80036; stroke-width: 1.5;\" x1=\"369\" x2=\"437\" y1=\"48\" y2=\"48\"/><rect fill=\"#FEFECE\" filter=\"url(#f1)\" height=\"48\" style=\"stroke: #A80036; stroke-width: 1.5;\" width=\"79\" x=\"245.5\" y=\"116\"/><ellipse cx=\"260.5\" cy=\"132\" fill=\"#ADD1B2\" rx=\"11\" ry=\"11\" style=\"stroke: #A80036; stroke-width: 1.0;\"/><path d=\"M260.5938,138.3125 Q257.7344,138.3125 256.1719,136.625 Q254.6094,134.9375 254.6094,131.8594 Q254.6094,128.7969 256.2031,127.1016 Q257.7969,125.4063 260.6875,125.4063 Q263.3281,125.4063 265.4688,125.9531 L265.4688,127.8906 Q262.0313,126.7031 260.6563,126.7031 Q259.6563,126.7031 258.5625,128.0625 Q257.4688,129.4219 257.4688,131.875 Q257.4688,134.2344 258.6406,135.5938 Q259.8125,136.9531 260.8281,136.9531 Q262.5781,136.9531 265.4531,135.4531 L265.4531,137.375 Q263.75,138.3125 260.5938,138.3125 Z \"/><text fill=\"#000000\" font-family=\"sans-serif\" font-size=\"12\" lengthAdjust=\"spacingAndGlyphs\" textLength=\"47\" x=\"274.5\" y=\"136.4209\">Number</text><line style=\"stroke: #A80036; stroke-width: 1.5;\" x1=\"246.5\" x2=\"323.5\" y1=\"148\" y2=\"148\"/><line style=\"stroke: #A80036; stroke-width: 1.5;\" x1=\"246.5\" x2=\"323.5\" y1=\"156\" y2=\"156\"/><rect fill=\"#FEFECE\" filter=\"url(#f1)\" height=\"48\" style=\"stroke: #A80036; stroke-width: 1.5;\" width=\"88\" x=\"359\" y=\"116\"/><ellipse cx=\"374\" cy=\"132\" fill=\"#ADD1B2\" rx=\"11\" ry=\"11\" style=\"stroke: #A80036; stroke-width: 1.0;\"/><path d=\"M374.0938,138.3125 Q371.2344,138.3125 369.6719,136.625 Q368.1094,134.9375 368.1094,131.8594 Q368.1094,128.7969 369.7031,127.1016 Q371.2969,125.4063 374.1875,125.4063 Q376.8281,125.4063 378.9688,125.9531 L378.9688,127.8906 Q375.5313,126.7031 374.1563,126.7031 Q373.1563,126.7031 372.0625,128.0625 Q370.9688,129.4219 370.9688,131.875 Q370.9688,134.2344 372.1406,135.5938 Q373.3125,136.9531 374.3281,136.9531 Q376.0781,136.9531 378.9531,135.4531 L378.9531,137.375 Q377.25,138.3125 374.0938,138.3125 Z \"/><text fill=\"#000000\" font-family=\"sans-serif\" font-size=\"12\" lengthAdjust=\"spacingAndGlyphs\" textLength=\"56\" x=\"388\" y=\"136.4209\">Character</text><line style=\"stroke: #A80036; stroke-width: 1.5;\" x1=\"360\" x2=\"446\" y1=\"148\" y2=\"148\"/><line style=\"stroke: #A80036; stroke-width: 1.5;\" x1=\"360\" x2=\"446\" y1=\"156\" y2=\"156\"/><rect fill=\"#FEFECE\" filter=\"url(#f1)\" height=\"48\" style=\"stroke: #A80036; stroke-width: 1.5;\" width=\"77\" x=\"482.5\" y=\"116\"/><ellipse cx=\"497.5\" cy=\"132\" fill=\"#ADD1B2\" rx=\"11\" ry=\"11\" style=\"stroke: #A80036; stroke-width: 1.0;\"/><path d=\"M497.5938,138.3125 Q494.7344,138.3125 493.1719,136.625 Q491.6094,134.9375 491.6094,131.8594 Q491.6094,128.7969 493.2031,127.1016 Q494.7969,125.4063 497.6875,125.4063 Q500.3281,125.4063 502.4688,125.9531 L502.4688,127.8906 Q499.0313,126.7031 497.6563,126.7031 Q496.6563,126.7031 495.5625,128.0625 Q494.4688,129.4219 494.4688,131.875 Q494.4688,134.2344 495.6406,135.5938 Q496.8125,136.9531 497.8281,136.9531 Q499.5781,136.9531 502.4531,135.4531 L502.4531,137.375 Q500.75,138.3125 497.5938,138.3125 Z \"/><text fill=\"#000000\" font-family=\"sans-serif\" font-size=\"12\" lengthAdjust=\"spacingAndGlyphs\" textLength=\"45\" x=\"511.5\" y=\"136.4209\">Boolean</text><line style=\"stroke: #A80036; stroke-width: 1.5;\" x1=\"483.5\" x2=\"558.5\" y1=\"148\" y2=\"148\"/><line style=\"stroke: #A80036; stroke-width: 1.5;\" x1=\"483.5\" x2=\"558.5\" y1=\"156\" y2=\"156\"/><rect fill=\"#FEFECE\" filter=\"url(#f1)\" height=\"48\" style=\"stroke: #A80036; stroke-width: 1.5;\" width=\"56\" x=\"6\" y=\"224\"/><ellipse cx=\"21\" cy=\"240\" fill=\"#ADD1B2\" rx=\"11\" ry=\"11\" style=\"stroke: #A80036; stroke-width: 1.0;\"/><path d=\"M21.0938,246.3125 Q18.2344,246.3125 16.6719,244.625 Q15.1094,242.9375 15.1094,239.8594 Q15.1094,236.7969 16.7031,235.1016 Q18.2969,233.4063 21.1875,233.4063 Q23.8281,233.4063 25.9688,233.9531 L25.9688,235.8906 Q22.5313,234.7031 21.1563,234.7031 Q20.1563,234.7031 19.0625,236.0625 Q17.9688,237.4219 17.9688,239.875 Q17.9688,242.2344 19.1406,243.5938 Q20.3125,244.9531 21.3281,244.9531 Q23.0781,244.9531 25.9531,243.4531 L25.9531,245.375 Q24.25,246.3125 21.0938,246.3125 Z \"/><text fill=\"#000000\" font-family=\"sans-serif\" font-size=\"12\" lengthAdjust=\"spacingAndGlyphs\" textLength=\"24\" x=\"35\" y=\"244.4209\">Byte</text><line style=\"stroke: #A80036; stroke-width: 1.5;\" x1=\"7\" x2=\"61\" y1=\"256\" y2=\"256\"/><line style=\"stroke: #A80036; stroke-width: 1.5;\" x1=\"7\" x2=\"61\" y1=\"264\" y2=\"264\"/><rect fill=\"#FEFECE\" filter=\"url(#f1)\" height=\"48\" style=\"stroke: #A80036; stroke-width: 1.5;\" width=\"73\" x=\"97.5\" y=\"224\"/><ellipse cx=\"112.5\" cy=\"240\" fill=\"#ADD1B2\" rx=\"11\" ry=\"11\" style=\"stroke: #A80036; stroke-width: 1.0;\"/><path d=\"M112.5938,246.3125 Q109.7344,246.3125 108.1719,244.625 Q106.6094,242.9375 106.6094,239.8594 Q106.6094,236.7969 108.2031,235.1016 Q109.7969,233.4063 112.6875,233.4063 Q115.3281,233.4063 117.4688,233.9531 L117.4688,235.8906 Q114.0313,234.7031 112.6563,234.7031 Q111.6563,234.7031 110.5625,236.0625 Q109.4688,237.4219 109.4688,239.875 Q109.4688,242.2344 110.6406,243.5938 Q111.8125,244.9531 112.8281,244.9531 Q114.5781,244.9531 117.4531,243.4531 L117.4531,245.375 Q115.75,246.3125 112.5938,246.3125 Z \"/><text fill=\"#000000\" font-family=\"sans-serif\" font-size=\"12\" lengthAdjust=\"spacingAndGlyphs\" textLength=\"41\" x=\"126.5\" y=\"244.4209\">Double</text><line style=\"stroke: #A80036; stroke-width: 1.5;\" x1=\"98.5\" x2=\"169.5\" y1=\"256\" y2=\"256\"/><line style=\"stroke: #A80036; stroke-width: 1.5;\" x1=\"98.5\" x2=\"169.5\" y1=\"264\" y2=\"264\"/><rect fill=\"#FEFECE\" filter=\"url(#f1)\" height=\"48\" style=\"stroke: #A80036; stroke-width: 1.5;\" width=\"59\" x=\"205.5\" y=\"224\"/><ellipse cx=\"220.5\" cy=\"240\" fill=\"#ADD1B2\" rx=\"11\" ry=\"11\" style=\"stroke: #A80036; stroke-width: 1.0;\"/><path d=\"M220.5938,246.3125 Q217.7344,246.3125 216.1719,244.625 Q214.6094,242.9375 214.6094,239.8594 Q214.6094,236.7969 216.2031,235.1016 Q217.7969,233.4063 220.6875,233.4063 Q223.3281,233.4063 225.4688,233.9531 L225.4688,235.8906 Q222.0313,234.7031 220.6563,234.7031 Q219.6563,234.7031 218.5625,236.0625 Q217.4688,237.4219 217.4688,239.875 Q217.4688,242.2344 218.6406,243.5938 Q219.8125,244.9531 220.8281,244.9531 Q222.5781,244.9531 225.4531,243.4531 L225.4531,245.375 Q223.75,246.3125 220.5938,246.3125 Z \"/><text fill=\"#000000\" font-family=\"sans-serif\" font-size=\"12\" lengthAdjust=\"spacingAndGlyphs\" textLength=\"27\" x=\"234.5\" y=\"244.4209\">Float</text><line style=\"stroke: #A80036; stroke-width: 1.5;\" x1=\"206.5\" x2=\"263.5\" y1=\"256\" y2=\"256\"/><line style=\"stroke: #A80036; stroke-width: 1.5;\" x1=\"206.5\" x2=\"263.5\" y1=\"264\" y2=\"264\"/><rect fill=\"#FEFECE\" filter=\"url(#f1)\" height=\"48\" style=\"stroke: #A80036; stroke-width: 1.5;\" width=\"72\" x=\"300\" y=\"224\"/><ellipse cx=\"315\" cy=\"240\" fill=\"#ADD1B2\" rx=\"11\" ry=\"11\" style=\"stroke: #A80036; stroke-width: 1.0;\"/><path d=\"M315.0938,246.3125 Q312.2344,246.3125 310.6719,244.625 Q309.1094,242.9375 309.1094,239.8594 Q309.1094,236.7969 310.7031,235.1016 Q312.2969,233.4063 315.1875,233.4063 Q317.8281,233.4063 319.9688,233.9531 L319.9688,235.8906 Q316.5313,234.7031 315.1563,234.7031 Q314.1563,234.7031 313.0625,236.0625 Q311.9688,237.4219 311.9688,239.875 Q311.9688,242.2344 313.1406,243.5938 Q314.3125,244.9531 315.3281,244.9531 Q317.0781,244.9531 319.9531,243.4531 L319.9531,245.375 Q318.25,246.3125 315.0938,246.3125 Z \"/><text fill=\"#000000\" font-family=\"sans-serif\" font-size=\"12\" lengthAdjust=\"spacingAndGlyphs\" textLength=\"40\" x=\"329\" y=\"244.4209\">Integer</text><line style=\"stroke: #A80036; stroke-width: 1.5;\" x1=\"301\" x2=\"371\" y1=\"256\" y2=\"256\"/><line style=\"stroke: #A80036; stroke-width: 1.5;\" x1=\"301\" x2=\"371\" y1=\"264\" y2=\"264\"/><rect fill=\"#FEFECE\" filter=\"url(#f1)\" height=\"48\" style=\"stroke: #A80036; stroke-width: 1.5;\" width=\"59\" x=\"407.5\" y=\"224\"/><ellipse cx=\"422.5\" cy=\"240\" fill=\"#ADD1B2\" rx=\"11\" ry=\"11\" style=\"stroke: #A80036; stroke-width: 1.0;\"/><path d=\"M422.5938,246.3125 Q419.7344,246.3125 418.1719,244.625 Q416.6094,242.9375 416.6094,239.8594 Q416.6094,236.7969 418.2031,235.1016 Q419.7969,233.4063 422.6875,233.4063 Q425.3281,233.4063 427.4688,233.9531 L427.4688,235.8906 Q424.0313,234.7031 422.6563,234.7031 Q421.6563,234.7031 420.5625,236.0625 Q419.4688,237.4219 419.4688,239.875 Q419.4688,242.2344 420.6406,243.5938 Q421.8125,244.9531 422.8281,244.9531 Q424.5781,244.9531 427.4531,243.4531 L427.4531,245.375 Q425.75,246.3125 422.5938,246.3125 Z \"/><text fill=\"#000000\" font-family=\"sans-serif\" font-size=\"12\" lengthAdjust=\"spacingAndGlyphs\" textLength=\"27\" x=\"436.5\" y=\"244.4209\">Long</text><line style=\"stroke: #A80036; stroke-width: 1.5;\" x1=\"408.5\" x2=\"465.5\" y1=\"256\" y2=\"256\"/><line style=\"stroke: #A80036; stroke-width: 1.5;\" x1=\"408.5\" x2=\"465.5\" y1=\"264\" y2=\"264\"/><rect fill=\"#FEFECE\" filter=\"url(#f1)\" height=\"48\" style=\"stroke: #A80036; stroke-width: 1.5;\" width=\"61\" x=\"501.5\" y=\"224\"/><ellipse cx=\"516.5\" cy=\"240\" fill=\"#ADD1B2\" rx=\"11\" ry=\"11\" style=\"stroke: #A80036; stroke-width: 1.0;\"/><path d=\"M516.5938,246.3125 Q513.7344,246.3125 512.1719,244.625 Q510.6094,242.9375 510.6094,239.8594 Q510.6094,236.7969 512.2031,235.1016 Q513.7969,233.4063 516.6875,233.4063 Q519.3281,233.4063 521.4688,233.9531 L521.4688,235.8906 Q518.0313,234.7031 516.6563,234.7031 Q515.6563,234.7031 514.5625,236.0625 Q513.4688,237.4219 513.4688,239.875 Q513.4688,242.2344 514.6406,243.5938 Q515.8125,244.9531 516.8281,244.9531 Q518.5781,244.9531 521.4531,243.4531 L521.4531,245.375 Q519.75,246.3125 516.5938,246.3125 Z \"/><text fill=\"#000000\" font-family=\"sans-serif\" font-size=\"12\" lengthAdjust=\"spacingAndGlyphs\" textLength=\"29\" x=\"530.5\" y=\"244.4209\">Short</text><line style=\"stroke: #A80036; stroke-width: 1.5;\" x1=\"502.5\" x2=\"561.5\" y1=\"256\" y2=\"256\"/><line style=\"stroke: #A80036; stroke-width: 1.5;\" x1=\"502.5\" x2=\"561.5\" y1=\"264\" y2=\"264\"/><path d=\"M362.286,69.573 C345.27,84.859 326.002,102.167 310.962,115.678 \" fill=\"none\" style=\"stroke: #A80036; stroke-width: 1.0;\"/><polygon fill=\"none\" points=\"357.839,64.158,377.396,56,367.195,74.573,357.839,64.158\" style=\"stroke: #A80036; stroke-width: 1.0;\"/><path d=\"M403,76.024 C403,89.579 403,104.038 403,115.678 \" fill=\"none\" style=\"stroke: #A80036; stroke-width: 1.0;\"/><polygon fill=\"none\" points=\"396,76,403,56,410,76,396,76\" style=\"stroke: #A80036; stroke-width: 1.0;\"/><path d=\"M443.714,69.573 C460.73,84.859 479.998,102.167 495.038,115.678 \" fill=\"none\" style=\"stroke: #A80036; stroke-width: 1.0;\"/><polygon fill=\"none\" points=\"438.805,74.573,428.604,56,448.161,64.158,438.805,74.573\" style=\"stroke: #A80036; stroke-width: 1.0;\"/><path d=\"M226.637,163.214 C185.332,179.2781 128.829,201.9493 80,224 C74.141,226.6459 67.9391,229.6228 62.0505,232.5352 \" fill=\"none\" style=\"stroke: #A80036; stroke-width: 1.0;\"/><polygon fill=\"none\" points=\"224.131,156.678,245.309,155.999,229.177,169.737,224.131,156.678\" style=\"stroke: #A80036; stroke-width: 1.0;\"/><path d=\"M235.837,175.512 C213.27,191.3535 187.114,209.7145 166.961,223.8617 \" fill=\"none\" style=\"stroke: #A80036; stroke-width: 1.0;\"/><polygon fill=\"none\" points=\"231.844,169.762,252.235,164,239.888,181.2208,231.844,169.762\" style=\"stroke: #A80036; stroke-width: 1.0;\"/><path d=\"M265.616,182.0936 C258.964,196.1958 251.753,211.4838 246.001,223.6784 \" fill=\"none\" style=\"stroke: #A80036; stroke-width: 1.0;\"/><polygon fill=\"none\" points=\"259.287,179.1027,274.151,164,271.949,185.0754,259.287,179.1027\" style=\"stroke: #A80036; stroke-width: 1.0;\"/><path d=\"M304.771,182.0936 C311.556,196.1958 318.912,211.4838 324.779,223.6784 \" fill=\"none\" style=\"stroke: #A80036; stroke-width: 1.0;\"/><polygon fill=\"none\" points=\"298.43,185.0579,296.066,164,311.045,178.988,298.43,185.0579\" style=\"stroke: #A80036; stroke-width: 1.0;\"/><path d=\"M334.624,175.6065 C358.682,192.3835 386.765,211.9677 407.427,226.3765 \" fill=\"none\" style=\"stroke: #A80036; stroke-width: 1.0;\"/><polygon fill=\"none\" points=\"330.383,181.1824,317.982,164,338.391,169.699,330.383,181.1824\" style=\"stroke: #A80036; stroke-width: 1.0;\"/><path d=\"M343.614,165.055 C392.414,185.1543 457.968,212.3439 484,224 C489.651,226.5302 495.631,229.3114 501.382,232.0389 \" fill=\"none\" style=\"stroke: #A80036; stroke-width: 1.0;\"/><polygon fill=\"none\" points=\"340.704,171.427,324.872,157.344,346.031,158.48,340.704,171.427\" style=\"stroke: #A80036; stroke-width: 1.0;\"/></g></svg>"
      ],
      "text/plain": [
       "<IPython.core.display.SVG object>"
      ]
     },
     "execution_count": 2,
     "metadata": {},
     "output_type": "execute_result"
    }
   ],
   "source": [
    "%%plantuml\n",
    "@startuml\n",
    "class Object\n",
    "class Number\n",
    "Object <|-- Number\n",
    "Object <|-- Character\n",
    "Object <|-- Boolean\n",
    "Number <|-- Byte\n",
    "Number <|-- Double\n",
    "Number <|-- Float\n",
    "Number <|-- Integer\n",
    "Number <|-- Long\n",
    "Number <|-- Short\n",
    "@enduml"
   ]
  },
  {
   "cell_type": "markdown",
   "metadata": {
    "slideshow": {
     "slide_type": "subslide"
    }
   },
   "source": [
    "### Integer의 예\n",
    "\n",
    "Integer는 int의 Wrapper class이다. MAX_VALUE, MIN_VALUE, SIZE 등을 출력해 보자.\n",
    "또한 객체로서 서로 비교하는 compareTo()를 사용할 수 있다."
   ]
  },
  {
   "cell_type": "code",
   "execution_count": 19,
   "metadata": {
    "collapsed": false
   },
   "outputs": [
    {
     "name": "stdout",
     "output_type": "stream",
     "text": [
      " System.out.printf(\"size:%-2s min:%-20s max:%s\\n\",Integer.SIZE,Integer.MIN_VAL \r",
      "UE,Integer.MAX_VALUE);\r\n",
      "size:32 min:-2147483648          max:2147483647\r\n",
      "|  Expression value is: java.io.PrintStream@ff5b51f\r\n",
      "|    assigned to temporary variable $11 of type PrintStream\r\n",
      "\r\n"
     ]
    }
   ],
   "source": [
    "System.out.printf(\"size:%-2s min:%-20s max:%s\\n\",Integer.SIZE,Integer.MIN_VALUE,Integer.MAX_VALUE);"
   ]
  },
  {
   "cell_type": "markdown",
   "metadata": {
    "collapsed": true,
    "slideshow": {
     "slide_type": "subslide"
    }
   },
   "source": [
    "* 숫자 1을 i1객체에 저장했다.\n",
    "* 이는 앞서 primitive를 사용해서 저장하는 것과 데이터는 '1'로 동일하지만, 다르다. i1은 객체이다."
   ]
  },
  {
   "cell_type": "code",
   "execution_count": 20,
   "metadata": {
    "collapsed": false
   },
   "outputs": [
    {
     "name": "stdout",
     "output_type": "stream",
     "text": [
      " Integer i1=new Integer(1);\r\n",
      "|  Added variable i1 of type Integer with initial value 1\r\n",
      "\r\n",
      " Integer i2=new Integer(2);\r\n",
      "|  Added variable i2 of type Integer with initial value 2\r\n",
      "\r\n"
     ]
    }
   ],
   "source": [
    "Integer i1=new Integer(1);\n",
    "Integer i2=new Integer(2);"
   ]
  },
  {
   "cell_type": "code",
   "execution_count": 21,
   "metadata": {
    "collapsed": false,
    "scrolled": true
   },
   "outputs": [
    {
     "name": "stdout",
     "output_type": "stream",
     "text": [
      " i1.compareTo(i1);\r\n",
      "|  Expression value is: 0\r\n",
      "|    assigned to temporary variable $14 of type int\r\n",
      "\r\n"
     ]
    }
   ],
   "source": [
    "i1.compareTo(i1);"
   ]
  },
  {
   "cell_type": "code",
   "execution_count": null,
   "metadata": {
    "collapsed": true,
    "slideshow": {
     "slide_type": "subslide"
    }
   },
   "outputs": [],
   "source": [
    "add 함수는 제공되지 않는다. 객체라고 하더라도 연산자 오버로딩 기능이 있어, 더하기기 되며 결과는 원시타잎 int이다."
   ]
  },
  {
   "cell_type": "code",
   "execution_count": 22,
   "metadata": {
    "collapsed": false
   },
   "outputs": [
    {
     "name": "stdout",
     "output_type": "stream",
     "text": [
      " i1+i2;\r\n",
      "|  Expression value is: 3\r\n",
      "|    assigned to temporary variable $15 of type int\r\n",
      "\r\n"
     ]
    }
   ],
   "source": [
    "i1+i2;"
   ]
  },
  {
   "cell_type": "markdown",
   "metadata": {
    "slideshow": {
     "slide_type": "subslide"
    }
   },
   "source": [
    "### String 선언의 예\n",
    "\n",
    "#### String은 char의 Wrapper class가 아니다.\n",
    "\n",
    "'String' 클래스는 해당하는 원시타잎이 없다. Wrapper class가 아니다.\n",
    "'String'은 문자의 배열이라 그 크기를 모른다.\n",
    "'hello' 문자열의 예를 들어 설명하면:\n",
    "* 'hello' 객체는 선언하는 시점에 그 크기를 알 수가 없다.\n",
    "* \"Hello\"라는 값을 넣으면 5개의 문자가 저장되었다는 것을 비로서 알 수 있고, 메모리 크기를 정할 수 있다.\n"
   ]
  },
  {
   "cell_type": "code",
   "execution_count": 22,
   "metadata": {
    "collapsed": false,
    "scrolled": false
   },
   "outputs": [
    {
     "name": "stdout",
     "output_type": "stream",
     "text": [
      " String hello=\"Hello\";\r\n",
      "|  Modified variable hello of type String with initial value \"Hello\"\r\n",
      "|    Update overwrote variable hello\r\n",
      "\r\n"
     ]
    }
   ],
   "source": [
    "String hello=\"Hello\";"
   ]
  },
  {
   "cell_type": "code",
   "execution_count": 2,
   "metadata": {
    "collapsed": false,
    "scrolled": true
   },
   "outputs": [
    {
     "name": "stdout",
     "output_type": "stream",
     "text": [
      " System.out.println(hello)\r\n",
      "Hello\r\n",
      "\r\n"
     ]
    }
   ],
   "source": [
    "System.out.println(hello)"
   ]
  },
  {
   "cell_type": "markdown",
   "metadata": {
    "slideshow": {
     "slide_type": "subslide"
    }
   },
   "source": [
    "#### String은 생성되면 수정할 수 없다.\n",
    "\n",
    "* 상수와 같은 특징을 가지기 때문에, 일단 생성이 되면 변경할 수 없다.\n",
    "\n",
    "```java\n",
    "String hello=\"Hello\";\n",
    "```\n",
    "\n",
    "* 위와 같이 생성하는 것은 아래와 같이 크기를 정해서 생성하는 것이다. 추가를 하려면 StringBuffer 또는 새로 생성해야 한다.\n",
    "\n",
    "```java\n",
    "char hello[]={'H','e','l','l','o'};\n",
    "String hello=new String(hello);\n",
    "```"
   ]
  },
  {
   "cell_type": "code",
   "execution_count": 15,
   "metadata": {
    "collapsed": false
   },
   "outputs": [
    {
     "name": "stdout",
     "output_type": "stream",
     "text": [
      " char chello[]={'H','e','l','l','o'};\r\n",
      "|  Added variable chello of type char[] with initial value [C@42dafa95\r\n",
      "\r\n",
      " for(char ch:chello)\r\n",
      "    System.out.print(ch);\r\n",
      "Hello\r\n"
     ]
    }
   ],
   "source": [
    "char chello[]={'H','e','l','l','o'};\n",
    "for(char ch:chello)\n",
    "   System.out.print(ch);"
   ]
  },
  {
   "cell_type": "code",
   "execution_count": 16,
   "metadata": {
    "collapsed": false
   },
   "outputs": [
    {
     "name": "stdout",
     "output_type": "stream",
     "text": [
      " String sHello=new String(chello);\r\n",
      "|  Added variable sHello of type String with initial value \"Hello\"\r\n",
      "\r\n"
     ]
    }
   ],
   "source": [
    "String sHello=new String(chello);"
   ]
  },
  {
   "cell_type": "markdown",
   "metadata": {
    "collapsed": true,
    "slideshow": {
     "slide_type": "subslide"
    }
   },
   "source": [
    "'hello world'를 저장하려면 이미 생성되어 있는 'hello'가 아니라, 새롭게 문자열 'helloWorld'를 생성해서 저장해야 한다."
   ]
  },
  {
   "cell_type": "code",
   "execution_count": 3,
   "metadata": {
    "collapsed": false
   },
   "outputs": [
    {
     "name": "stdout",
     "output_type": "stream",
     "text": [
      " String helloWorld=hello+\"world\"\r\n",
      "|  Added variable helloWorld of type String with initial value \"Helloworld\"\r\n",
      "\r\n"
     ]
    }
   ],
   "source": [
    "String helloWorld=hello+\"world\""
   ]
  },
  {
   "cell_type": "code",
   "execution_count": 5,
   "metadata": {
    "collapsed": false,
    "scrolled": false
   },
   "outputs": [
    {
     "name": "stdout",
     "output_type": "stream",
     "text": [
      " System.out.println(helloWorld)\r\n",
      "Helloworld\r\n",
      "\r\n"
     ]
    }
   ],
   "source": [
    "System.out.println(helloWorld)"
   ]
  },
  {
   "cell_type": "markdown",
   "metadata": {
    "collapsed": true,
    "slideshow": {
     "slide_type": "subslide"
    }
   },
   "source": [
    "### Boxing\n",
    "\n",
    "원시타잎에서 Wrapper class로 자동으로 변환하는 것을 박싱, boxing이라고 한다.\n",
    "예를 들면, int에서 Integer, double에서 Double로 변환이 일어난다.\n",
    "반대를 unboxing이라고 한다.\n",
    "\n",
    "구분 | 설명\n",
    "-----|-----\n",
    "Boxing | 원시타잎 -> box type으로 변환\n",
    "Unboxing | 그 반대 원시타잎 <- box type\n"
   ]
  },
  {
   "cell_type": "markdown",
   "metadata": {
    "collapsed": true,
    "slideshow": {
     "slide_type": "subslide"
    }
   },
   "source": [
    "Wrapper class에 원시타잎을 저장하면 **autoboxing**이 되고 있다.\n",
    "Character ch에 문자 'a'를 넣으면 **타잎불일치**이다.\n",
    "Integer i에 정수 '1'를 넣어도 **타잎불일치**이다.\n",
    "그러나 자동으로 int에서 Integer로 **autoboxing**하고 있다."
   ]
  },
  {
   "cell_type": "code",
   "execution_count": 30,
   "metadata": {
    "collapsed": false
   },
   "outputs": [
    {
     "name": "stdout",
     "output_type": "stream",
     "text": [
      " Character ch='a';\r\n",
      "|  Added variable ch of type Character with initial value 'a'\r\n",
      "\r\n"
     ]
    }
   ],
   "source": [
    "Character ch='a';"
   ]
  },
  {
   "cell_type": "code",
   "execution_count": 26,
   "metadata": {
    "collapsed": false,
    "scrolled": true
   },
   "outputs": [
    {
     "name": "stdout",
     "output_type": "stream",
     "text": [
      " Integer i = 1;\r\n",
      "|  Modified variable i of type Integer with initial value 1\r\n",
      "|    Update overwrote variable i\r\n",
      "\r\n"
     ]
    }
   ],
   "source": [
    "Integer i = 1;"
   ]
  },
  {
   "cell_type": "code",
   "execution_count": 27,
   "metadata": {
    "collapsed": false
   },
   "outputs": [
    {
     "name": "stdout",
     "output_type": "stream",
     "text": [
      " int x=1;\r\n",
      "|  Modified variable x of type int with initial value 1\r\n",
      "|    Update overwrote variable x\r\n",
      "\r\n",
      " i=x;\r\n",
      "|  Variable i has been assigned the value 1\r\n",
      "\r\n"
     ]
    }
   ],
   "source": [
    "int x=1;\n",
    "i=x;"
   ]
  },
  {
   "cell_type": "markdown",
   "metadata": {
    "slideshow": {
     "slide_type": "subslide"
    }
   },
   "source": [
    "**unboxing이 자동**으로 일어나고 있다.\n",
    "int와 연산을 하면 그 결과가 int로 unboxing된다."
   ]
  },
  {
   "cell_type": "code",
   "execution_count": 29,
   "metadata": {
    "collapsed": false
   },
   "outputs": [
    {
     "name": "stdout",
     "output_type": "stream",
     "text": [
      " int j=2;\r\n",
      "|  Modified variable j of type int with initial value 2\r\n",
      "|    Update overwrote variable j\r\n",
      "\r\n",
      " i+j;\r\n",
      "|  Expression value is: 3\r\n",
      "|    assigned to temporary variable $27 of type int\r\n",
      "\r\n"
     ]
    }
   ],
   "source": [
    "int j=2;\n",
    "i+j;"
   ]
  },
  {
   "cell_type": "markdown",
   "metadata": {
    "collapsed": true,
    "slideshow": {
     "slide_type": "slide"
    }
   },
   "source": [
    "### 보통 사용하는 클래스 타잎으로 선언\n",
    "\n",
    "가장 단순한 Book 객체를 만들었다. 참조를 이해하기 위해 아무런 멤버 속성, 함수를 넣지 않고 있다.\n"
   ]
  },
  {
   "cell_type": "code",
   "execution_count": 31,
   "metadata": {
    "collapsed": false
   },
   "outputs": [
    {
     "name": "stdout",
     "output_type": "stream",
     "text": [
      " class Book {}\r\n",
      "|  Added class Book\r\n",
      "\r\n"
     ]
    }
   ],
   "source": [
    "class Book {}"
   ]
  },
  {
   "cell_type": "code",
   "execution_count": 32,
   "metadata": {
    "collapsed": false
   },
   "outputs": [
    {
     "name": "stdout",
     "output_type": "stream",
     "text": [
      " Book b=new Book();\r\n",
      "|  Added variable b of type Book with initial value Book@148080bb\r\n",
      "\r\n",
      " Book c=new Book();\r\n",
      "|  Added variable c of type Book with initial value Book@7e0b0338\r\n",
      "\r\n"
     ]
    }
   ],
   "source": [
    "Book b=new Book();\n",
    "Book c=new Book();"
   ]
  },
  {
   "cell_type": "markdown",
   "metadata": {
    "collapsed": true,
    "slideshow": {
     "slide_type": "subslide"
    }
   },
   "source": [
    "객체 d는 c를 가지고 있으므로, **같은 객체에 대한 복사본**이다.\n",
    "hashCode를 확인하면, c와 d가 동일하다는 것을 확인할 수 있다."
   ]
  },
  {
   "cell_type": "code",
   "execution_count": null,
   "metadata": {
    "collapsed": true
   },
   "outputs": [],
   "source": [
    "Book d=c;"
   ]
  },
  {
   "cell_type": "code",
   "execution_count": 41,
   "metadata": {
    "collapsed": false
   },
   "outputs": [
    {
     "name": "stdout",
     "output_type": "stream",
     "text": [
      " System.identityHashCode(c);\r\n",
      "|  Expression value is: 2114650936\r\n",
      "|    assigned to temporary variable $45 of type int\r\n",
      "\r\n",
      " System.out.printf(\"c의 해시코드 %s\", c.hashCode());\r\n",
      "c의 해시코드 2114650936|  Expression value is: java.io.PrintStream@ff5b51f\r\n",
      "|    assigned to temporary variable $46 of type PrintStream\r\n",
      "\r\n",
      " System.out.printf(\"d의 해시코드 %s\", d.hashCode());\r\n",
      "d의 해시코드 2114650936|  Expression value is: java.io.PrintStream@ff5b51f\r\n",
      "|    assigned to temporary variable $47 of type PrintStream\r\n",
      "\r\n"
     ]
    }
   ],
   "source": [
    "System.identityHashCode(c);\n",
    "System.out.printf(\"c의 해시코드 %s\", c.hashCode());\n",
    "System.out.printf(\"d의 해시코드 %s\", d.hashCode());"
   ]
  },
  {
   "cell_type": "markdown",
   "metadata": {
    "collapsed": true,
    "slideshow": {
     "slide_type": "subslide"
    }
   },
   "source": [
    "c를 변경할 수도 있다. c에 b를 넣고 hashCode를 확인하면 당연히 b로 가리키게 된다.\n",
    "그러나 **c가 변경되더라도, 이전에 만들었던 c의 복사본인 d는 당연히 수정되지 않는다**."
   ]
  },
  {
   "cell_type": "code",
   "execution_count": 42,
   "metadata": {
    "collapsed": false
   },
   "outputs": [
    {
     "name": "stdout",
     "output_type": "stream",
     "text": [
      " c=b;\r\n",
      "|  Variable c has been assigned the value Book@148080bb\r\n",
      "\r\n",
      " System.identityHashCode(c);\r\n",
      "|  Expression value is: 343965883\r\n",
      "|    assigned to temporary variable $49 of type int\r\n",
      "\r\n",
      " System.out.printf(\"c의 해시코드 %s\", c.hashCode());\r\n",
      "c의 해시코드 343965883|  Expression value is: java.io.PrintStream@ff5b51f\r\n",
      "|    assigned to temporary variable $50 of type PrintStream\r\n",
      "\r\n",
      " System.out.printf(\"d의 해시코드 %s\", d.hashCode());\r\n",
      "d의 해시코드 2114650936|  Expression value is: java.io.PrintStream@ff5b51f\r\n",
      "|    assigned to temporary variable $51 of type PrintStream\r\n",
      "\r\n"
     ]
    }
   ],
   "source": [
    "c=b;\n",
    "System.identityHashCode(c);\n",
    "System.out.printf(\"c의 해시코드 %s\", c.hashCode());\n",
    "System.out.printf(\"d의 해시코드 %s\", d.hashCode());"
   ]
  },
  {
   "cell_type": "markdown",
   "metadata": {
    "collapsed": true,
    "slideshow": {
     "slide_type": "subslide"
    }
   },
   "source": [
    "* 관계를 절단할 수도 있다. 아무런 객체와도 관계가 없다 -> 알지 못한다는 의미."
   ]
  },
  {
   "cell_type": "code",
   "execution_count": 17,
   "metadata": {
    "collapsed": false,
    "scrolled": true
   },
   "outputs": [
    {
     "name": "stdout",
     "output_type": "stream",
     "text": [
      " c=null;\r\n",
      "|  Variable c has been assigned the value null\r\n",
      "\r\n"
     ]
    }
   ],
   "source": [
    "c=null;"
   ]
  },
  {
   "cell_type": "markdown",
   "metadata": {
    "slideshow": {
     "slide_type": "slide"
    }
   },
   "source": [
    "## 문제 3-4: 금액을 저장하는 변수를 선언하기\n",
    "\n",
    "금액의 예를 들어보자.\n",
    "금액의 형식은 '숫자'이다. '5000'은 금액을 표현하고 있다. 원화이면 소수점이 필요없으므로 int, 반면에 미화는 센트를 가질 수 있으므로 소수점이 필요하므로 float이다. 최대금액을 감안하면 조금 복잡해진다. 8비트로 표현할 수 있는 값은 256이다. 이 값은 금액을 표현하기에는 매우 부족하다. 16비트는 65536이므로 역시 부족하다.\n",
    "\n",
    "> 알아두기\n",
    "> **BigDecimal**\n",
    "> \n",
    "> 화폐 금액을 표시할 경우 많이 쓰이는 데이터 타잎이다. 소수점 자리를 정하거나, 반올림 등 재무계산에 예민한 기능을 제공한다.\n",
    "\n"
   ]
  },
  {
   "cell_type": "code",
   "execution_count": 56,
   "metadata": {
    "collapsed": false,
    "slideshow": {
     "slide_type": "subslide"
    }
   },
   "outputs": [
    {
     "name": "stdout",
     "output_type": "stream",
     "text": [
      " BigDecimal serviceTax = new BigDecimal(\"56.0084578639\");\r\n",
      "|  Added variable serviceTax of type BigDecimal with initial value 56.0084578639\r\n",
      "\r\n",
      " serviceTax = serviceTax.setScale(2, RoundingMode.CEILING);\r\n",
      "|  Variable serviceTax has been assigned the value 56.01\r\n",
      "\r\n",
      " System.out.println(serviceTax);\r\n",
      "56.01\r\n",
      "\r\n"
     ]
    }
   ],
   "source": [
    "BigDecimal serviceTax = new BigDecimal(\"56.0084578639\");\n",
    "serviceTax = serviceTax.setScale(2, RoundingMode.CEILING);\n",
    "System.out.println(serviceTax);"
   ]
  },
  {
   "cell_type": "markdown",
   "metadata": {
    "slideshow": {
     "slide_type": "slide"
    }
   },
   "source": [
    "## 3.5 연산자\n",
    "\n",
    "연산자는 수학에서와 같이 계산에 사용되는 기호를 말한다.\n",
    "\n",
    "단독으로 사용해도 되는, unary operator와 \n",
    "좌우측에 피연산자가 있어야 하는 binary operator로 구분할 수 있다."
   ]
  },
  {
   "cell_type": "markdown",
   "metadata": {
    "slideshow": {
     "slide_type": "subslide"
    }
   },
   "source": [
    "### 몇 연산자를 사용\n",
    "\n",
    "%\n",
    "++, --\n",
    "+=, -=, *=, /=\n",
    "\n",
    "'%'는 modulus로 나머지를 출력한다."
   ]
  },
  {
   "cell_type": "code",
   "execution_count": 13,
   "metadata": {
    "collapsed": false
   },
   "outputs": [
    {
     "name": "stdout",
     "output_type": "stream",
     "text": [
      " 5%2;\r\n",
      "|  Expression value is: 1\r\n",
      "|    assigned to temporary variable $16 of type int\r\n",
      "\r\n"
     ]
    }
   ],
   "source": [
    "5%2;"
   ]
  },
  {
   "cell_type": "markdown",
   "metadata": {
    "slideshow": {
     "slide_type": "slide"
    }
   },
   "source": [
    "## 문제 3-5: '%' 연산자를 사용해서 시간 출력하기 \n",
    "\n",
    "자바에서 현재 시간을 구하려면 currentTimeMillis()을 구해서 계산한다.\n",
    "System.currentTimeMillis()은 세계표준시간 UTC (Coordinated Universal Time)이다. 현지 시간과 차이가 있다.\n",
    "이 함수는 long 타잎을 반환한다.\n",
    "\n",
    "```java\n",
    "static long\tcurrentTimeMillis()\n",
    "```\n",
    "\n",
    "> 알아두기\n",
    "> **milliseconds**\n",
    ">\n",
    "> 천분의 1, 즉 0.001초를 말한다.\n",
    "> 하루는 86,400,000 (24 시간 × 60 분 × 60 초 × 1000) milliseconds이다.\n",
    "\n"
   ]
  },
  {
   "cell_type": "markdown",
   "metadata": {
    "slideshow": {
     "slide_type": "subslide"
    }
   },
   "source": [
    "### 버전 1\n",
    "\n",
    "currentTimeMillis()를 구해서, Date()로 출력한다. 현지시간을 알 수 있다.\n",
    "https://www.epochconverter.com/에서 현재시간으로 변환해 볼 수 있다."
   ]
  },
  {
   "cell_type": "code",
   "execution_count": 1,
   "metadata": {
    "collapsed": false,
    "scrolled": true
   },
   "outputs": [
    {
     "name": "stdout",
     "output_type": "stream",
     "text": [
      " long totalMilliseconds = System.currentTimeMillis();\r\n",
      "|  Added variable totalMilliseconds of type long with initial value 1554172041415\r\n",
      "\r\n",
      " \r\n",
      "\r\n",
      " System.out.println(\"현재시간: \" + new Date(totalMilliseconds));\r\n",
      "현재시간: Tue Apr 02 11:27:21 KST 2019\r\n",
      "\r\n"
     ]
    }
   ],
   "source": [
    "long totalMilliseconds = System.currentTimeMillis();\n",
    "\n",
    "System.out.println(\"현재시간: \" + new Date(totalMilliseconds));"
   ]
  },
  {
   "cell_type": "code",
   "execution_count": 2,
   "metadata": {
    "collapsed": false,
    "scrolled": true
   },
   "outputs": [
    {
     "name": "stdout",
     "output_type": "stream",
     "text": [
      " import java.text.DateFormat;\r\n",
      "\r\n",
      " DateFormat.getInstance().format(totalMilliseconds);\r\n",
      "|  Expression value is: \"4/2/19, 11:27 AM\"\r\n",
      "|    assigned to temporary variable $4 of type String\r\n",
      "\r\n"
     ]
    }
   ],
   "source": [
    "import java.text.DateFormat;\n",
    "DateFormat.getInstance().format(totalMilliseconds);"
   ]
  },
  {
   "cell_type": "markdown",
   "metadata": {
    "slideshow": {
     "slide_type": "subslide"
    }
   },
   "source": [
    "### 버전 2\n",
    "\n",
    "'%' 연산자를 사용해서 시간을 구할 수 있다. UTC이므로 현지시간은 아니다."
   ]
  },
  {
   "cell_type": "code",
   "execution_count": 61,
   "metadata": {
    "collapsed": false,
    "slideshow": {
     "slide_type": "-"
    }
   },
   "outputs": [
    {
     "name": "stdout",
     "output_type": "stream",
     "text": [
      " long totalSeconds = totalMilliseconds / 1000;\r\n",
      "|  Added variable totalSeconds of type long with initial value 1521970734\r\n",
      "\r\n",
      " long nowSecond = totalSeconds % 60;\r\n",
      "|  Added variable nowSecond of type long with initial value 54\r\n",
      "\r\n",
      " long totalMinutes = totalSeconds / 60;\r\n",
      "|  Added variable totalMinutes of type long with initial value 25366178\r\n",
      "\r\n",
      " long nowMinute = totalMinutes % 60;\r\n",
      "|  Added variable nowMinute of type long with initial value 38\r\n",
      "\r\n",
      " long totalHours = totalMinutes / 60;\r\n",
      "|  Added variable totalHours of type long with initial value 422769\r\n",
      "\r\n",
      " long nowHour = totalHours % 24;\r\n",
      "|  Added variable nowHour of type long with initial value 9\r\n",
      "\r\n",
      " System.out.printf(\"Current time is %d:%d:%d GMT\", nowHour,nowMinute,nowSecond \r",
      ");\r\n",
      "Current time is 9:38:54 GMT|  Expression value is: java.io.PrintStream@1d16f93d\r\n",
      "|    assigned to temporary variable $9 of type PrintStream\r\n",
      "\r\n"
     ]
    }
   ],
   "source": [
    "long totalSeconds = totalMilliseconds / 1000;\n",
    "long nowSecond = totalSeconds % 60;\n",
    "long totalMinutes = totalSeconds / 60;\n",
    "long nowMinute = totalMinutes % 60;\n",
    "long totalHours = totalMinutes / 60;\n",
    "long nowHour = totalHours % 24;\n",
    "System.out.printf(\"Current time is %d:%d:%d GMT\", nowHour,nowMinute,nowSecond);"
   ]
  },
  {
   "cell_type": "markdown",
   "metadata": {
    "collapsed": true,
    "slideshow": {
     "slide_type": "subslide"
    }
   },
   "source": [
    "Calendar객체를 사용하여 필요한 정보를 구할 수 있다."
   ]
  },
  {
   "cell_type": "code",
   "execution_count": 33,
   "metadata": {
    "collapsed": false,
    "scrolled": true
   },
   "outputs": [
    {
     "name": "stdout",
     "output_type": "stream",
     "text": [
      " Calendar calInitial = Calendar.getInstance();\r\n",
      "|  Added variable calInitial of type Calendar with initial value java.util.GregorianCalendar[time=1521946498319,areFieldsSet=true,areAllFieldsSet=true,lenient=true,zone=sun.util.calendar.ZoneInfo[id=\"Asia/Seoul\",offset=32400000,dstSavings=0,useDaylight=false,transitions=22,lastRule=null],firstDayOfWeek=1,minimalDaysInFirstWeek=1,ERA=1,YEAR=2018,MONTH=2,WEEK_OF_YEAR=13,WEEK_OF_MONTH=5,DAY_OF_MONTH=25,DAY_OF_YEAR=84,DAY_OF_WEEK=1,DAY_OF_WEEK_IN_MONTH=4,AM_PM=0,HOUR=11,HOUR_OF_DAY=11,MINUTE=54,SECOND=58,MILLISECOND=319,ZONE_OFFSET=32400000,DST_OFFSET=0]\r\n",
      "\r\n",
      " int offsetInitial = calInitial.get(Calendar.ZONE_OFFSET) + calInitial.get(Cal \r",
      "endar.DST_OFFSET);\r\n",
      "|  Added variable offsetInitial of type int with initial value 32400000\r\n",
      "\r\n"
     ]
    }
   ],
   "source": [
    "Calendar calInitial = Calendar.getInstance();\n",
    "int offsetInitial = calInitial.get(Calendar.ZONE_OFFSET) + calInitial.get(Calendar.DST_OFFSET);"
   ]
  },
  {
   "cell_type": "markdown",
   "metadata": {
    "slideshow": {
     "slide_type": "subslide"
    }
   },
   "source": [
    "### 클래스 버전\n",
    "\n",
    "앞서 테스트했던 명령문을 넣어서 클래스를 만들어 보자.\n",
    "재사용할 수 있는 좋은 클래스로 만들기 마땅하지 않지만, 연습용으로 해본다.\n",
    "**main()이 static이라 거기서 호출하는 모든 함수는 static**으로 만들어야 한다.\n",
    "또한 **totalMilliseconds는 printUTC(), printLocalTime()에서 모두 사용되므로 멤버속성**으로 만든다.\n",
    "\n",
    "명령창에서 컴파일하여 실행도 해보자."
   ]
  },
  {
   "cell_type": "code",
   "execution_count": null,
   "metadata": {
    "collapsed": false
   },
   "outputs": [],
   "source": [
    "# %load src/DateTestMain.java\n",
    "import java.util.Date;\n",
    "public class DateTestMain {\n",
    "    long totalMilliseconds = System.currentTimeMillis();\n",
    "    void printUTC() {\n",
    "\tlong nowYears = totalMilliseconds/(1000L*60*60*24*365);\n",
    "\tlong nowDays = totalMilliseconds/(1000L*60*60*24)%365;\n",
    "\tlong nowHours = totalMilliseconds/(1000L*60*60)%24;\n",
    "\tlong nowMinutes = totalMilliseconds/(1000L*60)%60;\n",
    "\tlong nowSeconds = totalMilliseconds/(1000L)%60;\n",
    "        System.out.printf(\"Current time is Y%d %d %d:%d:%d GMT\\n\", nowYears,nowDays,nowHours,nowMinutes,nowSeconds);\n",
    "    }\n",
    "    void printLocalTime() {\n",
    "        System.out.println(\"현재시간: \" + new Date(totalMilliseconds));\n",
    "    }\n",
    "    void printDue() {\n",
    "\tSystem.out.println(\"Due: \"+new Date(Integer.MAX_VALUE*1000L));\n",
    "    }\n",
    "    public static void main(String[] args) {\n",
    "\tDateTestMain d=new DateTestMain();\n",
    "        d.printUTC();\n",
    "        d.printLocalTime();\n",
    "\td.printDue();\n",
    "    }\n",
    "}\n",
    "\n"
   ]
  },
  {
   "cell_type": "markdown",
   "metadata": {
    "collapsed": true,
    "slideshow": {
     "slide_type": "slide"
    }
   },
   "source": [
    "### ++ 연산자\n",
    "\n",
    "++는 변수에 대해 값을 1 증가시킨다."
   ]
  },
  {
   "cell_type": "code",
   "execution_count": 17,
   "metadata": {
    "collapsed": false
   },
   "outputs": [
    {
     "name": "stdout",
     "output_type": "stream",
     "text": [
      " int i=1;\r\n",
      "|  Modified variable i of type int with initial value 1\r\n",
      "|    Update overwrote variable i\r\n",
      "\r\n",
      " ++i;\r\n",
      "|  Expression value is: 2\r\n",
      "|    assigned to temporary variable $20 of type int\r\n",
      "\r\n"
     ]
    }
   ],
   "source": [
    "int i=1;\n",
    "++i;"
   ]
  },
  {
   "cell_type": "markdown",
   "metadata": {
    "collapsed": true,
    "slideshow": {
     "slide_type": "subslide"
    }
   },
   "source": [
    "### 오버로딩\n",
    "\n",
    "앞서 변수의 연산에 이미 사용한 '+', '-', '*', '/' 기호는 수학과 동일한 의미를 가진다.\n",
    "단 이들은 수 또는 문자를 피연산자로 만나면 다른 의미를 가진다.\n",
    "수 1,2를 만나면 '+'는 **더하기**를 한다.\n",
    "그러나 문자열 \"a\", \"b\"를 만나면 **합성**을 한다.\n",
    "어떤 피연사자인지에 따라 동일한 '+' 연산자가 다른 기능을 수행하는 것을 오버로딩 'overloading'이라고 한다."
   ]
  },
  {
   "cell_type": "code",
   "execution_count": 12,
   "metadata": {
    "collapsed": false,
    "slideshow": {
     "slide_type": "subslide"
    }
   },
   "outputs": [
    {
     "name": "stdout",
     "output_type": "stream",
     "text": [
      " int i=1;\r\n",
      "|  Modified variable i of type int with initial value 1\r\n",
      "|    Update overwrote variable i\r\n",
      "\r\n",
      " int j=2;\r\n",
      "|  Modified variable j of type int with initial value 2\r\n",
      "|    Update overwrote variable j\r\n",
      "\r\n",
      " \r\n",
      "\r\n",
      " System.out.println(\"i+j=\"+(i+j));\r\n",
      "i+j=3\r\n",
      "\r\n"
     ]
    }
   ],
   "source": [
    "int i=1;\n",
    "int j=2;\n",
    "\n",
    "System.out.println(\"i+j=\"+(i+j));"
   ]
  },
  {
   "cell_type": "code",
   "execution_count": 11,
   "metadata": {
    "collapsed": false,
    "slideshow": {
     "slide_type": "subslide"
    }
   },
   "outputs": [
    {
     "name": "stdout",
     "output_type": "stream",
     "text": [
      " String x=\"a\";\r\n",
      "|  Added variable x of type String with initial value \"a\"\r\n",
      "\r\n",
      " String y=\"b\";\r\n",
      "|  Modified variable y of type String with initial value \"b\"\r\n",
      "|    Update overwrote variable y\r\n",
      "\r\n",
      " System.out.println(\"x+y=\"+(x+y));\r\n",
      "x+y=ab\r\n",
      "\r\n"
     ]
    }
   ],
   "source": [
    "String x=\"a\";\n",
    "String y=\"b\";\n",
    "System.out.println(\"x+y=\"+(x+y));"
   ]
  },
  {
   "cell_type": "code",
   "execution_count": 2,
   "metadata": {
    "collapsed": false
   },
   "outputs": [
    {
     "name": "stdout",
     "output_type": "stream",
     "text": [
      " System.out.printf(\"%s\",\"Hello \"+\"Seoul\\n\");\r\n",
      "Hello Seoul\r\n",
      "|  Expression value is: java.io.PrintStream@5f341870\r\n",
      "|    assigned to temporary variable $2 of type PrintStream\r\n",
      "\r\n"
     ]
    }
   ],
   "source": [
    "System.out.printf(\"%s\",\"Hello \"+\"Seoul\\n\");"
   ]
  },
  {
   "cell_type": "code",
   "execution_count": null,
   "metadata": {
    "collapsed": true
   },
   "outputs": [],
   "source": []
  }
 ],
 "metadata": {
  "celltoolbar": "Slideshow",
  "kernelspec": {
   "display_name": "Python 2",
   "language": "python",
   "name": "python2"
  },
  "language_info": {
   "codemirror_mode": {
    "name": "ipython",
    "version": 2
   },
   "file_extension": ".py",
   "mimetype": "text/x-python",
   "name": "python",
   "nbconvert_exporter": "python",
   "pygments_lexer": "ipython2",
   "version": "2.7.12"
  }
 },
 "nbformat": 4,
 "nbformat_minor": 0
}
